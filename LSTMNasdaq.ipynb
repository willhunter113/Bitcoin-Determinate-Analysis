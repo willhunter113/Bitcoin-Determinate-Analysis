{
 "cells": [
  {
   "cell_type": "code",
   "execution_count": 4,
   "id": "cc527fd2-02a6-47f9-a582-6d3f07a08bdb",
   "metadata": {},
   "outputs": [
    {
     "name": "stdout",
     "output_type": "stream",
     "text": [
      "Collecting tensorflow\n",
      "  Downloading tensorflow-2.10.0-cp38-cp38-macosx_10_14_x86_64.whl (241.2 MB)\n",
      "\u001b[K     |████████████████████████████████| 241.2 MB 91 kB/s s eta 0:00:01\n",
      "\u001b[?25hCollecting google-pasta>=0.1.1\n",
      "  Using cached google_pasta-0.2.0-py3-none-any.whl (57 kB)\n",
      "Collecting tensorflow-estimator<2.11,>=2.10.0\n",
      "  Downloading tensorflow_estimator-2.10.0-py2.py3-none-any.whl (438 kB)\n",
      "\u001b[K     |████████████████████████████████| 438 kB 36.7 MB/s eta 0:00:01\n",
      "\u001b[?25hCollecting libclang>=13.0.0\n",
      "  Using cached libclang-14.0.6-py2.py3-none-macosx_10_9_x86_64.whl (13.2 MB)\n",
      "Requirement already satisfied: six>=1.12.0 in /Applications/anaconda3/lib/python3.8/site-packages (from tensorflow) (1.15.0)\n",
      "Requirement already satisfied: setuptools in /Applications/anaconda3/lib/python3.8/site-packages (from tensorflow) (52.0.0.post20210125)\n",
      "Requirement already satisfied: typing-extensions>=3.6.6 in /Applications/anaconda3/lib/python3.8/site-packages (from tensorflow) (3.7.4.3)\n",
      "Collecting flatbuffers>=2.0\n",
      "  Using cached flatbuffers-22.10.26-py2.py3-none-any.whl (26 kB)\n",
      "Collecting grpcio<2.0,>=1.24.3\n",
      "  Using cached grpcio-1.50.0-cp38-cp38-macosx_10_10_x86_64.whl (4.5 MB)\n",
      "Collecting tensorboard<2.11,>=2.10\n",
      "  Downloading tensorboard-2.10.1-py3-none-any.whl (5.9 MB)\n",
      "\u001b[K     |████████████████████████████████| 5.9 MB 15.8 MB/s eta 0:00:01\n",
      "\u001b[?25hRequirement already satisfied: wrapt>=1.11.0 in /Applications/anaconda3/lib/python3.8/site-packages (from tensorflow) (1.12.1)\n",
      "Requirement already satisfied: packaging in /Applications/anaconda3/lib/python3.8/site-packages (from tensorflow) (20.9)\n",
      "Collecting protobuf<3.20,>=3.9.2\n",
      "  Using cached protobuf-3.19.6-cp38-cp38-macosx_10_9_x86_64.whl (980 kB)\n",
      "Collecting termcolor>=1.1.0\n",
      "  Using cached termcolor-2.1.0-py3-none-any.whl (5.8 kB)\n",
      "Requirement already satisfied: numpy>=1.20 in /Applications/anaconda3/lib/python3.8/site-packages (from tensorflow) (1.20.1)\n",
      "Collecting astunparse>=1.6.0\n",
      "  Using cached astunparse-1.6.3-py2.py3-none-any.whl (12 kB)\n",
      "Collecting absl-py>=1.0.0\n",
      "  Using cached absl_py-1.3.0-py3-none-any.whl (124 kB)\n",
      "Collecting keras-preprocessing>=1.1.1\n",
      "  Using cached Keras_Preprocessing-1.1.2-py2.py3-none-any.whl (42 kB)\n",
      "Collecting opt-einsum>=2.3.2\n",
      "  Using cached opt_einsum-3.3.0-py3-none-any.whl (65 kB)\n",
      "Collecting gast<=0.4.0,>=0.2.1\n",
      "  Using cached gast-0.4.0-py3-none-any.whl (9.8 kB)\n",
      "Collecting tensorflow-io-gcs-filesystem>=0.23.1\n",
      "  Using cached tensorflow_io_gcs_filesystem-0.27.0-cp38-cp38-macosx_10_14_x86_64.whl (1.6 MB)\n",
      "Requirement already satisfied: h5py>=2.9.0 in /Applications/anaconda3/lib/python3.8/site-packages (from tensorflow) (2.10.0)\n",
      "Collecting keras<2.11,>=2.10.0\n",
      "  Downloading keras-2.10.0-py2.py3-none-any.whl (1.7 MB)\n",
      "\u001b[K     |████████████████████████████████| 1.7 MB 25.4 MB/s eta 0:00:01\n",
      "\u001b[?25hRequirement already satisfied: wheel<1.0,>=0.23.0 in /Applications/anaconda3/lib/python3.8/site-packages (from astunparse>=1.6.0->tensorflow) (0.36.2)\n",
      "Requirement already satisfied: werkzeug>=1.0.1 in /Applications/anaconda3/lib/python3.8/site-packages (from tensorboard<2.11,>=2.10->tensorflow) (1.0.1)\n",
      "Requirement already satisfied: requests<3,>=2.21.0 in /Applications/anaconda3/lib/python3.8/site-packages (from tensorboard<2.11,>=2.10->tensorflow) (2.25.1)\n",
      "Collecting google-auth<3,>=1.6.3\n",
      "  Using cached google_auth-2.14.0-py2.py3-none-any.whl (175 kB)\n",
      "Collecting google-auth-oauthlib<0.5,>=0.4.1\n",
      "  Using cached google_auth_oauthlib-0.4.6-py2.py3-none-any.whl (18 kB)\n",
      "Collecting markdown>=2.6.8\n",
      "  Using cached Markdown-3.4.1-py3-none-any.whl (93 kB)\n",
      "Collecting tensorboard-data-server<0.7.0,>=0.6.0\n",
      "  Using cached tensorboard_data_server-0.6.1-py3-none-macosx_10_9_x86_64.whl (3.5 MB)\n",
      "Collecting tensorboard-plugin-wit>=1.6.0\n",
      "  Using cached tensorboard_plugin_wit-1.8.1-py3-none-any.whl (781 kB)\n",
      "Collecting rsa<5,>=3.1.4\n",
      "  Using cached rsa-4.9-py3-none-any.whl (34 kB)\n",
      "Collecting pyasn1-modules>=0.2.1\n",
      "  Using cached pyasn1_modules-0.2.8-py2.py3-none-any.whl (155 kB)\n",
      "Collecting cachetools<6.0,>=2.0.0\n",
      "  Using cached cachetools-5.2.0-py3-none-any.whl (9.3 kB)\n",
      "Collecting requests-oauthlib>=0.7.0\n",
      "  Using cached requests_oauthlib-1.3.1-py2.py3-none-any.whl (23 kB)\n",
      "Collecting importlib-metadata>=4.4\n",
      "  Using cached importlib_metadata-5.0.0-py3-none-any.whl (21 kB)\n",
      "Requirement already satisfied: zipp>=0.5 in /Applications/anaconda3/lib/python3.8/site-packages (from importlib-metadata>=4.4->markdown>=2.6.8->tensorboard<2.11,>=2.10->tensorflow) (3.4.1)\n",
      "Collecting pyasn1<0.5.0,>=0.4.6\n",
      "  Using cached pyasn1-0.4.8-py2.py3-none-any.whl (77 kB)\n",
      "Requirement already satisfied: urllib3<1.27,>=1.21.1 in /Applications/anaconda3/lib/python3.8/site-packages (from requests<3,>=2.21.0->tensorboard<2.11,>=2.10->tensorflow) (1.26.4)\n",
      "Requirement already satisfied: certifi>=2017.4.17 in /Applications/anaconda3/lib/python3.8/site-packages (from requests<3,>=2.21.0->tensorboard<2.11,>=2.10->tensorflow) (2020.12.5)\n",
      "Requirement already satisfied: chardet<5,>=3.0.2 in /Applications/anaconda3/lib/python3.8/site-packages (from requests<3,>=2.21.0->tensorboard<2.11,>=2.10->tensorflow) (4.0.0)\n",
      "Requirement already satisfied: idna<3,>=2.5 in /Applications/anaconda3/lib/python3.8/site-packages (from requests<3,>=2.21.0->tensorboard<2.11,>=2.10->tensorflow) (2.10)\n",
      "Collecting oauthlib>=3.0.0\n",
      "  Using cached oauthlib-3.2.2-py3-none-any.whl (151 kB)\n",
      "Requirement already satisfied: pyparsing>=2.0.2 in /Applications/anaconda3/lib/python3.8/site-packages (from packaging->tensorflow) (2.4.7)\n",
      "Installing collected packages: pyasn1, rsa, pyasn1-modules, oauthlib, cachetools, requests-oauthlib, importlib-metadata, google-auth, tensorboard-plugin-wit, tensorboard-data-server, protobuf, markdown, grpcio, google-auth-oauthlib, absl-py, termcolor, tensorflow-io-gcs-filesystem, tensorflow-estimator, tensorboard, opt-einsum, libclang, keras-preprocessing, keras, google-pasta, gast, flatbuffers, astunparse, tensorflow\n",
      "  Attempting uninstall: importlib-metadata\n",
      "    Found existing installation: importlib-metadata 3.10.0\n",
      "    Uninstalling importlib-metadata-3.10.0:\n",
      "      Successfully uninstalled importlib-metadata-3.10.0\n",
      "Successfully installed absl-py-1.3.0 astunparse-1.6.3 cachetools-5.2.0 flatbuffers-22.10.26 gast-0.4.0 google-auth-2.14.0 google-auth-oauthlib-0.4.6 google-pasta-0.2.0 grpcio-1.50.0 importlib-metadata-5.0.0 keras-2.10.0 keras-preprocessing-1.1.2 libclang-14.0.6 markdown-3.4.1 oauthlib-3.2.2 opt-einsum-3.3.0 protobuf-3.19.6 pyasn1-0.4.8 pyasn1-modules-0.2.8 requests-oauthlib-1.3.1 rsa-4.9 tensorboard-2.10.1 tensorboard-data-server-0.6.1 tensorboard-plugin-wit-1.8.1 tensorflow-2.10.0 tensorflow-estimator-2.10.0 tensorflow-io-gcs-filesystem-0.27.0 termcolor-2.1.0\n"
     ]
    }
   ],
   "source": [
    "import sys\n",
    "!$sys.executable -m pip install tensorflow ##Installing tensorflow"
   ]
  },
  {
   "cell_type": "code",
   "execution_count": 1,
   "id": "f990451b-199e-4733-9fdb-9254564482f7",
   "metadata": {},
   "outputs": [],
   "source": [
    "import numpy\n",
    "import tensorflow as tf\n",
    "from tensorflow import keras\n",
    "from tensorflow.keras import Sequential, layers, callbacks\n",
    "from tensorflow.keras.layers import Dense, LSTM, Dropout, GRU, Bidirectional\n",
    "import pandas as pd\n",
    "import numpy as np"
   ]
  },
  {
   "cell_type": "code",
   "execution_count": 2,
   "id": "dac92291-3580-469c-99b8-0169b0eb87a9",
   "metadata": {},
   "outputs": [],
   "source": [
    "tf.random.set_seed(9)"
   ]
  },
  {
   "cell_type": "code",
   "execution_count": 3,
   "id": "306515fd-5a03-4ee0-b905-8fc09076b816",
   "metadata": {},
   "outputs": [
    {
     "data": {
      "text/html": [
       "<div>\n",
       "<style scoped>\n",
       "    .dataframe tbody tr th:only-of-type {\n",
       "        vertical-align: middle;\n",
       "    }\n",
       "\n",
       "    .dataframe tbody tr th {\n",
       "        vertical-align: top;\n",
       "    }\n",
       "\n",
       "    .dataframe thead th {\n",
       "        text-align: right;\n",
       "    }\n",
       "</style>\n",
       "<table border=\"1\" class=\"dataframe\">\n",
       "  <thead>\n",
       "    <tr style=\"text-align: right;\">\n",
       "      <th></th>\n",
       "      <th>ChangeNasdaq</th>\n",
       "      <th>save.Value</th>\n",
       "      <th>CPI</th>\n",
       "      <th>FederalFundsRate</th>\n",
       "      <th>X10YrTreasuryYield</th>\n",
       "      <th>CrudeOilPrice</th>\n",
       "      <th>FedReservesOnHand</th>\n",
       "      <th>EconomicPolicy</th>\n",
       "      <th>Index</th>\n",
       "      <th>ExpectedStockIncrease</th>\n",
       "      <th>InterestRates</th>\n",
       "    </tr>\n",
       "    <tr>\n",
       "      <th>Date</th>\n",
       "      <th></th>\n",
       "      <th></th>\n",
       "      <th></th>\n",
       "      <th></th>\n",
       "      <th></th>\n",
       "      <th></th>\n",
       "      <th></th>\n",
       "      <th></th>\n",
       "      <th></th>\n",
       "      <th></th>\n",
       "      <th></th>\n",
       "    </tr>\n",
       "  </thead>\n",
       "  <tbody>\n",
       "    <tr>\n",
       "      <th>2010-07-31</th>\n",
       "      <td>0.068963</td>\n",
       "      <td>6.4</td>\n",
       "      <td>217.923</td>\n",
       "      <td>0.16</td>\n",
       "      <td>3.42</td>\n",
       "      <td>20.74</td>\n",
       "      <td>995.183</td>\n",
       "      <td>1.727273</td>\n",
       "      <td>67.8</td>\n",
       "      <td>44.7</td>\n",
       "      <td>2.357143</td>\n",
       "    </tr>\n",
       "    <tr>\n",
       "      <th>2010-08-31</th>\n",
       "      <td>-0.062390</td>\n",
       "      <td>6.5</td>\n",
       "      <td>218.275</td>\n",
       "      <td>0.10</td>\n",
       "      <td>3.47</td>\n",
       "      <td>24.42</td>\n",
       "      <td>1003.206</td>\n",
       "      <td>1.808081</td>\n",
       "      <td>68.9</td>\n",
       "      <td>45.4</td>\n",
       "      <td>2.323232</td>\n",
       "    </tr>\n",
       "    <tr>\n",
       "      <th>2010-09-30</th>\n",
       "      <td>0.120429</td>\n",
       "      <td>6.5</td>\n",
       "      <td>219.035</td>\n",
       "      <td>0.09</td>\n",
       "      <td>3.32</td>\n",
       "      <td>26.27</td>\n",
       "      <td>1011.124</td>\n",
       "      <td>1.757576</td>\n",
       "      <td>68.2</td>\n",
       "      <td>45.2</td>\n",
       "      <td>2.222222</td>\n",
       "    </tr>\n",
       "    <tr>\n",
       "      <th>2010-10-31</th>\n",
       "      <td>0.058595</td>\n",
       "      <td>6.3</td>\n",
       "      <td>219.590</td>\n",
       "      <td>0.10</td>\n",
       "      <td>3.05</td>\n",
       "      <td>27.02</td>\n",
       "      <td>1027.089</td>\n",
       "      <td>1.656566</td>\n",
       "      <td>67.7</td>\n",
       "      <td>46.4</td>\n",
       "      <td>2.313131</td>\n",
       "    </tr>\n",
       "    <tr>\n",
       "      <th>2010-11-30</th>\n",
       "      <td>-0.003661</td>\n",
       "      <td>6.1</td>\n",
       "      <td>220.472</td>\n",
       "      <td>0.07</td>\n",
       "      <td>3.18</td>\n",
       "      <td>25.52</td>\n",
       "      <td>1078.051</td>\n",
       "      <td>1.690000</td>\n",
       "      <td>71.6</td>\n",
       "      <td>50.5</td>\n",
       "      <td>2.252525</td>\n",
       "    </tr>\n",
       "  </tbody>\n",
       "</table>\n",
       "</div>"
      ],
      "text/plain": [
       "            ChangeNasdaq  save.Value      CPI  FederalFundsRate  \\\n",
       "Date                                                              \n",
       "2010-07-31      0.068963         6.4  217.923              0.16   \n",
       "2010-08-31     -0.062390         6.5  218.275              0.10   \n",
       "2010-09-30      0.120429         6.5  219.035              0.09   \n",
       "2010-10-31      0.058595         6.3  219.590              0.10   \n",
       "2010-11-30     -0.003661         6.1  220.472              0.07   \n",
       "\n",
       "            X10YrTreasuryYield  CrudeOilPrice  FedReservesOnHand  \\\n",
       "Date                                                               \n",
       "2010-07-31                3.42          20.74            995.183   \n",
       "2010-08-31                3.47          24.42           1003.206   \n",
       "2010-09-30                3.32          26.27           1011.124   \n",
       "2010-10-31                3.05          27.02           1027.089   \n",
       "2010-11-30                3.18          25.52           1078.051   \n",
       "\n",
       "            EconomicPolicy  Index  ExpectedStockIncrease  InterestRates  \n",
       "Date                                                                     \n",
       "2010-07-31        1.727273   67.8                   44.7       2.357143  \n",
       "2010-08-31        1.808081   68.9                   45.4       2.323232  \n",
       "2010-09-30        1.757576   68.2                   45.2       2.222222  \n",
       "2010-10-31        1.656566   67.7                   46.4       2.313131  \n",
       "2010-11-30        1.690000   71.6                   50.5       2.252525  "
      ]
     },
     "execution_count": 3,
     "metadata": {},
     "output_type": "execute_result"
    }
   ],
   "source": [
    "file = 'Nasdaqpredictive.csv'\n",
    "raw_data = pd.read_csv(file, parse_dates = ['Date'], index_col = \"Date\")\n",
    "\n",
    "df = raw_data.copy()\n",
    "df = df.iloc[::-1]\n",
    "df.head()"
   ]
  },
  {
   "cell_type": "code",
   "execution_count": 5,
   "id": "375159be-e9e8-445d-b9b3-885f7f721c4b",
   "metadata": {},
   "outputs": [
    {
     "data": {
      "text/plain": [
       "<AxesSubplot:xlabel='Date'>"
      ]
     },
     "execution_count": 5,
     "metadata": {},
     "output_type": "execute_result"
    },
    {
     "data": {
      "image/png": "[encoded data removed]",
      "text/plain": [
       "<Figure size 432x288 with 1 Axes>"
      ]
     },
     "metadata": {
      "needs_background": "light"
     },
     "output_type": "display_data"
    }
   ],
   "source": [
    "Nasdaq = df['ChangeNasdaq']\n",
    "Nasdaq.plot()"
   ]
  },
  {
   "cell_type": "code",
   "execution_count": 50,
   "id": "a89cb6e7-9213-4abf-84c4-b395870536a0",
   "metadata": {},
   "outputs": [],
   "source": [
    "def dfToXY(df, window_size=5):\n",
    "    df_as_np = df.to_numpy()\n",
    "    x = []\n",
    "    y = []\n",
    "    for i in range(len(df_as_np)-window_size):\n",
    "        row = [r for r in df_as_np[i:i+window_size]]\n",
    "        x.append(row)\n",
    "        label = df_as_np[i+window_size][0]\n",
    "        y.append(label)\n",
    "    return np.array(x), np.array(y)"
   ]
  },
  {
   "cell_type": "code",
   "execution_count": 54,
   "id": "40897b04-0653-42b4-b555-5c4fa3288cdb",
   "metadata": {},
   "outputs": [
    {
     "data": {
      "text/plain": [
       "((134, 4, 11), (134,))"
      ]
     },
     "execution_count": 54,
     "metadata": {},
     "output_type": "execute_result"
    }
   ],
   "source": [
    "x,y = dfToXY(df, 4)\n",
    "x.shape, y.shape"
   ]
  },
  {
   "cell_type": "code",
   "execution_count": 8,
   "id": "19dd9b76-d28d-4dbd-ba36-1eb660a96cd3",
   "metadata": {},
   "outputs": [
    {
     "data": {
      "text/plain": [
       "(134, 4, 11)"
      ]
     },
     "execution_count": 8,
     "metadata": {},
     "output_type": "execute_result"
    }
   ],
   "source": [
    "x = np.squeeze(x) #getting rid of the third dimension (=value 1) from x array\n",
    "x.shape"
   ]
  },
  {
   "cell_type": "code",
   "execution_count": 11,
   "id": "821ba797-3219-4f1a-b836-4e87ae74684a",
   "metadata": {},
   "outputs": [
    {
     "data": {
      "text/plain": [
       "((110, 4, 11), (110,), (6, 4, 11), (6,), (18, 4, 11), (18,))"
      ]
     },
     "execution_count": 11,
     "metadata": {},
     "output_type": "execute_result"
    }
   ],
   "source": [
    "trainSize = int(len(df)*0.80)\n",
    "valSize = int(len(df)*.05)\n",
    "xTrain, yTrain = x[:trainSize], y[:trainSize]\n",
    "xVal, yVal = x[trainSize:trainSize+valSize], y[trainSize:trainSize+valSize]\n",
    "xTest, yTest = x[trainSize+valSize:], y[trainSize+valSize:]\n",
    "xTrain.shape, yTrain.shape, xVal.shape,yVal.shape,xTest.shape, yTest.shape"
   ]
  },
  {
   "cell_type": "code",
   "execution_count": 12,
   "id": "6688a87b-0451-4418-9839-4369dbbcf4b0",
   "metadata": {},
   "outputs": [],
   "source": [
    "NasdaqTrainMean = np.mean(xTrain[:, :, 0])\n",
    "NasdaqTrainStd = np.std(xTrain[:, :, 0])\n",
    "\n",
    "#print(BitTrainMean)\n",
    "#print(BitTrainStd)                   \n",
    "\n",
    "def preprocess(x):\n",
    "    x[:, :, 0] = (x[:, :, 0] - NasdaqTrainMean) / NasdaqTrainStd\n",
    "    return x"
   ]
  },
  {
   "cell_type": "code",
   "execution_count": 13,
   "id": "24e00ee2-6dd1-48c1-93d4-a553a3494bcf",
   "metadata": {},
   "outputs": [
    {
     "data": {
      "text/plain": [
       "array([[[-2.78504140e+00,  1.31000000e+01,  2.56094000e+02,\n",
       "          9.00000000e-02,  8.80000000e-01,  8.64100000e+01,\n",
       "          3.26814400e+03,  2.15151515e+00,  8.91000000e+01,\n",
       "          5.76000000e+01,  1.97959184e+00],\n",
       "        [ 3.45695698e+00,  3.38000000e+01,  2.55944000e+02,\n",
       "          9.00000000e-02,  8.40000000e-01,  9.72100000e+01,\n",
       "          2.91875600e+03,  2.00000000e+00,  7.18000000e+01,\n",
       "          5.62000000e+01,  2.01010101e+00],\n",
       "        [ 1.33461530e+00,  2.48000000e+01,  2.57217000e+02,\n",
       "          9.00000000e-02,  9.30000000e-01,  9.85700000e+01,\n",
       "          2.61527200e+03,  1.90625000e+00,  7.23000000e+01,\n",
       "          5.39000000e+01,  2.02040816e+00],\n",
       "        [ 1.14950843e+00,  1.93000000e+01,  2.58543000e+02,\n",
       "          7.00000000e-02,  1.11000000e+00,  1.00240000e+02,\n",
       "          2.81579400e+03,  1.86597938e+00,  7.81000000e+01,\n",
       "          5.50000000e+01,  2.02040816e+00]],\n",
       "\n",
       "       [[ 3.45695698e+00,  3.38000000e+01,  2.55944000e+02,\n",
       "          9.00000000e-02,  8.40000000e-01,  9.72100000e+01,\n",
       "          2.91875600e+03,  2.00000000e+00,  7.18000000e+01,\n",
       "          5.62000000e+01,  2.01010101e+00],\n",
       "        [ 1.33461530e+00,  2.48000000e+01,  2.57217000e+02,\n",
       "          9.00000000e-02,  9.30000000e-01,  9.85700000e+01,\n",
       "          2.61527200e+03,  1.90625000e+00,  7.23000000e+01,\n",
       "          5.39000000e+01,  2.02040816e+00],\n",
       "        [ 1.14950843e+00,  1.93000000e+01,  2.58543000e+02,\n",
       "          7.00000000e-02,  1.11000000e+00,  1.00240000e+02,\n",
       "          2.81579400e+03,  1.86597938e+00,  7.81000000e+01,\n",
       "          5.50000000e+01,  2.02040816e+00],\n",
       "        [ 1.35214074e+00,  1.87000000e+01,  2.59580000e+02,\n",
       "          7.00000000e-02,  1.44000000e+00,  1.02250000e+02,\n",
       "          2.83931600e+03,  1.92783505e+00,  7.25000000e+01,\n",
       "          5.63000000e+01,  2.08163265e+00]],\n",
       "\n",
       "       [[ 1.33461530e+00,  2.48000000e+01,  2.57217000e+02,\n",
       "          9.00000000e-02,  9.30000000e-01,  9.85700000e+01,\n",
       "          2.61527200e+03,  1.90625000e+00,  7.23000000e+01,\n",
       "          5.39000000e+01,  2.02040816e+00],\n",
       "        [ 1.14950843e+00,  1.93000000e+01,  2.58543000e+02,\n",
       "          7.00000000e-02,  1.11000000e+00,  1.00240000e+02,\n",
       "          2.81579400e+03,  1.86597938e+00,  7.81000000e+01,\n",
       "          5.50000000e+01,  2.02040816e+00],\n",
       "        [ 1.35214074e+00,  1.87000000e+01,  2.59580000e+02,\n",
       "          7.00000000e-02,  1.44000000e+00,  1.02250000e+02,\n",
       "          2.83931600e+03,  1.92783505e+00,  7.25000000e+01,\n",
       "          5.63000000e+01,  2.08163265e+00],\n",
       "        [ 2.02650003e+00,  1.50000000e+01,  2.60190000e+02,\n",
       "          6.00000000e-02,  1.74000000e+00,  1.06190000e+02,\n",
       "          2.88078100e+03,  1.80808081e+00,  7.41000000e+01,\n",
       "          5.68000000e+01,  2.12371134e+00]],\n",
       "\n",
       "       [[ 1.14950843e+00,  1.93000000e+01,  2.58543000e+02,\n",
       "          7.00000000e-02,  1.11000000e+00,  1.00240000e+02,\n",
       "          2.81579400e+03,  1.86597938e+00,  7.81000000e+01,\n",
       "          5.50000000e+01,  2.02040816e+00],\n",
       "        [ 1.35214074e+00,  1.87000000e+01,  2.59580000e+02,\n",
       "          7.00000000e-02,  1.44000000e+00,  1.02250000e+02,\n",
       "          2.83931600e+03,  1.92783505e+00,  7.25000000e+01,\n",
       "          5.63000000e+01,  2.08163265e+00],\n",
       "        [ 2.02650003e+00,  1.50000000e+01,  2.60190000e+02,\n",
       "          6.00000000e-02,  1.74000000e+00,  1.06190000e+02,\n",
       "          2.88078100e+03,  1.80808081e+00,  7.41000000e+01,\n",
       "          5.68000000e+01,  2.12371134e+00],\n",
       "        [-1.57422080e+00,  1.43000000e+01,  2.60352000e+02,\n",
       "          5.00000000e-02,  1.65000000e+00,  1.03330000e+02,\n",
       "          3.08363600e+03,  1.89795918e+00,  8.04000000e+01,\n",
       "          6.06000000e+01,  2.16326531e+00]],\n",
       "\n",
       "       [[ 1.35214074e+00,  1.87000000e+01,  2.59580000e+02,\n",
       "          7.00000000e-02,  1.44000000e+00,  1.02250000e+02,\n",
       "          2.83931600e+03,  1.92783505e+00,  7.25000000e+01,\n",
       "          5.63000000e+01,  2.08163265e+00],\n",
       "        [ 2.02650003e+00,  1.50000000e+01,  2.60190000e+02,\n",
       "          6.00000000e-02,  1.74000000e+00,  1.06190000e+02,\n",
       "          2.88078100e+03,  1.80808081e+00,  7.41000000e+01,\n",
       "          5.68000000e+01,  2.12371134e+00],\n",
       "        [-1.57422080e+00,  1.43000000e+01,  2.60352000e+02,\n",
       "          5.00000000e-02,  1.65000000e+00,  1.03330000e+02,\n",
       "          3.08363600e+03,  1.89795918e+00,  8.04000000e+01,\n",
       "          6.06000000e+01,  2.16326531e+00],\n",
       "        [-8.73322372e-01,  1.36000000e+01,  2.60721000e+02,\n",
       "          5.00000000e-02,  1.58000000e+00,  9.47000000e+01,\n",
       "          3.12215600e+03,  1.79381443e+00,  8.18000000e+01,\n",
       "          6.03000000e+01,  2.21428571e+00]],\n",
       "\n",
       "       [[ 2.02650003e+00,  1.50000000e+01,  2.60190000e+02,\n",
       "          6.00000000e-02,  1.74000000e+00,  1.06190000e+02,\n",
       "          2.88078100e+03,  1.80808081e+00,  7.41000000e+01,\n",
       "          5.68000000e+01,  2.12371134e+00],\n",
       "        [-1.57422080e+00,  1.43000000e+01,  2.60352000e+02,\n",
       "          5.00000000e-02,  1.65000000e+00,  1.03330000e+02,\n",
       "          3.08363600e+03,  1.89795918e+00,  8.04000000e+01,\n",
       "          6.06000000e+01,  2.16326531e+00],\n",
       "        [-8.73322372e-01,  1.36000000e+01,  2.60721000e+02,\n",
       "          5.00000000e-02,  1.58000000e+00,  9.47000000e+01,\n",
       "          3.12215600e+03,  1.79381443e+00,  8.18000000e+01,\n",
       "          6.03000000e+01,  2.21428571e+00],\n",
       "        [ 2.56569419e+00,  1.30000000e+01,  2.61564000e+02,\n",
       "          8.00000000e-02,  1.45000000e+00,  8.24100000e+01,\n",
       "          3.16300800e+03,  1.82653061e+00,  7.69000000e+01,\n",
       "          5.83000000e+01,  2.23958333e+00]],\n",
       "\n",
       "       [[-1.57422080e+00,  1.43000000e+01,  2.60352000e+02,\n",
       "          5.00000000e-02,  1.65000000e+00,  1.03330000e+02,\n",
       "          3.08363600e+03,  1.89795918e+00,  8.04000000e+01,\n",
       "          6.06000000e+01,  2.16326531e+00],\n",
       "        [-8.73322372e-01,  1.36000000e+01,  2.60721000e+02,\n",
       "          5.00000000e-02,  1.58000000e+00,  9.47000000e+01,\n",
       "          3.12215600e+03,  1.79381443e+00,  8.18000000e+01,\n",
       "          6.03000000e+01,  2.21428571e+00],\n",
       "        [ 2.56569419e+00,  1.30000000e+01,  2.61564000e+02,\n",
       "          8.00000000e-02,  1.45000000e+00,  8.24100000e+01,\n",
       "          3.16300800e+03,  1.82653061e+00,  7.69000000e+01,\n",
       "          5.83000000e+01,  2.23958333e+00],\n",
       "        [ 1.06595782e+00,  1.40000000e+01,  2.62200000e+02,\n",
       "          7.00000000e-02,  1.24000000e+00,  8.79300000e+01,\n",
       "          3.36902000e+03,  1.77551020e+00,  8.07000000e+01,\n",
       "          5.98000000e+01,  2.26804124e+00]],\n",
       "\n",
       "       [[-8.73322372e-01,  1.36000000e+01,  2.60721000e+02,\n",
       "          5.00000000e-02,  1.58000000e+00,  9.47000000e+01,\n",
       "          3.12215600e+03,  1.79381443e+00,  8.18000000e+01,\n",
       "          6.03000000e+01,  2.21428571e+00],\n",
       "        [ 2.56569419e+00,  1.30000000e+01,  2.61564000e+02,\n",
       "          8.00000000e-02,  1.45000000e+00,  8.24100000e+01,\n",
       "          3.16300800e+03,  1.82653061e+00,  7.69000000e+01,\n",
       "          5.83000000e+01,  2.23958333e+00],\n",
       "        [ 1.06595782e+00,  1.40000000e+01,  2.62200000e+02,\n",
       "          7.00000000e-02,  1.24000000e+00,  8.79300000e+01,\n",
       "          3.36902000e+03,  1.77551020e+00,  8.07000000e+01,\n",
       "          5.98000000e+01,  2.26804124e+00],\n",
       "        [ 3.15949634e-02,  1.99000000e+01,  2.63346000e+02,\n",
       "          6.00000000e-02,  1.30000000e+00,  9.41600000e+01,\n",
       "          3.87616200e+03,  1.73469388e+00,  7.90000000e+01,\n",
       "          5.86000000e+01,  2.32989691e+00]],\n",
       "\n",
       "       [[ 2.56569419e+00,  1.30000000e+01,  2.61564000e+02,\n",
       "          8.00000000e-02,  1.45000000e+00,  8.24100000e+01,\n",
       "          3.16300800e+03,  1.82653061e+00,  7.69000000e+01,\n",
       "          5.83000000e+01,  2.23958333e+00],\n",
       "        [ 1.06595782e+00,  1.40000000e+01,  2.62200000e+02,\n",
       "          7.00000000e-02,  1.24000000e+00,  8.79300000e+01,\n",
       "          3.36902000e+03,  1.77551020e+00,  8.07000000e+01,\n",
       "          5.98000000e+01,  2.26804124e+00],\n",
       "        [ 3.15949634e-02,  1.99000000e+01,  2.63346000e+02,\n",
       "          6.00000000e-02,  1.30000000e+00,  9.41600000e+01,\n",
       "          3.87616200e+03,  1.73469388e+00,  7.90000000e+01,\n",
       "          5.86000000e+01,  2.32989691e+00],\n",
       "        [-8.66854985e-02,  1.35000000e+01,  2.65028000e+02,\n",
       "          6.00000000e-02,  1.52000000e+00,  9.47200000e+01,\n",
       "          3.82926900e+03,  1.83157895e+00,  7.68000000e+01,\n",
       "          6.04000000e+01,  2.34693878e+00]],\n",
       "\n",
       "       [[ 1.06595782e+00,  1.40000000e+01,  2.62200000e+02,\n",
       "          7.00000000e-02,  1.24000000e+00,  8.79300000e+01,\n",
       "          3.36902000e+03,  1.77551020e+00,  8.07000000e+01,\n",
       "          5.98000000e+01,  2.26804124e+00],\n",
       "        [ 3.15949634e-02,  1.99000000e+01,  2.63346000e+02,\n",
       "          6.00000000e-02,  1.30000000e+00,  9.41600000e+01,\n",
       "          3.87616200e+03,  1.73469388e+00,  7.90000000e+01,\n",
       "          5.86000000e+01,  2.32989691e+00],\n",
       "        [-8.66854985e-02,  1.35000000e+01,  2.65028000e+02,\n",
       "          6.00000000e-02,  1.52000000e+00,  9.47200000e+01,\n",
       "          3.82926900e+03,  1.83157895e+00,  7.68000000e+01,\n",
       "          6.04000000e+01,  2.34693878e+00],\n",
       "        [-2.13017507e-01,  2.66000000e+01,  2.66727000e+02,\n",
       "          7.00000000e-02,  1.55000000e+00,  8.95700000e+01,\n",
       "          3.80517800e+03,  1.91666667e+00,  8.49000000e+01,\n",
       "          6.46000000e+01,  2.52040816e+00]],\n",
       "\n",
       "       [[ 3.15949634e-02,  1.99000000e+01,  2.63346000e+02,\n",
       "          6.00000000e-02,  1.30000000e+00,  9.41600000e+01,\n",
       "          3.87616200e+03,  1.73469388e+00,  7.90000000e+01,\n",
       "          5.86000000e+01,  2.32989691e+00],\n",
       "        [-8.66854985e-02,  1.35000000e+01,  2.65028000e+02,\n",
       "          6.00000000e-02,  1.52000000e+00,  9.47200000e+01,\n",
       "          3.82926900e+03,  1.83157895e+00,  7.68000000e+01,\n",
       "          6.04000000e+01,  2.34693878e+00],\n",
       "        [-2.13017507e-01,  2.66000000e+01,  2.66727000e+02,\n",
       "          7.00000000e-02,  1.55000000e+00,  8.95700000e+01,\n",
       "          3.80517800e+03,  1.91666667e+00,  8.49000000e+01,\n",
       "          6.46000000e+01,  2.52040816e+00],\n",
       "        [ 1.00518964e+00,  1.26000000e+01,  2.68599000e+02,\n",
       "          7.00000000e-02,  1.43000000e+00,  8.66600000e+01,\n",
       "          3.78079100e+03,  1.98979592e+00,  8.83000000e+01,\n",
       "          6.23000000e+01,  2.53535354e+00]],\n",
       "\n",
       "       [[-8.66854985e-02,  1.35000000e+01,  2.65028000e+02,\n",
       "          6.00000000e-02,  1.52000000e+00,  9.47200000e+01,\n",
       "          3.82926900e+03,  1.83157895e+00,  7.68000000e+01,\n",
       "          6.04000000e+01,  2.34693878e+00],\n",
       "        [-2.13017507e-01,  2.66000000e+01,  2.66727000e+02,\n",
       "          7.00000000e-02,  1.55000000e+00,  8.95700000e+01,\n",
       "          3.80517800e+03,  1.91666667e+00,  8.49000000e+01,\n",
       "          6.46000000e+01,  2.52040816e+00],\n",
       "        [ 1.00518964e+00,  1.26000000e+01,  2.68599000e+02,\n",
       "          7.00000000e-02,  1.43000000e+00,  8.66600000e+01,\n",
       "          3.78079100e+03,  1.98979592e+00,  8.83000000e+01,\n",
       "          6.23000000e+01,  2.53535354e+00],\n",
       "        [-6.87938148e-01,  1.04000000e+01,  2.70955000e+02,\n",
       "          7.00000000e-02,  1.52000000e+00,  8.82500000e+01,\n",
       "          3.98437100e+03,  1.92857143e+00,  8.29000000e+01,\n",
       "          6.48000000e+01,  2.61616162e+00]],\n",
       "\n",
       "       [[-2.13017507e-01,  2.66000000e+01,  2.66727000e+02,\n",
       "          7.00000000e-02,  1.55000000e+00,  8.95700000e+01,\n",
       "          3.80517800e+03,  1.91666667e+00,  8.49000000e+01,\n",
       "          6.46000000e+01,  2.52040816e+00],\n",
       "        [ 1.00518964e+00,  1.26000000e+01,  2.68599000e+02,\n",
       "          7.00000000e-02,  1.43000000e+00,  8.66600000e+01,\n",
       "          3.78079100e+03,  1.98979592e+00,  8.83000000e+01,\n",
       "          6.23000000e+01,  2.53535354e+00],\n",
       "        [-6.87938148e-01,  1.04000000e+01,  2.70955000e+02,\n",
       "          7.00000000e-02,  1.52000000e+00,  8.82500000e+01,\n",
       "          3.98437100e+03,  1.92857143e+00,  8.29000000e+01,\n",
       "          6.48000000e+01,  2.61616162e+00],\n",
       "        [ 1.02699467e+00,  9.50000000e+00,  2.72184000e+02,\n",
       "          8.00000000e-02,  1.79000000e+00,  9.46900000e+01,\n",
       "          4.16774800e+03,  1.93877551e+00,  8.55000000e+01,\n",
       "          6.19000000e+01,  2.67676768e+00]],\n",
       "\n",
       "       [[ 1.00518964e+00,  1.26000000e+01,  2.68599000e+02,\n",
       "          7.00000000e-02,  1.43000000e+00,  8.66600000e+01,\n",
       "          3.78079100e+03,  1.98979592e+00,  8.83000000e+01,\n",
       "          6.23000000e+01,  2.53535354e+00],\n",
       "        [-6.87938148e-01,  1.04000000e+01,  2.70955000e+02,\n",
       "          7.00000000e-02,  1.52000000e+00,  8.82500000e+01,\n",
       "          3.98437100e+03,  1.92857143e+00,  8.29000000e+01,\n",
       "          6.48000000e+01,  2.61616162e+00],\n",
       "        [ 1.02699467e+00,  9.50000000e+00,  2.72184000e+02,\n",
       "          8.00000000e-02,  1.79000000e+00,  9.46900000e+01,\n",
       "          4.16774800e+03,  1.93877551e+00,  8.55000000e+01,\n",
       "          6.19000000e+01,  2.67676768e+00],\n",
       "        [-2.99162248e-02,  1.05000000e+01,  2.73092000e+02,\n",
       "          8.00000000e-02,  1.83000000e+00,  9.53200000e+01,\n",
       "          4.12534800e+03,  1.86734694e+00,  8.12000000e+01,\n",
       "          6.12000000e+01,  2.62626263e+00]],\n",
       "\n",
       "       [[-6.87938148e-01,  1.04000000e+01,  2.70955000e+02,\n",
       "          7.00000000e-02,  1.52000000e+00,  8.82500000e+01,\n",
       "          3.98437100e+03,  1.92857143e+00,  8.29000000e+01,\n",
       "          6.48000000e+01,  2.61616162e+00],\n",
       "        [ 1.02699467e+00,  9.50000000e+00,  2.72184000e+02,\n",
       "          8.00000000e-02,  1.79000000e+00,  9.46900000e+01,\n",
       "          4.16774800e+03,  1.93877551e+00,  8.55000000e+01,\n",
       "          6.19000000e+01,  2.67676768e+00],\n",
       "        [-2.99162248e-02,  1.05000000e+01,  2.73092000e+02,\n",
       "          8.00000000e-02,  1.83000000e+00,  9.53200000e+01,\n",
       "          4.12534800e+03,  1.86734694e+00,  8.12000000e+01,\n",
       "          6.12000000e+01,  2.62626263e+00],\n",
       "        [ 6.61971411e-01,  9.80000000e+00,  2.74214000e+02,\n",
       "          3.30000000e-01,  2.32000000e+00,  9.30500000e+01,\n",
       "          4.07717000e+03,  1.84693878e+00,  7.03000000e+01,\n",
       "          5.87000000e+01,  2.61616162e+00]],\n",
       "\n",
       "       [[ 1.02699467e+00,  9.50000000e+00,  2.72184000e+02,\n",
       "          8.00000000e-02,  1.79000000e+00,  9.46900000e+01,\n",
       "          4.16774800e+03,  1.93877551e+00,  8.55000000e+01,\n",
       "          6.19000000e+01,  2.67676768e+00],\n",
       "        [-2.99162248e-02,  1.05000000e+01,  2.73092000e+02,\n",
       "          8.00000000e-02,  1.83000000e+00,  9.53200000e+01,\n",
       "          4.12534800e+03,  1.86734694e+00,  8.12000000e+01,\n",
       "          6.12000000e+01,  2.62626263e+00],\n",
       "        [ 6.61971411e-01,  9.80000000e+00,  2.74214000e+02,\n",
       "          3.30000000e-01,  2.32000000e+00,  9.30500000e+01,\n",
       "          4.07717000e+03,  1.84693878e+00,  7.03000000e+01,\n",
       "          5.87000000e+01,  2.61616162e+00],\n",
       "        [-1.61077150e+00,  8.10000000e+00,  2.76590000e+02,\n",
       "          3.30000000e-01,  2.89000000e+00,  9.20700000e+01,\n",
       "          4.16281000e+03,  1.82653061e+00,  7.28000000e+01,\n",
       "          6.00000000e+01,  2.58585859e+00]],\n",
       "\n",
       "       [[-2.99162248e-02,  1.05000000e+01,  2.73092000e+02,\n",
       "          8.00000000e-02,  1.83000000e+00,  9.53200000e+01,\n",
       "          4.12534800e+03,  1.86734694e+00,  8.12000000e+01,\n",
       "          6.12000000e+01,  2.62626263e+00],\n",
       "        [ 6.61971411e-01,  9.80000000e+00,  2.74214000e+02,\n",
       "          3.30000000e-01,  2.32000000e+00,  9.30500000e+01,\n",
       "          4.07717000e+03,  1.84693878e+00,  7.03000000e+01,\n",
       "          5.87000000e+01,  2.61616162e+00],\n",
       "        [-1.61077150e+00,  8.10000000e+00,  2.76590000e+02,\n",
       "          3.30000000e-01,  2.89000000e+00,  9.20700000e+01,\n",
       "          4.16281000e+03,  1.82653061e+00,  7.28000000e+01,\n",
       "          6.00000000e+01,  2.58585859e+00],\n",
       "        [ 1.45978103e+00,  7.10000000e+00,  2.78524000e+02,\n",
       "          8.30000000e-01,  2.85000000e+00,  9.48000000e+01,\n",
       "          4.11619600e+03,  1.72727273e+00,  7.17000000e+01,\n",
       "          6.07000000e+01,  2.65656566e+00]],\n",
       "\n",
       "       [[ 6.61971411e-01,  9.80000000e+00,  2.74214000e+02,\n",
       "          3.30000000e-01,  2.32000000e+00,  9.30500000e+01,\n",
       "          4.07717000e+03,  1.84693878e+00,  7.03000000e+01,\n",
       "          5.87000000e+01,  2.61616162e+00],\n",
       "        [-1.61077150e+00,  8.10000000e+00,  2.76590000e+02,\n",
       "          3.30000000e-01,  2.89000000e+00,  9.20700000e+01,\n",
       "          4.16281000e+03,  1.82653061e+00,  7.28000000e+01,\n",
       "          6.00000000e+01,  2.58585859e+00],\n",
       "        [ 1.45978103e+00,  7.10000000e+00,  2.78524000e+02,\n",
       "          8.30000000e-01,  2.85000000e+00,  9.48000000e+01,\n",
       "          4.11619600e+03,  1.72727273e+00,  7.17000000e+01,\n",
       "          6.07000000e+01,  2.65656566e+00],\n",
       "        [-2.52001116e-01,  7.20000000e+00,  2.80126000e+02,\n",
       "          1.58000000e+00,  2.98000000e+00,  9.58000000e+01,\n",
       "          3.79617400e+03,  1.69696970e+00,  6.74000000e+01,\n",
       "          6.26000000e+01,  2.65656566e+00]]])"
      ]
     },
     "execution_count": 13,
     "metadata": {},
     "output_type": "execute_result"
    }
   ],
   "source": [
    "preprocess(xTrain)\n",
    "preprocess(xVal)\n",
    "preprocess(xTest)"
   ]
  },
  {
   "cell_type": "code",
   "execution_count": 15,
   "id": "972e4550-9f6d-43e9-b94d-06136af8912e",
   "metadata": {},
   "outputs": [],
   "source": [
    "from tensorflow.keras.models import Sequential\n",
    "\n",
    "from tensorflow.keras.layers import *\n",
    "from tensorflow.keras.callbacks import ModelCheckpoint\n",
    "from tensorflow.keras.losses import MeanSquaredError\n",
    "from tensorflow.keras.metrics import RootMeanSquaredError\n",
    "from tensorflow.keras.optimizers import Adam"
   ]
  },
  {
   "cell_type": "code",
   "execution_count": 19,
   "id": "28673c71-0ff9-4c27-b49a-4cc9d9228b04",
   "metadata": {},
   "outputs": [
    {
     "name": "stdout",
     "output_type": "stream",
     "text": [
      "Model: \"sequential_1\"\n",
      "_________________________________________________________________\n",
      " Layer (type)                Output Shape              Param #   \n",
      "=================================================================\n",
      " lstm_1 (LSTM)               (None, 100)               44800     \n",
      "                                                                 \n",
      " dense_2 (Dense)             (None, 8)                 808       \n",
      "                                                                 \n",
      " dense_3 (Dense)             (None, 1)                 9         \n",
      "                                                                 \n",
      "=================================================================\n",
      "Total params: 45,617\n",
      "Trainable params: 45,617\n",
      "Non-trainable params: 0\n",
      "_________________________________________________________________\n"
     ]
    }
   ],
   "source": [
    "model1 = Sequential()\n",
    "model1.add(InputLayer((4, 11)))\n",
    "model1.add(LSTM(100))\n",
    "model1.add(Dense(8, 'relu'))\n",
    "model1.add(Dense(1, 'linear'))\n",
    "\n",
    "model1.summary()"
   ]
  },
  {
   "cell_type": "code",
   "execution_count": 20,
   "id": "f2a71a97-a1b8-49fe-ad8b-2b7d982114ff",
   "metadata": {},
   "outputs": [],
   "source": [
    "cp = ModelCheckpoint(\"model1/\", save_best_only = True, monitor = \"loss\")\n",
    "model1.compile(loss=MeanSquaredError(),optimizer=Adam(learning_rate = 0.0001), metrics=[RootMeanSquaredError()])"
   ]
  },
  {
   "cell_type": "code",
   "execution_count": 21,
   "id": "6617ada7-daf1-4ef4-abc9-39cd498101c0",
   "metadata": {},
   "outputs": [
    {
     "name": "stdout",
     "output_type": "stream",
     "text": [
      "Epoch 1/10\n",
      "1/4 [======>.......................] - ETA: 7s - loss: 0.0761 - root_mean_squared_error: 0.2759"
     ]
    },
    {
     "name": "stderr",
     "output_type": "stream",
     "text": [
      "WARNING:absl:Found untraced functions such as lstm_cell_1_layer_call_fn, lstm_cell_1_layer_call_and_return_conditional_losses while saving (showing 2 of 2). These functions will not be directly callable after loading.\n"
     ]
    },
    {
     "name": "stdout",
     "output_type": "stream",
     "text": [
      "INFO:tensorflow:Assets written to: model1/assets\n"
     ]
    },
    {
     "name": "stderr",
     "output_type": "stream",
     "text": [
      "INFO:tensorflow:Assets written to: model1/assets\n"
     ]
    },
    {
     "name": "stdout",
     "output_type": "stream",
     "text": [
      "4/4 [==============================] - 7s 2s/step - loss: 0.0646 - root_mean_squared_error: 0.2541 - val_loss: 0.0670 - val_root_mean_squared_error: 0.2587\n",
      "Epoch 2/10\n",
      "1/4 [======>.......................] - ETA: 0s - loss: 0.0450 - root_mean_squared_error: 0.2120"
     ]
    },
    {
     "name": "stderr",
     "output_type": "stream",
     "text": [
      "WARNING:absl:Found untraced functions such as lstm_cell_1_layer_call_fn, lstm_cell_1_layer_call_and_return_conditional_losses while saving (showing 2 of 2). These functions will not be directly callable after loading.\n"
     ]
    },
    {
     "name": "stdout",
     "output_type": "stream",
     "text": [
      "INFO:tensorflow:Assets written to: model1/assets\n"
     ]
    },
    {
     "name": "stderr",
     "output_type": "stream",
     "text": [
      "INFO:tensorflow:Assets written to: model1/assets\n"
     ]
    },
    {
     "name": "stdout",
     "output_type": "stream",
     "text": [
      "4/4 [==============================] - 4s 1s/step - loss: 0.0401 - root_mean_squared_error: 0.2003 - val_loss: 0.0379 - val_root_mean_squared_error: 0.1946\n",
      "Epoch 3/10\n",
      "1/4 [======>.......................] - ETA: 0s - loss: 0.0326 - root_mean_squared_error: 0.1806"
     ]
    },
    {
     "name": "stderr",
     "output_type": "stream",
     "text": [
      "WARNING:absl:Found untraced functions such as lstm_cell_1_layer_call_fn, lstm_cell_1_layer_call_and_return_conditional_losses while saving (showing 2 of 2). These functions will not be directly callable after loading.\n"
     ]
    },
    {
     "name": "stdout",
     "output_type": "stream",
     "text": [
      "INFO:tensorflow:Assets written to: model1/assets\n"
     ]
    },
    {
     "name": "stderr",
     "output_type": "stream",
     "text": [
      "INFO:tensorflow:Assets written to: model1/assets\n"
     ]
    },
    {
     "name": "stdout",
     "output_type": "stream",
     "text": [
      "4/4 [==============================] - 5s 2s/step - loss: 0.0239 - root_mean_squared_error: 0.1545 - val_loss: 0.0229 - val_root_mean_squared_error: 0.1512\n",
      "Epoch 4/10\n",
      "1/4 [======>.......................] - ETA: 0s - loss: 0.0141 - root_mean_squared_error: 0.1187"
     ]
    },
    {
     "name": "stderr",
     "output_type": "stream",
     "text": [
      "WARNING:absl:Found untraced functions such as lstm_cell_1_layer_call_fn, lstm_cell_1_layer_call_and_return_conditional_losses while saving (showing 2 of 2). These functions will not be directly callable after loading.\n"
     ]
    },
    {
     "name": "stdout",
     "output_type": "stream",
     "text": [
      "INFO:tensorflow:Assets written to: model1/assets\n"
     ]
    },
    {
     "name": "stderr",
     "output_type": "stream",
     "text": [
      "INFO:tensorflow:Assets written to: model1/assets\n"
     ]
    },
    {
     "name": "stdout",
     "output_type": "stream",
     "text": [
      "4/4 [==============================] - 4s 1s/step - loss: 0.0133 - root_mean_squared_error: 0.1154 - val_loss: 0.0152 - val_root_mean_squared_error: 0.1232\n",
      "Epoch 5/10\n",
      "1/4 [======>.......................] - ETA: 0s - loss: 0.0096 - root_mean_squared_error: 0.0982"
     ]
    },
    {
     "name": "stderr",
     "output_type": "stream",
     "text": [
      "WARNING:absl:Found untraced functions such as lstm_cell_1_layer_call_fn, lstm_cell_1_layer_call_and_return_conditional_losses while saving (showing 2 of 2). These functions will not be directly callable after loading.\n"
     ]
    },
    {
     "name": "stdout",
     "output_type": "stream",
     "text": [
      "INFO:tensorflow:Assets written to: model1/assets\n"
     ]
    },
    {
     "name": "stderr",
     "output_type": "stream",
     "text": [
      "INFO:tensorflow:Assets written to: model1/assets\n"
     ]
    },
    {
     "name": "stdout",
     "output_type": "stream",
     "text": [
      "4/4 [==============================] - 5s 2s/step - loss: 0.0075 - root_mean_squared_error: 0.0867 - val_loss: 0.0108 - val_root_mean_squared_error: 0.1038\n",
      "Epoch 6/10\n",
      "1/4 [======>.......................] - ETA: 0s - loss: 0.0032 - root_mean_squared_error: 0.0564"
     ]
    },
    {
     "name": "stderr",
     "output_type": "stream",
     "text": [
      "WARNING:absl:Found untraced functions such as lstm_cell_1_layer_call_fn, lstm_cell_1_layer_call_and_return_conditional_losses while saving (showing 2 of 2). These functions will not be directly callable after loading.\n"
     ]
    },
    {
     "name": "stdout",
     "output_type": "stream",
     "text": [
      "INFO:tensorflow:Assets written to: model1/assets\n"
     ]
    },
    {
     "name": "stderr",
     "output_type": "stream",
     "text": [
      "INFO:tensorflow:Assets written to: model1/assets\n"
     ]
    },
    {
     "name": "stdout",
     "output_type": "stream",
     "text": [
      "4/4 [==============================] - 4s 1s/step - loss: 0.0046 - root_mean_squared_error: 0.0679 - val_loss: 0.0083 - val_root_mean_squared_error: 0.0912\n",
      "Epoch 7/10\n",
      "1/4 [======>.......................] - ETA: 0s - loss: 0.0048 - root_mean_squared_error: 0.0689"
     ]
    },
    {
     "name": "stderr",
     "output_type": "stream",
     "text": [
      "WARNING:absl:Found untraced functions such as lstm_cell_1_layer_call_fn, lstm_cell_1_layer_call_and_return_conditional_losses while saving (showing 2 of 2). These functions will not be directly callable after loading.\n"
     ]
    },
    {
     "name": "stdout",
     "output_type": "stream",
     "text": [
      "INFO:tensorflow:Assets written to: model1/assets\n"
     ]
    },
    {
     "name": "stderr",
     "output_type": "stream",
     "text": [
      "INFO:tensorflow:Assets written to: model1/assets\n"
     ]
    },
    {
     "name": "stdout",
     "output_type": "stream",
     "text": [
      "4/4 [==============================] - 4s 1s/step - loss: 0.0037 - root_mean_squared_error: 0.0611 - val_loss: 0.0073 - val_root_mean_squared_error: 0.0855\n",
      "Epoch 8/10\n",
      "4/4 [==============================] - 0s 17ms/step - loss: 0.0038 - root_mean_squared_error: 0.0618 - val_loss: 0.0074 - val_root_mean_squared_error: 0.0859\n",
      "Epoch 9/10\n",
      "4/4 [==============================] - 0s 15ms/step - loss: 0.0042 - root_mean_squared_error: 0.0649 - val_loss: 0.0076 - val_root_mean_squared_error: 0.0870\n",
      "Epoch 10/10\n",
      "4/4 [==============================] - 0s 15ms/step - loss: 0.0044 - root_mean_squared_error: 0.0661 - val_loss: 0.0077 - val_root_mean_squared_error: 0.0880\n"
     ]
    },
    {
     "data": {
      "text/plain": [
       "<keras.callbacks.History at 0x7fdaf4e52430>"
      ]
     },
     "execution_count": 21,
     "metadata": {},
     "output_type": "execute_result"
    }
   ],
   "source": [
    "model1.fit(xTrain,yTrain,validation_data = (xVal,yVal),epochs = 10, callbacks =[cp])"
   ]
  },
  {
   "cell_type": "code",
   "execution_count": 22,
   "id": "9a7867ca-549a-439f-927b-879de678a5d0",
   "metadata": {},
   "outputs": [
    {
     "name": "stdout",
     "output_type": "stream",
     "text": [
      "4/4 [==============================] - 0s 2ms/step\n"
     ]
    },
    {
     "data": {
      "text/html": [
       "<div>\n",
       "<style scoped>\n",
       "    .dataframe tbody tr th:only-of-type {\n",
       "        vertical-align: middle;\n",
       "    }\n",
       "\n",
       "    .dataframe tbody tr th {\n",
       "        vertical-align: top;\n",
       "    }\n",
       "\n",
       "    .dataframe thead th {\n",
       "        text-align: right;\n",
       "    }\n",
       "</style>\n",
       "<table border=\"1\" class=\"dataframe\">\n",
       "  <thead>\n",
       "    <tr style=\"text-align: right;\">\n",
       "      <th></th>\n",
       "      <th>Train Predictions</th>\n",
       "      <th>Actuals</th>\n",
       "    </tr>\n",
       "  </thead>\n",
       "  <tbody>\n",
       "    <tr>\n",
       "      <th>0</th>\n",
       "      <td>-0.044392</td>\n",
       "      <td>-0.003661</td>\n",
       "    </tr>\n",
       "    <tr>\n",
       "      <th>1</th>\n",
       "      <td>-0.021435</td>\n",
       "      <td>0.061900</td>\n",
       "    </tr>\n",
       "    <tr>\n",
       "      <th>2</th>\n",
       "      <td>0.067690</td>\n",
       "      <td>0.017796</td>\n",
       "    </tr>\n",
       "    <tr>\n",
       "      <th>3</th>\n",
       "      <td>0.100932</td>\n",
       "      <td>0.030440</td>\n",
       "    </tr>\n",
       "    <tr>\n",
       "      <th>4</th>\n",
       "      <td>0.103532</td>\n",
       "      <td>-0.000431</td>\n",
       "    </tr>\n",
       "    <tr>\n",
       "      <th>...</th>\n",
       "      <td>...</td>\n",
       "      <td>...</td>\n",
       "    </tr>\n",
       "    <tr>\n",
       "      <th>105</th>\n",
       "      <td>-0.049544</td>\n",
       "      <td>-0.025997</td>\n",
       "    </tr>\n",
       "    <tr>\n",
       "      <th>106</th>\n",
       "      <td>-0.048525</td>\n",
       "      <td>0.004579</td>\n",
       "    </tr>\n",
       "    <tr>\n",
       "      <th>107</th>\n",
       "      <td>-0.044627</td>\n",
       "      <td>0.036631</td>\n",
       "    </tr>\n",
       "    <tr>\n",
       "      <th>108</th>\n",
       "      <td>-0.039534</td>\n",
       "      <td>0.044994</td>\n",
       "    </tr>\n",
       "    <tr>\n",
       "      <th>109</th>\n",
       "      <td>-0.042207</td>\n",
       "      <td>0.035443</td>\n",
       "    </tr>\n",
       "  </tbody>\n",
       "</table>\n",
       "<p>110 rows × 2 columns</p>\n",
       "</div>"
      ],
      "text/plain": [
       "     Train Predictions   Actuals\n",
       "0            -0.044392 -0.003661\n",
       "1            -0.021435  0.061900\n",
       "2             0.067690  0.017796\n",
       "3             0.100932  0.030440\n",
       "4             0.103532 -0.000431\n",
       "..                 ...       ...\n",
       "105          -0.049544 -0.025997\n",
       "106          -0.048525  0.004579\n",
       "107          -0.044627  0.036631\n",
       "108          -0.039534  0.044994\n",
       "109          -0.042207  0.035443\n",
       "\n",
       "[110 rows x 2 columns]"
      ]
     },
     "execution_count": 22,
     "metadata": {},
     "output_type": "execute_result"
    }
   ],
   "source": [
    "trainPredictions = model1.predict(xTrain).flatten()\n",
    "trainResults = pd.DataFrame(\n",
    "    data = {'Train Predictions':trainPredictions,\n",
    "    \"Actuals\":yTrain})\n",
    "trainResults"
   ]
  },
  {
   "cell_type": "code",
   "execution_count": 61,
   "id": "cc61a663-22c7-43ec-b2d0-4ce6c2285349",
   "metadata": {},
   "outputs": [
    {
     "data": {
      "text/plain": [
       "<matplotlib.legend.Legend at 0x7fdad714e070>"
      ]
     },
     "execution_count": 61,
     "metadata": {},
     "output_type": "execute_result"
    },
    {
     "data": {
      "image/png": "[encoded data removed]",
      "text/plain": [
       "<Figure size 748.8x514.8 with 1 Axes>"
      ]
     },
     "metadata": {
      "needs_background": "light"
     },
     "output_type": "display_data"
    }
   ],
   "source": [
    "import matplotlib.pyplot as plt\n",
    "plt.style.use('seaborn-talk')\n",
    "plt.plot(trainResults['Train Predictions'],\"-r\",label = \"Predictions\")\n",
    "plt.plot(trainResults['Actuals'], \"-b\",label = \"Actual Values\")\n",
    "\n",
    "location = 0 # For the best location\n",
    "legend_drawn_flag = True\n",
    "plt.legend([\"Predictions\", \"Actual\"], loc=0, frameon=legend_drawn_flag)"
   ]
  },
  {
   "cell_type": "code",
   "execution_count": 24,
   "id": "6b6412b0-1302-4e4d-960c-8c5304feae54",
   "metadata": {},
   "outputs": [
    {
     "name": "stdout",
     "output_type": "stream",
     "text": [
      "1/1 [==============================] - 0s 28ms/step\n"
     ]
    },
    {
     "data": {
      "text/html": [
       "<div>\n",
       "<style scoped>\n",
       "    .dataframe tbody tr th:only-of-type {\n",
       "        vertical-align: middle;\n",
       "    }\n",
       "\n",
       "    .dataframe tbody tr th {\n",
       "        vertical-align: top;\n",
       "    }\n",
       "\n",
       "    .dataframe thead th {\n",
       "        text-align: right;\n",
       "    }\n",
       "</style>\n",
       "<table border=\"1\" class=\"dataframe\">\n",
       "  <thead>\n",
       "    <tr style=\"text-align: right;\">\n",
       "      <th></th>\n",
       "      <th>Test Predictions</th>\n",
       "      <th>Actuals</th>\n",
       "    </tr>\n",
       "  </thead>\n",
       "  <tbody>\n",
       "    <tr>\n",
       "      <th>0</th>\n",
       "      <td>0.047451</td>\n",
       "      <td>0.068249</td>\n",
       "    </tr>\n",
       "    <tr>\n",
       "      <th>1</th>\n",
       "      <td>0.049810</td>\n",
       "      <td>0.095874</td>\n",
       "    </tr>\n",
       "    <tr>\n",
       "      <th>2</th>\n",
       "      <td>0.048530</td>\n",
       "      <td>-0.051629</td>\n",
       "    </tr>\n",
       "    <tr>\n",
       "      <th>3</th>\n",
       "      <td>0.048690</td>\n",
       "      <td>-0.022916</td>\n",
       "    </tr>\n",
       "    <tr>\n",
       "      <th>4</th>\n",
       "      <td>0.045029</td>\n",
       "      <td>0.117962</td>\n",
       "    </tr>\n",
       "    <tr>\n",
       "      <th>5</th>\n",
       "      <td>0.040232</td>\n",
       "      <td>0.056526</td>\n",
       "    </tr>\n",
       "    <tr>\n",
       "      <th>6</th>\n",
       "      <td>0.042128</td>\n",
       "      <td>0.014153</td>\n",
       "    </tr>\n",
       "    <tr>\n",
       "      <th>7</th>\n",
       "      <td>0.028216</td>\n",
       "      <td>0.009308</td>\n",
       "    </tr>\n",
       "    <tr>\n",
       "      <th>8</th>\n",
       "      <td>0.029282</td>\n",
       "      <td>0.004133</td>\n",
       "    </tr>\n",
       "    <tr>\n",
       "      <th>9</th>\n",
       "      <td>0.042773</td>\n",
       "      <td>0.054036</td>\n",
       "    </tr>\n",
       "    <tr>\n",
       "      <th>10</th>\n",
       "      <td>0.028074</td>\n",
       "      <td>-0.015322</td>\n",
       "    </tr>\n",
       "    <tr>\n",
       "      <th>11</th>\n",
       "      <td>0.000487</td>\n",
       "      <td>0.054929</td>\n",
       "    </tr>\n",
       "    <tr>\n",
       "      <th>12</th>\n",
       "      <td>-0.026201</td>\n",
       "      <td>0.011633</td>\n",
       "    </tr>\n",
       "    <tr>\n",
       "      <th>13</th>\n",
       "      <td>-0.037038</td>\n",
       "      <td>0.039976</td>\n",
       "    </tr>\n",
       "    <tr>\n",
       "      <th>14</th>\n",
       "      <td>-0.070284</td>\n",
       "      <td>-0.053126</td>\n",
       "    </tr>\n",
       "    <tr>\n",
       "      <th>15</th>\n",
       "      <td>-0.081598</td>\n",
       "      <td>0.072658</td>\n",
       "    </tr>\n",
       "    <tr>\n",
       "      <th>16</th>\n",
       "      <td>-0.068355</td>\n",
       "      <td>0.002536</td>\n",
       "    </tr>\n",
       "    <tr>\n",
       "      <th>17</th>\n",
       "      <td>-0.018076</td>\n",
       "      <td>0.006905</td>\n",
       "    </tr>\n",
       "  </tbody>\n",
       "</table>\n",
       "</div>"
      ],
      "text/plain": [
       "    Test Predictions   Actuals\n",
       "0           0.047451  0.068249\n",
       "1           0.049810  0.095874\n",
       "2           0.048530 -0.051629\n",
       "3           0.048690 -0.022916\n",
       "4           0.045029  0.117962\n",
       "5           0.040232  0.056526\n",
       "6           0.042128  0.014153\n",
       "7           0.028216  0.009308\n",
       "8           0.029282  0.004133\n",
       "9           0.042773  0.054036\n",
       "10          0.028074 -0.015322\n",
       "11          0.000487  0.054929\n",
       "12         -0.026201  0.011633\n",
       "13         -0.037038  0.039976\n",
       "14         -0.070284 -0.053126\n",
       "15         -0.081598  0.072658\n",
       "16         -0.068355  0.002536\n",
       "17         -0.018076  0.006905"
      ]
     },
     "execution_count": 24,
     "metadata": {},
     "output_type": "execute_result"
    }
   ],
   "source": [
    "testPredictions = model1.predict(xTest).flatten()\n",
    "testResults = pd.DataFrame(\n",
    "    data = {'Test Predictions':testPredictions,\n",
    "    \"Actuals\":yTest})\n",
    "testResults"
   ]
  },
  {
   "cell_type": "code",
   "execution_count": 25,
   "id": "139dd864-a8c4-481c-9d60-2ba510521d0f",
   "metadata": {},
   "outputs": [
    {
     "data": {
      "text/plain": [
       "<matplotlib.legend.Legend at 0x7fdad9347fd0>"
      ]
     },
     "execution_count": 25,
     "metadata": {},
     "output_type": "execute_result"
    },
    {
     "data": {
      "image/png": "[encoded data removed]",
      "text/plain": [
       "<Figure size 432x288 with 1 Axes>"
      ]
     },
     "metadata": {
      "needs_background": "light"
     },
     "output_type": "display_data"
    }
   ],
   "source": [
    "plt.plot(testResults['Test Predictions'], \"-r\")\n",
    "plt.plot(testResults['Actuals'],\"-b\")\n",
    "\n",
    "\n",
    "location = 0 # For the best location\n",
    "legend_drawn_flag = True\n",
    "plt.legend([\"Predictions\", \"Actual\"], loc=0, frameon=legend_drawn_flag)"
   ]
  },
  {
   "cell_type": "code",
   "execution_count": 26,
   "id": "ef9b0b9c-23b1-492b-89e4-089636a9eb20",
   "metadata": {},
   "outputs": [
    {
     "data": {
      "text/plain": [
       "0.01759637237813475"
      ]
     },
     "execution_count": 26,
     "metadata": {},
     "output_type": "execute_result"
    }
   ],
   "source": [
    "rmse = np.sqrt(np.mean(testPredictions - yTest)**2)\n",
    "rmse"
   ]
  },
  {
   "cell_type": "code",
   "execution_count": 27,
   "id": "32b9cb68-d5bd-492d-964c-f5a35338e9ac",
   "metadata": {},
   "outputs": [
    {
     "data": {
      "text/plain": [
       "0.049506779658592244"
      ]
     },
     "execution_count": 27,
     "metadata": {},
     "output_type": "execute_result"
    }
   ],
   "source": [
    "mae = np.mean(abs(testPredictions - yTest))\n",
    "mae"
   ]
  },
  {
   "cell_type": "code",
   "execution_count": 57,
   "id": "06bbd974-920a-411f-8380-6f44c3b5e995",
   "metadata": {},
   "outputs": [
    {
     "data": {
      "text/plain": [
       "0.026006952703431913"
      ]
     },
     "execution_count": 57,
     "metadata": {},
     "output_type": "execute_result"
    }
   ],
   "source": [
    "trainrmse = np.sqrt(np.mean(trainPredictions - yTrain)**2)\n",
    "trainrmse"
   ]
  },
  {
   "cell_type": "code",
   "execution_count": 58,
   "id": "5bc5c2c1-b25e-4161-803b-d9fffbcbe271",
   "metadata": {},
   "outputs": [
    {
     "data": {
      "text/plain": [
       "0.05298456533736727"
      ]
     },
     "execution_count": 58,
     "metadata": {},
     "output_type": "execute_result"
    }
   ],
   "source": [
    "trainmae = np.mean(abs(trainPredictions - yTrain))\n",
    "trainmae"
   ]
  },
  {
   "cell_type": "code",
   "execution_count": 29,
   "id": "3f8a692d-fdd8-44de-970c-18a8da0152ac",
   "metadata": {},
   "outputs": [
    {
     "name": "stdout",
     "output_type": "stream",
     "text": [
      "Model: \"sequential_3\"\n",
      "_________________________________________________________________\n",
      " Layer (type)                Output Shape              Param #   \n",
      "=================================================================\n",
      " lstm_3 (LSTM)               (None, 4, 100)            44800     \n",
      "                                                                 \n",
      " lstm_4 (LSTM)               (None, 4, 100)            80400     \n",
      "                                                                 \n",
      " lstm_5 (LSTM)               (None, 100)               80400     \n",
      "                                                                 \n",
      " dropout_1 (Dropout)         (None, 100)               0         \n",
      "                                                                 \n",
      " dense_6 (Dense)             (None, 1)                 101       \n",
      "                                                                 \n",
      "=================================================================\n",
      "Total params: 205,701\n",
      "Trainable params: 205,701\n",
      "Non-trainable params: 0\n",
      "_________________________________________________________________\n"
     ]
    }
   ],
   "source": [
    "model2 = Sequential()\n",
    "model2.add(InputLayer((4, 11)))\n",
    "model2.add(LSTM(100, activation='relu', return_sequences=True))\n",
    "model2.add(LSTM(100, activation = 'relu', return_sequences = True))\n",
    "model2.add(LSTM(100))\n",
    "model2.add(Dropout(0.1))\n",
    "model2.add(Dense(1, 'linear'))\n",
    "\n",
    "model2.summary()"
   ]
  },
  {
   "cell_type": "code",
   "execution_count": 30,
   "id": "165d6783-07e5-43b9-8e7d-01a6bb1f6c85",
   "metadata": {},
   "outputs": [],
   "source": [
    "cp2 = ModelCheckpoint(\"model2/\", save_best_only = True, monitor = \"loss\")\n",
    "model2.compile(loss=MeanSquaredError(),optimizer=Adam(learning_rate = 0.0001), metrics=[RootMeanSquaredError()])"
   ]
  },
  {
   "cell_type": "code",
   "execution_count": 31,
   "id": "a0d48d4a-e598-49e2-aa0b-75d7b5e8be42",
   "metadata": {},
   "outputs": [
    {
     "name": "stdout",
     "output_type": "stream",
     "text": [
      "Epoch 1/25\n",
      "1/4 [======>.......................] - ETA: 12s - loss: 0.5308 - root_mean_squared_error: 0.7286"
     ]
    },
    {
     "name": "stderr",
     "output_type": "stream",
     "text": [
      "WARNING:absl:Found untraced functions such as lstm_cell_5_layer_call_fn, lstm_cell_5_layer_call_and_return_conditional_losses while saving (showing 2 of 2). These functions will not be directly callable after loading.\n"
     ]
    },
    {
     "name": "stdout",
     "output_type": "stream",
     "text": [
      "INFO:tensorflow:Assets written to: model2/assets\n"
     ]
    },
    {
     "name": "stderr",
     "output_type": "stream",
     "text": [
      "INFO:tensorflow:Assets written to: model2/assets\n"
     ]
    },
    {
     "name": "stdout",
     "output_type": "stream",
     "text": [
      "4/4 [==============================] - 11s 2s/step - loss: 0.4152 - root_mean_squared_error: 0.6443\n",
      "Epoch 2/25\n",
      "1/4 [======>.......................] - ETA: 0s - loss: 0.2423 - root_mean_squared_error: 0.4922"
     ]
    },
    {
     "name": "stderr",
     "output_type": "stream",
     "text": [
      "WARNING:absl:Found untraced functions such as lstm_cell_5_layer_call_fn, lstm_cell_5_layer_call_and_return_conditional_losses while saving (showing 2 of 2). These functions will not be directly callable after loading.\n"
     ]
    },
    {
     "name": "stdout",
     "output_type": "stream",
     "text": [
      "INFO:tensorflow:Assets written to: model2/assets\n"
     ]
    },
    {
     "name": "stderr",
     "output_type": "stream",
     "text": [
      "INFO:tensorflow:Assets written to: model2/assets\n"
     ]
    },
    {
     "name": "stdout",
     "output_type": "stream",
     "text": [
      "4/4 [==============================] - 7s 2s/step - loss: 0.1857 - root_mean_squared_error: 0.4310\n",
      "Epoch 3/25\n",
      "4/4 [==============================] - ETA: 0s - loss: 0.1198 - root_mean_squared_error: 0.3462"
     ]
    },
    {
     "name": "stderr",
     "output_type": "stream",
     "text": [
      "WARNING:absl:Found untraced functions such as lstm_cell_5_layer_call_fn, lstm_cell_5_layer_call_and_return_conditional_losses while saving (showing 2 of 2). These functions will not be directly callable after loading.\n"
     ]
    },
    {
     "name": "stdout",
     "output_type": "stream",
     "text": [
      "INFO:tensorflow:Assets written to: model2/assets\n"
     ]
    },
    {
     "name": "stderr",
     "output_type": "stream",
     "text": [
      "INFO:tensorflow:Assets written to: model2/assets\n"
     ]
    },
    {
     "name": "stdout",
     "output_type": "stream",
     "text": [
      "4/4 [==============================] - 7s 2s/step - loss: 0.1198 - root_mean_squared_error: 0.3462\n",
      "Epoch 4/25\n",
      "4/4 [==============================] - 0s 14ms/step - loss: 0.1297 - root_mean_squared_error: 0.3602\n",
      "Epoch 5/25\n",
      "1/4 [======>.......................] - ETA: 0s - loss: 0.0994 - root_mean_squared_error: 0.3152"
     ]
    },
    {
     "name": "stderr",
     "output_type": "stream",
     "text": [
      "WARNING:absl:Found untraced functions such as lstm_cell_5_layer_call_fn, lstm_cell_5_layer_call_and_return_conditional_losses while saving (showing 2 of 2). These functions will not be directly callable after loading.\n"
     ]
    },
    {
     "name": "stdout",
     "output_type": "stream",
     "text": [
      "INFO:tensorflow:Assets written to: model2/assets\n"
     ]
    },
    {
     "name": "stderr",
     "output_type": "stream",
     "text": [
      "INFO:tensorflow:Assets written to: model2/assets\n"
     ]
    },
    {
     "name": "stdout",
     "output_type": "stream",
     "text": [
      "4/4 [==============================] - 7s 2s/step - loss: 0.0938 - root_mean_squared_error: 0.3063\n",
      "Epoch 6/25\n",
      "1/4 [======>.......................] - ETA: 0s - loss: 0.0555 - root_mean_squared_error: 0.2356"
     ]
    },
    {
     "name": "stderr",
     "output_type": "stream",
     "text": [
      "WARNING:absl:Found untraced functions such as lstm_cell_5_layer_call_fn, lstm_cell_5_layer_call_and_return_conditional_losses while saving (showing 2 of 2). These functions will not be directly callable after loading.\n"
     ]
    },
    {
     "name": "stdout",
     "output_type": "stream",
     "text": [
      "INFO:tensorflow:Assets written to: model2/assets\n"
     ]
    },
    {
     "name": "stderr",
     "output_type": "stream",
     "text": [
      "INFO:tensorflow:Assets written to: model2/assets\n"
     ]
    },
    {
     "name": "stdout",
     "output_type": "stream",
     "text": [
      "4/4 [==============================] - 7s 2s/step - loss: 0.0722 - root_mean_squared_error: 0.2688\n",
      "Epoch 7/25\n",
      "4/4 [==============================] - ETA: 0s - loss: 0.0664 - root_mean_squared_error: 0.2576"
     ]
    },
    {
     "name": "stderr",
     "output_type": "stream",
     "text": [
      "WARNING:absl:Found untraced functions such as lstm_cell_5_layer_call_fn, lstm_cell_5_layer_call_and_return_conditional_losses while saving (showing 2 of 2). These functions will not be directly callable after loading.\n"
     ]
    },
    {
     "name": "stdout",
     "output_type": "stream",
     "text": [
      "INFO:tensorflow:Assets written to: model2/assets\n"
     ]
    },
    {
     "name": "stderr",
     "output_type": "stream",
     "text": [
      "INFO:tensorflow:Assets written to: model2/assets\n"
     ]
    },
    {
     "name": "stdout",
     "output_type": "stream",
     "text": [
      "4/4 [==============================] - 7s 2s/step - loss: 0.0664 - root_mean_squared_error: 0.2576\n",
      "Epoch 8/25\n",
      "4/4 [==============================] - 0s 14ms/step - loss: 0.0717 - root_mean_squared_error: 0.2677\n",
      "Epoch 9/25\n",
      "4/4 [==============================] - 0s 12ms/step - loss: 0.0686 - root_mean_squared_error: 0.2619\n",
      "Epoch 10/25\n",
      "4/4 [==============================] - 0s 10ms/step - loss: 0.0839 - root_mean_squared_error: 0.2896\n",
      "Epoch 11/25\n",
      "4/4 [==============================] - 0s 12ms/step - loss: 0.0685 - root_mean_squared_error: 0.2616\n",
      "Epoch 12/25\n",
      "4/4 [==============================] - 0s 13ms/step - loss: 0.1190 - root_mean_squared_error: 0.3450\n",
      "Epoch 13/25\n",
      "4/4 [==============================] - 0s 10ms/step - loss: 0.0761 - root_mean_squared_error: 0.2759\n",
      "Epoch 14/25\n",
      "4/4 [==============================] - 0s 10ms/step - loss: 0.0843 - root_mean_squared_error: 0.2903\n",
      "Epoch 15/25\n",
      "1/4 [======>.......................] - ETA: 0s - loss: 0.0693 - root_mean_squared_error: 0.2632"
     ]
    },
    {
     "name": "stderr",
     "output_type": "stream",
     "text": [
      "WARNING:absl:Found untraced functions such as lstm_cell_5_layer_call_fn, lstm_cell_5_layer_call_and_return_conditional_losses while saving (showing 2 of 2). These functions will not be directly callable after loading.\n"
     ]
    },
    {
     "name": "stdout",
     "output_type": "stream",
     "text": [
      "INFO:tensorflow:Assets written to: model2/assets\n"
     ]
    },
    {
     "name": "stderr",
     "output_type": "stream",
     "text": [
      "INFO:tensorflow:Assets written to: model2/assets\n"
     ]
    },
    {
     "name": "stdout",
     "output_type": "stream",
     "text": [
      "4/4 [==============================] - 7s 2s/step - loss: 0.0598 - root_mean_squared_error: 0.2446\n",
      "Epoch 16/25\n",
      "4/4 [==============================] - 0s 19ms/step - loss: 0.0599 - root_mean_squared_error: 0.2448\n",
      "Epoch 17/25\n",
      "4/4 [==============================] - 0s 12ms/step - loss: 0.0627 - root_mean_squared_error: 0.2504\n",
      "Epoch 18/25\n",
      "1/4 [======>.......................] - ETA: 0s - loss: 0.0573 - root_mean_squared_error: 0.2393"
     ]
    },
    {
     "name": "stderr",
     "output_type": "stream",
     "text": [
      "WARNING:absl:Found untraced functions such as lstm_cell_5_layer_call_fn, lstm_cell_5_layer_call_and_return_conditional_losses while saving (showing 2 of 2). These functions will not be directly callable after loading.\n"
     ]
    },
    {
     "name": "stdout",
     "output_type": "stream",
     "text": [
      "INFO:tensorflow:Assets written to: model2/assets\n"
     ]
    },
    {
     "name": "stderr",
     "output_type": "stream",
     "text": [
      "INFO:tensorflow:Assets written to: model2/assets\n"
     ]
    },
    {
     "name": "stdout",
     "output_type": "stream",
     "text": [
      "4/4 [==============================] - 7s 2s/step - loss: 0.0576 - root_mean_squared_error: 0.2400\n",
      "Epoch 19/25\n",
      "4/4 [==============================] - 0s 19ms/step - loss: 0.0862 - root_mean_squared_error: 0.2935\n",
      "Epoch 20/25\n",
      "4/4 [==============================] - 0s 15ms/step - loss: 0.0746 - root_mean_squared_error: 0.2731\n",
      "Epoch 21/25\n",
      "4/4 [==============================] - 0s 16ms/step - loss: 0.0846 - root_mean_squared_error: 0.2908\n",
      "Epoch 22/25\n",
      "4/4 [==============================] - 0s 11ms/step - loss: 0.0638 - root_mean_squared_error: 0.2525\n",
      "Epoch 23/25\n",
      "4/4 [==============================] - 0s 10ms/step - loss: 0.0603 - root_mean_squared_error: 0.2455\n",
      "Epoch 24/25\n",
      "4/4 [==============================] - 0s 10ms/step - loss: 0.0584 - root_mean_squared_error: 0.2418\n",
      "Epoch 25/25\n",
      "4/4 [==============================] - 0s 10ms/step - loss: 0.0586 - root_mean_squared_error: 0.2420\n"
     ]
    },
    {
     "data": {
      "text/plain": [
       "<keras.callbacks.History at 0x7fdada6df1f0>"
      ]
     },
     "execution_count": 31,
     "metadata": {},
     "output_type": "execute_result"
    }
   ],
   "source": [
    "model2.fit(xTrain,yTrain,epochs = 25, callbacks =[cp2])"
   ]
  },
  {
   "cell_type": "code",
   "execution_count": 32,
   "id": "081b95c4-33d6-4c95-bffa-c1312e335baa",
   "metadata": {},
   "outputs": [
    {
     "name": "stdout",
     "output_type": "stream",
     "text": [
      "4/4 [==============================] - 1s 4ms/step\n"
     ]
    },
    {
     "data": {
      "text/html": [
       "<div>\n",
       "<style scoped>\n",
       "    .dataframe tbody tr th:only-of-type {\n",
       "        vertical-align: middle;\n",
       "    }\n",
       "\n",
       "    .dataframe tbody tr th {\n",
       "        vertical-align: top;\n",
       "    }\n",
       "\n",
       "    .dataframe thead th {\n",
       "        text-align: right;\n",
       "    }\n",
       "</style>\n",
       "<table border=\"1\" class=\"dataframe\">\n",
       "  <thead>\n",
       "    <tr style=\"text-align: right;\">\n",
       "      <th></th>\n",
       "      <th>Train Predictions</th>\n",
       "      <th>Actuals</th>\n",
       "    </tr>\n",
       "  </thead>\n",
       "  <tbody>\n",
       "    <tr>\n",
       "      <th>0</th>\n",
       "      <td>0.122463</td>\n",
       "      <td>-0.003661</td>\n",
       "    </tr>\n",
       "    <tr>\n",
       "      <th>1</th>\n",
       "      <td>0.070598</td>\n",
       "      <td>0.061900</td>\n",
       "    </tr>\n",
       "    <tr>\n",
       "      <th>2</th>\n",
       "      <td>-0.029583</td>\n",
       "      <td>0.017796</td>\n",
       "    </tr>\n",
       "    <tr>\n",
       "      <th>3</th>\n",
       "      <td>0.018347</td>\n",
       "      <td>0.030440</td>\n",
       "    </tr>\n",
       "    <tr>\n",
       "      <th>4</th>\n",
       "      <td>0.156031</td>\n",
       "      <td>-0.000431</td>\n",
       "    </tr>\n",
       "    <tr>\n",
       "      <th>...</th>\n",
       "      <td>...</td>\n",
       "      <td>...</td>\n",
       "    </tr>\n",
       "    <tr>\n",
       "      <th>105</th>\n",
       "      <td>0.099922</td>\n",
       "      <td>-0.025997</td>\n",
       "    </tr>\n",
       "    <tr>\n",
       "      <th>106</th>\n",
       "      <td>0.082142</td>\n",
       "      <td>0.004579</td>\n",
       "    </tr>\n",
       "    <tr>\n",
       "      <th>107</th>\n",
       "      <td>0.034459</td>\n",
       "      <td>0.036631</td>\n",
       "    </tr>\n",
       "    <tr>\n",
       "      <th>108</th>\n",
       "      <td>0.046108</td>\n",
       "      <td>0.044994</td>\n",
       "    </tr>\n",
       "    <tr>\n",
       "      <th>109</th>\n",
       "      <td>0.061652</td>\n",
       "      <td>0.035443</td>\n",
       "    </tr>\n",
       "  </tbody>\n",
       "</table>\n",
       "<p>110 rows × 2 columns</p>\n",
       "</div>"
      ],
      "text/plain": [
       "     Train Predictions   Actuals\n",
       "0             0.122463 -0.003661\n",
       "1             0.070598  0.061900\n",
       "2            -0.029583  0.017796\n",
       "3             0.018347  0.030440\n",
       "4             0.156031 -0.000431\n",
       "..                 ...       ...\n",
       "105           0.099922 -0.025997\n",
       "106           0.082142  0.004579\n",
       "107           0.034459  0.036631\n",
       "108           0.046108  0.044994\n",
       "109           0.061652  0.035443\n",
       "\n",
       "[110 rows x 2 columns]"
      ]
     },
     "execution_count": 32,
     "metadata": {},
     "output_type": "execute_result"
    }
   ],
   "source": [
    "trainPredictions2 = model2.predict(xTrain).flatten()\n",
    "trainResults2 = pd.DataFrame(\n",
    "    data = {'Train Predictions':trainPredictions2,\n",
    "    \"Actuals\":yTrain})\n",
    "trainResults2"
   ]
  },
  {
   "cell_type": "code",
   "execution_count": 33,
   "id": "d3a73156-e0a8-4cac-ae98-da31e19e9838",
   "metadata": {},
   "outputs": [
    {
     "data": {
      "text/plain": [
       "<matplotlib.legend.Legend at 0x7fdad5fdd430>"
      ]
     },
     "execution_count": 33,
     "metadata": {},
     "output_type": "execute_result"
    },
    {
     "data": {
      "image/png": "[encoded data removed]",
      "text/plain": [
       "<Figure size 432x288 with 1 Axes>"
      ]
     },
     "metadata": {
      "needs_background": "light"
     },
     "output_type": "display_data"
    }
   ],
   "source": [
    "plt.plot(trainResults2['Train Predictions'],\"-r\",label = \"Predictions\")\n",
    "plt.plot(trainResults2['Actuals'], \"-b\",label = \"Actual Values\")\n",
    "\n",
    "location = 0 # For the best location\n",
    "legend_drawn_flag = True\n",
    "plt.legend([\"Predictions\", \"Actual\"], loc=0, frameon=legend_drawn_flag)"
   ]
  },
  {
   "cell_type": "code",
   "execution_count": 34,
   "id": "fc9678fa-4edd-45b9-9e05-2a4c5ad7d782",
   "metadata": {},
   "outputs": [
    {
     "name": "stdout",
     "output_type": "stream",
     "text": [
      "1/1 [==============================] - 0s 27ms/step\n"
     ]
    },
    {
     "data": {
      "text/html": [
       "<div>\n",
       "<style scoped>\n",
       "    .dataframe tbody tr th:only-of-type {\n",
       "        vertical-align: middle;\n",
       "    }\n",
       "\n",
       "    .dataframe tbody tr th {\n",
       "        vertical-align: top;\n",
       "    }\n",
       "\n",
       "    .dataframe thead th {\n",
       "        text-align: right;\n",
       "    }\n",
       "</style>\n",
       "<table border=\"1\" class=\"dataframe\">\n",
       "  <thead>\n",
       "    <tr style=\"text-align: right;\">\n",
       "      <th></th>\n",
       "      <th>Test Predictions</th>\n",
       "      <th>Actuals</th>\n",
       "    </tr>\n",
       "  </thead>\n",
       "  <tbody>\n",
       "    <tr>\n",
       "      <th>0</th>\n",
       "      <td>0.196489</td>\n",
       "      <td>0.068249</td>\n",
       "    </tr>\n",
       "    <tr>\n",
       "      <th>1</th>\n",
       "      <td>0.196212</td>\n",
       "      <td>0.095874</td>\n",
       "    </tr>\n",
       "    <tr>\n",
       "      <th>2</th>\n",
       "      <td>0.208468</td>\n",
       "      <td>-0.051629</td>\n",
       "    </tr>\n",
       "    <tr>\n",
       "      <th>3</th>\n",
       "      <td>0.173557</td>\n",
       "      <td>-0.022916</td>\n",
       "    </tr>\n",
       "    <tr>\n",
       "      <th>4</th>\n",
       "      <td>0.208487</td>\n",
       "      <td>0.117962</td>\n",
       "    </tr>\n",
       "    <tr>\n",
       "      <th>5</th>\n",
       "      <td>0.213991</td>\n",
       "      <td>0.056526</td>\n",
       "    </tr>\n",
       "    <tr>\n",
       "      <th>6</th>\n",
       "      <td>0.082037</td>\n",
       "      <td>0.014153</td>\n",
       "    </tr>\n",
       "    <tr>\n",
       "      <th>7</th>\n",
       "      <td>0.301864</td>\n",
       "      <td>0.009308</td>\n",
       "    </tr>\n",
       "    <tr>\n",
       "      <th>8</th>\n",
       "      <td>0.061219</td>\n",
       "      <td>0.004133</td>\n",
       "    </tr>\n",
       "    <tr>\n",
       "      <th>9</th>\n",
       "      <td>-0.241503</td>\n",
       "      <td>0.054036</td>\n",
       "    </tr>\n",
       "    <tr>\n",
       "      <th>10</th>\n",
       "      <td>0.173018</td>\n",
       "      <td>-0.015322</td>\n",
       "    </tr>\n",
       "    <tr>\n",
       "      <th>11</th>\n",
       "      <td>-0.171270</td>\n",
       "      <td>0.054929</td>\n",
       "    </tr>\n",
       "    <tr>\n",
       "      <th>12</th>\n",
       "      <td>-0.236214</td>\n",
       "      <td>0.011633</td>\n",
       "    </tr>\n",
       "    <tr>\n",
       "      <th>13</th>\n",
       "      <td>-0.217631</td>\n",
       "      <td>0.039976</td>\n",
       "    </tr>\n",
       "    <tr>\n",
       "      <th>14</th>\n",
       "      <td>0.024602</td>\n",
       "      <td>-0.053126</td>\n",
       "    </tr>\n",
       "    <tr>\n",
       "      <th>15</th>\n",
       "      <td>-0.016570</td>\n",
       "      <td>0.072658</td>\n",
       "    </tr>\n",
       "    <tr>\n",
       "      <th>16</th>\n",
       "      <td>-0.242107</td>\n",
       "      <td>0.002536</td>\n",
       "    </tr>\n",
       "    <tr>\n",
       "      <th>17</th>\n",
       "      <td>0.156816</td>\n",
       "      <td>0.006905</td>\n",
       "    </tr>\n",
       "  </tbody>\n",
       "</table>\n",
       "</div>"
      ],
      "text/plain": [
       "    Test Predictions   Actuals\n",
       "0           0.196489  0.068249\n",
       "1           0.196212  0.095874\n",
       "2           0.208468 -0.051629\n",
       "3           0.173557 -0.022916\n",
       "4           0.208487  0.117962\n",
       "5           0.213991  0.056526\n",
       "6           0.082037  0.014153\n",
       "7           0.301864  0.009308\n",
       "8           0.061219  0.004133\n",
       "9          -0.241503  0.054036\n",
       "10          0.173018 -0.015322\n",
       "11         -0.171270  0.054929\n",
       "12         -0.236214  0.011633\n",
       "13         -0.217631  0.039976\n",
       "14          0.024602 -0.053126\n",
       "15         -0.016570  0.072658\n",
       "16         -0.242107  0.002536\n",
       "17          0.156816  0.006905"
      ]
     },
     "execution_count": 34,
     "metadata": {},
     "output_type": "execute_result"
    }
   ],
   "source": [
    "testPredictions2 = model2.predict(xTest).flatten()\n",
    "testResults2 = pd.DataFrame(\n",
    "    data = {'Test Predictions':testPredictions2,\n",
    "    \"Actuals\":yTest})\n",
    "testResults2"
   ]
  },
  {
   "cell_type": "code",
   "execution_count": 35,
   "id": "62927dca-b4d7-473b-ab91-dc9b28005d39",
   "metadata": {},
   "outputs": [
    {
     "data": {
      "text/plain": [
       "<matplotlib.legend.Legend at 0x7fdad5d1d8b0>"
      ]
     },
     "execution_count": 35,
     "metadata": {},
     "output_type": "execute_result"
    },
    {
     "data": {
      "image/png": "[encoded data removed]",
      "text/plain": [
       "<Figure size 432x288 with 1 Axes>"
      ]
     },
     "metadata": {
      "needs_background": "light"
     },
     "output_type": "display_data"
    }
   ],
   "source": [
    "plt.plot(testResults2['Test Predictions'], \"-r\")\n",
    "plt.plot(testResults2['Actuals'],\"-b\")\n",
    "\n",
    "\n",
    "location = 0 # For the best location\n",
    "legend_drawn_flag = True\n",
    "plt.legend([\"Predictions\", \"Actual\"], loc=0, frameon=legend_drawn_flag)"
   ]
  },
  {
   "cell_type": "code",
   "execution_count": 38,
   "id": "6347c731-e4b5-496a-bfda-6726fe904cfc",
   "metadata": {},
   "outputs": [
    {
     "data": {
      "text/plain": [
       "0.022532296068683413"
      ]
     },
     "execution_count": 38,
     "metadata": {},
     "output_type": "execute_result"
    }
   ],
   "source": [
    "rmse = np.sqrt(np.mean(testPredictions2 - yTest)**2)\n",
    "rmse"
   ]
  },
  {
   "cell_type": "code",
   "execution_count": 39,
   "id": "4b1b6c41-c6df-4495-9923-9e59c213ec32",
   "metadata": {},
   "outputs": [
    {
     "data": {
      "text/plain": [
       "0.17376166995478662"
      ]
     },
     "execution_count": 39,
     "metadata": {},
     "output_type": "execute_result"
    }
   ],
   "source": [
    "mae = np.mean(abs(testPredictions2 - yTest))\n",
    "mae"
   ]
  },
  {
   "cell_type": "code",
   "execution_count": 55,
   "id": "4307e706-76a7-4db2-b859-e29c442f0c76",
   "metadata": {},
   "outputs": [
    {
     "data": {
      "text/plain": [
       "0.012644299337122938"
      ]
     },
     "execution_count": 55,
     "metadata": {},
     "output_type": "execute_result"
    }
   ],
   "source": [
    "trainrmse = np.sqrt(np.mean(trainPredictions2 - yTrain)**2)\n",
    "trainrmse"
   ]
  },
  {
   "cell_type": "code",
   "execution_count": 56,
   "id": "3cfb872a-5d60-40ac-a93c-a742c611bb3f",
   "metadata": {},
   "outputs": [
    {
     "data": {
      "text/plain": [
       "0.09892031633580284"
      ]
     },
     "execution_count": 56,
     "metadata": {},
     "output_type": "execute_result"
    }
   ],
   "source": [
    "trainmae = np.mean(abs(trainPredictions2 - yTrain))\n",
    "trainmae"
   ]
  },
  {
   "cell_type": "code",
   "execution_count": 46,
   "id": "7543620b-b23b-4baf-8f6e-79fbd1f156b6",
   "metadata": {},
   "outputs": [],
   "source": [
    "from keras.models import load_model\n",
    "    \n",
    "model2.save('NasdaqModel2.h5')  # creates a HDF5 file 'my_model.h5'\n",
    "model2 = load_model('NasdaqModel2.h5')# returns a compiled model identical to the previous one"
   ]
  },
  {
   "cell_type": "code",
   "execution_count": 40,
   "id": "d95e3fdd-2dd5-47b4-abf2-2cf3402e11c7",
   "metadata": {},
   "outputs": [
    {
     "data": {
      "text/plain": [
       "137   2010-07-31\n",
       "136   2010-08-31\n",
       "135   2010-09-30\n",
       "134   2010-10-31\n",
       "133   2010-11-30\n",
       "Name: Date, dtype: datetime64[ns]"
      ]
     },
     "execution_count": 40,
     "metadata": {},
     "output_type": "execute_result"
    }
   ],
   "source": [
    "raw_data = pd.read_csv(file,parse_dates = [\"Date\"], index_col = False)\n",
    "df1 = raw_data.copy()\n",
    "\n",
    "Dates = df1.iloc[::-1]\n",
    "Dates = Dates[\"Date\"]\n",
    "Dates.head()"
   ]
  },
  {
   "cell_type": "code",
   "execution_count": 41,
   "id": "a512e4e4-c013-4cbd-b376-2988d847f509",
   "metadata": {},
   "outputs": [],
   "source": [
    "trainSize = int(len(Dates)*0.80)\n",
    "valSize = int(len(Dates)*.05)\n",
    "\n",
    "trainDates = Dates[:trainSize]\n",
    "testDates = Dates[trainSize+valSize:]"
   ]
  },
  {
   "cell_type": "code",
   "execution_count": 42,
   "id": "6dca920e-e275-4772-998b-551ebd27f6e1",
   "metadata": {},
   "outputs": [],
   "source": [
    "trainDates = Dates[0:109]\n",
    "testDates = Dates[120:138]\n",
    "\n",
    "trainDates = trainDates.reset_index()\n",
    "testDates = testDates.reset_index()\n",
    "\n",
    "trainDates = trainDates.pop('Date')\n",
    "testDates = testDates.pop('Date')\n",
    "\n",
    "#trainDates\n",
    "#testDates"
   ]
  },
  {
   "cell_type": "code",
   "execution_count": 43,
   "id": "94ed1329-9a20-44d5-a473-a76f4d8d200c",
   "metadata": {},
   "outputs": [],
   "source": [
    "trainResults2 = pd.concat([trainResults2,trainDates],axis=1)\n",
    "testResults2 = pd.concat([testResults2,testDates],axis=1)\n",
    "\n",
    "trainResults2 = trainResults2.set_index(\"Date\")\n",
    "testResults2 = testResults2.set_index(\"Date\")\n"
   ]
  },
  {
   "cell_type": "code",
   "execution_count": 62,
   "id": "e655016a-a791-407e-a715-6685d281a791",
   "metadata": {},
   "outputs": [
    {
     "data": {
      "text/plain": [
       "<matplotlib.legend.Legend at 0x7fdad77eb070>"
      ]
     },
     "execution_count": 62,
     "metadata": {},
     "output_type": "execute_result"
    },
    {
     "data": {
      "image/png": "[encoded data removed]",
      "text/plain": [
       "<Figure size 748.8x514.8 with 1 Axes>"
      ]
     },
     "metadata": {
      "needs_background": "light"
     },
     "output_type": "display_data"
    }
   ],
   "source": [
    "plt.plot(testResults2['Test Predictions'], \"-r\")\n",
    "plt.plot(testResults2['Actuals'],\"-b\")\n",
    "plt.xticks(rotation = 40) # 40 is the rotation angle\n",
    "plt.title(\"Nasdaq Composite Test Data Predictions vs. Actual\")\n",
    "plt.xlabel('Date') \n",
    "plt.ylabel('Volatility (Monthly Return)') \n",
    "location = 0 # For the best location\n",
    "legend_drawn_flag = True\n",
    "plt.legend([\"Predictions\", \"Actual\"], loc=0, frameon=legend_drawn_flag)"
   ]
  },
  {
   "cell_type": "code",
   "execution_count": 63,
   "id": "a2d17e8c-e7f6-404f-9c1c-3cbdbdd16e9a",
   "metadata": {},
   "outputs": [
    {
     "data": {
      "text/plain": [
       "<matplotlib.legend.Legend at 0x7fdadd69d8b0>"
      ]
     },
     "execution_count": 63,
     "metadata": {},
     "output_type": "execute_result"
    },
    {
     "data": {
      "image/png": "[encoded data removed]",
      "text/plain": [
       "<Figure size 748.8x514.8 with 1 Axes>"
      ]
     },
     "metadata": {
      "needs_background": "light"
     },
     "output_type": "display_data"
    }
   ],
   "source": [
    "plt.plot(trainResults2['Train Predictions'], \"-r\")\n",
    "plt.plot(trainResults2['Actuals'],\"-b\")\n",
    "plt.xticks(rotation = 40) # 40 is the rotation angle\n",
    "plt.title(\"Nasdaq Composite Training Data Predictions vs. Actual\")\n",
    "plt.xlabel('Date') \n",
    "plt.ylabel('Volatility (Monthly Return)') \n",
    "location = 0 # For the best location\n",
    "legend_drawn_flag = True\n",
    "plt.legend([\"Predictions\", \"Actual\"], loc=0, frameon=legend_drawn_flag)"
   ]
  },
  {
   "cell_type": "code",
   "execution_count": 64,
   "id": "7b9b6461-637f-4adc-b519-914e5b189bd2",
   "metadata": {},
   "outputs": [],
   "source": [
    "trainResults2.to_csv('NasdaqTrainResults.csv')\n",
    "testResults2.to_csv('NasdaqTestResults.csv')"
   ]
  },
  {
   "cell_type": "code",
   "execution_count": null,
   "id": "d900c3c5-aec8-4ca4-abb9-d59492901cfe",
   "metadata": {},
   "outputs": [],
   "source": []
  }
 ],
 "metadata": {
  "kernelspec": {
   "display_name": "Python 3",
   "language": "python",
   "name": "python3"
  },
  "language_info": {
   "codemirror_mode": {
    "name": "ipython",
    "version": 3
   },
   "file_extension": ".py",
   "mimetype": "text/x-python",
   "name": "python",
   "nbconvert_exporter": "python",
   "pygments_lexer": "ipython3",
   "version": "3.8.8"
  }
 },
 "nbformat": 4,
 "nbformat_minor": 5
}
