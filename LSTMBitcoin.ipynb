{
 "cells": [
  {
   "cell_type": "code",
   "execution_count": 4,
   "id": "cc527fd2-02a6-47f9-a582-6d3f07a08bdb",
   "metadata": {},
   "outputs": [
    {
     "name": "stdout",
     "output_type": "stream",
     "text": [
      "Collecting tensorflow\n",
      "  Downloading tensorflow-2.10.0-cp38-cp38-macosx_10_14_x86_64.whl (241.2 MB)\n",
      "\u001b[K     |████████████████████████████████| 241.2 MB 91 kB/s s eta 0:00:01\n",
      "\u001b[?25hCollecting google-pasta>=0.1.1\n",
      "  Using cached google_pasta-0.2.0-py3-none-any.whl (57 kB)\n",
      "Collecting tensorflow-estimator<2.11,>=2.10.0\n",
      "  Downloading tensorflow_estimator-2.10.0-py2.py3-none-any.whl (438 kB)\n",
      "\u001b[K     |████████████████████████████████| 438 kB 36.7 MB/s eta 0:00:01\n",
      "\u001b[?25hCollecting libclang>=13.0.0\n",
      "  Using cached libclang-14.0.6-py2.py3-none-macosx_10_9_x86_64.whl (13.2 MB)\n",
      "Requirement already satisfied: six>=1.12.0 in /Applications/anaconda3/lib/python3.8/site-packages (from tensorflow) (1.15.0)\n",
      "Requirement already satisfied: setuptools in /Applications/anaconda3/lib/python3.8/site-packages (from tensorflow) (52.0.0.post20210125)\n",
      "Requirement already satisfied: typing-extensions>=3.6.6 in /Applications/anaconda3/lib/python3.8/site-packages (from tensorflow) (3.7.4.3)\n",
      "Collecting flatbuffers>=2.0\n",
      "  Using cached flatbuffers-22.10.26-py2.py3-none-any.whl (26 kB)\n",
      "Collecting grpcio<2.0,>=1.24.3\n",
      "  Using cached grpcio-1.50.0-cp38-cp38-macosx_10_10_x86_64.whl (4.5 MB)\n",
      "Collecting tensorboard<2.11,>=2.10\n",
      "  Downloading tensorboard-2.10.1-py3-none-any.whl (5.9 MB)\n",
      "\u001b[K     |████████████████████████████████| 5.9 MB 15.8 MB/s eta 0:00:01\n",
      "\u001b[?25hRequirement already satisfied: wrapt>=1.11.0 in /Applications/anaconda3/lib/python3.8/site-packages (from tensorflow) (1.12.1)\n",
      "Requirement already satisfied: packaging in /Applications/anaconda3/lib/python3.8/site-packages (from tensorflow) (20.9)\n",
      "Collecting protobuf<3.20,>=3.9.2\n",
      "  Using cached protobuf-3.19.6-cp38-cp38-macosx_10_9_x86_64.whl (980 kB)\n",
      "Collecting termcolor>=1.1.0\n",
      "  Using cached termcolor-2.1.0-py3-none-any.whl (5.8 kB)\n",
      "Requirement already satisfied: numpy>=1.20 in /Applications/anaconda3/lib/python3.8/site-packages (from tensorflow) (1.20.1)\n",
      "Collecting astunparse>=1.6.0\n",
      "  Using cached astunparse-1.6.3-py2.py3-none-any.whl (12 kB)\n",
      "Collecting absl-py>=1.0.0\n",
      "  Using cached absl_py-1.3.0-py3-none-any.whl (124 kB)\n",
      "Collecting keras-preprocessing>=1.1.1\n",
      "  Using cached Keras_Preprocessing-1.1.2-py2.py3-none-any.whl (42 kB)\n",
      "Collecting opt-einsum>=2.3.2\n",
      "  Using cached opt_einsum-3.3.0-py3-none-any.whl (65 kB)\n",
      "Collecting gast<=0.4.0,>=0.2.1\n",
      "  Using cached gast-0.4.0-py3-none-any.whl (9.8 kB)\n",
      "Collecting tensorflow-io-gcs-filesystem>=0.23.1\n",
      "  Using cached tensorflow_io_gcs_filesystem-0.27.0-cp38-cp38-macosx_10_14_x86_64.whl (1.6 MB)\n",
      "Requirement already satisfied: h5py>=2.9.0 in /Applications/anaconda3/lib/python3.8/site-packages (from tensorflow) (2.10.0)\n",
      "Collecting keras<2.11,>=2.10.0\n",
      "  Downloading keras-2.10.0-py2.py3-none-any.whl (1.7 MB)\n",
      "\u001b[K     |████████████████████████████████| 1.7 MB 25.4 MB/s eta 0:00:01\n",
      "\u001b[?25hRequirement already satisfied: wheel<1.0,>=0.23.0 in /Applications/anaconda3/lib/python3.8/site-packages (from astunparse>=1.6.0->tensorflow) (0.36.2)\n",
      "Requirement already satisfied: werkzeug>=1.0.1 in /Applications/anaconda3/lib/python3.8/site-packages (from tensorboard<2.11,>=2.10->tensorflow) (1.0.1)\n",
      "Requirement already satisfied: requests<3,>=2.21.0 in /Applications/anaconda3/lib/python3.8/site-packages (from tensorboard<2.11,>=2.10->tensorflow) (2.25.1)\n",
      "Collecting google-auth<3,>=1.6.3\n",
      "  Using cached google_auth-2.14.0-py2.py3-none-any.whl (175 kB)\n",
      "Collecting google-auth-oauthlib<0.5,>=0.4.1\n",
      "  Using cached google_auth_oauthlib-0.4.6-py2.py3-none-any.whl (18 kB)\n",
      "Collecting markdown>=2.6.8\n",
      "  Using cached Markdown-3.4.1-py3-none-any.whl (93 kB)\n",
      "Collecting tensorboard-data-server<0.7.0,>=0.6.0\n",
      "  Using cached tensorboard_data_server-0.6.1-py3-none-macosx_10_9_x86_64.whl (3.5 MB)\n",
      "Collecting tensorboard-plugin-wit>=1.6.0\n",
      "  Using cached tensorboard_plugin_wit-1.8.1-py3-none-any.whl (781 kB)\n",
      "Collecting rsa<5,>=3.1.4\n",
      "  Using cached rsa-4.9-py3-none-any.whl (34 kB)\n",
      "Collecting pyasn1-modules>=0.2.1\n",
      "  Using cached pyasn1_modules-0.2.8-py2.py3-none-any.whl (155 kB)\n",
      "Collecting cachetools<6.0,>=2.0.0\n",
      "  Using cached cachetools-5.2.0-py3-none-any.whl (9.3 kB)\n",
      "Collecting requests-oauthlib>=0.7.0\n",
      "  Using cached requests_oauthlib-1.3.1-py2.py3-none-any.whl (23 kB)\n",
      "Collecting importlib-metadata>=4.4\n",
      "  Using cached importlib_metadata-5.0.0-py3-none-any.whl (21 kB)\n",
      "Requirement already satisfied: zipp>=0.5 in /Applications/anaconda3/lib/python3.8/site-packages (from importlib-metadata>=4.4->markdown>=2.6.8->tensorboard<2.11,>=2.10->tensorflow) (3.4.1)\n",
      "Collecting pyasn1<0.5.0,>=0.4.6\n",
      "  Using cached pyasn1-0.4.8-py2.py3-none-any.whl (77 kB)\n",
      "Requirement already satisfied: urllib3<1.27,>=1.21.1 in /Applications/anaconda3/lib/python3.8/site-packages (from requests<3,>=2.21.0->tensorboard<2.11,>=2.10->tensorflow) (1.26.4)\n",
      "Requirement already satisfied: certifi>=2017.4.17 in /Applications/anaconda3/lib/python3.8/site-packages (from requests<3,>=2.21.0->tensorboard<2.11,>=2.10->tensorflow) (2020.12.5)\n",
      "Requirement already satisfied: chardet<5,>=3.0.2 in /Applications/anaconda3/lib/python3.8/site-packages (from requests<3,>=2.21.0->tensorboard<2.11,>=2.10->tensorflow) (4.0.0)\n",
      "Requirement already satisfied: idna<3,>=2.5 in /Applications/anaconda3/lib/python3.8/site-packages (from requests<3,>=2.21.0->tensorboard<2.11,>=2.10->tensorflow) (2.10)\n",
      "Collecting oauthlib>=3.0.0\n",
      "  Using cached oauthlib-3.2.2-py3-none-any.whl (151 kB)\n",
      "Requirement already satisfied: pyparsing>=2.0.2 in /Applications/anaconda3/lib/python3.8/site-packages (from packaging->tensorflow) (2.4.7)\n",
      "Installing collected packages: pyasn1, rsa, pyasn1-modules, oauthlib, cachetools, requests-oauthlib, importlib-metadata, google-auth, tensorboard-plugin-wit, tensorboard-data-server, protobuf, markdown, grpcio, google-auth-oauthlib, absl-py, termcolor, tensorflow-io-gcs-filesystem, tensorflow-estimator, tensorboard, opt-einsum, libclang, keras-preprocessing, keras, google-pasta, gast, flatbuffers, astunparse, tensorflow\n",
      "  Attempting uninstall: importlib-metadata\n",
      "    Found existing installation: importlib-metadata 3.10.0\n",
      "    Uninstalling importlib-metadata-3.10.0:\n",
      "      Successfully uninstalled importlib-metadata-3.10.0\n",
      "Successfully installed absl-py-1.3.0 astunparse-1.6.3 cachetools-5.2.0 flatbuffers-22.10.26 gast-0.4.0 google-auth-2.14.0 google-auth-oauthlib-0.4.6 google-pasta-0.2.0 grpcio-1.50.0 importlib-metadata-5.0.0 keras-2.10.0 keras-preprocessing-1.1.2 libclang-14.0.6 markdown-3.4.1 oauthlib-3.2.2 opt-einsum-3.3.0 protobuf-3.19.6 pyasn1-0.4.8 pyasn1-modules-0.2.8 requests-oauthlib-1.3.1 rsa-4.9 tensorboard-2.10.1 tensorboard-data-server-0.6.1 tensorboard-plugin-wit-1.8.1 tensorflow-2.10.0 tensorflow-estimator-2.10.0 tensorflow-io-gcs-filesystem-0.27.0 termcolor-2.1.0\n"
     ]
    }
   ],
   "source": [
    "import sys\n",
    "!$sys.executable -m pip install tensorflow ##Installing tensorflow"
   ]
  },
  {
   "cell_type": "code",
   "execution_count": 2,
   "id": "f990451b-199e-4733-9fdb-9254564482f7",
   "metadata": {},
   "outputs": [],
   "source": [
    "import numpy\n",
    "import tensorflow as tf\n",
    "from tensorflow import keras\n",
    "from tensorflow.keras import Sequential, layers, callbacks\n",
    "from tensorflow.keras.layers import Dense, LSTM, Dropout, GRU, Bidirectional\n",
    "import pandas as pd\n",
    "import numpy as np"
   ]
  },
  {
   "cell_type": "code",
   "execution_count": 3,
   "id": "dac92291-3580-469c-99b8-0169b0eb87a9",
   "metadata": {},
   "outputs": [],
   "source": [
    "tf.random.set_seed(1)"
   ]
  },
  {
   "cell_type": "code",
   "execution_count": 4,
   "id": "306515fd-5a03-4ee0-b905-8fc09076b816",
   "metadata": {},
   "outputs": [
    {
     "data": {
      "text/html": [
       "<div>\n",
       "<style scoped>\n",
       "    .dataframe tbody tr th:only-of-type {\n",
       "        vertical-align: middle;\n",
       "    }\n",
       "\n",
       "    .dataframe tbody tr th {\n",
       "        vertical-align: top;\n",
       "    }\n",
       "\n",
       "    .dataframe thead th {\n",
       "        text-align: right;\n",
       "    }\n",
       "</style>\n",
       "<table border=\"1\" class=\"dataframe\">\n",
       "  <thead>\n",
       "    <tr style=\"text-align: right;\">\n",
       "      <th></th>\n",
       "      <th>ChangeBitcoin</th>\n",
       "      <th>save.Value</th>\n",
       "      <th>CPI</th>\n",
       "      <th>FederalFundsRate</th>\n",
       "      <th>EquityMktUncertainty</th>\n",
       "      <th>EconomicPolicyUncertainty</th>\n",
       "      <th>CrudeOilPrice</th>\n",
       "      <th>FederalReserveLoans</th>\n",
       "      <th>EconomicPolicy</th>\n",
       "      <th>Index</th>\n",
       "      <th>Prices</th>\n",
       "      <th>InterestRates</th>\n",
       "    </tr>\n",
       "    <tr>\n",
       "      <th>Date</th>\n",
       "      <th></th>\n",
       "      <th></th>\n",
       "      <th></th>\n",
       "      <th></th>\n",
       "      <th></th>\n",
       "      <th></th>\n",
       "      <th></th>\n",
       "      <th></th>\n",
       "      <th></th>\n",
       "      <th></th>\n",
       "      <th></th>\n",
       "      <th></th>\n",
       "    </tr>\n",
       "  </thead>\n",
       "  <tbody>\n",
       "    <tr>\n",
       "      <th>2010-07-31</th>\n",
       "      <td>0.000000</td>\n",
       "      <td>6.4</td>\n",
       "      <td>217.923</td>\n",
       "      <td>0.16</td>\n",
       "      <td>50.61</td>\n",
       "      <td>84.82</td>\n",
       "      <td>20.74</td>\n",
       "      <td>49773</td>\n",
       "      <td>1.727273</td>\n",
       "      <td>67.8</td>\n",
       "      <td>2.686869</td>\n",
       "      <td>2.357143</td>\n",
       "    </tr>\n",
       "    <tr>\n",
       "      <th>2010-08-31</th>\n",
       "      <td>0.000000</td>\n",
       "      <td>6.5</td>\n",
       "      <td>218.275</td>\n",
       "      <td>0.10</td>\n",
       "      <td>125.02</td>\n",
       "      <td>81.91</td>\n",
       "      <td>24.42</td>\n",
       "      <td>47564</td>\n",
       "      <td>1.808081</td>\n",
       "      <td>68.9</td>\n",
       "      <td>2.680000</td>\n",
       "      <td>2.323232</td>\n",
       "    </tr>\n",
       "    <tr>\n",
       "      <th>2010-09-30</th>\n",
       "      <td>0.000000</td>\n",
       "      <td>6.5</td>\n",
       "      <td>219.035</td>\n",
       "      <td>0.09</td>\n",
       "      <td>104.46</td>\n",
       "      <td>75.96</td>\n",
       "      <td>26.27</td>\n",
       "      <td>46685</td>\n",
       "      <td>1.757576</td>\n",
       "      <td>68.2</td>\n",
       "      <td>2.646465</td>\n",
       "      <td>2.222222</td>\n",
       "    </tr>\n",
       "    <tr>\n",
       "      <th>2010-10-31</th>\n",
       "      <td>2.166667</td>\n",
       "      <td>6.3</td>\n",
       "      <td>219.590</td>\n",
       "      <td>0.10</td>\n",
       "      <td>18.75</td>\n",
       "      <td>71.40</td>\n",
       "      <td>27.02</td>\n",
       "      <td>45084</td>\n",
       "      <td>1.656566</td>\n",
       "      <td>67.7</td>\n",
       "      <td>2.676768</td>\n",
       "      <td>2.313131</td>\n",
       "    </tr>\n",
       "    <tr>\n",
       "      <th>2010-11-30</th>\n",
       "      <td>0.105263</td>\n",
       "      <td>6.1</td>\n",
       "      <td>220.472</td>\n",
       "      <td>0.07</td>\n",
       "      <td>5.63</td>\n",
       "      <td>128.68</td>\n",
       "      <td>25.52</td>\n",
       "      <td>23259</td>\n",
       "      <td>1.690000</td>\n",
       "      <td>71.6</td>\n",
       "      <td>2.777778</td>\n",
       "      <td>2.252525</td>\n",
       "    </tr>\n",
       "  </tbody>\n",
       "</table>\n",
       "</div>"
      ],
      "text/plain": [
       "            ChangeBitcoin  save.Value      CPI  FederalFundsRate  \\\n",
       "Date                                                               \n",
       "2010-07-31       0.000000         6.4  217.923              0.16   \n",
       "2010-08-31       0.000000         6.5  218.275              0.10   \n",
       "2010-09-30       0.000000         6.5  219.035              0.09   \n",
       "2010-10-31       2.166667         6.3  219.590              0.10   \n",
       "2010-11-30       0.105263         6.1  220.472              0.07   \n",
       "\n",
       "            EquityMktUncertainty  EconomicPolicyUncertainty  CrudeOilPrice  \\\n",
       "Date                                                                         \n",
       "2010-07-31                 50.61                      84.82          20.74   \n",
       "2010-08-31                125.02                      81.91          24.42   \n",
       "2010-09-30                104.46                      75.96          26.27   \n",
       "2010-10-31                 18.75                      71.40          27.02   \n",
       "2010-11-30                  5.63                     128.68          25.52   \n",
       "\n",
       "            FederalReserveLoans  EconomicPolicy  Index    Prices  \\\n",
       "Date                                                               \n",
       "2010-07-31                49773        1.727273   67.8  2.686869   \n",
       "2010-08-31                47564        1.808081   68.9  2.680000   \n",
       "2010-09-30                46685        1.757576   68.2  2.646465   \n",
       "2010-10-31                45084        1.656566   67.7  2.676768   \n",
       "2010-11-30                23259        1.690000   71.6  2.777778   \n",
       "\n",
       "            InterestRates  \n",
       "Date                       \n",
       "2010-07-31       2.357143  \n",
       "2010-08-31       2.323232  \n",
       "2010-09-30       2.222222  \n",
       "2010-10-31       2.313131  \n",
       "2010-11-30       2.252525  "
      ]
     },
     "execution_count": 4,
     "metadata": {},
     "output_type": "execute_result"
    }
   ],
   "source": [
    "file = 'Bitcoinpredictive.csv'\n",
    "raw_data = pd.read_csv(file, parse_dates = ['Date'], index_col = \"Date\")\n",
    "\n",
    "df = raw_data.copy()\n",
    "df = df.iloc[::-1]\n",
    "df.head()"
   ]
  },
  {
   "cell_type": "code",
   "execution_count": 13,
   "id": "375159be-e9e8-445d-b9b3-885f7f721c4b",
   "metadata": {},
   "outputs": [
    {
     "data": {
      "text/plain": [
       "<AxesSubplot:xlabel='Date'>"
      ]
     },
     "execution_count": 13,
     "metadata": {},
     "output_type": "execute_result"
    },
    {
     "data": {
      "image/png": "[encoded data removed]",
      "text/plain": [
       "<Figure size 432x288 with 1 Axes>"
      ]
     },
     "metadata": {
      "needs_background": "light"
     },
     "output_type": "display_data"
    }
   ],
   "source": [
    "Bitcoin = df['ChangeBitcoin']\n",
    "Bitcoin.plot()"
   ]
  },
  {
   "cell_type": "code",
   "execution_count": 19,
   "id": "909207a9-ff17-45de-9655-0f2fbc1c871d",
   "metadata": {},
   "outputs": [],
   "source": [
    "Bitcoin.to_csv('BitcoinAutocorr.csv')"
   ]
  },
  {
   "cell_type": "code",
   "execution_count": 18,
   "id": "83217a0d-eb95-4b84-b926-205522166352",
   "metadata": {},
   "outputs": [
    {
     "data": {
      "image/png": "[encoded data removed]",
      "text/plain": [
       "<Figure size 432x288 with 1 Axes>"
      ]
     },
     "metadata": {
      "needs_background": "light"
     },
     "output_type": "display_data"
    }
   ],
   "source": [
    "from statsmodels.graphics.tsaplots import plot_acf\n",
    "import matplotlib.pyplot as plt\n",
    "\n",
    "plot_acf(Bitcoin, lags= 50)\n",
    "plt.show()"
   ]
  },
  {
   "cell_type": "code",
   "execution_count": 541,
   "id": "a89cb6e7-9213-4abf-84c4-b395870536a0",
   "metadata": {},
   "outputs": [],
   "source": [
    "def dftoXY(df, window_size=5):\n",
    "    df_as_np = df.to_numpy()\n",
    "    x = []\n",
    "    y = []\n",
    "    for i in range(len(df_as_np)-window_size):\n",
    "        row = [r for r in df_as_np[i:i+window_size]]\n",
    "        x.append(row)\n",
    "        label = df_as_np[i+window_size][0]\n",
    "        y.append(label)\n",
    "    return np.array(x), np.array(y)"
   ]
  },
  {
   "cell_type": "code",
   "execution_count": 542,
   "id": "40897b04-0653-42b4-b555-5c4fa3288cdb",
   "metadata": {},
   "outputs": [
    {
     "data": {
      "text/plain": [
       "((134, 4, 1, 12), (134,))"
      ]
     },
     "execution_count": 542,
     "metadata": {},
     "output_type": "execute_result"
    }
   ],
   "source": [
    "x,y = dfToXY(df, 4)\n",
    "x.shape, y.shape"
   ]
  },
  {
   "cell_type": "code",
   "execution_count": 543,
   "id": "19dd9b76-d28d-4dbd-ba36-1eb660a96cd3",
   "metadata": {},
   "outputs": [
    {
     "data": {
      "text/plain": [
       "(134, 4, 12)"
      ]
     },
     "execution_count": 543,
     "metadata": {},
     "output_type": "execute_result"
    }
   ],
   "source": [
    "x = np.squeeze(x) #getting rid of the third dimension (=value 1) from x array\n",
    "x.shape"
   ]
  },
  {
   "cell_type": "code",
   "execution_count": 599,
   "id": "821ba797-3219-4f1a-b836-4e87ae74684a",
   "metadata": {},
   "outputs": [
    {
     "data": {
      "text/plain": [
       "((110, 4, 12), (110,), (6, 4, 12), (6,), (18, 4, 12), (18,))"
      ]
     },
     "execution_count": 599,
     "metadata": {},
     "output_type": "execute_result"
    }
   ],
   "source": [
    "trainSize = int(len(df)*0.80)\n",
    "valSize = int(len(df)*.05)\n",
    "xTrain, yTrain = x[:trainSize], y[:trainSize]\n",
    "xVal, yVal = x[trainSize:trainSize+valSize], y[trainSize:trainSize+valSize]\n",
    "xTest, yTest = x[trainSize+valSize:], y[trainSize+valSize:]\n",
    "xTrain.shape, yTrain.shape, xVal.shape,yVal.shape,xTest.shape, yTest.shape"
   ]
  },
  {
   "cell_type": "code",
   "execution_count": 600,
   "id": "6688a87b-0451-4418-9839-4369dbbcf4b0",
   "metadata": {},
   "outputs": [],
   "source": [
    "BitTrainMean = np.mean(xTrain[:, :, 0])\n",
    "BitTrainStd = np.std(xTrain[:, :, 0])\n",
    "\n",
    "#print(BitTrainMean)\n",
    "#print(BitTrainStd)                   \n",
    "\n",
    "def preprocess(x):\n",
    "    x[:, :, 0] = (x[:, :, 0] - BitTrainMean) / BitTrainStd\n",
    "    return x"
   ]
  },
  {
   "cell_type": "code",
   "execution_count": 601,
   "id": "24e00ee2-6dd1-48c1-93d4-a553a3494bcf",
   "metadata": {},
   "outputs": [
    {
     "data": {
      "text/plain": [
       "array([[[-5.51873150e-01,  7.30000000e+00,  2.57305000e+02,\n",
       "          5.00000000e-02,  2.97410000e+02,  4.40070000e+02,\n",
       "          1.10040000e+02,  4.00000000e+01,  2.01010101e+00,\n",
       "          9.32000000e+01,  2.79797980e+00,  2.07142857e+00],\n",
       "        [-1.40323650e-01,  7.40000000e+00,  2.57788000e+02,\n",
       "          5.00000000e-02,  5.76880000e+02,  5.57190000e+02,\n",
       "          1.01330000e+02,  1.30000000e+01,  2.05102041e+00,\n",
       "          9.55000000e+01,  2.78787879e+00,  2.19191919e+00],\n",
       "        [-5.78960217e-01,  7.50000000e+00,  2.58263000e+02,\n",
       "          8.00000000e-02,  2.33010000e+02,  2.92370000e+02,\n",
       "          9.62900000e+01,  3.40000000e+01,  2.04081633e+00,\n",
       "          9.68000000e+01,  2.80808081e+00,  2.18367347e+00],\n",
       "        [-4.36981800e-01,  7.30000000e+00,  2.58682000e+02,\n",
       "          1.00000000e-01,  8.93500000e+01,  3.84080000e+02,\n",
       "          9.71900000e+01,  1.30000000e+01,  2.09090909e+00,\n",
       "          9.93000000e+01,  2.79797980e+00,  2.23711340e+00]],\n",
       "\n",
       "       [[-1.40323650e-01,  7.40000000e+00,  2.57788000e+02,\n",
       "          5.00000000e-02,  5.76880000e+02,  5.57190000e+02,\n",
       "          1.01330000e+02,  1.30000000e+01,  2.05102041e+00,\n",
       "          9.55000000e+01,  2.78787879e+00,  2.19191919e+00],\n",
       "        [-5.78960217e-01,  7.50000000e+00,  2.58263000e+02,\n",
       "          8.00000000e-02,  2.33010000e+02,  2.92370000e+02,\n",
       "          9.62900000e+01,  3.40000000e+01,  2.04081633e+00,\n",
       "          9.68000000e+01,  2.80808081e+00,  2.18367347e+00],\n",
       "        [-4.36981800e-01,  7.30000000e+00,  2.58682000e+02,\n",
       "          1.00000000e-01,  8.93500000e+01,  3.84080000e+02,\n",
       "          9.71900000e+01,  1.30000000e+01,  2.09090909e+00,\n",
       "          9.93000000e+01,  2.79797980e+00,  2.23711340e+00],\n",
       "        [ 1.64249742e-01,  7.80000000e+00,  2.59007000e+02,\n",
       "          9.00000000e-02,  8.87900000e+01,  1.69100000e+02,\n",
       "          8.63300000e+01,  1.09119000e+05,  2.07291667e+00,\n",
       "          9.98000000e+01,  2.79000000e+00,  2.27272727e+00]],\n",
       "\n",
       "       [[-5.78960217e-01,  7.50000000e+00,  2.58263000e+02,\n",
       "          8.00000000e-02,  2.33010000e+02,  2.92370000e+02,\n",
       "          9.62900000e+01,  3.40000000e+01,  2.04081633e+00,\n",
       "          9.68000000e+01,  2.80808081e+00,  2.18367347e+00],\n",
       "        [-4.36981800e-01,  7.30000000e+00,  2.58682000e+02,\n",
       "          1.00000000e-01,  8.93500000e+01,  3.84080000e+02,\n",
       "          9.71900000e+01,  1.30000000e+01,  2.09090909e+00,\n",
       "          9.93000000e+01,  2.79797980e+00,  2.23711340e+00],\n",
       "        [ 1.64249742e-01,  7.80000000e+00,  2.59007000e+02,\n",
       "          9.00000000e-02,  8.87900000e+01,  1.69100000e+02,\n",
       "          8.63300000e+01,  1.09119000e+05,  2.07291667e+00,\n",
       "          9.98000000e+01,  2.79000000e+00,  2.27272727e+00],\n",
       "        [-4.45670515e-01,  8.30000000e+00,  2.58165000e+02,\n",
       "          9.00000000e-02,  1.46850000e+02,  2.07770000e+02,\n",
       "          8.56100000e+01,  1.23028000e+05,  2.14141414e+00,\n",
       "          1.01000000e+02,  2.79000000e+00,  2.32323232e+00]],\n",
       "\n",
       "       [[-4.36981800e-01,  7.30000000e+00,  2.58682000e+02,\n",
       "          1.00000000e-01,  8.93500000e+01,  3.84080000e+02,\n",
       "          9.71900000e+01,  1.30000000e+01,  2.09090909e+00,\n",
       "          9.93000000e+01,  2.79797980e+00,  2.23711340e+00],\n",
       "        [ 1.64249742e-01,  7.80000000e+00,  2.59007000e+02,\n",
       "          9.00000000e-02,  8.87900000e+01,  1.69100000e+02,\n",
       "          8.63300000e+01,  1.09119000e+05,  2.07291667e+00,\n",
       "          9.98000000e+01,  2.79000000e+00,  2.27272727e+00],\n",
       "        [-4.45670515e-01,  8.30000000e+00,  2.58165000e+02,\n",
       "          9.00000000e-02,  1.46850000e+02,  2.07770000e+02,\n",
       "          8.56100000e+01,  1.23028000e+05,  2.14141414e+00,\n",
       "          1.01000000e+02,  2.79000000e+00,  2.32323232e+00],\n",
       "        [-7.19280414e-01,  1.31000000e+01,  2.56094000e+02,\n",
       "          9.00000000e-02,  3.40990000e+02,  1.86360000e+02,\n",
       "          8.64100000e+01,  1.06896000e+05,  2.15151515e+00,\n",
       "          8.91000000e+01,  2.64646465e+00,  1.97959184e+00]],\n",
       "\n",
       "       [[ 1.64249742e-01,  7.80000000e+00,  2.59007000e+02,\n",
       "          9.00000000e-02,  8.87900000e+01,  1.69100000e+02,\n",
       "          8.63300000e+01,  1.09119000e+05,  2.07291667e+00,\n",
       "          9.98000000e+01,  2.79000000e+00,  2.27272727e+00],\n",
       "        [-4.45670515e-01,  8.30000000e+00,  2.58165000e+02,\n",
       "          9.00000000e-02,  1.46850000e+02,  2.07770000e+02,\n",
       "          8.56100000e+01,  1.23028000e+05,  2.14141414e+00,\n",
       "          1.01000000e+02,  2.79000000e+00,  2.32323232e+00],\n",
       "        [-7.19280414e-01,  1.31000000e+01,  2.56094000e+02,\n",
       "          9.00000000e-02,  3.40990000e+02,  1.86360000e+02,\n",
       "          8.64100000e+01,  1.06896000e+05,  2.15151515e+00,\n",
       "          8.91000000e+01,  2.64646465e+00,  1.97959184e+00],\n",
       "        [ 2.51729117e-01,  3.38000000e+01,  2.55944000e+02,\n",
       "          9.00000000e-02,  1.61980000e+02,  1.56150000e+02,\n",
       "          9.72100000e+01,  9.53600000e+04,  2.00000000e+00,\n",
       "          7.18000000e+01,  2.42424242e+00,  2.01010101e+00]],\n",
       "\n",
       "       [[-4.45670515e-01,  8.30000000e+00,  2.58165000e+02,\n",
       "          9.00000000e-02,  1.46850000e+02,  2.07770000e+02,\n",
       "          8.56100000e+01,  1.23028000e+05,  2.14141414e+00,\n",
       "          1.01000000e+02,  2.79000000e+00,  2.32323232e+00],\n",
       "        [-7.19280414e-01,  1.31000000e+01,  2.56094000e+02,\n",
       "          9.00000000e-02,  3.40990000e+02,  1.86360000e+02,\n",
       "          8.64100000e+01,  1.06896000e+05,  2.15151515e+00,\n",
       "          8.91000000e+01,  2.64646465e+00,  1.97959184e+00],\n",
       "        [ 2.51729117e-01,  3.38000000e+01,  2.55944000e+02,\n",
       "          9.00000000e-02,  1.61980000e+02,  1.56150000e+02,\n",
       "          9.72100000e+01,  9.53600000e+04,  2.00000000e+00,\n",
       "          7.18000000e+01,  2.42424242e+00,  2.01010101e+00],\n",
       "        [-2.01009853e-01,  2.48000000e+01,  2.57217000e+02,\n",
       "          9.00000000e-02,  4.20900000e+01,  3.07120000e+02,\n",
       "          9.85700000e+01,  9.05230000e+04,  1.90625000e+00,\n",
       "          7.23000000e+01,  2.58585859e+00,  2.02040816e+00]]])"
      ]
     },
     "execution_count": 601,
     "metadata": {},
     "output_type": "execute_result"
    }
   ],
   "source": [
    "preprocess(xTrain)\n",
    "preprocess(xTest)\n",
    "preprocess(xVal)"
   ]
  },
  {
   "cell_type": "code",
   "execution_count": 347,
   "id": "972e4550-9f6d-43e9-b94d-06136af8912e",
   "metadata": {},
   "outputs": [],
   "source": [
    "from tensorflow.keras.models import Sequential\n",
    "\n",
    "from tensorflow.keras.layers import *\n",
    "from tensorflow.keras.callbacks import ModelCheckpoint\n",
    "from tensorflow.keras.losses import MeanSquaredError\n",
    "from tensorflow.keras.metrics import RootMeanSquaredError\n",
    "from tensorflow.keras.optimizers import Adam"
   ]
  },
  {
   "cell_type": "code",
   "execution_count": 420,
   "id": "28673c71-0ff9-4c27-b49a-4cc9d9228b04",
   "metadata": {},
   "outputs": [
    {
     "name": "stdout",
     "output_type": "stream",
     "text": [
      "Model: \"sequential_43\"\n",
      "_________________________________________________________________\n",
      " Layer (type)                Output Shape              Param #   \n",
      "=================================================================\n",
      " lstm_53 (LSTM)              (None, 100)               45200     \n",
      "                                                                 \n",
      " dense_55 (Dense)            (None, 8)                 808       \n",
      "                                                                 \n",
      " dense_56 (Dense)            (None, 1)                 9         \n",
      "                                                                 \n",
      "=================================================================\n",
      "Total params: 46,017\n",
      "Trainable params: 46,017\n",
      "Non-trainable params: 0\n",
      "_________________________________________________________________\n"
     ]
    }
   ],
   "source": [
    "model1 = Sequential()\n",
    "model1.add(InputLayer((4, 12)))\n",
    "model1.add(LSTM(100))\n",
    "model1.add(Dense(8, 'relu'))\n",
    "model1.add(Dense(1, 'linear'))\n",
    "\n",
    "model1.summary()"
   ]
  },
  {
   "cell_type": "code",
   "execution_count": 421,
   "id": "f2a71a97-a1b8-49fe-ad8b-2b7d982114ff",
   "metadata": {},
   "outputs": [],
   "source": [
    "cp = ModelCheckpoint(\"model1/\", save_best_only = True, monitor = \"loss\")\n",
    "model1.compile(loss=MeanSquaredError(),optimizer=Adam(learning_rate = 0.0001), metrics=[RootMeanSquaredError()])"
   ]
  },
  {
   "cell_type": "code",
   "execution_count": 422,
   "id": "6617ada7-daf1-4ef4-abc9-39cd498101c0",
   "metadata": {},
   "outputs": [
    {
     "name": "stdout",
     "output_type": "stream",
     "text": [
      "Epoch 1/10\n",
      "1/4 [======>.......................] - ETA: 13s - loss: 0.5296 - root_mean_squared_error: 0.7278"
     ]
    },
    {
     "name": "stderr",
     "output_type": "stream",
     "text": [
      "WARNING:absl:Found untraced functions such as lstm_cell_53_layer_call_fn, lstm_cell_53_layer_call_and_return_conditional_losses while saving (showing 2 of 2). These functions will not be directly callable after loading.\n"
     ]
    },
    {
     "name": "stdout",
     "output_type": "stream",
     "text": [
      "INFO:tensorflow:Assets written to: model1/assets\n"
     ]
    },
    {
     "name": "stderr",
     "output_type": "stream",
     "text": [
      "INFO:tensorflow:Assets written to: model1/assets\n"
     ]
    },
    {
     "name": "stdout",
     "output_type": "stream",
     "text": [
      "4/4 [==============================] - 13s 3s/step - loss: 1.0020 - root_mean_squared_error: 1.0010 - val_loss: 0.6089 - val_root_mean_squared_error: 0.7803\n",
      "Epoch 2/10\n",
      "1/4 [======>.......................] - ETA: 0s - loss: 1.3206 - root_mean_squared_error: 1.1492"
     ]
    },
    {
     "name": "stderr",
     "output_type": "stream",
     "text": [
      "WARNING:absl:Found untraced functions such as lstm_cell_53_layer_call_fn, lstm_cell_53_layer_call_and_return_conditional_losses while saving (showing 2 of 2). These functions will not be directly callable after loading.\n"
     ]
    },
    {
     "name": "stdout",
     "output_type": "stream",
     "text": [
      "INFO:tensorflow:Assets written to: model1/assets\n"
     ]
    },
    {
     "name": "stderr",
     "output_type": "stream",
     "text": [
      "INFO:tensorflow:Assets written to: model1/assets\n"
     ]
    },
    {
     "name": "stdout",
     "output_type": "stream",
     "text": [
      "4/4 [==============================] - 6s 2s/step - loss: 0.9371 - root_mean_squared_error: 0.9680 - val_loss: 0.6158 - val_root_mean_squared_error: 0.7847\n",
      "Epoch 3/10\n",
      "1/4 [======>.......................] - ETA: 0s - loss: 0.8258 - root_mean_squared_error: 0.9087"
     ]
    },
    {
     "name": "stderr",
     "output_type": "stream",
     "text": [
      "WARNING:absl:Found untraced functions such as lstm_cell_53_layer_call_fn, lstm_cell_53_layer_call_and_return_conditional_losses while saving (showing 2 of 2). These functions will not be directly callable after loading.\n"
     ]
    },
    {
     "name": "stdout",
     "output_type": "stream",
     "text": [
      "INFO:tensorflow:Assets written to: model1/assets\n"
     ]
    },
    {
     "name": "stderr",
     "output_type": "stream",
     "text": [
      "INFO:tensorflow:Assets written to: model1/assets\n"
     ]
    },
    {
     "name": "stdout",
     "output_type": "stream",
     "text": [
      "4/4 [==============================] - 6s 2s/step - loss: 0.8779 - root_mean_squared_error: 0.9370 - val_loss: 0.5982 - val_root_mean_squared_error: 0.7734\n",
      "Epoch 4/10\n",
      "1/4 [======>.......................] - ETA: 0s - loss: 0.6840 - root_mean_squared_error: 0.8270"
     ]
    },
    {
     "name": "stderr",
     "output_type": "stream",
     "text": [
      "WARNING:absl:Found untraced functions such as lstm_cell_53_layer_call_fn, lstm_cell_53_layer_call_and_return_conditional_losses while saving (showing 2 of 2). These functions will not be directly callable after loading.\n"
     ]
    },
    {
     "name": "stdout",
     "output_type": "stream",
     "text": [
      "INFO:tensorflow:Assets written to: model1/assets\n"
     ]
    },
    {
     "name": "stderr",
     "output_type": "stream",
     "text": [
      "INFO:tensorflow:Assets written to: model1/assets\n"
     ]
    },
    {
     "name": "stdout",
     "output_type": "stream",
     "text": [
      "4/4 [==============================] - 6s 2s/step - loss: 0.8277 - root_mean_squared_error: 0.9098 - val_loss: 0.5772 - val_root_mean_squared_error: 0.7597\n",
      "Epoch 5/10\n",
      "1/4 [======>.......................] - ETA: 0s - loss: 0.4018 - root_mean_squared_error: 0.6339"
     ]
    },
    {
     "name": "stderr",
     "output_type": "stream",
     "text": [
      "WARNING:absl:Found untraced functions such as lstm_cell_53_layer_call_fn, lstm_cell_53_layer_call_and_return_conditional_losses while saving (showing 2 of 2). These functions will not be directly callable after loading.\n"
     ]
    },
    {
     "name": "stdout",
     "output_type": "stream",
     "text": [
      "INFO:tensorflow:Assets written to: model1/assets\n"
     ]
    },
    {
     "name": "stderr",
     "output_type": "stream",
     "text": [
      "INFO:tensorflow:Assets written to: model1/assets\n"
     ]
    },
    {
     "name": "stdout",
     "output_type": "stream",
     "text": [
      "4/4 [==============================] - 6s 2s/step - loss: 0.7892 - root_mean_squared_error: 0.8883 - val_loss: 0.5584 - val_root_mean_squared_error: 0.7472\n",
      "Epoch 6/10\n",
      "1/4 [======>.......................] - ETA: 0s - loss: 0.2193 - root_mean_squared_error: 0.4683"
     ]
    },
    {
     "name": "stderr",
     "output_type": "stream",
     "text": [
      "WARNING:absl:Found untraced functions such as lstm_cell_53_layer_call_fn, lstm_cell_53_layer_call_and_return_conditional_losses while saving (showing 2 of 2). These functions will not be directly callable after loading.\n"
     ]
    },
    {
     "name": "stdout",
     "output_type": "stream",
     "text": [
      "INFO:tensorflow:Assets written to: model1/assets\n"
     ]
    },
    {
     "name": "stderr",
     "output_type": "stream",
     "text": [
      "INFO:tensorflow:Assets written to: model1/assets\n"
     ]
    },
    {
     "name": "stdout",
     "output_type": "stream",
     "text": [
      "4/4 [==============================] - 6s 2s/step - loss: 0.7572 - root_mean_squared_error: 0.8701 - val_loss: 0.5401 - val_root_mean_squared_error: 0.7349\n",
      "Epoch 7/10\n",
      "4/4 [==============================] - ETA: 0s - loss: 0.7320 - root_mean_squared_error: 0.8556"
     ]
    },
    {
     "name": "stderr",
     "output_type": "stream",
     "text": [
      "WARNING:absl:Found untraced functions such as lstm_cell_53_layer_call_fn, lstm_cell_53_layer_call_and_return_conditional_losses while saving (showing 2 of 2). These functions will not be directly callable after loading.\n"
     ]
    },
    {
     "name": "stdout",
     "output_type": "stream",
     "text": [
      "INFO:tensorflow:Assets written to: model1/assets\n"
     ]
    },
    {
     "name": "stderr",
     "output_type": "stream",
     "text": [
      "INFO:tensorflow:Assets written to: model1/assets\n"
     ]
    },
    {
     "name": "stdout",
     "output_type": "stream",
     "text": [
      "4/4 [==============================] - 6s 2s/step - loss: 0.7320 - root_mean_squared_error: 0.8556 - val_loss: 0.5219 - val_root_mean_squared_error: 0.7224\n",
      "Epoch 8/10\n",
      "1/4 [======>.......................] - ETA: 0s - loss: 1.1947 - root_mean_squared_error: 1.0930"
     ]
    },
    {
     "name": "stderr",
     "output_type": "stream",
     "text": [
      "WARNING:absl:Found untraced functions such as lstm_cell_53_layer_call_fn, lstm_cell_53_layer_call_and_return_conditional_losses while saving (showing 2 of 2). These functions will not be directly callable after loading.\n"
     ]
    },
    {
     "name": "stdout",
     "output_type": "stream",
     "text": [
      "INFO:tensorflow:Assets written to: model1/assets\n"
     ]
    },
    {
     "name": "stderr",
     "output_type": "stream",
     "text": [
      "INFO:tensorflow:Assets written to: model1/assets\n"
     ]
    },
    {
     "name": "stdout",
     "output_type": "stream",
     "text": [
      "4/4 [==============================] - 6s 2s/step - loss: 0.7068 - root_mean_squared_error: 0.8407 - val_loss: 0.5049 - val_root_mean_squared_error: 0.7106\n",
      "Epoch 9/10\n",
      "1/4 [======>.......................] - ETA: 0s - loss: 0.3362 - root_mean_squared_error: 0.5798"
     ]
    },
    {
     "name": "stderr",
     "output_type": "stream",
     "text": [
      "WARNING:absl:Found untraced functions such as lstm_cell_53_layer_call_fn, lstm_cell_53_layer_call_and_return_conditional_losses while saving (showing 2 of 2). These functions will not be directly callable after loading.\n"
     ]
    },
    {
     "name": "stdout",
     "output_type": "stream",
     "text": [
      "INFO:tensorflow:Assets written to: model1/assets\n"
     ]
    },
    {
     "name": "stderr",
     "output_type": "stream",
     "text": [
      "INFO:tensorflow:Assets written to: model1/assets\n"
     ]
    },
    {
     "name": "stdout",
     "output_type": "stream",
     "text": [
      "4/4 [==============================] - 7s 2s/step - loss: 0.6868 - root_mean_squared_error: 0.8287 - val_loss: 0.4889 - val_root_mean_squared_error: 0.6992\n",
      "Epoch 10/10\n",
      "3/4 [=====================>........] - ETA: 0s - loss: 0.6924 - root_mean_squared_error: 0.8321"
     ]
    },
    {
     "name": "stderr",
     "output_type": "stream",
     "text": [
      "WARNING:absl:Found untraced functions such as lstm_cell_53_layer_call_fn, lstm_cell_53_layer_call_and_return_conditional_losses while saving (showing 2 of 2). These functions will not be directly callable after loading.\n"
     ]
    },
    {
     "name": "stdout",
     "output_type": "stream",
     "text": [
      "INFO:tensorflow:Assets written to: model1/assets\n"
     ]
    },
    {
     "name": "stderr",
     "output_type": "stream",
     "text": [
      "INFO:tensorflow:Assets written to: model1/assets\n"
     ]
    },
    {
     "name": "stdout",
     "output_type": "stream",
     "text": [
      "4/4 [==============================] - 7s 2s/step - loss: 0.6676 - root_mean_squared_error: 0.8171 - val_loss: 0.4731 - val_root_mean_squared_error: 0.6878\n"
     ]
    },
    {
     "data": {
      "text/plain": [
       "<keras.callbacks.History at 0x7f7b0dead3a0>"
      ]
     },
     "execution_count": 422,
     "metadata": {},
     "output_type": "execute_result"
    }
   ],
   "source": [
    "model1.fit(xTrain,yTrain, validation_data = (xVal,yVal), epochs = 10, callbacks =[cp])"
   ]
  },
  {
   "cell_type": "code",
   "execution_count": 423,
   "id": "9a7867ca-549a-439f-927b-879de678a5d0",
   "metadata": {},
   "outputs": [
    {
     "name": "stdout",
     "output_type": "stream",
     "text": [
      "4/4 [==============================] - 1s 3ms/step\n"
     ]
    },
    {
     "data": {
      "text/html": [
       "<div>\n",
       "<style scoped>\n",
       "    .dataframe tbody tr th:only-of-type {\n",
       "        vertical-align: middle;\n",
       "    }\n",
       "\n",
       "    .dataframe tbody tr th {\n",
       "        vertical-align: top;\n",
       "    }\n",
       "\n",
       "    .dataframe thead th {\n",
       "        text-align: right;\n",
       "    }\n",
       "</style>\n",
       "<table border=\"1\" class=\"dataframe\">\n",
       "  <thead>\n",
       "    <tr style=\"text-align: right;\">\n",
       "      <th></th>\n",
       "      <th>Train Predictions</th>\n",
       "      <th>Actuals</th>\n",
       "    </tr>\n",
       "  </thead>\n",
       "  <tbody>\n",
       "    <tr>\n",
       "      <th>0</th>\n",
       "      <td>-0.657238</td>\n",
       "      <td>0.105263</td>\n",
       "    </tr>\n",
       "    <tr>\n",
       "      <th>1</th>\n",
       "      <td>-0.657238</td>\n",
       "      <td>0.428571</td>\n",
       "    </tr>\n",
       "    <tr>\n",
       "      <th>2</th>\n",
       "      <td>-0.657238</td>\n",
       "      <td>0.733333</td>\n",
       "    </tr>\n",
       "    <tr>\n",
       "      <th>3</th>\n",
       "      <td>-0.657238</td>\n",
       "      <td>0.653846</td>\n",
       "    </tr>\n",
       "    <tr>\n",
       "      <th>4</th>\n",
       "      <td>-0.657238</td>\n",
       "      <td>-0.093023</td>\n",
       "    </tr>\n",
       "    <tr>\n",
       "      <th>...</th>\n",
       "      <td>...</td>\n",
       "      <td>...</td>\n",
       "    </tr>\n",
       "    <tr>\n",
       "      <th>105</th>\n",
       "      <td>-0.011504</td>\n",
       "      <td>-0.039937</td>\n",
       "    </tr>\n",
       "    <tr>\n",
       "      <th>106</th>\n",
       "      <td>-0.235943</td>\n",
       "      <td>-0.143908</td>\n",
       "    </tr>\n",
       "    <tr>\n",
       "      <th>107</th>\n",
       "      <td>-0.263468</td>\n",
       "      <td>0.115099</td>\n",
       "    </tr>\n",
       "    <tr>\n",
       "      <th>108</th>\n",
       "      <td>-0.305721</td>\n",
       "      <td>-0.160955</td>\n",
       "    </tr>\n",
       "    <tr>\n",
       "      <th>109</th>\n",
       "      <td>-0.563271</td>\n",
       "      <td>-0.071601</td>\n",
       "    </tr>\n",
       "  </tbody>\n",
       "</table>\n",
       "<p>110 rows × 2 columns</p>\n",
       "</div>"
      ],
      "text/plain": [
       "     Train Predictions   Actuals\n",
       "0            -0.657238  0.105263\n",
       "1            -0.657238  0.428571\n",
       "2            -0.657238  0.733333\n",
       "3            -0.657238  0.653846\n",
       "4            -0.657238 -0.093023\n",
       "..                 ...       ...\n",
       "105          -0.011504 -0.039937\n",
       "106          -0.235943 -0.143908\n",
       "107          -0.263468  0.115099\n",
       "108          -0.305721 -0.160955\n",
       "109          -0.563271 -0.071601\n",
       "\n",
       "[110 rows x 2 columns]"
      ]
     },
     "execution_count": 423,
     "metadata": {},
     "output_type": "execute_result"
    }
   ],
   "source": [
    "trainPredictions = model1.predict(xTrain).flatten()\n",
    "trainResults = pd.DataFrame(\n",
    "    data = {'Train Predictions':trainPredictions,\n",
    "    \"Actuals\":yTrain})\n",
    "trainResults"
   ]
  },
  {
   "cell_type": "code",
   "execution_count": 691,
   "id": "cc61a663-22c7-43ec-b2d0-4ce6c2285349",
   "metadata": {},
   "outputs": [
    {
     "data": {
      "text/plain": [
       "<matplotlib.legend.Legend at 0x7f7a79bc5f40>"
      ]
     },
     "execution_count": 691,
     "metadata": {},
     "output_type": "execute_result"
    },
    {
     "data": {
      "image/png": "[encoded data removed]",
      "text/plain": [
       "<Figure size 832x572 with 1 Axes>"
      ]
     },
     "metadata": {},
     "output_type": "display_data"
    }
   ],
   "source": [
    "import matplotlib.pyplot as plt\n",
    "plt.style.use('seaborn-talk')\n",
    "plt.plot(trainResults['Train Predictions'],label = \"Predictions\")\n",
    "plt.plot(trainResults['Actuals'],label = \"Actual Values\")\n",
    "\n",
    "location = 0 # For the best location\n",
    "legend_drawn_flag = True\n",
    "plt.legend([\"Predictions\", \"Actual\"], loc=0, frameon=legend_drawn_flag)"
   ]
  },
  {
   "cell_type": "code",
   "execution_count": 678,
   "id": "76a5c77c-574c-482d-b2c5-19bf17e7ae54",
   "metadata": {},
   "outputs": [
    {
     "data": {
      "text/plain": [
       "['Solarize_Light2',\n",
       " '_classic_test_patch',\n",
       " 'bmh',\n",
       " 'classic',\n",
       " 'dark_background',\n",
       " 'fast',\n",
       " 'fivethirtyeight',\n",
       " 'ggplot',\n",
       " 'grayscale',\n",
       " 'seaborn',\n",
       " 'seaborn-bright',\n",
       " 'seaborn-colorblind',\n",
       " 'seaborn-dark',\n",
       " 'seaborn-dark-palette',\n",
       " 'seaborn-darkgrid',\n",
       " 'seaborn-deep',\n",
       " 'seaborn-muted',\n",
       " 'seaborn-notebook',\n",
       " 'seaborn-paper',\n",
       " 'seaborn-pastel',\n",
       " 'seaborn-poster',\n",
       " 'seaborn-talk',\n",
       " 'seaborn-ticks',\n",
       " 'seaborn-white',\n",
       " 'seaborn-whitegrid',\n",
       " 'tableau-colorblind10']"
      ]
     },
     "execution_count": 678,
     "metadata": {},
     "output_type": "execute_result"
    }
   ],
   "source": [
    "plt.style.available"
   ]
  },
  {
   "cell_type": "code",
   "execution_count": 665,
   "id": "6b6412b0-1302-4e4d-960c-8c5304feae54",
   "metadata": {},
   "outputs": [
    {
     "name": "stdout",
     "output_type": "stream",
     "text": [
      "1/1 [==============================] - 1s 590ms/step\n"
     ]
    },
    {
     "data": {
      "text/html": [
       "<div>\n",
       "<style scoped>\n",
       "    .dataframe tbody tr th:only-of-type {\n",
       "        vertical-align: middle;\n",
       "    }\n",
       "\n",
       "    .dataframe tbody tr th {\n",
       "        vertical-align: top;\n",
       "    }\n",
       "\n",
       "    .dataframe thead th {\n",
       "        text-align: right;\n",
       "    }\n",
       "</style>\n",
       "<table border=\"1\" class=\"dataframe\">\n",
       "  <thead>\n",
       "    <tr style=\"text-align: right;\">\n",
       "      <th></th>\n",
       "      <th>Test Predictions</th>\n",
       "      <th>Actuals</th>\n",
       "    </tr>\n",
       "  </thead>\n",
       "  <tbody>\n",
       "    <tr>\n",
       "      <th>0</th>\n",
       "      <td>-0.657238</td>\n",
       "      <td>0.240354</td>\n",
       "    </tr>\n",
       "    <tr>\n",
       "      <th>1</th>\n",
       "      <td>-0.657238</td>\n",
       "      <td>0.029348</td>\n",
       "    </tr>\n",
       "    <tr>\n",
       "      <th>2</th>\n",
       "      <td>-0.657238</td>\n",
       "      <td>-0.083199</td>\n",
       "    </tr>\n",
       "    <tr>\n",
       "      <th>3</th>\n",
       "      <td>-0.657238</td>\n",
       "      <td>0.293562</td>\n",
       "    </tr>\n",
       "    <tr>\n",
       "      <th>4</th>\n",
       "      <td>-0.657238</td>\n",
       "      <td>0.399168</td>\n",
       "    </tr>\n",
       "    <tr>\n",
       "      <th>5</th>\n",
       "      <td>-0.657238</td>\n",
       "      <td>0.496303</td>\n",
       "    </tr>\n",
       "    <tr>\n",
       "      <th>6</th>\n",
       "      <td>-0.657238</td>\n",
       "      <td>0.124326</td>\n",
       "    </tr>\n",
       "    <tr>\n",
       "      <th>7</th>\n",
       "      <td>-0.657238</td>\n",
       "      <td>0.387929</td>\n",
       "    </tr>\n",
       "    <tr>\n",
       "      <th>8</th>\n",
       "      <td>-0.657238</td>\n",
       "      <td>0.303039</td>\n",
       "    </tr>\n",
       "    <tr>\n",
       "      <th>9</th>\n",
       "      <td>-0.657238</td>\n",
       "      <td>-0.036393</td>\n",
       "    </tr>\n",
       "    <tr>\n",
       "      <th>10</th>\n",
       "      <td>-0.657238</td>\n",
       "      <td>-0.354198</td>\n",
       "    </tr>\n",
       "    <tr>\n",
       "      <th>11</th>\n",
       "      <td>-0.657238</td>\n",
       "      <td>-0.057395</td>\n",
       "    </tr>\n",
       "    <tr>\n",
       "      <th>12</th>\n",
       "      <td>-0.657238</td>\n",
       "      <td>0.201105</td>\n",
       "    </tr>\n",
       "    <tr>\n",
       "      <th>13</th>\n",
       "      <td>-0.657238</td>\n",
       "      <td>0.131639</td>\n",
       "    </tr>\n",
       "    <tr>\n",
       "      <th>14</th>\n",
       "      <td>-0.657238</td>\n",
       "      <td>-0.075990</td>\n",
       "    </tr>\n",
       "    <tr>\n",
       "      <th>15</th>\n",
       "      <td>-0.657238</td>\n",
       "      <td>0.403801</td>\n",
       "    </tr>\n",
       "    <tr>\n",
       "      <th>16</th>\n",
       "      <td>-0.657238</td>\n",
       "      <td>-0.062932</td>\n",
       "    </tr>\n",
       "    <tr>\n",
       "      <th>17</th>\n",
       "      <td>-0.657238</td>\n",
       "      <td>-0.189102</td>\n",
       "    </tr>\n",
       "  </tbody>\n",
       "</table>\n",
       "</div>"
      ],
      "text/plain": [
       "    Test Predictions   Actuals\n",
       "0          -0.657238  0.240354\n",
       "1          -0.657238  0.029348\n",
       "2          -0.657238 -0.083199\n",
       "3          -0.657238  0.293562\n",
       "4          -0.657238  0.399168\n",
       "5          -0.657238  0.496303\n",
       "6          -0.657238  0.124326\n",
       "7          -0.657238  0.387929\n",
       "8          -0.657238  0.303039\n",
       "9          -0.657238 -0.036393\n",
       "10         -0.657238 -0.354198\n",
       "11         -0.657238 -0.057395\n",
       "12         -0.657238  0.201105\n",
       "13         -0.657238  0.131639\n",
       "14         -0.657238 -0.075990\n",
       "15         -0.657238  0.403801\n",
       "16         -0.657238 -0.062932\n",
       "17         -0.657238 -0.189102"
      ]
     },
     "execution_count": 665,
     "metadata": {},
     "output_type": "execute_result"
    }
   ],
   "source": [
    "testPredictions = model1.predict(xTest).flatten()\n",
    "testResults = pd.DataFrame(\n",
    "    data = {'Test Predictions':testPredictions,\n",
    "    \"Actuals\":yTest})\n",
    "testResults"
   ]
  },
  {
   "cell_type": "code",
   "execution_count": 692,
   "id": "139dd864-a8c4-481c-9d60-2ba510521d0f",
   "metadata": {},
   "outputs": [
    {
     "data": {
      "text/plain": [
       "<matplotlib.legend.Legend at 0x7f7a79e47c40>"
      ]
     },
     "execution_count": 692,
     "metadata": {},
     "output_type": "execute_result"
    },
    {
     "data": {
      "image/png": "[encoded data removed]",
      "text/plain": [
       "<Figure size 832x572 with 1 Axes>"
      ]
     },
     "metadata": {},
     "output_type": "display_data"
    }
   ],
   "source": [
    "plt.plot(testResults['Test Predictions'], \"-r\")\n",
    "plt.plot(testResults['Actuals'],\"-b\")\n",
    "\n",
    "\n",
    "location = 0 # For the best location\n",
    "legend_drawn_flag = True\n",
    "plt.legend([\"Predictions\", \"Actual\"], loc=0, frameon=legend_drawn_flag)"
   ]
  },
  {
   "cell_type": "code",
   "execution_count": 427,
   "id": "ef9b0b9c-23b1-492b-89e4-089636a9eb20",
   "metadata": {},
   "outputs": [
    {
     "data": {
      "text/plain": [
       "0.776758498837243"
      ]
     },
     "execution_count": 427,
     "metadata": {},
     "output_type": "execute_result"
    }
   ],
   "source": [
    "rmse = np.sqrt(np.mean(testPredictions - yTest)**2)\n",
    "rmse"
   ]
  },
  {
   "cell_type": "code",
   "execution_count": 428,
   "id": "32b9cb68-d5bd-492d-964c-f5a35338e9ac",
   "metadata": {},
   "outputs": [
    {
     "data": {
      "text/plain": [
       "0.776758498837243"
      ]
     },
     "execution_count": 428,
     "metadata": {},
     "output_type": "execute_result"
    }
   ],
   "source": [
    "mae = np.mean(abs(testPredictions - yTest))\n",
    "mae"
   ]
  },
  {
   "cell_type": "code",
   "execution_count": 653,
   "id": "9460487a-0633-40f4-8b5e-44698b72422b",
   "metadata": {},
   "outputs": [
    {
     "data": {
      "text/plain": [
       "0.4272961702657904"
      ]
     },
     "execution_count": 653,
     "metadata": {},
     "output_type": "execute_result"
    }
   ],
   "source": [
    "trainrmse = np.sqrt(np.mean(trainPredictions - yTrain)**2)\n",
    "trainrmse"
   ]
  },
  {
   "cell_type": "code",
   "execution_count": 654,
   "id": "df2963ea-142d-4739-a14d-9930fa225c24",
   "metadata": {},
   "outputs": [
    {
     "data": {
      "text/plain": [
       "0.4894332762560638"
      ]
     },
     "execution_count": 654,
     "metadata": {},
     "output_type": "execute_result"
    }
   ],
   "source": [
    "trainmae = np.mean(abs(trainPredictions - yTrain))\n",
    "trainmae"
   ]
  },
  {
   "cell_type": "code",
   "execution_count": 436,
   "id": "3f8a692d-fdd8-44de-970c-18a8da0152ac",
   "metadata": {},
   "outputs": [
    {
     "name": "stdout",
     "output_type": "stream",
     "text": [
      "Model: \"sequential_45\"\n",
      "_________________________________________________________________\n",
      " Layer (type)                Output Shape              Param #   \n",
      "=================================================================\n",
      " lstm_56 (LSTM)              (None, 4, 100)            45200     \n",
      "                                                                 \n",
      " lstm_57 (LSTM)              (None, 4, 50)             30200     \n",
      "                                                                 \n",
      " lstm_58 (LSTM)              (None, 50)                20200     \n",
      "                                                                 \n",
      " dropout_21 (Dropout)        (None, 50)                0         \n",
      "                                                                 \n",
      " dense_59 (Dense)            (None, 1)                 51        \n",
      "                                                                 \n",
      "=================================================================\n",
      "Total params: 95,651\n",
      "Trainable params: 95,651\n",
      "Non-trainable params: 0\n",
      "_________________________________________________________________\n"
     ]
    }
   ],
   "source": [
    "model2 = Sequential()\n",
    "model2.add(InputLayer((4, 12)))\n",
    "model2.add(LSTM(100, activation='relu', return_sequences=True))\n",
    "model2.add(LSTM(50, activation = 'relu', return_sequences = True))\n",
    "model2.add(LSTM(50))\n",
    "model2.add(Dropout(0.1))\n",
    "model2.add(Dense(1, 'linear'))\n",
    "\n",
    "model2.summary()"
   ]
  },
  {
   "cell_type": "code",
   "execution_count": 437,
   "id": "165d6783-07e5-43b9-8e7d-01a6bb1f6c85",
   "metadata": {},
   "outputs": [],
   "source": [
    "cp2 = ModelCheckpoint(\"model2/\", save_best_only = True, monitor = \"loss\")\n",
    "model2.compile(loss=MeanSquaredError(),optimizer=Adam(learning_rate = 0.0001), metrics=[RootMeanSquaredError()])"
   ]
  },
  {
   "cell_type": "code",
   "execution_count": 438,
   "id": "a0d48d4a-e598-49e2-aa0b-75d7b5e8be42",
   "metadata": {},
   "outputs": [
    {
     "name": "stdout",
     "output_type": "stream",
     "text": [
      "Epoch 1/25\n",
      "3/4 [=====================>........] - ETA: 0s - loss: 0.6125 - root_mean_squared_error: 0.7826 "
     ]
    },
    {
     "name": "stderr",
     "output_type": "stream",
     "text": [
      "WARNING:absl:Found untraced functions such as lstm_cell_58_layer_call_fn, lstm_cell_58_layer_call_and_return_conditional_losses while saving (showing 2 of 2). These functions will not be directly callable after loading.\n"
     ]
    },
    {
     "name": "stdout",
     "output_type": "stream",
     "text": [
      "INFO:tensorflow:Assets written to: model2/assets\n"
     ]
    },
    {
     "name": "stderr",
     "output_type": "stream",
     "text": [
      "INFO:tensorflow:Assets written to: model2/assets\n"
     ]
    },
    {
     "name": "stdout",
     "output_type": "stream",
     "text": [
      "4/4 [==============================] - 30s 4s/step - loss: 0.6042 - root_mean_squared_error: 0.7773 - val_loss: 0.4641 - val_root_mean_squared_error: 0.6812\n",
      "Epoch 2/25\n",
      "1/4 [======>.......................] - ETA: 0s - loss: 0.9058 - root_mean_squared_error: 0.9517"
     ]
    },
    {
     "name": "stderr",
     "output_type": "stream",
     "text": [
      "WARNING:absl:Found untraced functions such as lstm_cell_58_layer_call_fn, lstm_cell_58_layer_call_and_return_conditional_losses while saving (showing 2 of 2). These functions will not be directly callable after loading.\n"
     ]
    },
    {
     "name": "stdout",
     "output_type": "stream",
     "text": [
      "INFO:tensorflow:Assets written to: model2/assets\n"
     ]
    },
    {
     "name": "stderr",
     "output_type": "stream",
     "text": [
      "INFO:tensorflow:Assets written to: model2/assets\n"
     ]
    },
    {
     "name": "stdout",
     "output_type": "stream",
     "text": [
      "4/4 [==============================] - 10s 3s/step - loss: 0.5992 - root_mean_squared_error: 0.7741 - val_loss: 0.3825 - val_root_mean_squared_error: 0.6185\n",
      "Epoch 3/25\n",
      "1/4 [======>.......................] - ETA: 0s - loss: 0.5247 - root_mean_squared_error: 0.7244"
     ]
    },
    {
     "name": "stderr",
     "output_type": "stream",
     "text": [
      "WARNING:absl:Found untraced functions such as lstm_cell_58_layer_call_fn, lstm_cell_58_layer_call_and_return_conditional_losses while saving (showing 2 of 2). These functions will not be directly callable after loading.\n"
     ]
    },
    {
     "name": "stdout",
     "output_type": "stream",
     "text": [
      "INFO:tensorflow:Assets written to: model2/assets\n"
     ]
    },
    {
     "name": "stderr",
     "output_type": "stream",
     "text": [
      "INFO:tensorflow:Assets written to: model2/assets\n"
     ]
    },
    {
     "name": "stdout",
     "output_type": "stream",
     "text": [
      "4/4 [==============================] - 9s 3s/step - loss: 0.5192 - root_mean_squared_error: 0.7205 - val_loss: 0.3840 - val_root_mean_squared_error: 0.6197\n",
      "Epoch 4/25\n",
      "4/4 [==============================] - ETA: 0s - loss: 0.4562 - root_mean_squared_error: 0.6754"
     ]
    },
    {
     "name": "stderr",
     "output_type": "stream",
     "text": [
      "WARNING:absl:Found untraced functions such as lstm_cell_58_layer_call_fn, lstm_cell_58_layer_call_and_return_conditional_losses while saving (showing 2 of 2). These functions will not be directly callable after loading.\n"
     ]
    },
    {
     "name": "stdout",
     "output_type": "stream",
     "text": [
      "INFO:tensorflow:Assets written to: model2/assets\n"
     ]
    },
    {
     "name": "stderr",
     "output_type": "stream",
     "text": [
      "INFO:tensorflow:Assets written to: model2/assets\n"
     ]
    },
    {
     "name": "stdout",
     "output_type": "stream",
     "text": [
      "4/4 [==============================] - 8s 3s/step - loss: 0.4562 - root_mean_squared_error: 0.6754 - val_loss: 0.1581 - val_root_mean_squared_error: 0.3976\n",
      "Epoch 5/25\n",
      "4/4 [==============================] - ETA: 0s - loss: 0.3926 - root_mean_squared_error: 0.6266"
     ]
    },
    {
     "name": "stderr",
     "output_type": "stream",
     "text": [
      "WARNING:absl:Found untraced functions such as lstm_cell_58_layer_call_fn, lstm_cell_58_layer_call_and_return_conditional_losses while saving (showing 2 of 2). These functions will not be directly callable after loading.\n"
     ]
    },
    {
     "name": "stdout",
     "output_type": "stream",
     "text": [
      "INFO:tensorflow:Assets written to: model2/assets\n"
     ]
    },
    {
     "name": "stderr",
     "output_type": "stream",
     "text": [
      "INFO:tensorflow:Assets written to: model2/assets\n"
     ]
    },
    {
     "name": "stdout",
     "output_type": "stream",
     "text": [
      "4/4 [==============================] - 7s 2s/step - loss: 0.3926 - root_mean_squared_error: 0.6266 - val_loss: 0.1576 - val_root_mean_squared_error: 0.3970\n",
      "Epoch 6/25\n",
      "4/4 [==============================] - 0s 28ms/step - loss: 0.4143 - root_mean_squared_error: 0.6436 - val_loss: 0.1617 - val_root_mean_squared_error: 0.4021\n",
      "Epoch 7/25\n",
      "4/4 [==============================] - 0s 22ms/step - loss: 0.4170 - root_mean_squared_error: 0.6457 - val_loss: 0.1001 - val_root_mean_squared_error: 0.3163\n",
      "Epoch 8/25\n",
      "4/4 [==============================] - 0s 24ms/step - loss: 0.4344 - root_mean_squared_error: 0.6591 - val_loss: 0.1004 - val_root_mean_squared_error: 0.3168\n",
      "Epoch 9/25\n",
      "1/4 [======>.......................] - ETA: 0s - loss: 0.0997 - root_mean_squared_error: 0.3158"
     ]
    },
    {
     "name": "stderr",
     "output_type": "stream",
     "text": [
      "WARNING:absl:Found untraced functions such as lstm_cell_58_layer_call_fn, lstm_cell_58_layer_call_and_return_conditional_losses while saving (showing 2 of 2). These functions will not be directly callable after loading.\n"
     ]
    },
    {
     "name": "stdout",
     "output_type": "stream",
     "text": [
      "INFO:tensorflow:Assets written to: model2/assets\n"
     ]
    },
    {
     "name": "stderr",
     "output_type": "stream",
     "text": [
      "INFO:tensorflow:Assets written to: model2/assets\n"
     ]
    },
    {
     "name": "stdout",
     "output_type": "stream",
     "text": [
      "4/4 [==============================] - 8s 3s/step - loss: 0.3711 - root_mean_squared_error: 0.6092 - val_loss: 0.1004 - val_root_mean_squared_error: 0.3169\n",
      "Epoch 10/25\n",
      "1/4 [======>.......................] - ETA: 0s - loss: 0.8008 - root_mean_squared_error: 0.8949"
     ]
    },
    {
     "name": "stderr",
     "output_type": "stream",
     "text": [
      "WARNING:absl:Found untraced functions such as lstm_cell_58_layer_call_fn, lstm_cell_58_layer_call_and_return_conditional_losses while saving (showing 2 of 2). These functions will not be directly callable after loading.\n"
     ]
    },
    {
     "name": "stdout",
     "output_type": "stream",
     "text": [
      "INFO:tensorflow:Assets written to: model2/assets\n"
     ]
    },
    {
     "name": "stderr",
     "output_type": "stream",
     "text": [
      "INFO:tensorflow:Assets written to: model2/assets\n"
     ]
    },
    {
     "name": "stdout",
     "output_type": "stream",
     "text": [
      "4/4 [==============================] - 9s 3s/step - loss: 0.3689 - root_mean_squared_error: 0.6073 - val_loss: 0.1007 - val_root_mean_squared_error: 0.3173\n",
      "Epoch 11/25\n",
      "1/4 [======>.......................] - ETA: 0s - loss: 0.1610 - root_mean_squared_error: 0.4012"
     ]
    },
    {
     "name": "stderr",
     "output_type": "stream",
     "text": [
      "WARNING:absl:Found untraced functions such as lstm_cell_58_layer_call_fn, lstm_cell_58_layer_call_and_return_conditional_losses while saving (showing 2 of 2). These functions will not be directly callable after loading.\n"
     ]
    },
    {
     "name": "stdout",
     "output_type": "stream",
     "text": [
      "INFO:tensorflow:Assets written to: model2/assets\n"
     ]
    },
    {
     "name": "stderr",
     "output_type": "stream",
     "text": [
      "INFO:tensorflow:Assets written to: model2/assets\n"
     ]
    },
    {
     "name": "stdout",
     "output_type": "stream",
     "text": [
      "4/4 [==============================] - 8s 3s/step - loss: 0.3282 - root_mean_squared_error: 0.5729 - val_loss: 0.1009 - val_root_mean_squared_error: 0.3177\n",
      "Epoch 12/25\n",
      "1/4 [======>.......................] - ETA: 0s - loss: 0.1822 - root_mean_squared_error: 0.4268"
     ]
    },
    {
     "name": "stderr",
     "output_type": "stream",
     "text": [
      "WARNING:absl:Found untraced functions such as lstm_cell_58_layer_call_fn, lstm_cell_58_layer_call_and_return_conditional_losses while saving (showing 2 of 2). These functions will not be directly callable after loading.\n"
     ]
    },
    {
     "name": "stdout",
     "output_type": "stream",
     "text": [
      "INFO:tensorflow:Assets written to: model2/assets\n"
     ]
    },
    {
     "name": "stderr",
     "output_type": "stream",
     "text": [
      "INFO:tensorflow:Assets written to: model2/assets\n"
     ]
    },
    {
     "name": "stdout",
     "output_type": "stream",
     "text": [
      "4/4 [==============================] - 8s 3s/step - loss: 0.3065 - root_mean_squared_error: 0.5536 - val_loss: 0.1016 - val_root_mean_squared_error: 0.3187\n",
      "Epoch 13/25\n",
      "4/4 [==============================] - 0s 24ms/step - loss: 0.3493 - root_mean_squared_error: 0.5910 - val_loss: 0.1104 - val_root_mean_squared_error: 0.3323\n",
      "Epoch 14/25\n",
      "4/4 [==============================] - 0s 21ms/step - loss: 0.3846 - root_mean_squared_error: 0.6202 - val_loss: 0.1084 - val_root_mean_squared_error: 0.3292\n",
      "Epoch 15/25\n",
      "4/4 [==============================] - 0s 27ms/step - loss: 0.3103 - root_mean_squared_error: 0.5571 - val_loss: 0.1082 - val_root_mean_squared_error: 0.3290\n",
      "Epoch 16/25\n",
      "1/4 [======>.......................] - ETA: 0s - loss: 0.2564 - root_mean_squared_error: 0.5064"
     ]
    },
    {
     "name": "stderr",
     "output_type": "stream",
     "text": [
      "WARNING:absl:Found untraced functions such as lstm_cell_58_layer_call_fn, lstm_cell_58_layer_call_and_return_conditional_losses while saving (showing 2 of 2). These functions will not be directly callable after loading.\n"
     ]
    },
    {
     "name": "stdout",
     "output_type": "stream",
     "text": [
      "INFO:tensorflow:Assets written to: model2/assets\n"
     ]
    },
    {
     "name": "stderr",
     "output_type": "stream",
     "text": [
      "INFO:tensorflow:Assets written to: model2/assets\n"
     ]
    },
    {
     "name": "stdout",
     "output_type": "stream",
     "text": [
      "4/4 [==============================] - 8s 3s/step - loss: 0.2849 - root_mean_squared_error: 0.5337 - val_loss: 0.1086 - val_root_mean_squared_error: 0.3295\n",
      "Epoch 17/25\n",
      "1/4 [======>.......................] - ETA: 0s - loss: 0.5055 - root_mean_squared_error: 0.7110"
     ]
    },
    {
     "name": "stderr",
     "output_type": "stream",
     "text": [
      "WARNING:absl:Found untraced functions such as lstm_cell_58_layer_call_fn, lstm_cell_58_layer_call_and_return_conditional_losses while saving (showing 2 of 2). These functions will not be directly callable after loading.\n"
     ]
    },
    {
     "name": "stdout",
     "output_type": "stream",
     "text": [
      "INFO:tensorflow:Assets written to: model2/assets\n"
     ]
    },
    {
     "name": "stderr",
     "output_type": "stream",
     "text": [
      "INFO:tensorflow:Assets written to: model2/assets\n"
     ]
    },
    {
     "name": "stdout",
     "output_type": "stream",
     "text": [
      "4/4 [==============================] - 8s 3s/step - loss: 0.2791 - root_mean_squared_error: 0.5283 - val_loss: 0.1076 - val_root_mean_squared_error: 0.3280\n",
      "Epoch 18/25\n",
      "1/4 [======>.......................] - ETA: 0s - loss: 0.2148 - root_mean_squared_error: 0.4635"
     ]
    },
    {
     "name": "stderr",
     "output_type": "stream",
     "text": [
      "WARNING:absl:Found untraced functions such as lstm_cell_58_layer_call_fn, lstm_cell_58_layer_call_and_return_conditional_losses while saving (showing 2 of 2). These functions will not be directly callable after loading.\n"
     ]
    },
    {
     "name": "stdout",
     "output_type": "stream",
     "text": [
      "INFO:tensorflow:Assets written to: model2/assets\n"
     ]
    },
    {
     "name": "stderr",
     "output_type": "stream",
     "text": [
      "INFO:tensorflow:Assets written to: model2/assets\n"
     ]
    },
    {
     "name": "stdout",
     "output_type": "stream",
     "text": [
      "4/4 [==============================] - 18s 6s/step - loss: 0.2447 - root_mean_squared_error: 0.4947 - val_loss: 0.0699 - val_root_mean_squared_error: 0.2644\n",
      "Epoch 19/25\n",
      "4/4 [==============================] - 0s 25ms/step - loss: 0.2616 - root_mean_squared_error: 0.5115 - val_loss: 0.0440 - val_root_mean_squared_error: 0.2099\n",
      "Epoch 20/25\n",
      "4/4 [==============================] - 0s 25ms/step - loss: 0.2885 - root_mean_squared_error: 0.5371 - val_loss: 0.0474 - val_root_mean_squared_error: 0.2177\n",
      "Epoch 21/25\n",
      "4/4 [==============================] - 0s 30ms/step - loss: 0.2660 - root_mean_squared_error: 0.5158 - val_loss: 0.0390 - val_root_mean_squared_error: 0.1975\n",
      "Epoch 22/25\n",
      "4/4 [==============================] - 0s 20ms/step - loss: 0.2761 - root_mean_squared_error: 0.5255 - val_loss: 0.0437 - val_root_mean_squared_error: 0.2089\n",
      "Epoch 23/25\n",
      "4/4 [==============================] - 0s 23ms/step - loss: 0.3046 - root_mean_squared_error: 0.5519 - val_loss: 0.0461 - val_root_mean_squared_error: 0.2147\n",
      "Epoch 24/25\n",
      "4/4 [==============================] - 0s 19ms/step - loss: 0.2757 - root_mean_squared_error: 0.5251 - val_loss: 0.0465 - val_root_mean_squared_error: 0.2155\n",
      "Epoch 25/25\n",
      "4/4 [==============================] - 0s 20ms/step - loss: 0.2562 - root_mean_squared_error: 0.5062 - val_loss: 0.0443 - val_root_mean_squared_error: 0.2106\n"
     ]
    },
    {
     "data": {
      "text/plain": [
       "<keras.callbacks.History at 0x7f7aa933f1c0>"
      ]
     },
     "execution_count": 438,
     "metadata": {},
     "output_type": "execute_result"
    }
   ],
   "source": [
    "model2.fit(xTrain,yTrain, validation_data =(xVal, yVal),epochs = 25, callbacks =[cp2])"
   ]
  },
  {
   "cell_type": "code",
   "execution_count": 616,
   "id": "081b95c4-33d6-4c95-bffa-c1312e335baa",
   "metadata": {},
   "outputs": [
    {
     "name": "stdout",
     "output_type": "stream",
     "text": [
      "4/4 [==============================] - 0s 8ms/step\n"
     ]
    },
    {
     "data": {
      "text/html": [
       "<div>\n",
       "<style scoped>\n",
       "    .dataframe tbody tr th:only-of-type {\n",
       "        vertical-align: middle;\n",
       "    }\n",
       "\n",
       "    .dataframe tbody tr th {\n",
       "        vertical-align: top;\n",
       "    }\n",
       "\n",
       "    .dataframe thead th {\n",
       "        text-align: right;\n",
       "    }\n",
       "</style>\n",
       "<table border=\"1\" class=\"dataframe\">\n",
       "  <thead>\n",
       "    <tr style=\"text-align: right;\">\n",
       "      <th></th>\n",
       "      <th>Train Predictions</th>\n",
       "      <th>Actuals</th>\n",
       "    </tr>\n",
       "  </thead>\n",
       "  <tbody>\n",
       "    <tr>\n",
       "      <th>0</th>\n",
       "      <td>-0.236097</td>\n",
       "      <td>0.105263</td>\n",
       "    </tr>\n",
       "    <tr>\n",
       "      <th>1</th>\n",
       "      <td>0.333534</td>\n",
       "      <td>0.428571</td>\n",
       "    </tr>\n",
       "    <tr>\n",
       "      <th>2</th>\n",
       "      <td>-0.232273</td>\n",
       "      <td>0.733333</td>\n",
       "    </tr>\n",
       "    <tr>\n",
       "      <th>3</th>\n",
       "      <td>0.250155</td>\n",
       "      <td>0.653846</td>\n",
       "    </tr>\n",
       "    <tr>\n",
       "      <th>4</th>\n",
       "      <td>-0.126438</td>\n",
       "      <td>-0.093023</td>\n",
       "    </tr>\n",
       "    <tr>\n",
       "      <th>...</th>\n",
       "      <td>...</td>\n",
       "      <td>...</td>\n",
       "    </tr>\n",
       "    <tr>\n",
       "      <th>105</th>\n",
       "      <td>0.033988</td>\n",
       "      <td>-0.039937</td>\n",
       "    </tr>\n",
       "    <tr>\n",
       "      <th>106</th>\n",
       "      <td>-0.138480</td>\n",
       "      <td>-0.143908</td>\n",
       "    </tr>\n",
       "    <tr>\n",
       "      <th>107</th>\n",
       "      <td>0.118916</td>\n",
       "      <td>0.115099</td>\n",
       "    </tr>\n",
       "    <tr>\n",
       "      <th>108</th>\n",
       "      <td>-0.143994</td>\n",
       "      <td>-0.160955</td>\n",
       "    </tr>\n",
       "    <tr>\n",
       "      <th>109</th>\n",
       "      <td>0.011470</td>\n",
       "      <td>-0.071601</td>\n",
       "    </tr>\n",
       "  </tbody>\n",
       "</table>\n",
       "<p>110 rows × 2 columns</p>\n",
       "</div>"
      ],
      "text/plain": [
       "     Train Predictions   Actuals\n",
       "0            -0.236097  0.105263\n",
       "1             0.333534  0.428571\n",
       "2            -0.232273  0.733333\n",
       "3             0.250155  0.653846\n",
       "4            -0.126438 -0.093023\n",
       "..                 ...       ...\n",
       "105           0.033988 -0.039937\n",
       "106          -0.138480 -0.143908\n",
       "107           0.118916  0.115099\n",
       "108          -0.143994 -0.160955\n",
       "109           0.011470 -0.071601\n",
       "\n",
       "[110 rows x 2 columns]"
      ]
     },
     "execution_count": 616,
     "metadata": {},
     "output_type": "execute_result"
    }
   ],
   "source": [
    "trainPredictions2 = model2.predict(xTrain).flatten()\n",
    "trainResults2 = pd.DataFrame(\n",
    "    data = {'Train Predictions':trainPredictions2,\n",
    "    \"Actuals\":yTrain})\n",
    "trainResults2"
   ]
  },
  {
   "cell_type": "code",
   "execution_count": 693,
   "id": "d3a73156-e0a8-4cac-ae98-da31e19e9838",
   "metadata": {},
   "outputs": [
    {
     "data": {
      "text/plain": [
       "<matplotlib.legend.Legend at 0x7f7a7a17ff10>"
      ]
     },
     "execution_count": 693,
     "metadata": {},
     "output_type": "execute_result"
    },
    {
     "data": {
      "image/png": "[encoded data removed]",
      "text/plain": [
       "<Figure size 832x572 with 1 Axes>"
      ]
     },
     "metadata": {},
     "output_type": "display_data"
    }
   ],
   "source": [
    "plt.plot(trainResults2['Train Predictions'],\"-r\",label = \"Predictions\")\n",
    "plt.plot(trainResults2['Actuals'], \"-b\",label = \"Actual Values\")\n",
    "\n",
    "location = 0 # For the best location\n",
    "legend_drawn_flag = True\n",
    "plt.legend([\"Predictions\", \"Actual\"], loc=0, frameon=legend_drawn_flag)"
   ]
  },
  {
   "cell_type": "code",
   "execution_count": 618,
   "id": "fc9678fa-4edd-45b9-9e05-2a4c5ad7d782",
   "metadata": {},
   "outputs": [
    {
     "name": "stdout",
     "output_type": "stream",
     "text": [
      "1/1 [==============================] - 0s 32ms/step\n"
     ]
    },
    {
     "data": {
      "text/html": [
       "<div>\n",
       "<style scoped>\n",
       "    .dataframe tbody tr th:only-of-type {\n",
       "        vertical-align: middle;\n",
       "    }\n",
       "\n",
       "    .dataframe tbody tr th {\n",
       "        vertical-align: top;\n",
       "    }\n",
       "\n",
       "    .dataframe thead th {\n",
       "        text-align: right;\n",
       "    }\n",
       "</style>\n",
       "<table border=\"1\" class=\"dataframe\">\n",
       "  <thead>\n",
       "    <tr style=\"text-align: right;\">\n",
       "      <th></th>\n",
       "      <th>Test Predictions</th>\n",
       "      <th>Actuals</th>\n",
       "    </tr>\n",
       "  </thead>\n",
       "  <tbody>\n",
       "    <tr>\n",
       "      <th>0</th>\n",
       "      <td>-0.236096</td>\n",
       "      <td>0.240354</td>\n",
       "    </tr>\n",
       "    <tr>\n",
       "      <th>1</th>\n",
       "      <td>-0.134914</td>\n",
       "      <td>0.029348</td>\n",
       "    </tr>\n",
       "    <tr>\n",
       "      <th>2</th>\n",
       "      <td>-0.236097</td>\n",
       "      <td>-0.083199</td>\n",
       "    </tr>\n",
       "    <tr>\n",
       "      <th>3</th>\n",
       "      <td>-0.236097</td>\n",
       "      <td>0.293562</td>\n",
       "    </tr>\n",
       "    <tr>\n",
       "      <th>4</th>\n",
       "      <td>-0.126420</td>\n",
       "      <td>0.399168</td>\n",
       "    </tr>\n",
       "    <tr>\n",
       "      <th>5</th>\n",
       "      <td>-0.126420</td>\n",
       "      <td>0.496303</td>\n",
       "    </tr>\n",
       "    <tr>\n",
       "      <th>6</th>\n",
       "      <td>-0.134914</td>\n",
       "      <td>0.124326</td>\n",
       "    </tr>\n",
       "    <tr>\n",
       "      <th>7</th>\n",
       "      <td>0.515807</td>\n",
       "      <td>0.387929</td>\n",
       "    </tr>\n",
       "    <tr>\n",
       "      <th>8</th>\n",
       "      <td>-0.390769</td>\n",
       "      <td>0.303039</td>\n",
       "    </tr>\n",
       "    <tr>\n",
       "      <th>9</th>\n",
       "      <td>-0.008620</td>\n",
       "      <td>-0.036393</td>\n",
       "    </tr>\n",
       "    <tr>\n",
       "      <th>10</th>\n",
       "      <td>-0.390249</td>\n",
       "      <td>-0.354198</td>\n",
       "    </tr>\n",
       "    <tr>\n",
       "      <th>11</th>\n",
       "      <td>-0.390249</td>\n",
       "      <td>-0.057395</td>\n",
       "    </tr>\n",
       "    <tr>\n",
       "      <th>12</th>\n",
       "      <td>0.211072</td>\n",
       "      <td>0.201105</td>\n",
       "    </tr>\n",
       "    <tr>\n",
       "      <th>13</th>\n",
       "      <td>-0.009899</td>\n",
       "      <td>0.131639</td>\n",
       "    </tr>\n",
       "    <tr>\n",
       "      <th>14</th>\n",
       "      <td>-0.110365</td>\n",
       "      <td>-0.075990</td>\n",
       "    </tr>\n",
       "    <tr>\n",
       "      <th>15</th>\n",
       "      <td>0.447752</td>\n",
       "      <td>0.403801</td>\n",
       "    </tr>\n",
       "    <tr>\n",
       "      <th>16</th>\n",
       "      <td>-0.088026</td>\n",
       "      <td>-0.062932</td>\n",
       "    </tr>\n",
       "    <tr>\n",
       "      <th>17</th>\n",
       "      <td>-0.126419</td>\n",
       "      <td>-0.189102</td>\n",
       "    </tr>\n",
       "  </tbody>\n",
       "</table>\n",
       "</div>"
      ],
      "text/plain": [
       "    Test Predictions   Actuals\n",
       "0          -0.236096  0.240354\n",
       "1          -0.134914  0.029348\n",
       "2          -0.236097 -0.083199\n",
       "3          -0.236097  0.293562\n",
       "4          -0.126420  0.399168\n",
       "5          -0.126420  0.496303\n",
       "6          -0.134914  0.124326\n",
       "7           0.515807  0.387929\n",
       "8          -0.390769  0.303039\n",
       "9          -0.008620 -0.036393\n",
       "10         -0.390249 -0.354198\n",
       "11         -0.390249 -0.057395\n",
       "12          0.211072  0.201105\n",
       "13         -0.009899  0.131639\n",
       "14         -0.110365 -0.075990\n",
       "15          0.447752  0.403801\n",
       "16         -0.088026 -0.062932\n",
       "17         -0.126419 -0.189102"
      ]
     },
     "execution_count": 618,
     "metadata": {},
     "output_type": "execute_result"
    }
   ],
   "source": [
    "testPredictions2 = model2.predict(xTest).flatten()\n",
    "testResults2 = pd.DataFrame(\n",
    "    data = {'Test Predictions':testPredictions2,\n",
    "    \"Actuals\":yTest})\n",
    "testResults2"
   ]
  },
  {
   "cell_type": "code",
   "execution_count": 694,
   "id": "62927dca-b4d7-473b-ab91-dc9b28005d39",
   "metadata": {},
   "outputs": [
    {
     "data": {
      "text/plain": [
       "<matplotlib.legend.Legend at 0x7f7a79f4ce20>"
      ]
     },
     "execution_count": 694,
     "metadata": {},
     "output_type": "execute_result"
    },
    {
     "data": {
      "image/png": "[encoded data removed]",
      "text/plain": [
       "<Figure size 832x572 with 1 Axes>"
      ]
     },
     "metadata": {},
     "output_type": "display_data"
    }
   ],
   "source": [
    "plt.plot(testResults2['Test Predictions'], \"-r\")\n",
    "plt.plot(testResults2['Actuals'],\"-b\")\n",
    "\n",
    "\n",
    "location = 0 # For the best location\n",
    "legend_drawn_flag = True\n",
    "plt.legend([\"Predictions\", \"Actual\"], loc=0, frameon=legend_drawn_flag)"
   ]
  },
  {
   "cell_type": "code",
   "execution_count": 648,
   "id": "5e88c93e-b945-406d-85fb-68d47b24d149",
   "metadata": {},
   "outputs": [],
   "source": [
    "from keras.models import load_model\n",
    "    \n",
    "model2.save('BitModel2.h5')  # creates a HDF5 file 'my_model.h5'\n",
    "model2 = load_model('BitModel2.h5')# returns a compiled model identical to the previous one"
   ]
  },
  {
   "cell_type": "code",
   "execution_count": 620,
   "id": "6347c731-e4b5-496a-bfda-6726fe904cfc",
   "metadata": {},
   "outputs": [
    {
     "data": {
      "text/plain": [
       "137   2010-07-31\n",
       "136   2010-08-31\n",
       "135   2010-09-30\n",
       "134   2010-10-31\n",
       "133   2010-11-30\n",
       "Name: Date, dtype: datetime64[ns]"
      ]
     },
     "execution_count": 620,
     "metadata": {},
     "output_type": "execute_result"
    }
   ],
   "source": [
    "raw_data = pd.read_csv(file,parse_dates = [\"Date\"], index_col = False)\n",
    "df1 = raw_data.copy()\n",
    "\n",
    "Dates = df1.iloc[::-1]\n",
    "Dates = Dates[\"Date\"]\n",
    "Dates.head()"
   ]
  },
  {
   "cell_type": "code",
   "execution_count": 621,
   "id": "70b3e428-d4f9-460d-8432-5aefd8a91712",
   "metadata": {},
   "outputs": [],
   "source": [
    "trainSize = int(len(Dates)*0.80)\n",
    "valSize = int(len(Dates)*.05)\n",
    "\n",
    "trainDates = Dates[:trainSize]\n",
    "testDates = Dates[trainSize+valSize:]"
   ]
  },
  {
   "cell_type": "code",
   "execution_count": 633,
   "id": "9c47de7b-4992-498f-bae9-038b7b72aff3",
   "metadata": {},
   "outputs": [],
   "source": [
    "trainDates = Dates[0:109]\n",
    "testDates = Dates[120:138]\n",
    "\n",
    "trainDates = trainDates.reset_index()\n",
    "testDates = testDates.reset_index()\n",
    "\n",
    "trainDates = trainDates.pop('Date')\n",
    "testDates = testDates.pop('Date')\n",
    "\n",
    "#trainDates\n",
    "#testDates"
   ]
  },
  {
   "cell_type": "code",
   "execution_count": 638,
   "id": "ea05123a-5ce6-4e8a-b76a-84403ae31818",
   "metadata": {},
   "outputs": [],
   "source": [
    "trainResults2 = pd.concat([trainResults2,trainDates],axis=1)\n",
    "testResults2 = pd.concat([testResults2,testDates],axis=1)\n",
    "\n",
    "trainResults2 = trainResults2.set_index(\"Date\")\n",
    "testResults2 = testResults2.set_index(\"Date\")\n"
   ]
  },
  {
   "cell_type": "code",
   "execution_count": 711,
   "id": "639ec73f-4982-48a3-9eee-9ae569c1fd10",
   "metadata": {},
   "outputs": [
    {
     "data": {
      "text/html": [
       "<div>\n",
       "<style scoped>\n",
       "    .dataframe tbody tr th:only-of-type {\n",
       "        vertical-align: middle;\n",
       "    }\n",
       "\n",
       "    .dataframe tbody tr th {\n",
       "        vertical-align: top;\n",
       "    }\n",
       "\n",
       "    .dataframe thead th {\n",
       "        text-align: right;\n",
       "    }\n",
       "</style>\n",
       "<table border=\"1\" class=\"dataframe\">\n",
       "  <thead>\n",
       "    <tr style=\"text-align: right;\">\n",
       "      <th></th>\n",
       "      <th>Test Predictions</th>\n",
       "      <th>Actuals</th>\n",
       "    </tr>\n",
       "    <tr>\n",
       "      <th>Date</th>\n",
       "      <th></th>\n",
       "      <th></th>\n",
       "    </tr>\n",
       "  </thead>\n",
       "  <tbody>\n",
       "    <tr>\n",
       "      <th>2020-07-31</th>\n",
       "      <td>-0.236096</td>\n",
       "      <td>0.240354</td>\n",
       "    </tr>\n",
       "    <tr>\n",
       "      <th>2020-08-31</th>\n",
       "      <td>-0.134914</td>\n",
       "      <td>0.029348</td>\n",
       "    </tr>\n",
       "    <tr>\n",
       "      <th>2020-09-30</th>\n",
       "      <td>-0.236097</td>\n",
       "      <td>-0.083199</td>\n",
       "    </tr>\n",
       "    <tr>\n",
       "      <th>2020-10-31</th>\n",
       "      <td>-0.236097</td>\n",
       "      <td>0.293562</td>\n",
       "    </tr>\n",
       "    <tr>\n",
       "      <th>2020-11-30</th>\n",
       "      <td>-0.126420</td>\n",
       "      <td>0.399168</td>\n",
       "    </tr>\n",
       "    <tr>\n",
       "      <th>2020-12-31</th>\n",
       "      <td>-0.126420</td>\n",
       "      <td>0.496303</td>\n",
       "    </tr>\n",
       "    <tr>\n",
       "      <th>2021-01-31</th>\n",
       "      <td>-0.134914</td>\n",
       "      <td>0.124326</td>\n",
       "    </tr>\n",
       "    <tr>\n",
       "      <th>2021-02-28</th>\n",
       "      <td>0.515807</td>\n",
       "      <td>0.387929</td>\n",
       "    </tr>\n",
       "    <tr>\n",
       "      <th>2021-03-31</th>\n",
       "      <td>-0.390769</td>\n",
       "      <td>0.303039</td>\n",
       "    </tr>\n",
       "    <tr>\n",
       "      <th>2021-04-30</th>\n",
       "      <td>-0.008620</td>\n",
       "      <td>-0.036393</td>\n",
       "    </tr>\n",
       "    <tr>\n",
       "      <th>2021-05-31</th>\n",
       "      <td>-0.390249</td>\n",
       "      <td>-0.354198</td>\n",
       "    </tr>\n",
       "    <tr>\n",
       "      <th>2021-06-30</th>\n",
       "      <td>-0.390249</td>\n",
       "      <td>-0.057395</td>\n",
       "    </tr>\n",
       "    <tr>\n",
       "      <th>2021-07-31</th>\n",
       "      <td>0.211072</td>\n",
       "      <td>0.201105</td>\n",
       "    </tr>\n",
       "    <tr>\n",
       "      <th>2021-08-31</th>\n",
       "      <td>-0.009899</td>\n",
       "      <td>0.131639</td>\n",
       "    </tr>\n",
       "    <tr>\n",
       "      <th>2021-09-30</th>\n",
       "      <td>-0.110365</td>\n",
       "      <td>-0.075990</td>\n",
       "    </tr>\n",
       "    <tr>\n",
       "      <th>2021-10-31</th>\n",
       "      <td>0.447752</td>\n",
       "      <td>0.403801</td>\n",
       "    </tr>\n",
       "    <tr>\n",
       "      <th>2021-11-30</th>\n",
       "      <td>-0.088026</td>\n",
       "      <td>-0.062932</td>\n",
       "    </tr>\n",
       "    <tr>\n",
       "      <th>2021-12-31</th>\n",
       "      <td>-0.126419</td>\n",
       "      <td>-0.189102</td>\n",
       "    </tr>\n",
       "  </tbody>\n",
       "</table>\n",
       "</div>"
      ],
      "text/plain": [
       "            Test Predictions   Actuals\n",
       "Date                                  \n",
       "2020-07-31         -0.236096  0.240354\n",
       "2020-08-31         -0.134914  0.029348\n",
       "2020-09-30         -0.236097 -0.083199\n",
       "2020-10-31         -0.236097  0.293562\n",
       "2020-11-30         -0.126420  0.399168\n",
       "2020-12-31         -0.126420  0.496303\n",
       "2021-01-31         -0.134914  0.124326\n",
       "2021-02-28          0.515807  0.387929\n",
       "2021-03-31         -0.390769  0.303039\n",
       "2021-04-30         -0.008620 -0.036393\n",
       "2021-05-31         -0.390249 -0.354198\n",
       "2021-06-30         -0.390249 -0.057395\n",
       "2021-07-31          0.211072  0.201105\n",
       "2021-08-31         -0.009899  0.131639\n",
       "2021-09-30         -0.110365 -0.075990\n",
       "2021-10-31          0.447752  0.403801\n",
       "2021-11-30         -0.088026 -0.062932\n",
       "2021-12-31         -0.126419 -0.189102"
      ]
     },
     "execution_count": 711,
     "metadata": {},
     "output_type": "execute_result"
    }
   ],
   "source": [
    "testResults2"
   ]
  },
  {
   "cell_type": "code",
   "execution_count": 697,
   "id": "d6610c67-6f86-436a-a9e0-cf53db6389f3",
   "metadata": {},
   "outputs": [
    {
     "data": {
      "text/plain": [
       "<matplotlib.legend.Legend at 0x7f7a7a111610>"
      ]
     },
     "execution_count": 697,
     "metadata": {},
     "output_type": "execute_result"
    },
    {
     "data": {
      "image/png": "[encoded data removed]",
      "text/plain": [
       "<Figure size 832x572 with 1 Axes>"
      ]
     },
     "metadata": {},
     "output_type": "display_data"
    }
   ],
   "source": [
    "plt.plot(testResults2['Test Predictions'], \"-r\")\n",
    "plt.plot(testResults2['Actuals'],\"-b\")\n",
    "plt.xticks(rotation = 40) # 40 is the rotation angle\n",
    "plt.title(\"Bitcoin Test Data Predictions vs. Actual\")\n",
    "plt.xlabel('Date') \n",
    "plt.ylabel('Volatility (Monthly Return)') \n",
    "location = 0 # For the best location\n",
    "legend_drawn_flag = True\n",
    "plt.legend([\"Predictions\", \"Actual\"], loc=0, frameon=legend_drawn_flag)\n"
   ]
  },
  {
   "cell_type": "code",
   "execution_count": 699,
   "id": "5d93f26e-0542-4f6f-9f31-79adb14830eb",
   "metadata": {},
   "outputs": [
    {
     "data": {
      "text/plain": [
       "<matplotlib.legend.Legend at 0x7f7a7a050400>"
      ]
     },
     "execution_count": 699,
     "metadata": {},
     "output_type": "execute_result"
    },
    {
     "data": {
      "image/png": "[encoded data removed]",
      "text/plain": [
       "<Figure size 832x572 with 1 Axes>"
      ]
     },
     "metadata": {},
     "output_type": "display_data"
    }
   ],
   "source": [
    "plt.plot(trainResults2['Train Predictions'], \"-r\")\n",
    "plt.plot(trainResults2['Actuals'],\"-b\")\n",
    "plt.xticks(rotation = 40) # 40 is the rotation angle\n",
    "plt.title(\"Bitcoin Training Data Predictions vs. Actual\")\n",
    "plt.xlabel('Date') \n",
    "plt.ylabel('Bitcoin Volatility (Monthly Return)') \n",
    "location = 0 # For the best location\n",
    "legend_drawn_flag = True\n",
    "plt.legend([\"Predictions\", \"Actual\"], loc=0, frameon=legend_drawn_flag)"
   ]
  },
  {
   "cell_type": "code",
   "execution_count": 642,
   "id": "07451f7a-f1f5-4ff3-a9b8-ac180cc7918b",
   "metadata": {},
   "outputs": [
    {
     "data": {
      "text/plain": [
       "0.20679373606015286"
      ]
     },
     "execution_count": 642,
     "metadata": {},
     "output_type": "execute_result"
    }
   ],
   "source": [
    "rmse = np.sqrt(np.mean(testPredictions2 - yTest)**2)\n",
    "rmse"
   ]
  },
  {
   "cell_type": "code",
   "execution_count": 643,
   "id": "8931914f-355d-409a-9e4e-900034770076",
   "metadata": {},
   "outputs": [
    {
     "data": {
      "text/plain": [
       "0.23704386481484077"
      ]
     },
     "execution_count": 643,
     "metadata": {},
     "output_type": "execute_result"
    }
   ],
   "source": [
    "mae = np.mean(abs(testPredictions2 - yTest))\n",
    "mae"
   ]
  },
  {
   "cell_type": "code",
   "execution_count": 651,
   "id": "bfe5629a-9805-41fa-8f96-738f7a531099",
   "metadata": {},
   "outputs": [
    {
     "data": {
      "text/plain": [
       "0.08832952938071777"
      ]
     },
     "execution_count": 651,
     "metadata": {},
     "output_type": "execute_result"
    }
   ],
   "source": [
    "trainrmse = np.sqrt(np.mean(trainPredictions2 - yTrain)**2)\n",
    "trainrmse"
   ]
  },
  {
   "cell_type": "code",
   "execution_count": 652,
   "id": "f0bc2e6d-97f3-4f26-8563-65c74ff59b8d",
   "metadata": {},
   "outputs": [
    {
     "data": {
      "text/plain": [
       "0.21426176272258382"
      ]
     },
     "execution_count": 652,
     "metadata": {},
     "output_type": "execute_result"
    }
   ],
   "source": [
    "trainmae = np.mean(abs(trainPredictions2 - yTrain))\n",
    "trainmae"
   ]
  },
  {
   "cell_type": "code",
   "execution_count": 715,
   "id": "a6ea094c-b90c-46f3-bebb-f6ecfee9c5d3",
   "metadata": {},
   "outputs": [],
   "source": [
    "trainResults2.to_csv('BitcoinTrainResults.csv')\n",
    "testResults2.to_csv('BitcoinTestResults.csv')"
   ]
  },
  {
   "cell_type": "code",
   "execution_count": null,
   "id": "88b0ca89-69f4-482d-80d8-13adfb19c734",
   "metadata": {},
   "outputs": [],
   "source": []
  }
 ],
 "metadata": {
  "kernelspec": {
   "display_name": "Python 3",
   "language": "python",
   "name": "python3"
  },
  "language_info": {
   "codemirror_mode": {
    "name": "ipython",
    "version": 3
   },
   "file_extension": ".py",
   "mimetype": "text/x-python",
   "name": "python",
   "nbconvert_exporter": "python",
   "pygments_lexer": "ipython3",
   "version": "3.8.8"
  }
 },
 "nbformat": 4,
 "nbformat_minor": 5
}
