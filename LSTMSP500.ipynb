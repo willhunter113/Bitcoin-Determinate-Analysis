{
 "cells": [
  {
   "cell_type": "code",
   "execution_count": 4,
   "id": "cc527fd2-02a6-47f9-a582-6d3f07a08bdb",
   "metadata": {},
   "outputs": [
    {
     "name": "stdout",
     "output_type": "stream",
     "text": [
      "Collecting tensorflow\n",
      "  Downloading tensorflow-2.10.0-cp38-cp38-macosx_10_14_x86_64.whl (241.2 MB)\n",
      "\u001b[K     |████████████████████████████████| 241.2 MB 91 kB/s s eta 0:00:01\n",
      "\u001b[?25hCollecting google-pasta>=0.1.1\n",
      "  Using cached google_pasta-0.2.0-py3-none-any.whl (57 kB)\n",
      "Collecting tensorflow-estimator<2.11,>=2.10.0\n",
      "  Downloading tensorflow_estimator-2.10.0-py2.py3-none-any.whl (438 kB)\n",
      "\u001b[K     |████████████████████████████████| 438 kB 36.7 MB/s eta 0:00:01\n",
      "\u001b[?25hCollecting libclang>=13.0.0\n",
      "  Using cached libclang-14.0.6-py2.py3-none-macosx_10_9_x86_64.whl (13.2 MB)\n",
      "Requirement already satisfied: six>=1.12.0 in /Applications/anaconda3/lib/python3.8/site-packages (from tensorflow) (1.15.0)\n",
      "Requirement already satisfied: setuptools in /Applications/anaconda3/lib/python3.8/site-packages (from tensorflow) (52.0.0.post20210125)\n",
      "Requirement already satisfied: typing-extensions>=3.6.6 in /Applications/anaconda3/lib/python3.8/site-packages (from tensorflow) (3.7.4.3)\n",
      "Collecting flatbuffers>=2.0\n",
      "  Using cached flatbuffers-22.10.26-py2.py3-none-any.whl (26 kB)\n",
      "Collecting grpcio<2.0,>=1.24.3\n",
      "  Using cached grpcio-1.50.0-cp38-cp38-macosx_10_10_x86_64.whl (4.5 MB)\n",
      "Collecting tensorboard<2.11,>=2.10\n",
      "  Downloading tensorboard-2.10.1-py3-none-any.whl (5.9 MB)\n",
      "\u001b[K     |████████████████████████████████| 5.9 MB 15.8 MB/s eta 0:00:01\n",
      "\u001b[?25hRequirement already satisfied: wrapt>=1.11.0 in /Applications/anaconda3/lib/python3.8/site-packages (from tensorflow) (1.12.1)\n",
      "Requirement already satisfied: packaging in /Applications/anaconda3/lib/python3.8/site-packages (from tensorflow) (20.9)\n",
      "Collecting protobuf<3.20,>=3.9.2\n",
      "  Using cached protobuf-3.19.6-cp38-cp38-macosx_10_9_x86_64.whl (980 kB)\n",
      "Collecting termcolor>=1.1.0\n",
      "  Using cached termcolor-2.1.0-py3-none-any.whl (5.8 kB)\n",
      "Requirement already satisfied: numpy>=1.20 in /Applications/anaconda3/lib/python3.8/site-packages (from tensorflow) (1.20.1)\n",
      "Collecting astunparse>=1.6.0\n",
      "  Using cached astunparse-1.6.3-py2.py3-none-any.whl (12 kB)\n",
      "Collecting absl-py>=1.0.0\n",
      "  Using cached absl_py-1.3.0-py3-none-any.whl (124 kB)\n",
      "Collecting keras-preprocessing>=1.1.1\n",
      "  Using cached Keras_Preprocessing-1.1.2-py2.py3-none-any.whl (42 kB)\n",
      "Collecting opt-einsum>=2.3.2\n",
      "  Using cached opt_einsum-3.3.0-py3-none-any.whl (65 kB)\n",
      "Collecting gast<=0.4.0,>=0.2.1\n",
      "  Using cached gast-0.4.0-py3-none-any.whl (9.8 kB)\n",
      "Collecting tensorflow-io-gcs-filesystem>=0.23.1\n",
      "  Using cached tensorflow_io_gcs_filesystem-0.27.0-cp38-cp38-macosx_10_14_x86_64.whl (1.6 MB)\n",
      "Requirement already satisfied: h5py>=2.9.0 in /Applications/anaconda3/lib/python3.8/site-packages (from tensorflow) (2.10.0)\n",
      "Collecting keras<2.11,>=2.10.0\n",
      "  Downloading keras-2.10.0-py2.py3-none-any.whl (1.7 MB)\n",
      "\u001b[K     |████████████████████████████████| 1.7 MB 25.4 MB/s eta 0:00:01\n",
      "\u001b[?25hRequirement already satisfied: wheel<1.0,>=0.23.0 in /Applications/anaconda3/lib/python3.8/site-packages (from astunparse>=1.6.0->tensorflow) (0.36.2)\n",
      "Requirement already satisfied: werkzeug>=1.0.1 in /Applications/anaconda3/lib/python3.8/site-packages (from tensorboard<2.11,>=2.10->tensorflow) (1.0.1)\n",
      "Requirement already satisfied: requests<3,>=2.21.0 in /Applications/anaconda3/lib/python3.8/site-packages (from tensorboard<2.11,>=2.10->tensorflow) (2.25.1)\n",
      "Collecting google-auth<3,>=1.6.3\n",
      "  Using cached google_auth-2.14.0-py2.py3-none-any.whl (175 kB)\n",
      "Collecting google-auth-oauthlib<0.5,>=0.4.1\n",
      "  Using cached google_auth_oauthlib-0.4.6-py2.py3-none-any.whl (18 kB)\n",
      "Collecting markdown>=2.6.8\n",
      "  Using cached Markdown-3.4.1-py3-none-any.whl (93 kB)\n",
      "Collecting tensorboard-data-server<0.7.0,>=0.6.0\n",
      "  Using cached tensorboard_data_server-0.6.1-py3-none-macosx_10_9_x86_64.whl (3.5 MB)\n",
      "Collecting tensorboard-plugin-wit>=1.6.0\n",
      "  Using cached tensorboard_plugin_wit-1.8.1-py3-none-any.whl (781 kB)\n",
      "Collecting rsa<5,>=3.1.4\n",
      "  Using cached rsa-4.9-py3-none-any.whl (34 kB)\n",
      "Collecting pyasn1-modules>=0.2.1\n",
      "  Using cached pyasn1_modules-0.2.8-py2.py3-none-any.whl (155 kB)\n",
      "Collecting cachetools<6.0,>=2.0.0\n",
      "  Using cached cachetools-5.2.0-py3-none-any.whl (9.3 kB)\n",
      "Collecting requests-oauthlib>=0.7.0\n",
      "  Using cached requests_oauthlib-1.3.1-py2.py3-none-any.whl (23 kB)\n",
      "Collecting importlib-metadata>=4.4\n",
      "  Using cached importlib_metadata-5.0.0-py3-none-any.whl (21 kB)\n",
      "Requirement already satisfied: zipp>=0.5 in /Applications/anaconda3/lib/python3.8/site-packages (from importlib-metadata>=4.4->markdown>=2.6.8->tensorboard<2.11,>=2.10->tensorflow) (3.4.1)\n",
      "Collecting pyasn1<0.5.0,>=0.4.6\n",
      "  Using cached pyasn1-0.4.8-py2.py3-none-any.whl (77 kB)\n",
      "Requirement already satisfied: urllib3<1.27,>=1.21.1 in /Applications/anaconda3/lib/python3.8/site-packages (from requests<3,>=2.21.0->tensorboard<2.11,>=2.10->tensorflow) (1.26.4)\n",
      "Requirement already satisfied: certifi>=2017.4.17 in /Applications/anaconda3/lib/python3.8/site-packages (from requests<3,>=2.21.0->tensorboard<2.11,>=2.10->tensorflow) (2020.12.5)\n",
      "Requirement already satisfied: chardet<5,>=3.0.2 in /Applications/anaconda3/lib/python3.8/site-packages (from requests<3,>=2.21.0->tensorboard<2.11,>=2.10->tensorflow) (4.0.0)\n",
      "Requirement already satisfied: idna<3,>=2.5 in /Applications/anaconda3/lib/python3.8/site-packages (from requests<3,>=2.21.0->tensorboard<2.11,>=2.10->tensorflow) (2.10)\n",
      "Collecting oauthlib>=3.0.0\n",
      "  Using cached oauthlib-3.2.2-py3-none-any.whl (151 kB)\n",
      "Requirement already satisfied: pyparsing>=2.0.2 in /Applications/anaconda3/lib/python3.8/site-packages (from packaging->tensorflow) (2.4.7)\n",
      "Installing collected packages: pyasn1, rsa, pyasn1-modules, oauthlib, cachetools, requests-oauthlib, importlib-metadata, google-auth, tensorboard-plugin-wit, tensorboard-data-server, protobuf, markdown, grpcio, google-auth-oauthlib, absl-py, termcolor, tensorflow-io-gcs-filesystem, tensorflow-estimator, tensorboard, opt-einsum, libclang, keras-preprocessing, keras, google-pasta, gast, flatbuffers, astunparse, tensorflow\n",
      "  Attempting uninstall: importlib-metadata\n",
      "    Found existing installation: importlib-metadata 3.10.0\n",
      "    Uninstalling importlib-metadata-3.10.0:\n",
      "      Successfully uninstalled importlib-metadata-3.10.0\n",
      "Successfully installed absl-py-1.3.0 astunparse-1.6.3 cachetools-5.2.0 flatbuffers-22.10.26 gast-0.4.0 google-auth-2.14.0 google-auth-oauthlib-0.4.6 google-pasta-0.2.0 grpcio-1.50.0 importlib-metadata-5.0.0 keras-2.10.0 keras-preprocessing-1.1.2 libclang-14.0.6 markdown-3.4.1 oauthlib-3.2.2 opt-einsum-3.3.0 protobuf-3.19.6 pyasn1-0.4.8 pyasn1-modules-0.2.8 requests-oauthlib-1.3.1 rsa-4.9 tensorboard-2.10.1 tensorboard-data-server-0.6.1 tensorboard-plugin-wit-1.8.1 tensorflow-2.10.0 tensorflow-estimator-2.10.0 tensorflow-io-gcs-filesystem-0.27.0 termcolor-2.1.0\n"
     ]
    }
   ],
   "source": [
    "import sys\n",
    "!$sys.executable -m pip install tensorflow ##Installing tensorflow"
   ]
  },
  {
   "cell_type": "code",
   "execution_count": 1,
   "id": "f990451b-199e-4733-9fdb-9254564482f7",
   "metadata": {},
   "outputs": [],
   "source": [
    "import numpy\n",
    "import tensorflow as tf\n",
    "from tensorflow import keras\n",
    "from tensorflow.keras import Sequential, layers, callbacks\n",
    "from tensorflow.keras.layers import Dense, LSTM, Dropout, GRU, Bidirectional\n",
    "import pandas as pd\n",
    "import numpy as np"
   ]
  },
  {
   "cell_type": "code",
   "execution_count": 2,
   "id": "dac92291-3580-469c-99b8-0169b0eb87a9",
   "metadata": {},
   "outputs": [],
   "source": [
    "tf.random.set_seed(3)"
   ]
  },
  {
   "cell_type": "code",
   "execution_count": 3,
   "id": "306515fd-5a03-4ee0-b905-8fc09076b816",
   "metadata": {},
   "outputs": [
    {
     "data": {
      "text/html": [
       "<div>\n",
       "<style scoped>\n",
       "    .dataframe tbody tr th:only-of-type {\n",
       "        vertical-align: middle;\n",
       "    }\n",
       "\n",
       "    .dataframe tbody tr th {\n",
       "        vertical-align: top;\n",
       "    }\n",
       "\n",
       "    .dataframe thead th {\n",
       "        text-align: right;\n",
       "    }\n",
       "</style>\n",
       "<table border=\"1\" class=\"dataframe\">\n",
       "  <thead>\n",
       "    <tr style=\"text-align: right;\">\n",
       "      <th></th>\n",
       "      <th>ChangeSP500</th>\n",
       "      <th>save.Value</th>\n",
       "      <th>CPI</th>\n",
       "      <th>FederalFundsRate</th>\n",
       "      <th>X10YrTreasuryYield</th>\n",
       "      <th>EconomicPolicyUncertainty</th>\n",
       "      <th>CrudeOilPrice</th>\n",
       "      <th>FederalReserveLoans</th>\n",
       "      <th>FedReservesOnHand</th>\n",
       "      <th>Index</th>\n",
       "      <th>ExpectedStockIncrease</th>\n",
       "      <th>InterestRates</th>\n",
       "    </tr>\n",
       "    <tr>\n",
       "      <th>Date</th>\n",
       "      <th></th>\n",
       "      <th></th>\n",
       "      <th></th>\n",
       "      <th></th>\n",
       "      <th></th>\n",
       "      <th></th>\n",
       "      <th></th>\n",
       "      <th></th>\n",
       "      <th></th>\n",
       "      <th></th>\n",
       "      <th></th>\n",
       "      <th></th>\n",
       "    </tr>\n",
       "  </thead>\n",
       "  <tbody>\n",
       "    <tr>\n",
       "      <th>2010-07-31</th>\n",
       "      <td>0.068778</td>\n",
       "      <td>6.4</td>\n",
       "      <td>217.923</td>\n",
       "      <td>0.16</td>\n",
       "      <td>3.42</td>\n",
       "      <td>84.82</td>\n",
       "      <td>20.74</td>\n",
       "      <td>49773</td>\n",
       "      <td>995.183</td>\n",
       "      <td>67.8</td>\n",
       "      <td>44.7</td>\n",
       "      <td>2.357143</td>\n",
       "    </tr>\n",
       "    <tr>\n",
       "      <th>2010-08-31</th>\n",
       "      <td>-0.047449</td>\n",
       "      <td>6.5</td>\n",
       "      <td>218.275</td>\n",
       "      <td>0.10</td>\n",
       "      <td>3.47</td>\n",
       "      <td>81.91</td>\n",
       "      <td>24.42</td>\n",
       "      <td>47564</td>\n",
       "      <td>1003.206</td>\n",
       "      <td>68.9</td>\n",
       "      <td>45.4</td>\n",
       "      <td>2.323232</td>\n",
       "    </tr>\n",
       "    <tr>\n",
       "      <th>2010-09-30</th>\n",
       "      <td>0.087551</td>\n",
       "      <td>6.5</td>\n",
       "      <td>219.035</td>\n",
       "      <td>0.09</td>\n",
       "      <td>3.32</td>\n",
       "      <td>75.96</td>\n",
       "      <td>26.27</td>\n",
       "      <td>46685</td>\n",
       "      <td>1011.124</td>\n",
       "      <td>68.2</td>\n",
       "      <td>45.2</td>\n",
       "      <td>2.222222</td>\n",
       "    </tr>\n",
       "    <tr>\n",
       "      <th>2010-10-31</th>\n",
       "      <td>0.036856</td>\n",
       "      <td>6.3</td>\n",
       "      <td>219.590</td>\n",
       "      <td>0.10</td>\n",
       "      <td>3.05</td>\n",
       "      <td>71.40</td>\n",
       "      <td>27.02</td>\n",
       "      <td>45084</td>\n",
       "      <td>1027.089</td>\n",
       "      <td>67.7</td>\n",
       "      <td>46.4</td>\n",
       "      <td>2.313131</td>\n",
       "    </tr>\n",
       "    <tr>\n",
       "      <th>2010-11-30</th>\n",
       "      <td>-0.002290</td>\n",
       "      <td>6.1</td>\n",
       "      <td>220.472</td>\n",
       "      <td>0.07</td>\n",
       "      <td>3.18</td>\n",
       "      <td>128.68</td>\n",
       "      <td>25.52</td>\n",
       "      <td>23259</td>\n",
       "      <td>1078.051</td>\n",
       "      <td>71.6</td>\n",
       "      <td>50.5</td>\n",
       "      <td>2.252525</td>\n",
       "    </tr>\n",
       "  </tbody>\n",
       "</table>\n",
       "</div>"
      ],
      "text/plain": [
       "            ChangeSP500  save.Value      CPI  FederalFundsRate  \\\n",
       "Date                                                             \n",
       "2010-07-31     0.068778         6.4  217.923              0.16   \n",
       "2010-08-31    -0.047449         6.5  218.275              0.10   \n",
       "2010-09-30     0.087551         6.5  219.035              0.09   \n",
       "2010-10-31     0.036856         6.3  219.590              0.10   \n",
       "2010-11-30    -0.002290         6.1  220.472              0.07   \n",
       "\n",
       "            X10YrTreasuryYield  EconomicPolicyUncertainty  CrudeOilPrice  \\\n",
       "Date                                                                       \n",
       "2010-07-31                3.42                      84.82          20.74   \n",
       "2010-08-31                3.47                      81.91          24.42   \n",
       "2010-09-30                3.32                      75.96          26.27   \n",
       "2010-10-31                3.05                      71.40          27.02   \n",
       "2010-11-30                3.18                     128.68          25.52   \n",
       "\n",
       "            FederalReserveLoans  FedReservesOnHand  Index  \\\n",
       "Date                                                        \n",
       "2010-07-31                49773            995.183   67.8   \n",
       "2010-08-31                47564           1003.206   68.9   \n",
       "2010-09-30                46685           1011.124   68.2   \n",
       "2010-10-31                45084           1027.089   67.7   \n",
       "2010-11-30                23259           1078.051   71.6   \n",
       "\n",
       "            ExpectedStockIncrease  InterestRates  \n",
       "Date                                              \n",
       "2010-07-31                   44.7       2.357143  \n",
       "2010-08-31                   45.4       2.323232  \n",
       "2010-09-30                   45.2       2.222222  \n",
       "2010-10-31                   46.4       2.313131  \n",
       "2010-11-30                   50.5       2.252525  "
      ]
     },
     "execution_count": 3,
     "metadata": {},
     "output_type": "execute_result"
    }
   ],
   "source": [
    "file = 'SP500predictive.csv'\n",
    "raw_data = pd.read_csv(file, parse_dates = ['Date'], index_col = \"Date\")\n",
    "\n",
    "df = raw_data.copy()\n",
    "df = df.iloc[::-1]\n",
    "df.head()"
   ]
  },
  {
   "cell_type": "code",
   "execution_count": 5,
   "id": "375159be-e9e8-445d-b9b3-885f7f721c4b",
   "metadata": {},
   "outputs": [
    {
     "data": {
      "text/plain": [
       "<AxesSubplot:xlabel='Date'>"
      ]
     },
     "execution_count": 5,
     "metadata": {},
     "output_type": "execute_result"
    },
    {
     "data": {
      "image/png": "[encoded data removed]",
      "text/plain": [
       "<Figure size 432x288 with 1 Axes>"
      ]
     },
     "metadata": {
      "needs_background": "light"
     },
     "output_type": "display_data"
    }
   ],
   "source": [
    "SP500 = df['ChangeSP500']\n",
    "SP500.plot()"
   ]
  },
  {
   "cell_type": "code",
   "execution_count": 8,
   "id": "cefa9560-2a51-489d-8901-ad72f256f6ee",
   "metadata": {},
   "outputs": [],
   "source": [
    "SP500.to_csv('SP500Autocorr.csv')"
   ]
  },
  {
   "cell_type": "code",
   "execution_count": 7,
   "id": "d7bc7e42-ef2a-4abb-9205-198a862c99bc",
   "metadata": {},
   "outputs": [
    {
     "data": {
      "image/png": "[encoded data removed]",
      "text/plain": [
       "<Figure size 432x288 with 1 Axes>"
      ]
     },
     "metadata": {
      "needs_background": "light"
     },
     "output_type": "display_data"
    }
   ],
   "source": [
    "from statsmodels.graphics.tsaplots import plot_acf\n",
    "import matplotlib.pyplot as plt\n",
    "\n",
    "plot_acf(SP500, lags = 50)\n",
    "plt.show()"
   ]
  },
  {
   "cell_type": "code",
   "execution_count": 15,
   "id": "a89cb6e7-9213-4abf-84c4-b395870536a0",
   "metadata": {},
   "outputs": [],
   "source": [
    "def dfToXY(df, window_size=5):\n",
    "    df_as_np = df.to_numpy()\n",
    "    x = []\n",
    "    y = []\n",
    "    for i in range(len(df_as_np)-window_size):\n",
    "        row = [r for r in df_as_np[i:i+window_size]]\n",
    "        x.append(row)\n",
    "        label = df_as_np[i+window_size][0]\n",
    "        y.append(label)\n",
    "    return np.array(x), np.array(y)"
   ]
  },
  {
   "cell_type": "code",
   "execution_count": 16,
   "id": "40897b04-0653-42b4-b555-5c4fa3288cdb",
   "metadata": {},
   "outputs": [
    {
     "data": {
      "text/plain": [
       "((134, 4, 12), (134,))"
      ]
     },
     "execution_count": 16,
     "metadata": {},
     "output_type": "execute_result"
    }
   ],
   "source": [
    "x,y = dfToXY(df, 4)\n",
    "x.shape, y.shape"
   ]
  },
  {
   "cell_type": "code",
   "execution_count": 17,
   "id": "19dd9b76-d28d-4dbd-ba36-1eb660a96cd3",
   "metadata": {},
   "outputs": [
    {
     "data": {
      "text/plain": [
       "(134, 4, 12)"
      ]
     },
     "execution_count": 17,
     "metadata": {},
     "output_type": "execute_result"
    }
   ],
   "source": [
    "x = np.squeeze(x) #getting rid of the third dimension (=value 1) from x array\n",
    "x.shape"
   ]
  },
  {
   "cell_type": "code",
   "execution_count": 21,
   "id": "821ba797-3219-4f1a-b836-4e87ae74684a",
   "metadata": {},
   "outputs": [
    {
     "data": {
      "text/plain": [
       "((110, 4, 12), (110,), (6, 4, 12), (6,), (18, 4, 12), (18,))"
      ]
     },
     "execution_count": 21,
     "metadata": {},
     "output_type": "execute_result"
    }
   ],
   "source": [
    "trainSize = int(len(df)*0.80)\n",
    "valSize = int(len(df)*.05)\n",
    "xTrain, yTrain = x[:trainSize], y[:trainSize]\n",
    "xVal, yVal = x[trainSize:trainSize+valSize], y[trainSize:trainSize+valSize]\n",
    "xTest, yTest = x[trainSize+valSize:], y[trainSize+valSize:]\n",
    "xTrain.shape, yTrain.shape, xVal.shape,yVal.shape,xTest.shape, yTest.shape"
   ]
  },
  {
   "cell_type": "code",
   "execution_count": 19,
   "id": "6688a87b-0451-4418-9839-4369dbbcf4b0",
   "metadata": {},
   "outputs": [],
   "source": [
    "SPTrainMean = np.mean(xTrain[:, :, 0])\n",
    "SPTrainStd = np.std(xTrain[:, :, 0])\n",
    "\n",
    "#print(SPTrainMean)\n",
    "#print(SPTrainStd)                   \n",
    "\n",
    "def preprocess(x):\n",
    "    x[:, :, 0] = (x[:, :, 0] - SPTrainMean) / SPTrainStd\n",
    "    return x"
   ]
  },
  {
   "cell_type": "code",
   "execution_count": 22,
   "id": "24e00ee2-6dd1-48c1-93d4-a553a3494bcf",
   "metadata": {},
   "outputs": [
    {
     "data": {
      "text/plain": [
       "array([[[ 5.80824031e+00,  7.30000000e+00,  2.57305000e+02,\n",
       "          5.00000000e-02,  6.40000000e-01,  4.40070000e+02,\n",
       "          1.10040000e+02,  4.00000000e+01,  1.52669700e+03,\n",
       "          9.32000000e+01,  5.68000000e+01,  2.07142857e+00],\n",
       "        [ 8.56155977e+00,  7.40000000e+00,  2.57788000e+02,\n",
       "          5.00000000e-02,  6.50000000e-01,  5.57190000e+02,\n",
       "          1.01330000e+02,  1.30000000e+01,  1.65192700e+03,\n",
       "          9.55000000e+01,  5.71000000e+01,  2.19191919e+00],\n",
       "        [ 2.00940644e+01,  7.50000000e+00,  2.58263000e+02,\n",
       "          8.00000000e-02,  6.60000000e-01,  2.92370000e+02,\n",
       "          9.62900000e+01,  3.40000000e+01,  1.61634200e+03,\n",
       "          9.68000000e+01,  6.10000000e+01,  2.18367347e+00],\n",
       "        [ 1.54716316e+01,  7.30000000e+00,  2.58682000e+02,\n",
       "          1.00000000e-01,  5.50000000e-01,  3.84080000e+02,\n",
       "          9.71900000e+01,  1.30000000e+01,  1.62646900e+03,\n",
       "          9.93000000e+01,  6.38000000e+01,  2.23711340e+00]],\n",
       "\n",
       "       [[ 8.56155977e+00,  7.40000000e+00,  2.57788000e+02,\n",
       "          5.00000000e-02,  6.50000000e-01,  5.57190000e+02,\n",
       "          1.01330000e+02,  1.30000000e+01,  1.65192700e+03,\n",
       "          9.55000000e+01,  5.71000000e+01,  2.19191919e+00],\n",
       "        [ 2.00940644e+01,  7.50000000e+00,  2.58263000e+02,\n",
       "          8.00000000e-02,  6.60000000e-01,  2.92370000e+02,\n",
       "          9.62900000e+01,  3.40000000e+01,  1.61634200e+03,\n",
       "          9.68000000e+01,  6.10000000e+01,  2.18367347e+00],\n",
       "        [ 1.54716316e+01,  7.30000000e+00,  2.58682000e+02,\n",
       "          1.00000000e-01,  5.50000000e-01,  3.84080000e+02,\n",
       "          9.71900000e+01,  1.30000000e+01,  1.62646900e+03,\n",
       "          9.93000000e+01,  6.38000000e+01,  2.23711340e+00],\n",
       "        [-1.01236586e+01,  7.80000000e+00,  2.59007000e+02,\n",
       "          9.00000000e-02,  7.20000000e-01,  1.69100000e+02,\n",
       "          8.63300000e+01,  1.09119000e+05,  2.18697100e+03,\n",
       "          9.98000000e+01,  6.56000000e+01,  2.27272727e+00]],\n",
       "\n",
       "       [[ 2.00940644e+01,  7.50000000e+00,  2.58263000e+02,\n",
       "          8.00000000e-02,  6.60000000e-01,  2.92370000e+02,\n",
       "          9.62900000e+01,  3.40000000e+01,  1.61634200e+03,\n",
       "          9.68000000e+01,  6.10000000e+01,  2.18367347e+00],\n",
       "        [ 1.54716316e+01,  7.30000000e+00,  2.58682000e+02,\n",
       "          1.00000000e-01,  5.50000000e-01,  3.84080000e+02,\n",
       "          9.71900000e+01,  1.30000000e+01,  1.62646900e+03,\n",
       "          9.93000000e+01,  6.38000000e+01,  2.23711340e+00],\n",
       "        [-1.01236586e+01,  7.80000000e+00,  2.59007000e+02,\n",
       "          9.00000000e-02,  7.20000000e-01,  1.69100000e+02,\n",
       "          8.63300000e+01,  1.09119000e+05,  2.18697100e+03,\n",
       "          9.98000000e+01,  6.56000000e+01,  2.27272727e+00],\n",
       "        [-7.99882394e+01,  8.30000000e+00,  2.58165000e+02,\n",
       "          9.00000000e-02,  6.90000000e-01,  2.07770000e+02,\n",
       "          8.56100000e+01,  1.23028000e+05,  3.15914200e+03,\n",
       "          1.01000000e+02,  6.56000000e+01,  2.32323232e+00]],\n",
       "\n",
       "       [[ 1.54716316e+01,  7.30000000e+00,  2.58682000e+02,\n",
       "          1.00000000e-01,  5.50000000e-01,  3.84080000e+02,\n",
       "          9.71900000e+01,  1.30000000e+01,  1.62646900e+03,\n",
       "          9.93000000e+01,  6.38000000e+01,  2.23711340e+00],\n",
       "        [-1.01236586e+01,  7.80000000e+00,  2.59007000e+02,\n",
       "          9.00000000e-02,  7.20000000e-01,  1.69100000e+02,\n",
       "          8.63300000e+01,  1.09119000e+05,  2.18697100e+03,\n",
       "          9.98000000e+01,  6.56000000e+01,  2.27272727e+00],\n",
       "        [-7.99882394e+01,  8.30000000e+00,  2.58165000e+02,\n",
       "          9.00000000e-02,  6.90000000e-01,  2.07770000e+02,\n",
       "          8.56100000e+01,  1.23028000e+05,  3.15914200e+03,\n",
       "          1.01000000e+02,  6.56000000e+01,  2.32323232e+00],\n",
       "        [-1.14723734e+02,  1.31000000e+01,  2.56094000e+02,\n",
       "          9.00000000e-02,  8.80000000e-01,  1.86360000e+02,\n",
       "          8.64100000e+01,  1.06896000e+05,  3.26814400e+03,\n",
       "          8.91000000e+01,  5.76000000e+01,  1.97959184e+00]],\n",
       "\n",
       "       [[-1.01236586e+01,  7.80000000e+00,  2.59007000e+02,\n",
       "          9.00000000e-02,  7.20000000e-01,  1.69100000e+02,\n",
       "          8.63300000e+01,  1.09119000e+05,  2.18697100e+03,\n",
       "          9.98000000e+01,  6.56000000e+01,  2.27272727e+00],\n",
       "        [-7.99882394e+01,  8.30000000e+00,  2.58165000e+02,\n",
       "          9.00000000e-02,  6.90000000e-01,  2.07770000e+02,\n",
       "          8.56100000e+01,  1.23028000e+05,  3.15914200e+03,\n",
       "          1.01000000e+02,  6.56000000e+01,  2.32323232e+00],\n",
       "        [-1.14723734e+02,  1.31000000e+01,  2.56094000e+02,\n",
       "          9.00000000e-02,  8.80000000e-01,  1.86360000e+02,\n",
       "          8.64100000e+01,  1.06896000e+05,  3.26814400e+03,\n",
       "          8.91000000e+01,  5.76000000e+01,  1.97959184e+00],\n",
       "        [ 9.86954130e+01,  3.38000000e+01,  2.55944000e+02,\n",
       "          9.00000000e-02,  8.40000000e-01,  1.56150000e+02,\n",
       "          9.72100000e+01,  9.53600000e+04,  2.91875600e+03,\n",
       "          7.18000000e+01,  5.62000000e+01,  2.01010101e+00]],\n",
       "\n",
       "       [[-7.99882394e+01,  8.30000000e+00,  2.58165000e+02,\n",
       "          9.00000000e-02,  6.90000000e-01,  2.07770000e+02,\n",
       "          8.56100000e+01,  1.23028000e+05,  3.15914200e+03,\n",
       "          1.01000000e+02,  6.56000000e+01,  2.32323232e+00],\n",
       "        [-1.14723734e+02,  1.31000000e+01,  2.56094000e+02,\n",
       "          9.00000000e-02,  8.80000000e-01,  1.86360000e+02,\n",
       "          8.64100000e+01,  1.06896000e+05,  3.26814400e+03,\n",
       "          8.91000000e+01,  5.76000000e+01,  1.97959184e+00],\n",
       "        [ 9.86954130e+01,  3.38000000e+01,  2.55944000e+02,\n",
       "          9.00000000e-02,  8.40000000e-01,  1.56150000e+02,\n",
       "          9.72100000e+01,  9.53600000e+04,  2.91875600e+03,\n",
       "          7.18000000e+01,  5.62000000e+01,  2.01010101e+00],\n",
       "        [ 2.96101378e+01,  2.48000000e+01,  2.57217000e+02,\n",
       "          9.00000000e-02,  9.30000000e-01,  3.07120000e+02,\n",
       "          9.85700000e+01,  9.05230000e+04,  2.61527200e+03,\n",
       "          7.23000000e+01,  5.39000000e+01,  2.02040816e+00]]])"
      ]
     },
     "execution_count": 22,
     "metadata": {},
     "output_type": "execute_result"
    }
   ],
   "source": [
    "preprocess(xTrain)\n",
    "preprocess(xTest)\n",
    "preprocess(xVal)"
   ]
  },
  {
   "cell_type": "code",
   "execution_count": 23,
   "id": "972e4550-9f6d-43e9-b94d-06136af8912e",
   "metadata": {},
   "outputs": [],
   "source": [
    "from tensorflow.keras.models import Sequential\n",
    "\n",
    "from tensorflow.keras.layers import *\n",
    "from tensorflow.keras.callbacks import ModelCheckpoint\n",
    "from tensorflow.keras.losses import MeanSquaredError\n",
    "from tensorflow.keras.metrics import RootMeanSquaredError\n",
    "from tensorflow.keras.optimizers import Adam"
   ]
  },
  {
   "cell_type": "code",
   "execution_count": 69,
   "id": "28673c71-0ff9-4c27-b49a-4cc9d9228b04",
   "metadata": {},
   "outputs": [
    {
     "name": "stdout",
     "output_type": "stream",
     "text": [
      "Model: \"sequential_6\"\n",
      "_________________________________________________________________\n",
      " Layer (type)                Output Shape              Param #   \n",
      "=================================================================\n",
      " lstm_11 (LSTM)              (None, 100)               45200     \n",
      "                                                                 \n",
      " dense_8 (Dense)             (None, 8)                 808       \n",
      "                                                                 \n",
      " dense_9 (Dense)             (None, 1)                 9         \n",
      "                                                                 \n",
      "=================================================================\n",
      "Total params: 46,017\n",
      "Trainable params: 46,017\n",
      "Non-trainable params: 0\n",
      "_________________________________________________________________\n"
     ]
    }
   ],
   "source": [
    "model1 = Sequential()\n",
    "model1.add(InputLayer((4, 12)))\n",
    "model1.add(LSTM(100))\n",
    "model1.add(Dense(8, 'relu'))\n",
    "model1.add(Dense(1, 'linear'))\n",
    "\n",
    "model1.summary()"
   ]
  },
  {
   "cell_type": "code",
   "execution_count": 70,
   "id": "f2a71a97-a1b8-49fe-ad8b-2b7d982114ff",
   "metadata": {},
   "outputs": [],
   "source": [
    "cp = ModelCheckpoint(\"model1/\", save_best_only = True, monitor = \"loss\")\n",
    "model1.compile(loss=MeanSquaredError(),optimizer=Adam(learning_rate = 0.0001), metrics=[RootMeanSquaredError()])"
   ]
  },
  {
   "cell_type": "code",
   "execution_count": 94,
   "id": "6617ada7-daf1-4ef4-abc9-39cd498101c0",
   "metadata": {},
   "outputs": [
    {
     "name": "stdout",
     "output_type": "stream",
     "text": [
      "Epoch 1/10\n",
      "1/4 [======>.......................] - ETA: 0s - loss: 0.0181 - root_mean_squared_error: 0.1347"
     ]
    },
    {
     "name": "stderr",
     "output_type": "stream",
     "text": [
      "WARNING:absl:Found untraced functions such as lstm_cell_11_layer_call_fn, lstm_cell_11_layer_call_and_return_conditional_losses while saving (showing 2 of 2). These functions will not be directly callable after loading.\n"
     ]
    },
    {
     "name": "stdout",
     "output_type": "stream",
     "text": [
      "INFO:tensorflow:Assets written to: model1/assets\n"
     ]
    },
    {
     "name": "stderr",
     "output_type": "stream",
     "text": [
      "INFO:tensorflow:Assets written to: model1/assets\n"
     ]
    },
    {
     "name": "stdout",
     "output_type": "stream",
     "text": [
      "4/4 [==============================] - 5s 2s/step - loss: 0.0344 - root_mean_squared_error: 0.1854 - val_loss: 0.1837 - val_root_mean_squared_error: 0.4286\n",
      "Epoch 2/10\n",
      "1/4 [======>.......................] - ETA: 0s - loss: 0.0461 - root_mean_squared_error: 0.2148"
     ]
    },
    {
     "name": "stderr",
     "output_type": "stream",
     "text": [
      "WARNING:absl:Found untraced functions such as lstm_cell_11_layer_call_fn, lstm_cell_11_layer_call_and_return_conditional_losses while saving (showing 2 of 2). These functions will not be directly callable after loading.\n"
     ]
    },
    {
     "name": "stdout",
     "output_type": "stream",
     "text": [
      "INFO:tensorflow:Assets written to: model1/assets\n"
     ]
    },
    {
     "name": "stderr",
     "output_type": "stream",
     "text": [
      "INFO:tensorflow:Assets written to: model1/assets\n"
     ]
    },
    {
     "name": "stdout",
     "output_type": "stream",
     "text": [
      "4/4 [==============================] - 4s 1s/step - loss: 0.0299 - root_mean_squared_error: 0.1729 - val_loss: 0.1782 - val_root_mean_squared_error: 0.4221\n",
      "Epoch 3/10\n",
      "1/4 [======>.......................] - ETA: 0s - loss: 0.0295 - root_mean_squared_error: 0.1717"
     ]
    },
    {
     "name": "stderr",
     "output_type": "stream",
     "text": [
      "WARNING:absl:Found untraced functions such as lstm_cell_11_layer_call_fn, lstm_cell_11_layer_call_and_return_conditional_losses while saving (showing 2 of 2). These functions will not be directly callable after loading.\n"
     ]
    },
    {
     "name": "stdout",
     "output_type": "stream",
     "text": [
      "INFO:tensorflow:Assets written to: model1/assets\n"
     ]
    },
    {
     "name": "stderr",
     "output_type": "stream",
     "text": [
      "INFO:tensorflow:Assets written to: model1/assets\n"
     ]
    },
    {
     "name": "stdout",
     "output_type": "stream",
     "text": [
      "4/4 [==============================] - 5s 2s/step - loss: 0.0254 - root_mean_squared_error: 0.1593 - val_loss: 0.1759 - val_root_mean_squared_error: 0.4194\n",
      "Epoch 4/10\n",
      "1/4 [======>.......................] - ETA: 0s - loss: 0.0103 - root_mean_squared_error: 0.1017"
     ]
    },
    {
     "name": "stderr",
     "output_type": "stream",
     "text": [
      "WARNING:absl:Found untraced functions such as lstm_cell_11_layer_call_fn, lstm_cell_11_layer_call_and_return_conditional_losses while saving (showing 2 of 2). These functions will not be directly callable after loading.\n"
     ]
    },
    {
     "name": "stdout",
     "output_type": "stream",
     "text": [
      "INFO:tensorflow:Assets written to: model1/assets\n"
     ]
    },
    {
     "name": "stderr",
     "output_type": "stream",
     "text": [
      "INFO:tensorflow:Assets written to: model1/assets\n"
     ]
    },
    {
     "name": "stdout",
     "output_type": "stream",
     "text": [
      "4/4 [==============================] - 4s 1s/step - loss: 0.0219 - root_mean_squared_error: 0.1478 - val_loss: 0.1747 - val_root_mean_squared_error: 0.4180\n",
      "Epoch 5/10\n",
      "1/4 [======>.......................] - ETA: 0s - loss: 0.0348 - root_mean_squared_error: 0.1866"
     ]
    },
    {
     "name": "stderr",
     "output_type": "stream",
     "text": [
      "WARNING:absl:Found untraced functions such as lstm_cell_11_layer_call_fn, lstm_cell_11_layer_call_and_return_conditional_losses while saving (showing 2 of 2). These functions will not be directly callable after loading.\n"
     ]
    },
    {
     "name": "stdout",
     "output_type": "stream",
     "text": [
      "INFO:tensorflow:Assets written to: model1/assets\n"
     ]
    },
    {
     "name": "stderr",
     "output_type": "stream",
     "text": [
      "INFO:tensorflow:Assets written to: model1/assets\n"
     ]
    },
    {
     "name": "stdout",
     "output_type": "stream",
     "text": [
      "4/4 [==============================] - 5s 2s/step - loss: 0.0197 - root_mean_squared_error: 0.1403 - val_loss: 0.1741 - val_root_mean_squared_error: 0.4173\n",
      "Epoch 6/10\n",
      "1/4 [======>.......................] - ETA: 0s - loss: 0.0203 - root_mean_squared_error: 0.1426"
     ]
    },
    {
     "name": "stderr",
     "output_type": "stream",
     "text": [
      "WARNING:absl:Found untraced functions such as lstm_cell_11_layer_call_fn, lstm_cell_11_layer_call_and_return_conditional_losses while saving (showing 2 of 2). These functions will not be directly callable after loading.\n"
     ]
    },
    {
     "name": "stdout",
     "output_type": "stream",
     "text": [
      "INFO:tensorflow:Assets written to: model1/assets\n"
     ]
    },
    {
     "name": "stderr",
     "output_type": "stream",
     "text": [
      "INFO:tensorflow:Assets written to: model1/assets\n"
     ]
    },
    {
     "name": "stdout",
     "output_type": "stream",
     "text": [
      "4/4 [==============================] - 5s 2s/step - loss: 0.0175 - root_mean_squared_error: 0.1322 - val_loss: 0.1737 - val_root_mean_squared_error: 0.4168\n",
      "Epoch 7/10\n",
      "1/4 [======>.......................] - ETA: 0s - loss: 0.0166 - root_mean_squared_error: 0.1288"
     ]
    },
    {
     "name": "stderr",
     "output_type": "stream",
     "text": [
      "WARNING:absl:Found untraced functions such as lstm_cell_11_layer_call_fn, lstm_cell_11_layer_call_and_return_conditional_losses while saving (showing 2 of 2). These functions will not be directly callable after loading.\n"
     ]
    },
    {
     "name": "stdout",
     "output_type": "stream",
     "text": [
      "INFO:tensorflow:Assets written to: model1/assets\n"
     ]
    },
    {
     "name": "stderr",
     "output_type": "stream",
     "text": [
      "INFO:tensorflow:Assets written to: model1/assets\n"
     ]
    },
    {
     "name": "stdout",
     "output_type": "stream",
     "text": [
      "4/4 [==============================] - 4s 1s/step - loss: 0.0160 - root_mean_squared_error: 0.1265 - val_loss: 0.1733 - val_root_mean_squared_error: 0.4163\n",
      "Epoch 8/10\n",
      "1/4 [======>.......................] - ETA: 0s - loss: 0.0139 - root_mean_squared_error: 0.1180"
     ]
    },
    {
     "name": "stderr",
     "output_type": "stream",
     "text": [
      "WARNING:absl:Found untraced functions such as lstm_cell_11_layer_call_fn, lstm_cell_11_layer_call_and_return_conditional_losses while saving (showing 2 of 2). These functions will not be directly callable after loading.\n"
     ]
    },
    {
     "name": "stdout",
     "output_type": "stream",
     "text": [
      "INFO:tensorflow:Assets written to: model1/assets\n"
     ]
    },
    {
     "name": "stderr",
     "output_type": "stream",
     "text": [
      "INFO:tensorflow:Assets written to: model1/assets\n"
     ]
    },
    {
     "name": "stdout",
     "output_type": "stream",
     "text": [
      "4/4 [==============================] - 4s 1s/step - loss: 0.0151 - root_mean_squared_error: 0.1227 - val_loss: 0.1730 - val_root_mean_squared_error: 0.4160\n",
      "Epoch 9/10\n",
      "1/4 [======>.......................] - ETA: 0s - loss: 0.0114 - root_mean_squared_error: 0.1067"
     ]
    },
    {
     "name": "stderr",
     "output_type": "stream",
     "text": [
      "WARNING:absl:Found untraced functions such as lstm_cell_11_layer_call_fn, lstm_cell_11_layer_call_and_return_conditional_losses while saving (showing 2 of 2). These functions will not be directly callable after loading.\n"
     ]
    },
    {
     "name": "stdout",
     "output_type": "stream",
     "text": [
      "INFO:tensorflow:Assets written to: model1/assets\n"
     ]
    },
    {
     "name": "stderr",
     "output_type": "stream",
     "text": [
      "INFO:tensorflow:Assets written to: model1/assets\n"
     ]
    },
    {
     "name": "stdout",
     "output_type": "stream",
     "text": [
      "4/4 [==============================] - 4s 1s/step - loss: 0.0143 - root_mean_squared_error: 0.1195 - val_loss: 0.1733 - val_root_mean_squared_error: 0.4163\n",
      "Epoch 10/10\n",
      "1/4 [======>.......................] - ETA: 0s - loss: 0.0059 - root_mean_squared_error: 0.0768"
     ]
    },
    {
     "name": "stderr",
     "output_type": "stream",
     "text": [
      "WARNING:absl:Found untraced functions such as lstm_cell_11_layer_call_fn, lstm_cell_11_layer_call_and_return_conditional_losses while saving (showing 2 of 2). These functions will not be directly callable after loading.\n"
     ]
    },
    {
     "name": "stdout",
     "output_type": "stream",
     "text": [
      "INFO:tensorflow:Assets written to: model1/assets\n"
     ]
    },
    {
     "name": "stderr",
     "output_type": "stream",
     "text": [
      "INFO:tensorflow:Assets written to: model1/assets\n"
     ]
    },
    {
     "name": "stdout",
     "output_type": "stream",
     "text": [
      "4/4 [==============================] - 4s 1s/step - loss: 0.0136 - root_mean_squared_error: 0.1167 - val_loss: 0.1733 - val_root_mean_squared_error: 0.4162\n"
     ]
    },
    {
     "data": {
      "text/plain": [
       "<keras.callbacks.History at 0x7f8cb3835c70>"
      ]
     },
     "execution_count": 94,
     "metadata": {},
     "output_type": "execute_result"
    }
   ],
   "source": [
    "model1.fit(xTrain,yTrain,validation_data = (xVal,yVal),epochs = 10, callbacks =[cp])"
   ]
  },
  {
   "cell_type": "code",
   "execution_count": 95,
   "id": "9a7867ca-549a-439f-927b-879de678a5d0",
   "metadata": {},
   "outputs": [
    {
     "name": "stdout",
     "output_type": "stream",
     "text": [
      "4/4 [==============================] - 0s 3ms/step\n"
     ]
    },
    {
     "data": {
      "text/html": [
       "<div>\n",
       "<style scoped>\n",
       "    .dataframe tbody tr th:only-of-type {\n",
       "        vertical-align: middle;\n",
       "    }\n",
       "\n",
       "    .dataframe tbody tr th {\n",
       "        vertical-align: top;\n",
       "    }\n",
       "\n",
       "    .dataframe thead th {\n",
       "        text-align: right;\n",
       "    }\n",
       "</style>\n",
       "<table border=\"1\" class=\"dataframe\">\n",
       "  <thead>\n",
       "    <tr style=\"text-align: right;\">\n",
       "      <th></th>\n",
       "      <th>Train Predictions</th>\n",
       "      <th>Actuals</th>\n",
       "    </tr>\n",
       "  </thead>\n",
       "  <tbody>\n",
       "    <tr>\n",
       "      <th>0</th>\n",
       "      <td>0.063977</td>\n",
       "      <td>-0.002290</td>\n",
       "    </tr>\n",
       "    <tr>\n",
       "      <th>1</th>\n",
       "      <td>0.063977</td>\n",
       "      <td>0.065300</td>\n",
       "    </tr>\n",
       "    <tr>\n",
       "      <th>2</th>\n",
       "      <td>0.063977</td>\n",
       "      <td>0.022646</td>\n",
       "    </tr>\n",
       "    <tr>\n",
       "      <th>3</th>\n",
       "      <td>0.095840</td>\n",
       "      <td>0.031957</td>\n",
       "    </tr>\n",
       "    <tr>\n",
       "      <th>4</th>\n",
       "      <td>0.095840</td>\n",
       "      <td>-0.001047</td>\n",
       "    </tr>\n",
       "    <tr>\n",
       "      <th>...</th>\n",
       "      <td>...</td>\n",
       "      <td>...</td>\n",
       "    </tr>\n",
       "    <tr>\n",
       "      <th>105</th>\n",
       "      <td>-0.121304</td>\n",
       "      <td>-0.018092</td>\n",
       "    </tr>\n",
       "    <tr>\n",
       "      <th>106</th>\n",
       "      <td>0.074697</td>\n",
       "      <td>0.017181</td>\n",
       "    </tr>\n",
       "    <tr>\n",
       "      <th>107</th>\n",
       "      <td>0.047674</td>\n",
       "      <td>0.020432</td>\n",
       "    </tr>\n",
       "    <tr>\n",
       "      <th>108</th>\n",
       "      <td>0.390249</td>\n",
       "      <td>0.034047</td>\n",
       "    </tr>\n",
       "    <tr>\n",
       "      <th>109</th>\n",
       "      <td>-0.010600</td>\n",
       "      <td>0.028590</td>\n",
       "    </tr>\n",
       "  </tbody>\n",
       "</table>\n",
       "<p>110 rows × 2 columns</p>\n",
       "</div>"
      ],
      "text/plain": [
       "     Train Predictions   Actuals\n",
       "0             0.063977 -0.002290\n",
       "1             0.063977  0.065300\n",
       "2             0.063977  0.022646\n",
       "3             0.095840  0.031957\n",
       "4             0.095840 -0.001047\n",
       "..                 ...       ...\n",
       "105          -0.121304 -0.018092\n",
       "106           0.074697  0.017181\n",
       "107           0.047674  0.020432\n",
       "108           0.390249  0.034047\n",
       "109          -0.010600  0.028590\n",
       "\n",
       "[110 rows x 2 columns]"
      ]
     },
     "execution_count": 95,
     "metadata": {},
     "output_type": "execute_result"
    }
   ],
   "source": [
    "trainPredictions = model1.predict(xTrain).flatten()\n",
    "trainResults = pd.DataFrame(\n",
    "    data = {'Train Predictions':trainPredictions,\n",
    "    \"Actuals\":yTrain})\n",
    "trainResults"
   ]
  },
  {
   "cell_type": "code",
   "execution_count": 109,
   "id": "cc61a663-22c7-43ec-b2d0-4ce6c2285349",
   "metadata": {},
   "outputs": [
    {
     "data": {
      "text/plain": [
       "<matplotlib.legend.Legend at 0x7f8ca5568850>"
      ]
     },
     "execution_count": 109,
     "metadata": {},
     "output_type": "execute_result"
    },
    {
     "data": {
      "image/png": "[encoded data removed]",
      "text/plain": [
       "<Figure size 748.8x514.8 with 1 Axes>"
      ]
     },
     "metadata": {
      "needs_background": "light"
     },
     "output_type": "display_data"
    }
   ],
   "source": [
    "import matplotlib.pyplot as plt\n",
    "plt.style.use('seaborn-talk')\n",
    "plt.plot(trainResults['Train Predictions'],\"-r\",label = \"Predictions\")\n",
    "plt.plot(trainResults['Actuals'], \"-b\",label = \"Actual Values\")\n",
    "\n",
    "location = 0 # For the best location\n",
    "legend_drawn_flag = True\n",
    "plt.legend([\"Predictions\", \"Actual\"], loc=0, frameon=legend_drawn_flag)"
   ]
  },
  {
   "cell_type": "code",
   "execution_count": 97,
   "id": "6b6412b0-1302-4e4d-960c-8c5304feae54",
   "metadata": {},
   "outputs": [
    {
     "name": "stdout",
     "output_type": "stream",
     "text": [
      "1/1 [==============================] - 0s 32ms/step\n"
     ]
    },
    {
     "data": {
      "text/html": [
       "<div>\n",
       "<style scoped>\n",
       "    .dataframe tbody tr th:only-of-type {\n",
       "        vertical-align: middle;\n",
       "    }\n",
       "\n",
       "    .dataframe tbody tr th {\n",
       "        vertical-align: top;\n",
       "    }\n",
       "\n",
       "    .dataframe thead th {\n",
       "        text-align: right;\n",
       "    }\n",
       "</style>\n",
       "<table border=\"1\" class=\"dataframe\">\n",
       "  <thead>\n",
       "    <tr style=\"text-align: right;\">\n",
       "      <th></th>\n",
       "      <th>Test Predictions</th>\n",
       "      <th>Actuals</th>\n",
       "    </tr>\n",
       "  </thead>\n",
       "  <tbody>\n",
       "    <tr>\n",
       "      <th>0</th>\n",
       "      <td>0.063977</td>\n",
       "      <td>0.055101</td>\n",
       "    </tr>\n",
       "    <tr>\n",
       "      <th>1</th>\n",
       "      <td>0.063977</td>\n",
       "      <td>0.070065</td>\n",
       "    </tr>\n",
       "    <tr>\n",
       "      <th>2</th>\n",
       "      <td>0.063977</td>\n",
       "      <td>-0.039228</td>\n",
       "    </tr>\n",
       "    <tr>\n",
       "      <th>3</th>\n",
       "      <td>0.063977</td>\n",
       "      <td>-0.027666</td>\n",
       "    </tr>\n",
       "    <tr>\n",
       "      <th>4</th>\n",
       "      <td>0.063977</td>\n",
       "      <td>0.107546</td>\n",
       "    </tr>\n",
       "    <tr>\n",
       "      <th>5</th>\n",
       "      <td>0.116367</td>\n",
       "      <td>0.037121</td>\n",
       "    </tr>\n",
       "    <tr>\n",
       "      <th>6</th>\n",
       "      <td>0.063977</td>\n",
       "      <td>-0.011137</td>\n",
       "    </tr>\n",
       "    <tr>\n",
       "      <th>7</th>\n",
       "      <td>0.116363</td>\n",
       "      <td>0.026091</td>\n",
       "    </tr>\n",
       "    <tr>\n",
       "      <th>8</th>\n",
       "      <td>0.063977</td>\n",
       "      <td>0.042439</td>\n",
       "    </tr>\n",
       "    <tr>\n",
       "      <th>9</th>\n",
       "      <td>0.063977</td>\n",
       "      <td>0.052425</td>\n",
       "    </tr>\n",
       "    <tr>\n",
       "      <th>10</th>\n",
       "      <td>0.063977</td>\n",
       "      <td>0.005487</td>\n",
       "    </tr>\n",
       "    <tr>\n",
       "      <th>11</th>\n",
       "      <td>0.063977</td>\n",
       "      <td>0.022214</td>\n",
       "    </tr>\n",
       "    <tr>\n",
       "      <th>12</th>\n",
       "      <td>0.063977</td>\n",
       "      <td>0.022748</td>\n",
       "    </tr>\n",
       "    <tr>\n",
       "      <th>13</th>\n",
       "      <td>0.116363</td>\n",
       "      <td>0.028990</td>\n",
       "    </tr>\n",
       "    <tr>\n",
       "      <th>14</th>\n",
       "      <td>0.095840</td>\n",
       "      <td>-0.047569</td>\n",
       "    </tr>\n",
       "    <tr>\n",
       "      <th>15</th>\n",
       "      <td>0.095840</td>\n",
       "      <td>0.069144</td>\n",
       "    </tr>\n",
       "    <tr>\n",
       "      <th>16</th>\n",
       "      <td>0.095838</td>\n",
       "      <td>-0.008334</td>\n",
       "    </tr>\n",
       "    <tr>\n",
       "      <th>17</th>\n",
       "      <td>0.095258</td>\n",
       "      <td>0.043613</td>\n",
       "    </tr>\n",
       "  </tbody>\n",
       "</table>\n",
       "</div>"
      ],
      "text/plain": [
       "    Test Predictions   Actuals\n",
       "0           0.063977  0.055101\n",
       "1           0.063977  0.070065\n",
       "2           0.063977 -0.039228\n",
       "3           0.063977 -0.027666\n",
       "4           0.063977  0.107546\n",
       "5           0.116367  0.037121\n",
       "6           0.063977 -0.011137\n",
       "7           0.116363  0.026091\n",
       "8           0.063977  0.042439\n",
       "9           0.063977  0.052425\n",
       "10          0.063977  0.005487\n",
       "11          0.063977  0.022214\n",
       "12          0.063977  0.022748\n",
       "13          0.116363  0.028990\n",
       "14          0.095840 -0.047569\n",
       "15          0.095840  0.069144\n",
       "16          0.095838 -0.008334\n",
       "17          0.095258  0.043613"
      ]
     },
     "execution_count": 97,
     "metadata": {},
     "output_type": "execute_result"
    }
   ],
   "source": [
    "testPredictions = model1.predict(xTest).flatten()\n",
    "testResults = pd.DataFrame(\n",
    "    data = {'Test Predictions':testPredictions,\n",
    "    \"Actuals\":yTest})\n",
    "testResults"
   ]
  },
  {
   "cell_type": "code",
   "execution_count": 98,
   "id": "139dd864-a8c4-481c-9d60-2ba510521d0f",
   "metadata": {},
   "outputs": [
    {
     "data": {
      "text/plain": [
       "<matplotlib.legend.Legend at 0x7f8cbb8b4760>"
      ]
     },
     "execution_count": 98,
     "metadata": {},
     "output_type": "execute_result"
    },
    {
     "data": {
      "image/png": "[encoded data removed]",
      "text/plain": [
       "<Figure size 432x288 with 1 Axes>"
      ]
     },
     "metadata": {
      "needs_background": "light"
     },
     "output_type": "display_data"
    }
   ],
   "source": [
    "plt.plot(testResults['Test Predictions'], \"-r\")\n",
    "plt.plot(testResults['Actuals'],\"-b\")\n",
    "\n",
    "\n",
    "location = 0 # For the best location\n",
    "legend_drawn_flag = True\n",
    "plt.legend([\"Predictions\", \"Actual\"], loc=0, frameon=legend_drawn_flag)"
   ]
  },
  {
   "cell_type": "code",
   "execution_count": 76,
   "id": "ef9b0b9c-23b1-492b-89e4-089636a9eb20",
   "metadata": {},
   "outputs": [
    {
     "data": {
      "text/plain": [
       "0.01870776301301914"
      ]
     },
     "execution_count": 76,
     "metadata": {},
     "output_type": "execute_result"
    }
   ],
   "source": [
    "rmse = np.sqrt(np.mean(testPredictions - yTest)**2)\n",
    "rmse"
   ]
  },
  {
   "cell_type": "code",
   "execution_count": 77,
   "id": "32b9cb68-d5bd-492d-964c-f5a35338e9ac",
   "metadata": {},
   "outputs": [
    {
     "data": {
      "text/plain": [
       "0.0389370999991489"
      ]
     },
     "execution_count": 77,
     "metadata": {},
     "output_type": "execute_result"
    }
   ],
   "source": [
    "mae = np.mean(abs(testPredictions - yTest))\n",
    "mae"
   ]
  },
  {
   "cell_type": "code",
   "execution_count": 108,
   "id": "9a7094b8-be7b-4e9e-9eed-792ce36eaec6",
   "metadata": {},
   "outputs": [
    {
     "data": {
      "text/plain": [
       "0.0012360515844938623"
      ]
     },
     "execution_count": 108,
     "metadata": {},
     "output_type": "execute_result"
    }
   ],
   "source": [
    "rmse = np.sqrt(np.mean(trainPredictions - yTrain)**2)\n",
    "rmse"
   ]
  },
  {
   "cell_type": "code",
   "execution_count": 107,
   "id": "27088860-5079-4cdc-9262-9a31ee759be6",
   "metadata": {},
   "outputs": [
    {
     "data": {
      "text/plain": [
       "0.07032403852966582"
      ]
     },
     "execution_count": 107,
     "metadata": {},
     "output_type": "execute_result"
    }
   ],
   "source": [
    "mae = np.mean(abs(trainPredictions - yTrain))\n",
    "mae"
   ]
  },
  {
   "cell_type": "code",
   "execution_count": 78,
   "id": "3f8a692d-fdd8-44de-970c-18a8da0152ac",
   "metadata": {},
   "outputs": [
    {
     "name": "stdout",
     "output_type": "stream",
     "text": [
      "Model: \"sequential_7\"\n",
      "_________________________________________________________________\n",
      " Layer (type)                Output Shape              Param #   \n",
      "=================================================================\n",
      " lstm_12 (LSTM)              (None, 4, 100)            45200     \n",
      "                                                                 \n",
      " lstm_13 (LSTM)              (None, 4, 100)            80400     \n",
      "                                                                 \n",
      " lstm_14 (LSTM)              (None, 100)               80400     \n",
      "                                                                 \n",
      " dropout_3 (Dropout)         (None, 100)               0         \n",
      "                                                                 \n",
      " dense_10 (Dense)            (None, 1)                 101       \n",
      "                                                                 \n",
      "=================================================================\n",
      "Total params: 206,101\n",
      "Trainable params: 206,101\n",
      "Non-trainable params: 0\n",
      "_________________________________________________________________\n"
     ]
    }
   ],
   "source": [
    "model2 = Sequential()\n",
    "model2.add(InputLayer((4, 12)))\n",
    "model2.add(LSTM(100, activation='relu', return_sequences=True))\n",
    "model2.add(LSTM(100, activation = 'relu', return_sequences = True))\n",
    "model2.add(LSTM(100))\n",
    "model2.add(Dropout(0.1))\n",
    "model2.add(Dense(1, 'linear'))\n",
    "\n",
    "model2.summary()"
   ]
  },
  {
   "cell_type": "code",
   "execution_count": 79,
   "id": "165d6783-07e5-43b9-8e7d-01a6bb1f6c85",
   "metadata": {},
   "outputs": [],
   "source": [
    "cp2 = ModelCheckpoint(\"model2/\", save_best_only = True, monitor = \"loss\")\n",
    "model2.compile(loss=MeanSquaredError(),optimizer=Adam(learning_rate = 0.0001), metrics=[RootMeanSquaredError()])"
   ]
  },
  {
   "cell_type": "code",
   "execution_count": 87,
   "id": "a0d48d4a-e598-49e2-aa0b-75d7b5e8be42",
   "metadata": {},
   "outputs": [
    {
     "name": "stdout",
     "output_type": "stream",
     "text": [
      "Epoch 1/25\n",
      "4/4 [==============================] - 2s 689ms/step - loss: 0.0625 - root_mean_squared_error: 0.2499 - val_loss: 0.0674 - val_root_mean_squared_error: 0.2597\n",
      "Epoch 2/25\n",
      "4/4 [==============================] - ETA: 0s - loss: 0.0504 - root_mean_squared_error: 0.2244"
     ]
    },
    {
     "name": "stderr",
     "output_type": "stream",
     "text": [
      "WARNING:absl:Found untraced functions such as lstm_cell_14_layer_call_fn, lstm_cell_14_layer_call_and_return_conditional_losses while saving (showing 2 of 2). These functions will not be directly callable after loading.\n"
     ]
    },
    {
     "name": "stdout",
     "output_type": "stream",
     "text": [
      "INFO:tensorflow:Assets written to: model2/assets\n"
     ]
    },
    {
     "name": "stderr",
     "output_type": "stream",
     "text": [
      "INFO:tensorflow:Assets written to: model2/assets\n"
     ]
    },
    {
     "name": "stdout",
     "output_type": "stream",
     "text": [
      "4/4 [==============================] - 10s 3s/step - loss: 0.0504 - root_mean_squared_error: 0.2244 - val_loss: 0.0696 - val_root_mean_squared_error: 0.2638\n",
      "Epoch 3/25\n",
      "1/4 [======>.......................] - ETA: 0s - loss: 0.0344 - root_mean_squared_error: 0.1856"
     ]
    },
    {
     "name": "stderr",
     "output_type": "stream",
     "text": [
      "WARNING:absl:Found untraced functions such as lstm_cell_14_layer_call_fn, lstm_cell_14_layer_call_and_return_conditional_losses while saving (showing 2 of 2). These functions will not be directly callable after loading.\n"
     ]
    },
    {
     "name": "stdout",
     "output_type": "stream",
     "text": [
      "INFO:tensorflow:Assets written to: model2/assets\n"
     ]
    },
    {
     "name": "stderr",
     "output_type": "stream",
     "text": [
      "INFO:tensorflow:Assets written to: model2/assets\n"
     ]
    },
    {
     "name": "stdout",
     "output_type": "stream",
     "text": [
      "4/4 [==============================] - 7s 2s/step - loss: 0.0426 - root_mean_squared_error: 0.2065 - val_loss: 0.0697 - val_root_mean_squared_error: 0.2641\n",
      "Epoch 4/25\n",
      "4/4 [==============================] - 0s 24ms/step - loss: 0.0458 - root_mean_squared_error: 0.2140 - val_loss: 0.0965 - val_root_mean_squared_error: 0.3106\n",
      "Epoch 5/25\n",
      "4/4 [==============================] - 0s 27ms/step - loss: 0.0583 - root_mean_squared_error: 0.2415 - val_loss: 0.0989 - val_root_mean_squared_error: 0.3144\n",
      "Epoch 6/25\n",
      "4/4 [==============================] - 0s 24ms/step - loss: 0.0698 - root_mean_squared_error: 0.2642 - val_loss: 0.0976 - val_root_mean_squared_error: 0.3124\n",
      "Epoch 7/25\n",
      "4/4 [==============================] - 0s 23ms/step - loss: 0.0781 - root_mean_squared_error: 0.2794 - val_loss: 0.1049 - val_root_mean_squared_error: 0.3238\n",
      "Epoch 8/25\n",
      "4/4 [==============================] - 0s 31ms/step - loss: 0.0572 - root_mean_squared_error: 0.2392 - val_loss: 0.1077 - val_root_mean_squared_error: 0.3282\n",
      "Epoch 9/25\n",
      "4/4 [==============================] - 0s 21ms/step - loss: 0.0729 - root_mean_squared_error: 0.2700 - val_loss: 0.1264 - val_root_mean_squared_error: 0.3555\n",
      "Epoch 10/25\n",
      "4/4 [==============================] - 0s 21ms/step - loss: 0.0716 - root_mean_squared_error: 0.2677 - val_loss: 0.1366 - val_root_mean_squared_error: 0.3696\n",
      "Epoch 11/25\n",
      "4/4 [==============================] - 0s 24ms/step - loss: 0.0556 - root_mean_squared_error: 0.2359 - val_loss: 0.0689 - val_root_mean_squared_error: 0.2625\n",
      "Epoch 12/25\n",
      "4/4 [==============================] - 0s 24ms/step - loss: 0.0616 - root_mean_squared_error: 0.2482 - val_loss: 0.0688 - val_root_mean_squared_error: 0.2622\n",
      "Epoch 13/25\n",
      "4/4 [==============================] - 0s 23ms/step - loss: 0.0661 - root_mean_squared_error: 0.2571 - val_loss: 0.0707 - val_root_mean_squared_error: 0.2658\n",
      "Epoch 14/25\n",
      "4/4 [==============================] - 0s 23ms/step - loss: 0.0515 - root_mean_squared_error: 0.2270 - val_loss: 0.0685 - val_root_mean_squared_error: 0.2617\n",
      "Epoch 15/25\n",
      "1/4 [======>.......................] - ETA: 0s - loss: 0.0407 - root_mean_squared_error: 0.2017"
     ]
    },
    {
     "name": "stderr",
     "output_type": "stream",
     "text": [
      "WARNING:absl:Found untraced functions such as lstm_cell_14_layer_call_fn, lstm_cell_14_layer_call_and_return_conditional_losses while saving (showing 2 of 2). These functions will not be directly callable after loading.\n"
     ]
    },
    {
     "name": "stdout",
     "output_type": "stream",
     "text": [
      "INFO:tensorflow:Assets written to: model2/assets\n"
     ]
    },
    {
     "name": "stderr",
     "output_type": "stream",
     "text": [
      "INFO:tensorflow:Assets written to: model2/assets\n"
     ]
    },
    {
     "name": "stdout",
     "output_type": "stream",
     "text": [
      "4/4 [==============================] - 7s 2s/step - loss: 0.0409 - root_mean_squared_error: 0.2023 - val_loss: 0.0492 - val_root_mean_squared_error: 0.2217\n",
      "Epoch 16/25\n",
      "4/4 [==============================] - 0s 25ms/step - loss: 0.0423 - root_mean_squared_error: 0.2056 - val_loss: 0.0369 - val_root_mean_squared_error: 0.1922\n",
      "Epoch 17/25\n",
      "4/4 [==============================] - 0s 28ms/step - loss: 0.0716 - root_mean_squared_error: 0.2676 - val_loss: 0.0317 - val_root_mean_squared_error: 0.1781\n",
      "Epoch 18/25\n",
      "4/4 [==============================] - 0s 33ms/step - loss: 0.0571 - root_mean_squared_error: 0.2390 - val_loss: 0.0318 - val_root_mean_squared_error: 0.1784\n",
      "Epoch 19/25\n",
      "4/4 [==============================] - 0s 20ms/step - loss: 0.0520 - root_mean_squared_error: 0.2281 - val_loss: 0.0432 - val_root_mean_squared_error: 0.2079\n",
      "Epoch 20/25\n",
      "4/4 [==============================] - 0s 20ms/step - loss: 0.0465 - root_mean_squared_error: 0.2156 - val_loss: 0.0440 - val_root_mean_squared_error: 0.2097\n",
      "Epoch 21/25\n",
      "4/4 [==============================] - 0s 19ms/step - loss: 0.0548 - root_mean_squared_error: 0.2341 - val_loss: 0.0438 - val_root_mean_squared_error: 0.2094\n",
      "Epoch 22/25\n",
      "4/4 [==============================] - 0s 19ms/step - loss: 0.0600 - root_mean_squared_error: 0.2449 - val_loss: 0.0476 - val_root_mean_squared_error: 0.2182\n",
      "Epoch 23/25\n",
      "4/4 [==============================] - 0s 20ms/step - loss: 0.0514 - root_mean_squared_error: 0.2268 - val_loss: 0.0524 - val_root_mean_squared_error: 0.2290\n",
      "Epoch 24/25\n",
      "4/4 [==============================] - 0s 19ms/step - loss: 0.0559 - root_mean_squared_error: 0.2365 - val_loss: 0.0435 - val_root_mean_squared_error: 0.2086\n",
      "Epoch 25/25\n",
      "4/4 [==============================] - 0s 19ms/step - loss: 0.0547 - root_mean_squared_error: 0.2339 - val_loss: 0.0403 - val_root_mean_squared_error: 0.2006\n"
     ]
    },
    {
     "data": {
      "text/plain": [
       "<keras.callbacks.History at 0x7f8ca50b2b50>"
      ]
     },
     "execution_count": 87,
     "metadata": {},
     "output_type": "execute_result"
    }
   ],
   "source": [
    "model2.fit(xTrain,yTrain,validation_data = (xVal,yVal),epochs = 25, callbacks =[cp2])"
   ]
  },
  {
   "cell_type": "code",
   "execution_count": 88,
   "id": "081b95c4-33d6-4c95-bffa-c1312e335baa",
   "metadata": {},
   "outputs": [
    {
     "name": "stdout",
     "output_type": "stream",
     "text": [
      "4/4 [==============================] - 0s 6ms/step\n"
     ]
    },
    {
     "data": {
      "text/html": [
       "<div>\n",
       "<style scoped>\n",
       "    .dataframe tbody tr th:only-of-type {\n",
       "        vertical-align: middle;\n",
       "    }\n",
       "\n",
       "    .dataframe tbody tr th {\n",
       "        vertical-align: top;\n",
       "    }\n",
       "\n",
       "    .dataframe thead th {\n",
       "        text-align: right;\n",
       "    }\n",
       "</style>\n",
       "<table border=\"1\" class=\"dataframe\">\n",
       "  <thead>\n",
       "    <tr style=\"text-align: right;\">\n",
       "      <th></th>\n",
       "      <th>Train Predictions</th>\n",
       "      <th>Actuals</th>\n",
       "    </tr>\n",
       "  </thead>\n",
       "  <tbody>\n",
       "    <tr>\n",
       "      <th>0</th>\n",
       "      <td>0.024163</td>\n",
       "      <td>-0.002290</td>\n",
       "    </tr>\n",
       "    <tr>\n",
       "      <th>1</th>\n",
       "      <td>-0.155231</td>\n",
       "      <td>0.065300</td>\n",
       "    </tr>\n",
       "    <tr>\n",
       "      <th>2</th>\n",
       "      <td>-0.158129</td>\n",
       "      <td>0.022646</td>\n",
       "    </tr>\n",
       "    <tr>\n",
       "      <th>3</th>\n",
       "      <td>-0.090906</td>\n",
       "      <td>0.031957</td>\n",
       "    </tr>\n",
       "    <tr>\n",
       "      <th>4</th>\n",
       "      <td>-0.086046</td>\n",
       "      <td>-0.001047</td>\n",
       "    </tr>\n",
       "    <tr>\n",
       "      <th>...</th>\n",
       "      <td>...</td>\n",
       "      <td>...</td>\n",
       "    </tr>\n",
       "    <tr>\n",
       "      <th>105</th>\n",
       "      <td>0.042707</td>\n",
       "      <td>-0.018092</td>\n",
       "    </tr>\n",
       "    <tr>\n",
       "      <th>106</th>\n",
       "      <td>0.175186</td>\n",
       "      <td>0.017181</td>\n",
       "    </tr>\n",
       "    <tr>\n",
       "      <th>107</th>\n",
       "      <td>0.047947</td>\n",
       "      <td>0.020432</td>\n",
       "    </tr>\n",
       "    <tr>\n",
       "      <th>108</th>\n",
       "      <td>0.029310</td>\n",
       "      <td>0.034047</td>\n",
       "    </tr>\n",
       "    <tr>\n",
       "      <th>109</th>\n",
       "      <td>0.039687</td>\n",
       "      <td>0.028590</td>\n",
       "    </tr>\n",
       "  </tbody>\n",
       "</table>\n",
       "<p>110 rows × 2 columns</p>\n",
       "</div>"
      ],
      "text/plain": [
       "     Train Predictions   Actuals\n",
       "0             0.024163 -0.002290\n",
       "1            -0.155231  0.065300\n",
       "2            -0.158129  0.022646\n",
       "3            -0.090906  0.031957\n",
       "4            -0.086046 -0.001047\n",
       "..                 ...       ...\n",
       "105           0.042707 -0.018092\n",
       "106           0.175186  0.017181\n",
       "107           0.047947  0.020432\n",
       "108           0.029310  0.034047\n",
       "109           0.039687  0.028590\n",
       "\n",
       "[110 rows x 2 columns]"
      ]
     },
     "execution_count": 88,
     "metadata": {},
     "output_type": "execute_result"
    }
   ],
   "source": [
    "trainPredictions2 = model2.predict(xTrain).flatten()\n",
    "trainResults2 = pd.DataFrame(\n",
    "    data = {'Train Predictions':trainPredictions2,\n",
    "    \"Actuals\":yTrain})\n",
    "trainResults2"
   ]
  },
  {
   "cell_type": "code",
   "execution_count": 89,
   "id": "d3a73156-e0a8-4cac-ae98-da31e19e9838",
   "metadata": {},
   "outputs": [
    {
     "data": {
      "text/plain": [
       "<matplotlib.legend.Legend at 0x7f8cbf40f700>"
      ]
     },
     "execution_count": 89,
     "metadata": {},
     "output_type": "execute_result"
    },
    {
     "data": {
      "image/png": "[encoded data removed]",
      "text/plain": [
       "<Figure size 432x288 with 1 Axes>"
      ]
     },
     "metadata": {
      "needs_background": "light"
     },
     "output_type": "display_data"
    }
   ],
   "source": [
    "plt.plot(trainResults2['Train Predictions'],\"-r\",label = \"Predictions\")\n",
    "plt.plot(trainResults2['Actuals'], \"-b\",label = \"Actual Values\")\n",
    "\n",
    "location = 0 # For the best location\n",
    "legend_drawn_flag = True\n",
    "plt.legend([\"Predictions\", \"Actual\"], loc=0, frameon=legend_drawn_flag)"
   ]
  },
  {
   "cell_type": "code",
   "execution_count": 90,
   "id": "fc9678fa-4edd-45b9-9e05-2a4c5ad7d782",
   "metadata": {},
   "outputs": [
    {
     "name": "stdout",
     "output_type": "stream",
     "text": [
      "1/1 [==============================] - 0s 26ms/step\n"
     ]
    },
    {
     "data": {
      "text/html": [
       "<div>\n",
       "<style scoped>\n",
       "    .dataframe tbody tr th:only-of-type {\n",
       "        vertical-align: middle;\n",
       "    }\n",
       "\n",
       "    .dataframe tbody tr th {\n",
       "        vertical-align: top;\n",
       "    }\n",
       "\n",
       "    .dataframe thead th {\n",
       "        text-align: right;\n",
       "    }\n",
       "</style>\n",
       "<table border=\"1\" class=\"dataframe\">\n",
       "  <thead>\n",
       "    <tr style=\"text-align: right;\">\n",
       "      <th></th>\n",
       "      <th>Test Predictions</th>\n",
       "      <th>Actuals</th>\n",
       "    </tr>\n",
       "  </thead>\n",
       "  <tbody>\n",
       "    <tr>\n",
       "      <th>0</th>\n",
       "      <td>0.024169</td>\n",
       "      <td>0.055101</td>\n",
       "    </tr>\n",
       "    <tr>\n",
       "      <th>1</th>\n",
       "      <td>0.024169</td>\n",
       "      <td>0.070065</td>\n",
       "    </tr>\n",
       "    <tr>\n",
       "      <th>2</th>\n",
       "      <td>0.024169</td>\n",
       "      <td>-0.039228</td>\n",
       "    </tr>\n",
       "    <tr>\n",
       "      <th>3</th>\n",
       "      <td>-0.143468</td>\n",
       "      <td>-0.027666</td>\n",
       "    </tr>\n",
       "    <tr>\n",
       "      <th>4</th>\n",
       "      <td>-0.143456</td>\n",
       "      <td>0.107546</td>\n",
       "    </tr>\n",
       "    <tr>\n",
       "      <th>5</th>\n",
       "      <td>-0.018151</td>\n",
       "      <td>0.037121</td>\n",
       "    </tr>\n",
       "    <tr>\n",
       "      <th>6</th>\n",
       "      <td>-0.152085</td>\n",
       "      <td>-0.011137</td>\n",
       "    </tr>\n",
       "    <tr>\n",
       "      <th>7</th>\n",
       "      <td>-0.167711</td>\n",
       "      <td>0.026091</td>\n",
       "    </tr>\n",
       "    <tr>\n",
       "      <th>8</th>\n",
       "      <td>0.008827</td>\n",
       "      <td>0.042439</td>\n",
       "    </tr>\n",
       "    <tr>\n",
       "      <th>9</th>\n",
       "      <td>0.112351</td>\n",
       "      <td>0.052425</td>\n",
       "    </tr>\n",
       "    <tr>\n",
       "      <th>10</th>\n",
       "      <td>0.273820</td>\n",
       "      <td>0.005487</td>\n",
       "    </tr>\n",
       "    <tr>\n",
       "      <th>11</th>\n",
       "      <td>0.039404</td>\n",
       "      <td>0.022214</td>\n",
       "    </tr>\n",
       "    <tr>\n",
       "      <th>12</th>\n",
       "      <td>-0.173920</td>\n",
       "      <td>0.022748</td>\n",
       "    </tr>\n",
       "    <tr>\n",
       "      <th>13</th>\n",
       "      <td>-0.085852</td>\n",
       "      <td>0.028990</td>\n",
       "    </tr>\n",
       "    <tr>\n",
       "      <th>14</th>\n",
       "      <td>-0.087007</td>\n",
       "      <td>-0.047569</td>\n",
       "    </tr>\n",
       "    <tr>\n",
       "      <th>15</th>\n",
       "      <td>0.067099</td>\n",
       "      <td>0.069144</td>\n",
       "    </tr>\n",
       "    <tr>\n",
       "      <th>16</th>\n",
       "      <td>-0.008063</td>\n",
       "      <td>-0.008334</td>\n",
       "    </tr>\n",
       "    <tr>\n",
       "      <th>17</th>\n",
       "      <td>0.145532</td>\n",
       "      <td>0.043613</td>\n",
       "    </tr>\n",
       "  </tbody>\n",
       "</table>\n",
       "</div>"
      ],
      "text/plain": [
       "    Test Predictions   Actuals\n",
       "0           0.024169  0.055101\n",
       "1           0.024169  0.070065\n",
       "2           0.024169 -0.039228\n",
       "3          -0.143468 -0.027666\n",
       "4          -0.143456  0.107546\n",
       "5          -0.018151  0.037121\n",
       "6          -0.152085 -0.011137\n",
       "7          -0.167711  0.026091\n",
       "8           0.008827  0.042439\n",
       "9           0.112351  0.052425\n",
       "10          0.273820  0.005487\n",
       "11          0.039404  0.022214\n",
       "12         -0.173920  0.022748\n",
       "13         -0.085852  0.028990\n",
       "14         -0.087007 -0.047569\n",
       "15          0.067099  0.069144\n",
       "16         -0.008063 -0.008334\n",
       "17          0.145532  0.043613"
      ]
     },
     "execution_count": 90,
     "metadata": {},
     "output_type": "execute_result"
    }
   ],
   "source": [
    "testPredictions2 = model2.predict(xTest).flatten()\n",
    "testResults2 = pd.DataFrame(\n",
    "    data = {'Test Predictions':testPredictions2,\n",
    "    \"Actuals\":yTest})\n",
    "testResults2"
   ]
  },
  {
   "cell_type": "code",
   "execution_count": 91,
   "id": "62927dca-b4d7-473b-ab91-dc9b28005d39",
   "metadata": {},
   "outputs": [
    {
     "data": {
      "text/plain": [
       "<matplotlib.legend.Legend at 0x7f8cbf4fedc0>"
      ]
     },
     "execution_count": 91,
     "metadata": {},
     "output_type": "execute_result"
    },
    {
     "data": {
      "image/png": "[encoded data removed]",
      "text/plain": [
       "<Figure size 432x288 with 1 Axes>"
      ]
     },
     "metadata": {
      "needs_background": "light"
     },
     "output_type": "display_data"
    }
   ],
   "source": [
    "plt.plot(testResults2['Test Predictions'], \"-r\")\n",
    "plt.plot(testResults2['Actuals'],\"-b\")\n",
    "\n",
    "\n",
    "location = 0 # For the best location\n",
    "legend_drawn_flag = True\n",
    "plt.legend([\"Predictions\", \"Actual\"], loc=0, frameon=legend_drawn_flag)"
   ]
  },
  {
   "cell_type": "code",
   "execution_count": 92,
   "id": "6347c731-e4b5-496a-bfda-6726fe904cfc",
   "metadata": {},
   "outputs": [
    {
     "data": {
      "text/plain": [
       "0.03940139108388889"
      ]
     },
     "execution_count": 92,
     "metadata": {},
     "output_type": "execute_result"
    }
   ],
   "source": [
    "rmse = np.sqrt(np.mean(testPredictions2 - yTest)**2)\n",
    "rmse"
   ]
  },
  {
   "cell_type": "code",
   "execution_count": 93,
   "id": "4b1b6c41-c6df-4495-9923-9e59c213ec32",
   "metadata": {},
   "outputs": [
    {
     "data": {
      "text/plain": [
       "0.09618310197520118"
      ]
     },
     "execution_count": 93,
     "metadata": {},
     "output_type": "execute_result"
    }
   ],
   "source": [
    "mae = np.mean(abs(testPredictions2 - yTest))\n",
    "mae"
   ]
  },
  {
   "cell_type": "code",
   "execution_count": 105,
   "id": "fc46816a-9963-4bde-8f20-81b646021bec",
   "metadata": {},
   "outputs": [
    {
     "data": {
      "text/plain": [
       "0.004412254206999812"
      ]
     },
     "execution_count": 105,
     "metadata": {},
     "output_type": "execute_result"
    }
   ],
   "source": [
    "trainrmse = np.sqrt(np.mean(trainPredictions2 - yTrain)**2)\n",
    "trainrmse"
   ]
  },
  {
   "cell_type": "code",
   "execution_count": 106,
   "id": "12e3e9a6-82d3-4289-a9ac-d5c098fef16b",
   "metadata": {},
   "outputs": [
    {
     "data": {
      "text/plain": [
       "0.0677529686052578"
      ]
     },
     "execution_count": 106,
     "metadata": {},
     "output_type": "execute_result"
    }
   ],
   "source": [
    "trainmae = np.mean(abs(trainPredictions2 - yTrain))\n",
    "trainmae"
   ]
  },
  {
   "cell_type": "code",
   "execution_count": 104,
   "id": "d81acf87-eb0a-4f4d-8ba6-4d0e8b36f202",
   "metadata": {},
   "outputs": [],
   "source": [
    "from keras.models import load_model\n",
    "    \n",
    "model2.save('SP500Model2.h5')  # creates a HDF5 file 'my_model.h5'\n",
    "model2 = load_model('SP500Model2.h5')# returns a compiled model identical to the previous one"
   ]
  },
  {
   "cell_type": "code",
   "execution_count": 99,
   "id": "3aa52928-7ff9-4da6-9375-93d79af3d1d6",
   "metadata": {},
   "outputs": [
    {
     "data": {
      "text/plain": [
       "137   2010-07-31\n",
       "136   2010-08-31\n",
       "135   2010-09-30\n",
       "134   2010-10-31\n",
       "133   2010-11-30\n",
       "Name: Date, dtype: datetime64[ns]"
      ]
     },
     "execution_count": 99,
     "metadata": {},
     "output_type": "execute_result"
    }
   ],
   "source": [
    "raw_data = pd.read_csv(file,parse_dates = [\"Date\"], index_col = False)\n",
    "df1 = raw_data.copy()\n",
    "\n",
    "Dates = df1.iloc[::-1]\n",
    "Dates = Dates[\"Date\"]\n",
    "Dates.head()"
   ]
  },
  {
   "cell_type": "code",
   "execution_count": 100,
   "id": "0868a288-9a31-47de-ae9b-de344c918ec6",
   "metadata": {},
   "outputs": [],
   "source": [
    "trainSize = int(len(Dates)*0.80)\n",
    "valSize = int(len(Dates)*.05)\n",
    "\n",
    "trainDates = Dates[:trainSize]\n",
    "testDates = Dates[trainSize+valSize:]"
   ]
  },
  {
   "cell_type": "code",
   "execution_count": 101,
   "id": "5aa1a0ec-87b5-4361-9602-8fe6a6436cb5",
   "metadata": {},
   "outputs": [],
   "source": [
    "trainDates = Dates[0:109]\n",
    "testDates = Dates[120:138]\n",
    "\n",
    "trainDates = trainDates.reset_index()\n",
    "testDates = testDates.reset_index()\n",
    "\n",
    "trainDates = trainDates.pop('Date')\n",
    "testDates = testDates.pop('Date')\n",
    "\n",
    "#trainDates\n",
    "#testDates"
   ]
  },
  {
   "cell_type": "code",
   "execution_count": 117,
   "id": "43d1e351-35f4-47bc-9e05-9d3a428cd1ad",
   "metadata": {},
   "outputs": [],
   "source": [
    "trainResults = pd.concat([trainResults,trainDates],axis=1)\n",
    "testResults = pd.concat([testResults,testDates],axis=1)\n",
    "\n",
    "trainResults = trainResults.set_index(\"Date\")\n",
    "testResults = testResults.set_index(\"Date\")\n"
   ]
  },
  {
   "cell_type": "code",
   "execution_count": 118,
   "id": "8a6e12b4-eedc-4c70-869f-6ea0c66e515b",
   "metadata": {},
   "outputs": [
    {
     "data": {
      "text/plain": [
       "<matplotlib.legend.Legend at 0x7f8cbb690c10>"
      ]
     },
     "execution_count": 118,
     "metadata": {},
     "output_type": "execute_result"
    },
    {
     "data": {
      "image/png": "[encoded data removed]",
      "text/plain": [
       "<Figure size 748.8x514.8 with 1 Axes>"
      ]
     },
     "metadata": {
      "needs_background": "light"
     },
     "output_type": "display_data"
    }
   ],
   "source": [
    "plt.plot(testResults['Test Predictions'], \"-r\")\n",
    "plt.plot(testResults['Actuals'],\"-b\")\n",
    "plt.xticks(rotation = 40) # 40 is the rotation angle\n",
    "plt.title(\"S&P 500 Test Data Predictions vs. Actual\")\n",
    "plt.xlabel('Date') \n",
    "plt.ylabel('Volatility (Monthly Return)') \n",
    "location = 0 # For the best location\n",
    "legend_drawn_flag = True\n",
    "plt.legend([\"Predictions\", \"Actual\"], loc=0, frameon=legend_drawn_flag)"
   ]
  },
  {
   "cell_type": "code",
   "execution_count": 119,
   "id": "45fe1810-c89b-4c81-9509-6c41876fe885",
   "metadata": {},
   "outputs": [
    {
     "data": {
      "text/plain": [
       "<matplotlib.legend.Legend at 0x7f8cbe24ca90>"
      ]
     },
     "execution_count": 119,
     "metadata": {},
     "output_type": "execute_result"
    },
    {
     "data": {
      "image/png": "[encoded data removed]",
      "text/plain": [
       "<Figure size 748.8x514.8 with 1 Axes>"
      ]
     },
     "metadata": {
      "needs_background": "light"
     },
     "output_type": "display_data"
    }
   ],
   "source": [
    "plt.plot(trainResults['Train Predictions'], \"-r\")\n",
    "plt.plot(trainResults['Actuals'],\"-b\")\n",
    "plt.xticks(rotation = 40) # 40 is the rotation angle\n",
    "plt.title(\"S&P 500 Training Data Predictions vs. Actual\")\n",
    "plt.xlabel('Date') \n",
    "plt.ylabel('Volatility (Monthly Return)') \n",
    "location = 0 # For the best location\n",
    "legend_drawn_flag = True\n",
    "plt.legend([\"Predictions\", \"Actual\"], loc=0, frameon=legend_drawn_flag)"
   ]
  },
  {
   "cell_type": "code",
   "execution_count": 121,
   "id": "5db85cf0-f4b5-4b39-a8ac-56c78b22221a",
   "metadata": {},
   "outputs": [],
   "source": [
    "trainResults.to_csv('SPTrainResults.csv')\n",
    "testResults.to_csv('SPTestResults.csv')"
   ]
  },
  {
   "cell_type": "code",
   "execution_count": null,
   "id": "32a3d10e-5b5b-45c2-a915-6cab16fe91d1",
   "metadata": {},
   "outputs": [],
   "source": []
  }
 ],
 "metadata": {
  "kernelspec": {
   "display_name": "Python 3",
   "language": "python",
   "name": "python3"
  },
  "language_info": {
   "codemirror_mode": {
    "name": "ipython",
    "version": 3
   },
   "file_extension": ".py",
   "mimetype": "text/x-python",
   "name": "python",
   "nbconvert_exporter": "python",
   "pygments_lexer": "ipython3",
   "version": "3.8.8"
  }
 },
 "nbformat": 4,
 "nbformat_minor": 5
}
