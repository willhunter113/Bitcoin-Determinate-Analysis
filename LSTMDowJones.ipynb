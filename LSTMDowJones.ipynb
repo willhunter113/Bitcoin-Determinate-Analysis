{
 "cells": [
  {
   "cell_type": "code",
   "execution_count": 4,
   "id": "cc527fd2-02a6-47f9-a582-6d3f07a08bdb",
   "metadata": {},
   "outputs": [
    {
     "name": "stdout",
     "output_type": "stream",
     "text": [
      "Collecting tensorflow\n",
      "  Downloading tensorflow-2.10.0-cp38-cp38-macosx_10_14_x86_64.whl (241.2 MB)\n",
      "\u001b[K     |████████████████████████████████| 241.2 MB 91 kB/s s eta 0:00:01\n",
      "\u001b[?25hCollecting google-pasta>=0.1.1\n",
      "  Using cached google_pasta-0.2.0-py3-none-any.whl (57 kB)\n",
      "Collecting tensorflow-estimator<2.11,>=2.10.0\n",
      "  Downloading tensorflow_estimator-2.10.0-py2.py3-none-any.whl (438 kB)\n",
      "\u001b[K     |████████████████████████████████| 438 kB 36.7 MB/s eta 0:00:01\n",
      "\u001b[?25hCollecting libclang>=13.0.0\n",
      "  Using cached libclang-14.0.6-py2.py3-none-macosx_10_9_x86_64.whl (13.2 MB)\n",
      "Requirement already satisfied: six>=1.12.0 in /Applications/anaconda3/lib/python3.8/site-packages (from tensorflow) (1.15.0)\n",
      "Requirement already satisfied: setuptools in /Applications/anaconda3/lib/python3.8/site-packages (from tensorflow) (52.0.0.post20210125)\n",
      "Requirement already satisfied: typing-extensions>=3.6.6 in /Applications/anaconda3/lib/python3.8/site-packages (from tensorflow) (3.7.4.3)\n",
      "Collecting flatbuffers>=2.0\n",
      "  Using cached flatbuffers-22.10.26-py2.py3-none-any.whl (26 kB)\n",
      "Collecting grpcio<2.0,>=1.24.3\n",
      "  Using cached grpcio-1.50.0-cp38-cp38-macosx_10_10_x86_64.whl (4.5 MB)\n",
      "Collecting tensorboard<2.11,>=2.10\n",
      "  Downloading tensorboard-2.10.1-py3-none-any.whl (5.9 MB)\n",
      "\u001b[K     |████████████████████████████████| 5.9 MB 15.8 MB/s eta 0:00:01\n",
      "\u001b[?25hRequirement already satisfied: wrapt>=1.11.0 in /Applications/anaconda3/lib/python3.8/site-packages (from tensorflow) (1.12.1)\n",
      "Requirement already satisfied: packaging in /Applications/anaconda3/lib/python3.8/site-packages (from tensorflow) (20.9)\n",
      "Collecting protobuf<3.20,>=3.9.2\n",
      "  Using cached protobuf-3.19.6-cp38-cp38-macosx_10_9_x86_64.whl (980 kB)\n",
      "Collecting termcolor>=1.1.0\n",
      "  Using cached termcolor-2.1.0-py3-none-any.whl (5.8 kB)\n",
      "Requirement already satisfied: numpy>=1.20 in /Applications/anaconda3/lib/python3.8/site-packages (from tensorflow) (1.20.1)\n",
      "Collecting astunparse>=1.6.0\n",
      "  Using cached astunparse-1.6.3-py2.py3-none-any.whl (12 kB)\n",
      "Collecting absl-py>=1.0.0\n",
      "  Using cached absl_py-1.3.0-py3-none-any.whl (124 kB)\n",
      "Collecting keras-preprocessing>=1.1.1\n",
      "  Using cached Keras_Preprocessing-1.1.2-py2.py3-none-any.whl (42 kB)\n",
      "Collecting opt-einsum>=2.3.2\n",
      "  Using cached opt_einsum-3.3.0-py3-none-any.whl (65 kB)\n",
      "Collecting gast<=0.4.0,>=0.2.1\n",
      "  Using cached gast-0.4.0-py3-none-any.whl (9.8 kB)\n",
      "Collecting tensorflow-io-gcs-filesystem>=0.23.1\n",
      "  Using cached tensorflow_io_gcs_filesystem-0.27.0-cp38-cp38-macosx_10_14_x86_64.whl (1.6 MB)\n",
      "Requirement already satisfied: h5py>=2.9.0 in /Applications/anaconda3/lib/python3.8/site-packages (from tensorflow) (2.10.0)\n",
      "Collecting keras<2.11,>=2.10.0\n",
      "  Downloading keras-2.10.0-py2.py3-none-any.whl (1.7 MB)\n",
      "\u001b[K     |████████████████████████████████| 1.7 MB 25.4 MB/s eta 0:00:01\n",
      "\u001b[?25hRequirement already satisfied: wheel<1.0,>=0.23.0 in /Applications/anaconda3/lib/python3.8/site-packages (from astunparse>=1.6.0->tensorflow) (0.36.2)\n",
      "Requirement already satisfied: werkzeug>=1.0.1 in /Applications/anaconda3/lib/python3.8/site-packages (from tensorboard<2.11,>=2.10->tensorflow) (1.0.1)\n",
      "Requirement already satisfied: requests<3,>=2.21.0 in /Applications/anaconda3/lib/python3.8/site-packages (from tensorboard<2.11,>=2.10->tensorflow) (2.25.1)\n",
      "Collecting google-auth<3,>=1.6.3\n",
      "  Using cached google_auth-2.14.0-py2.py3-none-any.whl (175 kB)\n",
      "Collecting google-auth-oauthlib<0.5,>=0.4.1\n",
      "  Using cached google_auth_oauthlib-0.4.6-py2.py3-none-any.whl (18 kB)\n",
      "Collecting markdown>=2.6.8\n",
      "  Using cached Markdown-3.4.1-py3-none-any.whl (93 kB)\n",
      "Collecting tensorboard-data-server<0.7.0,>=0.6.0\n",
      "  Using cached tensorboard_data_server-0.6.1-py3-none-macosx_10_9_x86_64.whl (3.5 MB)\n",
      "Collecting tensorboard-plugin-wit>=1.6.0\n",
      "  Using cached tensorboard_plugin_wit-1.8.1-py3-none-any.whl (781 kB)\n",
      "Collecting rsa<5,>=3.1.4\n",
      "  Using cached rsa-4.9-py3-none-any.whl (34 kB)\n",
      "Collecting pyasn1-modules>=0.2.1\n",
      "  Using cached pyasn1_modules-0.2.8-py2.py3-none-any.whl (155 kB)\n",
      "Collecting cachetools<6.0,>=2.0.0\n",
      "  Using cached cachetools-5.2.0-py3-none-any.whl (9.3 kB)\n",
      "Collecting requests-oauthlib>=0.7.0\n",
      "  Using cached requests_oauthlib-1.3.1-py2.py3-none-any.whl (23 kB)\n",
      "Collecting importlib-metadata>=4.4\n",
      "  Using cached importlib_metadata-5.0.0-py3-none-any.whl (21 kB)\n",
      "Requirement already satisfied: zipp>=0.5 in /Applications/anaconda3/lib/python3.8/site-packages (from importlib-metadata>=4.4->markdown>=2.6.8->tensorboard<2.11,>=2.10->tensorflow) (3.4.1)\n",
      "Collecting pyasn1<0.5.0,>=0.4.6\n",
      "  Using cached pyasn1-0.4.8-py2.py3-none-any.whl (77 kB)\n",
      "Requirement already satisfied: urllib3<1.27,>=1.21.1 in /Applications/anaconda3/lib/python3.8/site-packages (from requests<3,>=2.21.0->tensorboard<2.11,>=2.10->tensorflow) (1.26.4)\n",
      "Requirement already satisfied: certifi>=2017.4.17 in /Applications/anaconda3/lib/python3.8/site-packages (from requests<3,>=2.21.0->tensorboard<2.11,>=2.10->tensorflow) (2020.12.5)\n",
      "Requirement already satisfied: chardet<5,>=3.0.2 in /Applications/anaconda3/lib/python3.8/site-packages (from requests<3,>=2.21.0->tensorboard<2.11,>=2.10->tensorflow) (4.0.0)\n",
      "Requirement already satisfied: idna<3,>=2.5 in /Applications/anaconda3/lib/python3.8/site-packages (from requests<3,>=2.21.0->tensorboard<2.11,>=2.10->tensorflow) (2.10)\n",
      "Collecting oauthlib>=3.0.0\n",
      "  Using cached oauthlib-3.2.2-py3-none-any.whl (151 kB)\n",
      "Requirement already satisfied: pyparsing>=2.0.2 in /Applications/anaconda3/lib/python3.8/site-packages (from packaging->tensorflow) (2.4.7)\n",
      "Installing collected packages: pyasn1, rsa, pyasn1-modules, oauthlib, cachetools, requests-oauthlib, importlib-metadata, google-auth, tensorboard-plugin-wit, tensorboard-data-server, protobuf, markdown, grpcio, google-auth-oauthlib, absl-py, termcolor, tensorflow-io-gcs-filesystem, tensorflow-estimator, tensorboard, opt-einsum, libclang, keras-preprocessing, keras, google-pasta, gast, flatbuffers, astunparse, tensorflow\n",
      "  Attempting uninstall: importlib-metadata\n",
      "    Found existing installation: importlib-metadata 3.10.0\n",
      "    Uninstalling importlib-metadata-3.10.0:\n",
      "      Successfully uninstalled importlib-metadata-3.10.0\n",
      "Successfully installed absl-py-1.3.0 astunparse-1.6.3 cachetools-5.2.0 flatbuffers-22.10.26 gast-0.4.0 google-auth-2.14.0 google-auth-oauthlib-0.4.6 google-pasta-0.2.0 grpcio-1.50.0 importlib-metadata-5.0.0 keras-2.10.0 keras-preprocessing-1.1.2 libclang-14.0.6 markdown-3.4.1 oauthlib-3.2.2 opt-einsum-3.3.0 protobuf-3.19.6 pyasn1-0.4.8 pyasn1-modules-0.2.8 requests-oauthlib-1.3.1 rsa-4.9 tensorboard-2.10.1 tensorboard-data-server-0.6.1 tensorboard-plugin-wit-1.8.1 tensorflow-2.10.0 tensorflow-estimator-2.10.0 tensorflow-io-gcs-filesystem-0.27.0 termcolor-2.1.0\n"
     ]
    }
   ],
   "source": [
    "import sys\n",
    "!$sys.executable -m pip install tensorflow ##Installing tensorflow"
   ]
  },
  {
   "cell_type": "code",
   "execution_count": 2,
   "id": "f990451b-199e-4733-9fdb-9254564482f7",
   "metadata": {},
   "outputs": [],
   "source": [
    "import numpy\n",
    "import tensorflow as tf\n",
    "from tensorflow import keras\n",
    "from tensorflow.keras import Sequential, layers, callbacks\n",
    "from tensorflow.keras.layers import Dense, LSTM, Dropout, GRU, Bidirectional\n",
    "import pandas as pd\n",
    "import numpy as np"
   ]
  },
  {
   "cell_type": "code",
   "execution_count": 6,
   "id": "dac92291-3580-469c-99b8-0169b0eb87a9",
   "metadata": {},
   "outputs": [],
   "source": [
    "tf.random.set_seed(6)"
   ]
  },
  {
   "cell_type": "code",
   "execution_count": 4,
   "id": "306515fd-5a03-4ee0-b905-8fc09076b816",
   "metadata": {},
   "outputs": [
    {
     "data": {
      "text/html": [
       "<div>\n",
       "<style scoped>\n",
       "    .dataframe tbody tr th:only-of-type {\n",
       "        vertical-align: middle;\n",
       "    }\n",
       "\n",
       "    .dataframe tbody tr th {\n",
       "        vertical-align: top;\n",
       "    }\n",
       "\n",
       "    .dataframe thead th {\n",
       "        text-align: right;\n",
       "    }\n",
       "</style>\n",
       "<table border=\"1\" class=\"dataframe\">\n",
       "  <thead>\n",
       "    <tr style=\"text-align: right;\">\n",
       "      <th></th>\n",
       "      <th>ChangeDow</th>\n",
       "      <th>save.Value</th>\n",
       "      <th>CPI</th>\n",
       "      <th>EquityMktUncertainty</th>\n",
       "      <th>CrudeOilPrice</th>\n",
       "      <th>FederalReserveLoans</th>\n",
       "      <th>FedReservesOnHand</th>\n",
       "      <th>EconomicPolicy</th>\n",
       "      <th>Index</th>\n",
       "      <th>ExpectedStockIncrease</th>\n",
       "      <th>ConsumerUnemployment</th>\n",
       "    </tr>\n",
       "    <tr>\n",
       "      <th>Date</th>\n",
       "      <th></th>\n",
       "      <th></th>\n",
       "      <th></th>\n",
       "      <th></th>\n",
       "      <th></th>\n",
       "      <th></th>\n",
       "      <th></th>\n",
       "      <th></th>\n",
       "      <th></th>\n",
       "      <th></th>\n",
       "      <th></th>\n",
       "    </tr>\n",
       "  </thead>\n",
       "  <tbody>\n",
       "    <tr>\n",
       "      <th>2010-07-31</th>\n",
       "      <td>0.070792</td>\n",
       "      <td>6.4</td>\n",
       "      <td>217.923</td>\n",
       "      <td>50.61</td>\n",
       "      <td>20.74</td>\n",
       "      <td>49773</td>\n",
       "      <td>995.183</td>\n",
       "      <td>1.727273</td>\n",
       "      <td>67.8</td>\n",
       "      <td>44.7</td>\n",
       "      <td>2.111111</td>\n",
       "    </tr>\n",
       "    <tr>\n",
       "      <th>2010-08-31</th>\n",
       "      <td>-0.043113</td>\n",
       "      <td>6.5</td>\n",
       "      <td>218.275</td>\n",
       "      <td>125.02</td>\n",
       "      <td>24.42</td>\n",
       "      <td>47564</td>\n",
       "      <td>1003.206</td>\n",
       "      <td>1.808081</td>\n",
       "      <td>68.9</td>\n",
       "      <td>45.4</td>\n",
       "      <td>2.120000</td>\n",
       "    </tr>\n",
       "    <tr>\n",
       "      <th>2010-09-30</th>\n",
       "      <td>0.077219</td>\n",
       "      <td>6.5</td>\n",
       "      <td>219.035</td>\n",
       "      <td>104.46</td>\n",
       "      <td>26.27</td>\n",
       "      <td>46685</td>\n",
       "      <td>1011.124</td>\n",
       "      <td>1.757576</td>\n",
       "      <td>68.2</td>\n",
       "      <td>45.2</td>\n",
       "      <td>2.141414</td>\n",
       "    </tr>\n",
       "    <tr>\n",
       "      <th>2010-10-31</th>\n",
       "      <td>0.030630</td>\n",
       "      <td>6.3</td>\n",
       "      <td>219.590</td>\n",
       "      <td>18.75</td>\n",
       "      <td>27.02</td>\n",
       "      <td>45084</td>\n",
       "      <td>1027.089</td>\n",
       "      <td>1.656566</td>\n",
       "      <td>67.7</td>\n",
       "      <td>46.4</td>\n",
       "      <td>2.132653</td>\n",
       "    </tr>\n",
       "    <tr>\n",
       "      <th>2010-11-30</th>\n",
       "      <td>-0.010116</td>\n",
       "      <td>6.1</td>\n",
       "      <td>220.472</td>\n",
       "      <td>5.63</td>\n",
       "      <td>25.52</td>\n",
       "      <td>23259</td>\n",
       "      <td>1078.051</td>\n",
       "      <td>1.690000</td>\n",
       "      <td>71.6</td>\n",
       "      <td>50.5</td>\n",
       "      <td>2.080808</td>\n",
       "    </tr>\n",
       "  </tbody>\n",
       "</table>\n",
       "</div>"
      ],
      "text/plain": [
       "            ChangeDow  save.Value      CPI  EquityMktUncertainty  \\\n",
       "Date                                                               \n",
       "2010-07-31   0.070792         6.4  217.923                 50.61   \n",
       "2010-08-31  -0.043113         6.5  218.275                125.02   \n",
       "2010-09-30   0.077219         6.5  219.035                104.46   \n",
       "2010-10-31   0.030630         6.3  219.590                 18.75   \n",
       "2010-11-30  -0.010116         6.1  220.472                  5.63   \n",
       "\n",
       "            CrudeOilPrice  FederalReserveLoans  FedReservesOnHand  \\\n",
       "Date                                                                \n",
       "2010-07-31          20.74                49773            995.183   \n",
       "2010-08-31          24.42                47564           1003.206   \n",
       "2010-09-30          26.27                46685           1011.124   \n",
       "2010-10-31          27.02                45084           1027.089   \n",
       "2010-11-30          25.52                23259           1078.051   \n",
       "\n",
       "            EconomicPolicy  Index  ExpectedStockIncrease  ConsumerUnemployment  \n",
       "Date                                                                            \n",
       "2010-07-31        1.727273   67.8                   44.7              2.111111  \n",
       "2010-08-31        1.808081   68.9                   45.4              2.120000  \n",
       "2010-09-30        1.757576   68.2                   45.2              2.141414  \n",
       "2010-10-31        1.656566   67.7                   46.4              2.132653  \n",
       "2010-11-30        1.690000   71.6                   50.5              2.080808  "
      ]
     },
     "execution_count": 4,
     "metadata": {},
     "output_type": "execute_result"
    }
   ],
   "source": [
    "file = 'Dowpredictive.csv'\n",
    "raw_data = pd.read_csv(file, parse_dates = ['Date'], index_col = \"Date\")\n",
    "\n",
    "df = raw_data.copy()\n",
    "df = df.iloc[::-1]\n",
    "df.head()"
   ]
  },
  {
   "cell_type": "code",
   "execution_count": 6,
   "id": "375159be-e9e8-445d-b9b3-885f7f721c4b",
   "metadata": {},
   "outputs": [
    {
     "data": {
      "text/plain": [
       "<AxesSubplot:xlabel='Date'>"
      ]
     },
     "execution_count": 6,
     "metadata": {},
     "output_type": "execute_result"
    },
    {
     "data": {
      "image/png": "[encoded data removed]",
      "text/plain": [
       "<Figure size 432x288 with 1 Axes>"
      ]
     },
     "metadata": {
      "needs_background": "light"
     },
     "output_type": "display_data"
    }
   ],
   "source": [
    "Dow = df['ChangeDow']\n",
    "Dow.plot()"
   ]
  },
  {
   "cell_type": "code",
   "execution_count": 7,
   "id": "a89cb6e7-9213-4abf-84c4-b395870536a0",
   "metadata": {},
   "outputs": [],
   "source": [
    "def dfToXY(df, window_size=5):\n",
    "    df_as_np = df.to_numpy()\n",
    "    x = []\n",
    "    y = []\n",
    "    for i in range(len(df_as_np)-window_size):\n",
    "        row = [r for r in df_as_np[i:i+window_size]]\n",
    "        x.append(row)\n",
    "        label = df_as_np[i+window_size][0]\n",
    "        y.append(label)\n",
    "    return np.array(x), np.array(y)"
   ]
  },
  {
   "cell_type": "code",
   "execution_count": 8,
   "id": "40897b04-0653-42b4-b555-5c4fa3288cdb",
   "metadata": {},
   "outputs": [
    {
     "data": {
      "text/plain": [
       "((134, 4, 11), (134,))"
      ]
     },
     "execution_count": 8,
     "metadata": {},
     "output_type": "execute_result"
    }
   ],
   "source": [
    "x,y = dfToXY(df, 4)\n",
    "x.shape, y.shape"
   ]
  },
  {
   "cell_type": "code",
   "execution_count": 9,
   "id": "19dd9b76-d28d-4dbd-ba36-1eb660a96cd3",
   "metadata": {},
   "outputs": [
    {
     "data": {
      "text/plain": [
       "(134, 4, 11)"
      ]
     },
     "execution_count": 9,
     "metadata": {},
     "output_type": "execute_result"
    }
   ],
   "source": [
    "x = np.squeeze(x) #getting rid of the third dimension (=value 1) from x array\n",
    "x.shape"
   ]
  },
  {
   "cell_type": "code",
   "execution_count": 10,
   "id": "821ba797-3219-4f1a-b836-4e87ae74684a",
   "metadata": {},
   "outputs": [
    {
     "data": {
      "text/plain": [
       "((110, 4, 11), (110,), (6, 4, 11), (6,), (18, 4, 11), (18,))"
      ]
     },
     "execution_count": 10,
     "metadata": {},
     "output_type": "execute_result"
    }
   ],
   "source": [
    "trainSize = int(len(df)*0.80)\n",
    "valSize = int(len(df)*.05)\n",
    "xTrain, yTrain = x[:trainSize], y[:trainSize]\n",
    "xVal, yVal = x[trainSize:trainSize+valSize], y[trainSize:trainSize+valSize]\n",
    "xTest, yTest = x[trainSize+valSize:], y[trainSize+valSize:]\n",
    "xTrain.shape, yTrain.shape, xVal.shape,yVal.shape,xTest.shape, yTest.shape"
   ]
  },
  {
   "cell_type": "code",
   "execution_count": 11,
   "id": "6688a87b-0451-4418-9839-4369dbbcf4b0",
   "metadata": {},
   "outputs": [],
   "source": [
    "DowTrainMean = np.mean(xTrain[:, :, 0])\n",
    "DowTrainStd = np.std(xTrain[:, :, 0])\n",
    "\n",
    "#print(BitTrainMean)\n",
    "#print(BitTrainStd)                   \n",
    "\n",
    "def preprocess(x):\n",
    "    x[:, :, 0] = (x[:, :, 0] - DowTrainMean) / DowTrainStd\n",
    "    return x"
   ]
  },
  {
   "cell_type": "code",
   "execution_count": 12,
   "id": "24e00ee2-6dd1-48c1-93d4-a553a3494bcf",
   "metadata": {},
   "outputs": [
    {
     "data": {
      "text/plain": [
       "array([[[-4.36565853e+00,  1.31000000e+01,  2.56094000e+02,\n",
       "          3.40990000e+02,  8.64100000e+01,  1.06896000e+05,\n",
       "          3.26814400e+03,  2.15151515e+00,  8.91000000e+01,\n",
       "          5.76000000e+01,  2.18181818e+00],\n",
       "        [ 3.01295669e+00,  3.38000000e+01,  2.55944000e+02,\n",
       "          1.61980000e+02,  9.72100000e+01,  9.53600000e+04,\n",
       "          2.91875600e+03,  2.00000000e+00,  7.18000000e+01,\n",
       "          5.62000000e+01,  2.18181818e+00],\n",
       "        [ 9.85963081e-01,  2.48000000e+01,  2.57217000e+02,\n",
       "          4.20900000e+01,  9.85700000e+01,  9.05230000e+04,\n",
       "          2.61527200e+03,  1.90625000e+00,  7.23000000e+01,\n",
       "          5.39000000e+01,  1.93939394e+00],\n",
       "        [ 2.22686663e-01,  1.93000000e+01,  2.58543000e+02,\n",
       "          1.08710000e+02,  1.00240000e+02,  8.11050000e+04,\n",
       "          2.81579400e+03,  1.86597938e+00,  7.81000000e+01,\n",
       "          5.50000000e+01,  1.75510204e+00]],\n",
       "\n",
       "       [[ 3.01295669e+00,  3.38000000e+01,  2.55944000e+02,\n",
       "          1.61980000e+02,  9.72100000e+01,  9.53600000e+04,\n",
       "          2.91875600e+03,  2.00000000e+00,  7.18000000e+01,\n",
       "          5.62000000e+01,  2.18181818e+00],\n",
       "        [ 9.85963081e-01,  2.48000000e+01,  2.57217000e+02,\n",
       "          4.20900000e+01,  9.85700000e+01,  9.05230000e+04,\n",
       "          2.61527200e+03,  1.90625000e+00,  7.23000000e+01,\n",
       "          5.39000000e+01,  1.93939394e+00],\n",
       "        [ 2.22686663e-01,  1.93000000e+01,  2.58543000e+02,\n",
       "          1.08710000e+02,  1.00240000e+02,  8.11050000e+04,\n",
       "          2.81579400e+03,  1.86597938e+00,  7.81000000e+01,\n",
       "          5.50000000e+01,  1.75510204e+00],\n",
       "        [ 4.28104774e-01,  1.87000000e+01,  2.59580000e+02,\n",
       "          1.44430000e+02,  1.02250000e+02,  7.83730000e+04,\n",
       "          2.83931600e+03,  1.92783505e+00,  7.25000000e+01,\n",
       "          5.63000000e+01,  1.93939394e+00]],\n",
       "\n",
       "       [[ 9.85963081e-01,  2.48000000e+01,  2.57217000e+02,\n",
       "          4.20900000e+01,  9.85700000e+01,  9.05230000e+04,\n",
       "          2.61527200e+03,  1.90625000e+00,  7.23000000e+01,\n",
       "          5.39000000e+01,  1.93939394e+00],\n",
       "        [ 2.22686663e-01,  1.93000000e+01,  2.58543000e+02,\n",
       "          1.08710000e+02,  1.00240000e+02,  8.11050000e+04,\n",
       "          2.81579400e+03,  1.86597938e+00,  7.81000000e+01,\n",
       "          5.50000000e+01,  1.75510204e+00],\n",
       "        [ 4.28104774e-01,  1.87000000e+01,  2.59580000e+02,\n",
       "          1.44430000e+02,  1.02250000e+02,  7.83730000e+04,\n",
       "          2.83931600e+03,  1.92783505e+00,  7.25000000e+01,\n",
       "          5.63000000e+01,  1.93939394e+00],\n",
       "        [ 1.97072657e+00,  1.50000000e+01,  2.60190000e+02,\n",
       "          6.77400000e+01,  1.06190000e+02,  7.24620000e+04,\n",
       "          2.88078100e+03,  1.80808081e+00,  7.41000000e+01,\n",
       "          5.68000000e+01,  1.95959596e+00]],\n",
       "\n",
       "       [[ 2.22686663e-01,  1.93000000e+01,  2.58543000e+02,\n",
       "          1.08710000e+02,  1.00240000e+02,  8.11050000e+04,\n",
       "          2.81579400e+03,  1.86597938e+00,  7.81000000e+01,\n",
       "          5.50000000e+01,  1.75510204e+00],\n",
       "        [ 4.28104774e-01,  1.87000000e+01,  2.59580000e+02,\n",
       "          1.44430000e+02,  1.02250000e+02,  7.83730000e+04,\n",
       "          2.83931600e+03,  1.92783505e+00,  7.25000000e+01,\n",
       "          5.63000000e+01,  1.93939394e+00],\n",
       "        [ 1.97072657e+00,  1.50000000e+01,  2.60190000e+02,\n",
       "          6.77400000e+01,  1.06190000e+02,  7.24620000e+04,\n",
       "          2.88078100e+03,  1.80808081e+00,  7.41000000e+01,\n",
       "          5.68000000e+01,  1.95959596e+00],\n",
       "        [-9.58409336e-01,  1.43000000e+01,  2.60352000e+02,\n",
       "          5.01700000e+01,  1.03330000e+02,  6.38640000e+04,\n",
       "          3.08363600e+03,  1.89795918e+00,  8.04000000e+01,\n",
       "          6.06000000e+01,  1.81632653e+00]],\n",
       "\n",
       "       [[ 4.28104774e-01,  1.87000000e+01,  2.59580000e+02,\n",
       "          1.44430000e+02,  1.02250000e+02,  7.83730000e+04,\n",
       "          2.83931600e+03,  1.92783505e+00,  7.25000000e+01,\n",
       "          5.63000000e+01,  1.93939394e+00],\n",
       "        [ 1.97072657e+00,  1.50000000e+01,  2.60190000e+02,\n",
       "          6.77400000e+01,  1.06190000e+02,  7.24620000e+04,\n",
       "          2.88078100e+03,  1.80808081e+00,  7.41000000e+01,\n",
       "          5.68000000e+01,  1.95959596e+00],\n",
       "        [-9.58409336e-01,  1.43000000e+01,  2.60352000e+02,\n",
       "          5.01700000e+01,  1.03330000e+02,  6.38640000e+04,\n",
       "          3.08363600e+03,  1.89795918e+00,  8.04000000e+01,\n",
       "          6.06000000e+01,  1.81632653e+00],\n",
       "        [-1.65012884e+00,  1.36000000e+01,  2.60721000e+02,\n",
       "          2.82200000e+01,  9.47000000e+01,  5.67010000e+04,\n",
       "          3.12215600e+03,  1.79381443e+00,  8.18000000e+01,\n",
       "          6.03000000e+01,  1.88775510e+00]],\n",
       "\n",
       "       [[ 1.97072657e+00,  1.50000000e+01,  2.60190000e+02,\n",
       "          6.77400000e+01,  1.06190000e+02,  7.24620000e+04,\n",
       "          2.88078100e+03,  1.80808081e+00,  7.41000000e+01,\n",
       "          5.68000000e+01,  1.95959596e+00],\n",
       "        [-9.58409336e-01,  1.43000000e+01,  2.60352000e+02,\n",
       "          5.01700000e+01,  1.03330000e+02,  6.38640000e+04,\n",
       "          3.08363600e+03,  1.89795918e+00,  8.04000000e+01,\n",
       "          6.06000000e+01,  1.81632653e+00],\n",
       "        [-1.65012884e+00,  1.36000000e+01,  2.60721000e+02,\n",
       "          2.82200000e+01,  9.47000000e+01,  5.67010000e+04,\n",
       "          3.12215600e+03,  1.79381443e+00,  8.18000000e+01,\n",
       "          6.03000000e+01,  1.88775510e+00],\n",
       "        [ 3.23782480e+00,  1.30000000e+01,  2.61564000e+02,\n",
       "          4.90700000e+01,  8.24100000e+01,  5.10980000e+04,\n",
       "          3.16300800e+03,  1.82653061e+00,  7.69000000e+01,\n",
       "          5.83000000e+01,  2.08247423e+00]],\n",
       "\n",
       "       [[-9.58409336e-01,  1.43000000e+01,  2.60352000e+02,\n",
       "          5.01700000e+01,  1.03330000e+02,  6.38640000e+04,\n",
       "          3.08363600e+03,  1.89795918e+00,  8.04000000e+01,\n",
       "          6.06000000e+01,  1.81632653e+00],\n",
       "        [-1.65012884e+00,  1.36000000e+01,  2.60721000e+02,\n",
       "          2.82200000e+01,  9.47000000e+01,  5.67010000e+04,\n",
       "          3.12215600e+03,  1.79381443e+00,  8.18000000e+01,\n",
       "          6.03000000e+01,  1.88775510e+00],\n",
       "        [ 3.23782480e+00,  1.30000000e+01,  2.61564000e+02,\n",
       "          4.90700000e+01,  8.24100000e+01,  5.10980000e+04,\n",
       "          3.16300800e+03,  1.82653061e+00,  7.69000000e+01,\n",
       "          5.83000000e+01,  2.08247423e+00],\n",
       "        [ 6.90035259e-01,  1.40000000e+01,  2.62200000e+02,\n",
       "          1.94500000e+01,  8.79300000e+01,  5.63210000e+04,\n",
       "          3.36902000e+03,  1.77551020e+00,  8.07000000e+01,\n",
       "          5.98000000e+01,  1.96969697e+00]],\n",
       "\n",
       "       [[-1.65012884e+00,  1.36000000e+01,  2.60721000e+02,\n",
       "          2.82200000e+01,  9.47000000e+01,  5.67010000e+04,\n",
       "          3.12215600e+03,  1.79381443e+00,  8.18000000e+01,\n",
       "          6.03000000e+01,  1.88775510e+00],\n",
       "        [ 3.23782480e+00,  1.30000000e+01,  2.61564000e+02,\n",
       "          4.90700000e+01,  8.24100000e+01,  5.10980000e+04,\n",
       "          3.16300800e+03,  1.82653061e+00,  7.69000000e+01,\n",
       "          5.83000000e+01,  2.08247423e+00],\n",
       "        [ 6.90035259e-01,  1.40000000e+01,  2.62200000e+02,\n",
       "          1.94500000e+01,  8.79300000e+01,  5.63210000e+04,\n",
       "          3.36902000e+03,  1.77551020e+00,  8.07000000e+01,\n",
       "          5.98000000e+01,  1.96969697e+00],\n",
       "        [-8.86424672e-01,  1.99000000e+01,  2.63346000e+02,\n",
       "          4.28500000e+01,  9.41600000e+01,  6.11880000e+04,\n",
       "          3.87616200e+03,  1.73469388e+00,  7.90000000e+01,\n",
       "          5.86000000e+01,  1.94897959e+00]],\n",
       "\n",
       "       [[ 3.23782480e+00,  1.30000000e+01,  2.61564000e+02,\n",
       "          4.90700000e+01,  8.24100000e+01,  5.10980000e+04,\n",
       "          3.16300800e+03,  1.82653061e+00,  7.69000000e+01,\n",
       "          5.83000000e+01,  2.08247423e+00],\n",
       "        [ 6.90035259e-01,  1.40000000e+01,  2.62200000e+02,\n",
       "          1.94500000e+01,  8.79300000e+01,  5.63210000e+04,\n",
       "          3.36902000e+03,  1.77551020e+00,  8.07000000e+01,\n",
       "          5.98000000e+01,  1.96969697e+00],\n",
       "        [-8.86424672e-01,  1.99000000e+01,  2.63346000e+02,\n",
       "          4.28500000e+01,  9.41600000e+01,  6.11880000e+04,\n",
       "          3.87616200e+03,  1.73469388e+00,  7.90000000e+01,\n",
       "          5.86000000e+01,  1.94897959e+00],\n",
       "        [ 6.60966364e-01,  1.35000000e+01,  2.65028000e+02,\n",
       "          6.89800000e+01,  9.47200000e+01,  7.31240000e+04,\n",
       "          3.82926900e+03,  1.83157895e+00,  7.68000000e+01,\n",
       "          6.04000000e+01,  1.95959596e+00]],\n",
       "\n",
       "       [[ 6.90035259e-01,  1.40000000e+01,  2.62200000e+02,\n",
       "          1.94500000e+01,  8.79300000e+01,  5.63210000e+04,\n",
       "          3.36902000e+03,  1.77551020e+00,  8.07000000e+01,\n",
       "          5.98000000e+01,  1.96969697e+00],\n",
       "        [-8.86424672e-01,  1.99000000e+01,  2.63346000e+02,\n",
       "          4.28500000e+01,  9.41600000e+01,  6.11880000e+04,\n",
       "          3.87616200e+03,  1.73469388e+00,  7.90000000e+01,\n",
       "          5.86000000e+01,  1.94897959e+00],\n",
       "        [ 6.60966364e-01,  1.35000000e+01,  2.65028000e+02,\n",
       "          6.89800000e+01,  9.47200000e+01,  7.31240000e+04,\n",
       "          3.82926900e+03,  1.83157895e+00,  7.68000000e+01,\n",
       "          6.04000000e+01,  1.95959596e+00],\n",
       "        [ 1.68851171e+00,  2.66000000e+01,  2.66727000e+02,\n",
       "          1.61500000e+01,  8.95700000e+01,  8.48940000e+04,\n",
       "          3.80517800e+03,  1.91666667e+00,  8.49000000e+01,\n",
       "          6.46000000e+01,  1.80808081e+00]],\n",
       "\n",
       "       [[-8.86424672e-01,  1.99000000e+01,  2.63346000e+02,\n",
       "          4.28500000e+01,  9.41600000e+01,  6.11880000e+04,\n",
       "          3.87616200e+03,  1.73469388e+00,  7.90000000e+01,\n",
       "          5.86000000e+01,  1.94897959e+00],\n",
       "        [ 6.60966364e-01,  1.35000000e+01,  2.65028000e+02,\n",
       "          6.89800000e+01,  9.47200000e+01,  7.31240000e+04,\n",
       "          3.82926900e+03,  1.83157895e+00,  7.68000000e+01,\n",
       "          6.04000000e+01,  1.95959596e+00],\n",
       "        [ 1.68851171e+00,  2.66000000e+01,  2.66727000e+02,\n",
       "          1.61500000e+01,  8.95700000e+01,  8.48940000e+04,\n",
       "          3.80517800e+03,  1.91666667e+00,  8.49000000e+01,\n",
       "          6.46000000e+01,  1.80808081e+00],\n",
       "        [ 5.24481796e-01,  1.26000000e+01,  2.68599000e+02,\n",
       "          1.11660000e+02,  8.66600000e+01,  9.11260000e+04,\n",
       "          3.78079100e+03,  1.98979592e+00,  8.83000000e+01,\n",
       "          6.23000000e+01,  1.68686869e+00]],\n",
       "\n",
       "       [[ 6.60966364e-01,  1.35000000e+01,  2.65028000e+02,\n",
       "          6.89800000e+01,  9.47200000e+01,  7.31240000e+04,\n",
       "          3.82926900e+03,  1.83157895e+00,  7.68000000e+01,\n",
       "          6.04000000e+01,  1.95959596e+00],\n",
       "        [ 1.68851171e+00,  2.66000000e+01,  2.66727000e+02,\n",
       "          1.61500000e+01,  8.95700000e+01,  8.48940000e+04,\n",
       "          3.80517800e+03,  1.91666667e+00,  8.49000000e+01,\n",
       "          6.46000000e+01,  1.80808081e+00],\n",
       "        [ 5.24481796e-01,  1.26000000e+01,  2.68599000e+02,\n",
       "          1.11660000e+02,  8.66600000e+01,  9.11260000e+04,\n",
       "          3.78079100e+03,  1.98979592e+00,  8.83000000e+01,\n",
       "          6.23000000e+01,  1.68686869e+00],\n",
       "        [ 2.93806500e-01,  1.04000000e+01,  2.70955000e+02,\n",
       "          1.20620000e+02,  8.82500000e+01,  8.54870000e+04,\n",
       "          3.98437100e+03,  1.92857143e+00,  8.29000000e+01,\n",
       "          6.48000000e+01,  1.62626263e+00]],\n",
       "\n",
       "       [[ 1.68851171e+00,  2.66000000e+01,  2.66727000e+02,\n",
       "          1.61500000e+01,  8.95700000e+01,  8.48940000e+04,\n",
       "          3.80517800e+03,  1.91666667e+00,  8.49000000e+01,\n",
       "          6.46000000e+01,  1.80808081e+00],\n",
       "        [ 5.24481796e-01,  1.26000000e+01,  2.68599000e+02,\n",
       "          1.11660000e+02,  8.66600000e+01,  9.11260000e+04,\n",
       "          3.78079100e+03,  1.98979592e+00,  8.83000000e+01,\n",
       "          6.23000000e+01,  1.68686869e+00],\n",
       "        [ 2.93806500e-01,  1.04000000e+01,  2.70955000e+02,\n",
       "          1.20620000e+02,  8.82500000e+01,  8.54870000e+04,\n",
       "          3.98437100e+03,  1.92857143e+00,  8.29000000e+01,\n",
       "          6.48000000e+01,  1.62626263e+00],\n",
       "        [-3.03757941e-01,  9.50000000e+00,  2.72184000e+02,\n",
       "          1.57030000e+02,  9.46900000e+01,  7.80940000e+04,\n",
       "          4.16774800e+03,  1.93877551e+00,  8.55000000e+01,\n",
       "          6.19000000e+01,  1.58163265e+00]],\n",
       "\n",
       "       [[ 5.24481796e-01,  1.26000000e+01,  2.68599000e+02,\n",
       "          1.11660000e+02,  8.66600000e+01,  9.11260000e+04,\n",
       "          3.78079100e+03,  1.98979592e+00,  8.83000000e+01,\n",
       "          6.23000000e+01,  1.68686869e+00],\n",
       "        [ 2.93806500e-01,  1.04000000e+01,  2.70955000e+02,\n",
       "          1.20620000e+02,  8.82500000e+01,  8.54870000e+04,\n",
       "          3.98437100e+03,  1.92857143e+00,  8.29000000e+01,\n",
       "          6.48000000e+01,  1.62626263e+00],\n",
       "        [-3.03757941e-01,  9.50000000e+00,  2.72184000e+02,\n",
       "          1.57030000e+02,  9.46900000e+01,  7.80940000e+04,\n",
       "          4.16774800e+03,  1.93877551e+00,  8.55000000e+01,\n",
       "          6.19000000e+01,  1.58163265e+00],\n",
       "        [ 9.24190103e-02,  1.05000000e+01,  2.73092000e+02,\n",
       "          7.37000000e+01,  9.53200000e+01,  6.14260000e+04,\n",
       "          4.12534800e+03,  1.86734694e+00,  8.12000000e+01,\n",
       "          6.12000000e+01,  1.61616162e+00]],\n",
       "\n",
       "       [[ 2.93806500e-01,  1.04000000e+01,  2.70955000e+02,\n",
       "          1.20620000e+02,  8.82500000e+01,  8.54870000e+04,\n",
       "          3.98437100e+03,  1.92857143e+00,  8.29000000e+01,\n",
       "          6.48000000e+01,  1.62626263e+00],\n",
       "        [-3.03757941e-01,  9.50000000e+00,  2.72184000e+02,\n",
       "          1.57030000e+02,  9.46900000e+01,  7.80940000e+04,\n",
       "          4.16774800e+03,  1.93877551e+00,  8.55000000e+01,\n",
       "          6.19000000e+01,  1.58163265e+00],\n",
       "        [ 9.24190103e-02,  1.05000000e+01,  2.73092000e+02,\n",
       "          7.37000000e+01,  9.53200000e+01,  6.14260000e+04,\n",
       "          4.12534800e+03,  1.86734694e+00,  8.12000000e+01,\n",
       "          6.12000000e+01,  1.61616162e+00],\n",
       "        [ 8.12453561e-02,  9.80000000e+00,  2.74214000e+02,\n",
       "          9.60200000e+01,  9.30500000e+01,  5.05460000e+04,\n",
       "          4.07717000e+03,  1.84693878e+00,  7.03000000e+01,\n",
       "          5.87000000e+01,  1.85858586e+00]],\n",
       "\n",
       "       [[-3.03757941e-01,  9.50000000e+00,  2.72184000e+02,\n",
       "          1.57030000e+02,  9.46900000e+01,  7.80940000e+04,\n",
       "          4.16774800e+03,  1.93877551e+00,  8.55000000e+01,\n",
       "          6.19000000e+01,  1.58163265e+00],\n",
       "        [ 9.24190103e-02,  1.05000000e+01,  2.73092000e+02,\n",
       "          7.37000000e+01,  9.53200000e+01,  6.14260000e+04,\n",
       "          4.12534800e+03,  1.86734694e+00,  8.12000000e+01,\n",
       "          6.12000000e+01,  1.61616162e+00],\n",
       "        [ 8.12453561e-02,  9.80000000e+00,  2.74214000e+02,\n",
       "          9.60200000e+01,  9.30500000e+01,  5.05460000e+04,\n",
       "          4.07717000e+03,  1.84693878e+00,  7.03000000e+01,\n",
       "          5.87000000e+01,  1.85858586e+00],\n",
       "        [-1.55555631e+00,  8.10000000e+00,  2.76590000e+02,\n",
       "          3.27420000e+02,  9.20700000e+01,  4.22550000e+04,\n",
       "          4.16281000e+03,  1.82653061e+00,  7.28000000e+01,\n",
       "          6.00000000e+01,  1.77777778e+00]],\n",
       "\n",
       "       [[ 9.24190103e-02,  1.05000000e+01,  2.73092000e+02,\n",
       "          7.37000000e+01,  9.53200000e+01,  6.14260000e+04,\n",
       "          4.12534800e+03,  1.86734694e+00,  8.12000000e+01,\n",
       "          6.12000000e+01,  1.61616162e+00],\n",
       "        [ 8.12453561e-02,  9.80000000e+00,  2.74214000e+02,\n",
       "          9.60200000e+01,  9.30500000e+01,  5.05460000e+04,\n",
       "          4.07717000e+03,  1.84693878e+00,  7.03000000e+01,\n",
       "          5.87000000e+01,  1.85858586e+00],\n",
       "        [-1.55555631e+00,  8.10000000e+00,  2.76590000e+02,\n",
       "          3.27420000e+02,  9.20700000e+01,  4.22550000e+04,\n",
       "          4.16281000e+03,  1.82653061e+00,  7.28000000e+01,\n",
       "          6.00000000e+01,  1.77777778e+00],\n",
       "        [ 1.45452816e+00,  7.10000000e+00,  2.78524000e+02,\n",
       "          2.57200000e+01,  9.48000000e+01,  3.49520000e+04,\n",
       "          4.11619600e+03,  1.72727273e+00,  7.17000000e+01,\n",
       "          6.07000000e+01,  1.88888889e+00]],\n",
       "\n",
       "       [[ 8.12453561e-02,  9.80000000e+00,  2.74214000e+02,\n",
       "          9.60200000e+01,  9.30500000e+01,  5.05460000e+04,\n",
       "          4.07717000e+03,  1.84693878e+00,  7.03000000e+01,\n",
       "          5.87000000e+01,  1.85858586e+00],\n",
       "        [-1.55555631e+00,  8.10000000e+00,  2.76590000e+02,\n",
       "          3.27420000e+02,  9.20700000e+01,  4.22550000e+04,\n",
       "          4.16281000e+03,  1.82653061e+00,  7.28000000e+01,\n",
       "          6.00000000e+01,  1.77777778e+00],\n",
       "        [ 1.45452816e+00,  7.10000000e+00,  2.78524000e+02,\n",
       "          2.57200000e+01,  9.48000000e+01,  3.49520000e+04,\n",
       "          4.11619600e+03,  1.72727273e+00,  7.17000000e+01,\n",
       "          6.07000000e+01,  1.88888889e+00],\n",
       "        [-1.38905453e+00,  7.20000000e+00,  2.80126000e+02,\n",
       "          1.75030000e+02,  9.58000000e+01,  3.05710000e+04,\n",
       "          3.79617400e+03,  1.69696970e+00,  6.74000000e+01,\n",
       "          6.26000000e+01,  1.89898990e+00]]])"
      ]
     },
     "execution_count": 12,
     "metadata": {},
     "output_type": "execute_result"
    }
   ],
   "source": [
    "preprocess(xTrain)\n",
    "preprocess(xVal)\n",
    "preprocess(xTest)"
   ]
  },
  {
   "cell_type": "code",
   "execution_count": 13,
   "id": "972e4550-9f6d-43e9-b94d-06136af8912e",
   "metadata": {},
   "outputs": [],
   "source": [
    "from tensorflow.keras.models import Sequential\n",
    "\n",
    "from tensorflow.keras.layers import *\n",
    "from tensorflow.keras.callbacks import ModelCheckpoint\n",
    "from tensorflow.keras.losses import MeanSquaredError\n",
    "from tensorflow.keras.metrics import RootMeanSquaredError\n",
    "from tensorflow.keras.optimizers import Adam"
   ]
  },
  {
   "cell_type": "code",
   "execution_count": 17,
   "id": "28673c71-0ff9-4c27-b49a-4cc9d9228b04",
   "metadata": {},
   "outputs": [
    {
     "name": "stdout",
     "output_type": "stream",
     "text": [
      "Model: \"sequential_1\"\n",
      "_________________________________________________________________\n",
      " Layer (type)                Output Shape              Param #   \n",
      "=================================================================\n",
      " lstm_1 (LSTM)               (None, 100)               44800     \n",
      "                                                                 \n",
      " dense_2 (Dense)             (None, 8)                 808       \n",
      "                                                                 \n",
      " dense_3 (Dense)             (None, 1)                 9         \n",
      "                                                                 \n",
      "=================================================================\n",
      "Total params: 45,617\n",
      "Trainable params: 45,617\n",
      "Non-trainable params: 0\n",
      "_________________________________________________________________\n"
     ]
    }
   ],
   "source": [
    "model1 = Sequential()\n",
    "model1.add(InputLayer((4, 10)))\n",
    "model1.add(LSTM(100))\n",
    "model1.add(Dense(8, 'relu'))\n",
    "model1.add(Dense(1, 'linear'))\n",
    "\n",
    "model1.summary()"
   ]
  },
  {
   "cell_type": "code",
   "execution_count": 18,
   "id": "f2a71a97-a1b8-49fe-ad8b-2b7d982114ff",
   "metadata": {},
   "outputs": [],
   "source": [
    "cp = ModelCheckpoint(\"model1/\", save_best_only = True, monitor = \"loss\")\n",
    "model1.compile(loss=MeanSquaredError(),optimizer=Adam(learning_rate = 0.0001), metrics=[RootMeanSquaredError()])"
   ]
  },
  {
   "cell_type": "code",
   "execution_count": 33,
   "id": "6617ada7-daf1-4ef4-abc9-39cd498101c0",
   "metadata": {},
   "outputs": [
    {
     "name": "stdout",
     "output_type": "stream",
     "text": [
      "Epoch 1/10\n",
      "1/4 [======>.......................] - ETA: 0s - loss: 0.0516 - root_mean_squared_error: 0.2271"
     ]
    },
    {
     "name": "stderr",
     "output_type": "stream",
     "text": [
      "WARNING:absl:Found untraced functions such as lstm_cell_1_layer_call_fn, lstm_cell_1_layer_call_and_return_conditional_losses while saving (showing 2 of 2). These functions will not be directly callable after loading.\n"
     ]
    },
    {
     "name": "stdout",
     "output_type": "stream",
     "text": [
      "INFO:tensorflow:Assets written to: model1/assets\n"
     ]
    },
    {
     "name": "stderr",
     "output_type": "stream",
     "text": [
      "INFO:tensorflow:Assets written to: model1/assets\n"
     ]
    },
    {
     "name": "stdout",
     "output_type": "stream",
     "text": [
      "4/4 [==============================] - 5s 2s/step - loss: 0.0541 - root_mean_squared_error: 0.2326 - val_loss: 0.0584 - val_root_mean_squared_error: 0.2418\n",
      "Epoch 2/10\n",
      "1/4 [======>.......................] - ETA: 0s - loss: 0.0494 - root_mean_squared_error: 0.2222"
     ]
    },
    {
     "name": "stderr",
     "output_type": "stream",
     "text": [
      "WARNING:absl:Found untraced functions such as lstm_cell_1_layer_call_fn, lstm_cell_1_layer_call_and_return_conditional_losses while saving (showing 2 of 2). These functions will not be directly callable after loading.\n"
     ]
    },
    {
     "name": "stdout",
     "output_type": "stream",
     "text": [
      "INFO:tensorflow:Assets written to: model1/assets\n"
     ]
    },
    {
     "name": "stderr",
     "output_type": "stream",
     "text": [
      "INFO:tensorflow:Assets written to: model1/assets\n"
     ]
    },
    {
     "name": "stdout",
     "output_type": "stream",
     "text": [
      "4/4 [==============================] - 5s 2s/step - loss: 0.0476 - root_mean_squared_error: 0.2181 - val_loss: 0.0555 - val_root_mean_squared_error: 0.2355\n",
      "Epoch 3/10\n",
      "1/4 [======>.......................] - ETA: 0s - loss: 0.0450 - root_mean_squared_error: 0.2120"
     ]
    },
    {
     "name": "stderr",
     "output_type": "stream",
     "text": [
      "WARNING:absl:Found untraced functions such as lstm_cell_1_layer_call_fn, lstm_cell_1_layer_call_and_return_conditional_losses while saving (showing 2 of 2). These functions will not be directly callable after loading.\n"
     ]
    },
    {
     "name": "stdout",
     "output_type": "stream",
     "text": [
      "INFO:tensorflow:Assets written to: model1/assets\n"
     ]
    },
    {
     "name": "stderr",
     "output_type": "stream",
     "text": [
      "INFO:tensorflow:Assets written to: model1/assets\n"
     ]
    },
    {
     "name": "stdout",
     "output_type": "stream",
     "text": [
      "4/4 [==============================] - 4s 1s/step - loss: 0.0432 - root_mean_squared_error: 0.2078 - val_loss: 0.0704 - val_root_mean_squared_error: 0.2654\n",
      "Epoch 4/10\n",
      "1/4 [======>.......................] - ETA: 0s - loss: 0.0435 - root_mean_squared_error: 0.2085"
     ]
    },
    {
     "name": "stderr",
     "output_type": "stream",
     "text": [
      "WARNING:absl:Found untraced functions such as lstm_cell_1_layer_call_fn, lstm_cell_1_layer_call_and_return_conditional_losses while saving (showing 2 of 2). These functions will not be directly callable after loading.\n"
     ]
    },
    {
     "name": "stdout",
     "output_type": "stream",
     "text": [
      "INFO:tensorflow:Assets written to: model1/assets\n"
     ]
    },
    {
     "name": "stderr",
     "output_type": "stream",
     "text": [
      "INFO:tensorflow:Assets written to: model1/assets\n"
     ]
    },
    {
     "name": "stdout",
     "output_type": "stream",
     "text": [
      "4/4 [==============================] - 4s 1s/step - loss: 0.0403 - root_mean_squared_error: 0.2006 - val_loss: 0.0726 - val_root_mean_squared_error: 0.2695\n",
      "Epoch 5/10\n",
      "1/4 [======>.......................] - ETA: 0s - loss: 0.0432 - root_mean_squared_error: 0.2077"
     ]
    },
    {
     "name": "stderr",
     "output_type": "stream",
     "text": [
      "WARNING:absl:Found untraced functions such as lstm_cell_1_layer_call_fn, lstm_cell_1_layer_call_and_return_conditional_losses while saving (showing 2 of 2). These functions will not be directly callable after loading.\n"
     ]
    },
    {
     "name": "stdout",
     "output_type": "stream",
     "text": [
      "INFO:tensorflow:Assets written to: model1/assets\n"
     ]
    },
    {
     "name": "stderr",
     "output_type": "stream",
     "text": [
      "INFO:tensorflow:Assets written to: model1/assets\n"
     ]
    },
    {
     "name": "stdout",
     "output_type": "stream",
     "text": [
      "4/4 [==============================] - 5s 2s/step - loss: 0.0376 - root_mean_squared_error: 0.1939 - val_loss: 0.0693 - val_root_mean_squared_error: 0.2632\n",
      "Epoch 6/10\n",
      "1/4 [======>.......................] - ETA: 0s - loss: 0.0365 - root_mean_squared_error: 0.1911"
     ]
    },
    {
     "name": "stderr",
     "output_type": "stream",
     "text": [
      "WARNING:absl:Found untraced functions such as lstm_cell_1_layer_call_fn, lstm_cell_1_layer_call_and_return_conditional_losses while saving (showing 2 of 2). These functions will not be directly callable after loading.\n"
     ]
    },
    {
     "name": "stdout",
     "output_type": "stream",
     "text": [
      "INFO:tensorflow:Assets written to: model1/assets\n"
     ]
    },
    {
     "name": "stderr",
     "output_type": "stream",
     "text": [
      "INFO:tensorflow:Assets written to: model1/assets\n"
     ]
    },
    {
     "name": "stdout",
     "output_type": "stream",
     "text": [
      "4/4 [==============================] - 4s 1s/step - loss: 0.0353 - root_mean_squared_error: 0.1878 - val_loss: 0.0660 - val_root_mean_squared_error: 0.2569\n",
      "Epoch 7/10\n",
      "1/4 [======>.......................] - ETA: 0s - loss: 0.0332 - root_mean_squared_error: 0.1822"
     ]
    },
    {
     "name": "stderr",
     "output_type": "stream",
     "text": [
      "WARNING:absl:Found untraced functions such as lstm_cell_1_layer_call_fn, lstm_cell_1_layer_call_and_return_conditional_losses while saving (showing 2 of 2). These functions will not be directly callable after loading.\n"
     ]
    },
    {
     "name": "stdout",
     "output_type": "stream",
     "text": [
      "INFO:tensorflow:Assets written to: model1/assets\n"
     ]
    },
    {
     "name": "stderr",
     "output_type": "stream",
     "text": [
      "INFO:tensorflow:Assets written to: model1/assets\n"
     ]
    },
    {
     "name": "stdout",
     "output_type": "stream",
     "text": [
      "4/4 [==============================] - 4s 1s/step - loss: 0.0330 - root_mean_squared_error: 0.1818 - val_loss: 0.0629 - val_root_mean_squared_error: 0.2508\n",
      "Epoch 8/10\n",
      "1/4 [======>.......................] - ETA: 0s - loss: 0.0339 - root_mean_squared_error: 0.1840"
     ]
    },
    {
     "name": "stderr",
     "output_type": "stream",
     "text": [
      "WARNING:absl:Found untraced functions such as lstm_cell_1_layer_call_fn, lstm_cell_1_layer_call_and_return_conditional_losses while saving (showing 2 of 2). These functions will not be directly callable after loading.\n"
     ]
    },
    {
     "name": "stdout",
     "output_type": "stream",
     "text": [
      "INFO:tensorflow:Assets written to: model1/assets\n"
     ]
    },
    {
     "name": "stderr",
     "output_type": "stream",
     "text": [
      "INFO:tensorflow:Assets written to: model1/assets\n"
     ]
    },
    {
     "name": "stdout",
     "output_type": "stream",
     "text": [
      "4/4 [==============================] - 4s 1s/step - loss: 0.0311 - root_mean_squared_error: 0.1764 - val_loss: 0.0600 - val_root_mean_squared_error: 0.2450\n",
      "Epoch 9/10\n",
      "1/4 [======>.......................] - ETA: 0s - loss: 0.0290 - root_mean_squared_error: 0.1702"
     ]
    },
    {
     "name": "stderr",
     "output_type": "stream",
     "text": [
      "WARNING:absl:Found untraced functions such as lstm_cell_1_layer_call_fn, lstm_cell_1_layer_call_and_return_conditional_losses while saving (showing 2 of 2). These functions will not be directly callable after loading.\n"
     ]
    },
    {
     "name": "stdout",
     "output_type": "stream",
     "text": [
      "INFO:tensorflow:Assets written to: model1/assets\n"
     ]
    },
    {
     "name": "stderr",
     "output_type": "stream",
     "text": [
      "INFO:tensorflow:Assets written to: model1/assets\n"
     ]
    },
    {
     "name": "stdout",
     "output_type": "stream",
     "text": [
      "4/4 [==============================] - 4s 1s/step - loss: 0.0294 - root_mean_squared_error: 0.1714 - val_loss: 0.0577 - val_root_mean_squared_error: 0.2402\n",
      "Epoch 10/10\n",
      "1/4 [======>.......................] - ETA: 0s - loss: 0.0304 - root_mean_squared_error: 0.1744"
     ]
    },
    {
     "name": "stderr",
     "output_type": "stream",
     "text": [
      "WARNING:absl:Found untraced functions such as lstm_cell_1_layer_call_fn, lstm_cell_1_layer_call_and_return_conditional_losses while saving (showing 2 of 2). These functions will not be directly callable after loading.\n"
     ]
    },
    {
     "name": "stdout",
     "output_type": "stream",
     "text": [
      "INFO:tensorflow:Assets written to: model1/assets\n"
     ]
    },
    {
     "name": "stderr",
     "output_type": "stream",
     "text": [
      "INFO:tensorflow:Assets written to: model1/assets\n"
     ]
    },
    {
     "name": "stdout",
     "output_type": "stream",
     "text": [
      "4/4 [==============================] - 4s 1s/step - loss: 0.0277 - root_mean_squared_error: 0.1665 - val_loss: 0.0555 - val_root_mean_squared_error: 0.2356\n"
     ]
    },
    {
     "data": {
      "text/plain": [
       "<keras.callbacks.History at 0x7f9ba4ca7850>"
      ]
     },
     "execution_count": 33,
     "metadata": {},
     "output_type": "execute_result"
    }
   ],
   "source": [
    "model1.fit(xTrain,yTrain,validation_data = (xVal, yVal),epochs = 10, callbacks =[cp])"
   ]
  },
  {
   "cell_type": "code",
   "execution_count": 34,
   "id": "9a7867ca-549a-439f-927b-879de678a5d0",
   "metadata": {},
   "outputs": [
    {
     "name": "stdout",
     "output_type": "stream",
     "text": [
      "4/4 [==============================] - 0s 6ms/step\n"
     ]
    },
    {
     "data": {
      "text/html": [
       "<div>\n",
       "<style scoped>\n",
       "    .dataframe tbody tr th:only-of-type {\n",
       "        vertical-align: middle;\n",
       "    }\n",
       "\n",
       "    .dataframe tbody tr th {\n",
       "        vertical-align: top;\n",
       "    }\n",
       "\n",
       "    .dataframe thead th {\n",
       "        text-align: right;\n",
       "    }\n",
       "</style>\n",
       "<table border=\"1\" class=\"dataframe\">\n",
       "  <thead>\n",
       "    <tr style=\"text-align: right;\">\n",
       "      <th></th>\n",
       "      <th>Train Predictions</th>\n",
       "      <th>Actuals</th>\n",
       "    </tr>\n",
       "  </thead>\n",
       "  <tbody>\n",
       "    <tr>\n",
       "      <th>0</th>\n",
       "      <td>0.153059</td>\n",
       "      <td>-0.010116</td>\n",
       "    </tr>\n",
       "    <tr>\n",
       "      <th>1</th>\n",
       "      <td>0.149728</td>\n",
       "      <td>0.051925</td>\n",
       "    </tr>\n",
       "    <tr>\n",
       "      <th>2</th>\n",
       "      <td>0.120902</td>\n",
       "      <td>0.027158</td>\n",
       "    </tr>\n",
       "    <tr>\n",
       "      <th>3</th>\n",
       "      <td>0.112753</td>\n",
       "      <td>0.028121</td>\n",
       "    </tr>\n",
       "    <tr>\n",
       "      <th>4</th>\n",
       "      <td>0.123429</td>\n",
       "      <td>0.007638</td>\n",
       "    </tr>\n",
       "    <tr>\n",
       "      <th>...</th>\n",
       "      <td>...</td>\n",
       "      <td>...</td>\n",
       "    </tr>\n",
       "    <tr>\n",
       "      <th>105</th>\n",
       "      <td>0.154103</td>\n",
       "      <td>-0.017160</td>\n",
       "    </tr>\n",
       "    <tr>\n",
       "      <th>106</th>\n",
       "      <td>0.273740</td>\n",
       "      <td>0.019450</td>\n",
       "    </tr>\n",
       "    <tr>\n",
       "      <th>107</th>\n",
       "      <td>0.282316</td>\n",
       "      <td>0.004807</td>\n",
       "    </tr>\n",
       "    <tr>\n",
       "      <th>108</th>\n",
       "      <td>0.194412</td>\n",
       "      <td>0.037165</td>\n",
       "    </tr>\n",
       "    <tr>\n",
       "      <th>109</th>\n",
       "      <td>0.279053</td>\n",
       "      <td>0.017362</td>\n",
       "    </tr>\n",
       "  </tbody>\n",
       "</table>\n",
       "<p>110 rows × 2 columns</p>\n",
       "</div>"
      ],
      "text/plain": [
       "     Train Predictions   Actuals\n",
       "0             0.153059 -0.010116\n",
       "1             0.149728  0.051925\n",
       "2             0.120902  0.027158\n",
       "3             0.112753  0.028121\n",
       "4             0.123429  0.007638\n",
       "..                 ...       ...\n",
       "105           0.154103 -0.017160\n",
       "106           0.273740  0.019450\n",
       "107           0.282316  0.004807\n",
       "108           0.194412  0.037165\n",
       "109           0.279053  0.017362\n",
       "\n",
       "[110 rows x 2 columns]"
      ]
     },
     "execution_count": 34,
     "metadata": {},
     "output_type": "execute_result"
    }
   ],
   "source": [
    "trainPredictions = model1.predict(xTrain).flatten()\n",
    "trainResults = pd.DataFrame(\n",
    "    data = {'Train Predictions':trainPredictions,\n",
    "    \"Actuals\":yTrain})\n",
    "trainResults"
   ]
  },
  {
   "cell_type": "code",
   "execution_count": 60,
   "id": "cc61a663-22c7-43ec-b2d0-4ce6c2285349",
   "metadata": {},
   "outputs": [
    {
     "data": {
      "text/plain": [
       "<matplotlib.legend.Legend at 0x7f9bac6f5c70>"
      ]
     },
     "execution_count": 60,
     "metadata": {},
     "output_type": "execute_result"
    },
    {
     "data": {
      "image/png": "[encoded data removed]",
      "text/plain": [
       "<Figure size 748.8x514.8 with 1 Axes>"
      ]
     },
     "metadata": {
      "needs_background": "light"
     },
     "output_type": "display_data"
    }
   ],
   "source": [
    "import matplotlib.pyplot as plt\n",
    "plt.style.use('seaborn-talk')\n",
    "plt.plot(trainResults['Train Predictions'],\"-r\",label = \"Predictions\")\n",
    "plt.plot(trainResults['Actuals'], \"-b\",label = \"Actual Values\")\n",
    "\n",
    "location = 0 # For the best location\n",
    "legend_drawn_flag = True\n",
    "plt.legend([\"Predictions\", \"Actual\"], loc=0, frameon=legend_drawn_flag)"
   ]
  },
  {
   "cell_type": "code",
   "execution_count": 36,
   "id": "6b6412b0-1302-4e4d-960c-8c5304feae54",
   "metadata": {},
   "outputs": [
    {
     "name": "stdout",
     "output_type": "stream",
     "text": [
      "1/1 [==============================] - 0s 38ms/step\n"
     ]
    },
    {
     "data": {
      "text/html": [
       "<div>\n",
       "<style scoped>\n",
       "    .dataframe tbody tr th:only-of-type {\n",
       "        vertical-align: middle;\n",
       "    }\n",
       "\n",
       "    .dataframe tbody tr th {\n",
       "        vertical-align: top;\n",
       "    }\n",
       "\n",
       "    .dataframe thead th {\n",
       "        text-align: right;\n",
       "    }\n",
       "</style>\n",
       "<table border=\"1\" class=\"dataframe\">\n",
       "  <thead>\n",
       "    <tr style=\"text-align: right;\">\n",
       "      <th></th>\n",
       "      <th>Test Predictions</th>\n",
       "      <th>Actuals</th>\n",
       "    </tr>\n",
       "  </thead>\n",
       "  <tbody>\n",
       "    <tr>\n",
       "      <th>0</th>\n",
       "      <td>0.153059</td>\n",
       "      <td>0.023842</td>\n",
       "    </tr>\n",
       "    <tr>\n",
       "      <th>1</th>\n",
       "      <td>0.153059</td>\n",
       "      <td>0.075742</td>\n",
       "    </tr>\n",
       "    <tr>\n",
       "      <th>2</th>\n",
       "      <td>0.153059</td>\n",
       "      <td>-0.022805</td>\n",
       "    </tr>\n",
       "    <tr>\n",
       "      <th>3</th>\n",
       "      <td>0.149728</td>\n",
       "      <td>-0.046077</td>\n",
       "    </tr>\n",
       "    <tr>\n",
       "      <th>4</th>\n",
       "      <td>0.120896</td>\n",
       "      <td>0.118372</td>\n",
       "    </tr>\n",
       "    <tr>\n",
       "      <th>5</th>\n",
       "      <td>0.112740</td>\n",
       "      <td>0.032655</td>\n",
       "    </tr>\n",
       "    <tr>\n",
       "      <th>6</th>\n",
       "      <td>0.113433</td>\n",
       "      <td>-0.020383</td>\n",
       "    </tr>\n",
       "    <tr>\n",
       "      <th>7</th>\n",
       "      <td>0.113433</td>\n",
       "      <td>0.031677</td>\n",
       "    </tr>\n",
       "    <tr>\n",
       "      <th>8</th>\n",
       "      <td>0.113433</td>\n",
       "      <td>0.066247</td>\n",
       "    </tr>\n",
       "    <tr>\n",
       "      <th>9</th>\n",
       "      <td>0.113433</td>\n",
       "      <td>0.027085</td>\n",
       "    </tr>\n",
       "    <tr>\n",
       "      <th>10</th>\n",
       "      <td>0.113431</td>\n",
       "      <td>0.019324</td>\n",
       "    </tr>\n",
       "    <tr>\n",
       "      <th>11</th>\n",
       "      <td>0.113431</td>\n",
       "      <td>-0.000780</td>\n",
       "    </tr>\n",
       "    <tr>\n",
       "      <th>12</th>\n",
       "      <td>0.113431</td>\n",
       "      <td>0.012549</td>\n",
       "    </tr>\n",
       "    <tr>\n",
       "      <th>13</th>\n",
       "      <td>0.113431</td>\n",
       "      <td>0.012173</td>\n",
       "    </tr>\n",
       "    <tr>\n",
       "      <th>14</th>\n",
       "      <td>0.113433</td>\n",
       "      <td>-0.042895</td>\n",
       "    </tr>\n",
       "    <tr>\n",
       "      <th>15</th>\n",
       "      <td>0.123431</td>\n",
       "      <td>0.058375</td>\n",
       "    </tr>\n",
       "    <tr>\n",
       "      <th>16</th>\n",
       "      <td>0.123431</td>\n",
       "      <td>-0.037294</td>\n",
       "    </tr>\n",
       "    <tr>\n",
       "      <th>17</th>\n",
       "      <td>0.144582</td>\n",
       "      <td>0.053781</td>\n",
       "    </tr>\n",
       "  </tbody>\n",
       "</table>\n",
       "</div>"
      ],
      "text/plain": [
       "    Test Predictions   Actuals\n",
       "0           0.153059  0.023842\n",
       "1           0.153059  0.075742\n",
       "2           0.153059 -0.022805\n",
       "3           0.149728 -0.046077\n",
       "4           0.120896  0.118372\n",
       "5           0.112740  0.032655\n",
       "6           0.113433 -0.020383\n",
       "7           0.113433  0.031677\n",
       "8           0.113433  0.066247\n",
       "9           0.113433  0.027085\n",
       "10          0.113431  0.019324\n",
       "11          0.113431 -0.000780\n",
       "12          0.113431  0.012549\n",
       "13          0.113431  0.012173\n",
       "14          0.113433 -0.042895\n",
       "15          0.123431  0.058375\n",
       "16          0.123431 -0.037294\n",
       "17          0.144582  0.053781"
      ]
     },
     "execution_count": 36,
     "metadata": {},
     "output_type": "execute_result"
    }
   ],
   "source": [
    "testPredictions = model1.predict(xTest).flatten()\n",
    "testResults = pd.DataFrame(\n",
    "    data = {'Test Predictions':testPredictions,\n",
    "    \"Actuals\":yTest})\n",
    "testResults"
   ]
  },
  {
   "cell_type": "code",
   "execution_count": 37,
   "id": "139dd864-a8c4-481c-9d60-2ba510521d0f",
   "metadata": {},
   "outputs": [
    {
     "data": {
      "text/plain": [
       "<matplotlib.legend.Legend at 0x7f9ba5b35cd0>"
      ]
     },
     "execution_count": 37,
     "metadata": {},
     "output_type": "execute_result"
    },
    {
     "data": {
      "image/png": "[encoded data removed]",
      "text/plain": [
       "<Figure size 432x288 with 1 Axes>"
      ]
     },
     "metadata": {
      "needs_background": "light"
     },
     "output_type": "display_data"
    }
   ],
   "source": [
    "plt.plot(testResults['Test Predictions'], \"-r\")\n",
    "plt.plot(testResults['Actuals'],\"-b\")\n",
    "\n",
    "\n",
    "location = 0 # For the best location\n",
    "legend_drawn_flag = True\n",
    "plt.legend([\"Predictions\", \"Actual\"], loc=0, frameon=legend_drawn_flag)"
   ]
  },
  {
   "cell_type": "code",
   "execution_count": 38,
   "id": "ef9b0b9c-23b1-492b-89e4-089636a9eb20",
   "metadata": {},
   "outputs": [
    {
     "data": {
      "text/plain": [
       "0.10518269157417488"
      ]
     },
     "execution_count": 38,
     "metadata": {},
     "output_type": "execute_result"
    }
   ],
   "source": [
    "rmse = np.sqrt(np.mean(testPredictions - yTest)**2)\n",
    "rmse"
   ]
  },
  {
   "cell_type": "code",
   "execution_count": 39,
   "id": "32b9cb68-d5bd-492d-964c-f5a35338e9ac",
   "metadata": {},
   "outputs": [
    {
     "data": {
      "text/plain": [
       "0.10518269157417488"
      ]
     },
     "execution_count": 39,
     "metadata": {},
     "output_type": "execute_result"
    }
   ],
   "source": [
    "mae = np.mean(abs(testPredictions - yTest))\n",
    "mae"
   ]
  },
  {
   "cell_type": "code",
   "execution_count": 58,
   "id": "d08ac934-ad53-43f1-977d-e577ef1b6eb5",
   "metadata": {},
   "outputs": [
    {
     "data": {
      "text/plain": [
       "0.15077707268807428"
      ]
     },
     "execution_count": 58,
     "metadata": {},
     "output_type": "execute_result"
    }
   ],
   "source": [
    "trainrmse = np.sqrt(np.mean(trainPredictions - yTrain)**2)\n",
    "trainrmse"
   ]
  },
  {
   "cell_type": "code",
   "execution_count": 59,
   "id": "3ff33389-6901-4843-8cbc-5ef06a95bec7",
   "metadata": {},
   "outputs": [
    {
     "data": {
      "text/plain": [
       "0.15077707268807428"
      ]
     },
     "execution_count": 59,
     "metadata": {},
     "output_type": "execute_result"
    }
   ],
   "source": [
    "trainmae = np.mean(abs(trainPredictions - yTrain))\n",
    "trainmae"
   ]
  },
  {
   "cell_type": "code",
   "execution_count": 40,
   "id": "3f8a692d-fdd8-44de-970c-18a8da0152ac",
   "metadata": {},
   "outputs": [
    {
     "name": "stdout",
     "output_type": "stream",
     "text": [
      "Model: \"sequential_3\"\n",
      "_________________________________________________________________\n",
      " Layer (type)                Output Shape              Param #   \n",
      "=================================================================\n",
      " lstm_5 (LSTM)               (None, 4, 100)            44800     \n",
      "                                                                 \n",
      " lstm_6 (LSTM)               (None, 4, 100)            80400     \n",
      "                                                                 \n",
      " lstm_7 (LSTM)               (None, 100)               80400     \n",
      "                                                                 \n",
      " dropout_1 (Dropout)         (None, 100)               0         \n",
      "                                                                 \n",
      " dense_5 (Dense)             (None, 1)                 101       \n",
      "                                                                 \n",
      "=================================================================\n",
      "Total params: 205,701\n",
      "Trainable params: 205,701\n",
      "Non-trainable params: 0\n",
      "_________________________________________________________________\n"
     ]
    }
   ],
   "source": [
    "model2 = Sequential()\n",
    "model2.add(InputLayer((4, 10)))\n",
    "model2.add(LSTM(100, activation='relu', return_sequences=True))\n",
    "model2.add(LSTM(100, activation = 'relu', return_sequences = True))\n",
    "model2.add(LSTM(100))\n",
    "model2.add(Dropout(0.1))\n",
    "model2.add(Dense(1, 'linear'))\n",
    "\n",
    "model2.summary()"
   ]
  },
  {
   "cell_type": "code",
   "execution_count": 41,
   "id": "165d6783-07e5-43b9-8e7d-01a6bb1f6c85",
   "metadata": {},
   "outputs": [],
   "source": [
    "cp2 = ModelCheckpoint(\"model2/\", save_best_only = True, monitor = \"loss\")\n",
    "model2.compile(loss=MeanSquaredError(),optimizer=Adam(learning_rate = 0.0001), metrics=[RootMeanSquaredError()])"
   ]
  },
  {
   "cell_type": "code",
   "execution_count": 42,
   "id": "a0d48d4a-e598-49e2-aa0b-75d7b5e8be42",
   "metadata": {},
   "outputs": [
    {
     "name": "stdout",
     "output_type": "stream",
     "text": [
      "Epoch 1/25\n",
      "1/4 [======>.......................] - ETA: 13s - loss: 0.2835 - root_mean_squared_error: 0.5324"
     ]
    },
    {
     "name": "stderr",
     "output_type": "stream",
     "text": [
      "WARNING:absl:Found untraced functions such as lstm_cell_7_layer_call_fn, lstm_cell_7_layer_call_and_return_conditional_losses while saving (showing 2 of 2). These functions will not be directly callable after loading.\n"
     ]
    },
    {
     "name": "stdout",
     "output_type": "stream",
     "text": [
      "INFO:tensorflow:Assets written to: model2/assets\n"
     ]
    },
    {
     "name": "stderr",
     "output_type": "stream",
     "text": [
      "INFO:tensorflow:Assets written to: model2/assets\n"
     ]
    },
    {
     "name": "stdout",
     "output_type": "stream",
     "text": [
      "4/4 [==============================] - 12s 2s/step - loss: 0.2645 - root_mean_squared_error: 0.5143 - val_loss: 0.4087 - val_root_mean_squared_error: 0.6393\n",
      "Epoch 2/25\n",
      "4/4 [==============================] - ETA: 0s - loss: 0.2268 - root_mean_squared_error: 0.4762"
     ]
    },
    {
     "name": "stderr",
     "output_type": "stream",
     "text": [
      "WARNING:absl:Found untraced functions such as lstm_cell_7_layer_call_fn, lstm_cell_7_layer_call_and_return_conditional_losses while saving (showing 2 of 2). These functions will not be directly callable after loading.\n"
     ]
    },
    {
     "name": "stdout",
     "output_type": "stream",
     "text": [
      "INFO:tensorflow:Assets written to: model2/assets\n"
     ]
    },
    {
     "name": "stderr",
     "output_type": "stream",
     "text": [
      "INFO:tensorflow:Assets written to: model2/assets\n"
     ]
    },
    {
     "name": "stdout",
     "output_type": "stream",
     "text": [
      "4/4 [==============================] - 8s 3s/step - loss: 0.2268 - root_mean_squared_error: 0.4762 - val_loss: 0.4015 - val_root_mean_squared_error: 0.6336\n",
      "Epoch 3/25\n",
      "4/4 [==============================] - ETA: 0s - loss: 0.1964 - root_mean_squared_error: 0.4432"
     ]
    },
    {
     "name": "stderr",
     "output_type": "stream",
     "text": [
      "WARNING:absl:Found untraced functions such as lstm_cell_7_layer_call_fn, lstm_cell_7_layer_call_and_return_conditional_losses while saving (showing 2 of 2). These functions will not be directly callable after loading.\n"
     ]
    },
    {
     "name": "stdout",
     "output_type": "stream",
     "text": [
      "INFO:tensorflow:Assets written to: model2/assets\n"
     ]
    },
    {
     "name": "stderr",
     "output_type": "stream",
     "text": [
      "INFO:tensorflow:Assets written to: model2/assets\n"
     ]
    },
    {
     "name": "stdout",
     "output_type": "stream",
     "text": [
      "4/4 [==============================] - 7s 2s/step - loss: 0.1964 - root_mean_squared_error: 0.4432 - val_loss: 0.3521 - val_root_mean_squared_error: 0.5934\n",
      "Epoch 4/25\n",
      "1/4 [======>.......................] - ETA: 0s - loss: 0.2238 - root_mean_squared_error: 0.4730"
     ]
    },
    {
     "name": "stderr",
     "output_type": "stream",
     "text": [
      "WARNING:absl:Found untraced functions such as lstm_cell_7_layer_call_fn, lstm_cell_7_layer_call_and_return_conditional_losses while saving (showing 2 of 2). These functions will not be directly callable after loading.\n"
     ]
    },
    {
     "name": "stdout",
     "output_type": "stream",
     "text": [
      "INFO:tensorflow:Assets written to: model2/assets\n"
     ]
    },
    {
     "name": "stderr",
     "output_type": "stream",
     "text": [
      "INFO:tensorflow:Assets written to: model2/assets\n"
     ]
    },
    {
     "name": "stdout",
     "output_type": "stream",
     "text": [
      "4/4 [==============================] - 7s 2s/step - loss: 0.1924 - root_mean_squared_error: 0.4386 - val_loss: 0.3583 - val_root_mean_squared_error: 0.5986\n",
      "Epoch 5/25\n",
      "4/4 [==============================] - ETA: 0s - loss: 0.1451 - root_mean_squared_error: 0.3809"
     ]
    },
    {
     "name": "stderr",
     "output_type": "stream",
     "text": [
      "WARNING:absl:Found untraced functions such as lstm_cell_7_layer_call_fn, lstm_cell_7_layer_call_and_return_conditional_losses while saving (showing 2 of 2). These functions will not be directly callable after loading.\n"
     ]
    },
    {
     "name": "stdout",
     "output_type": "stream",
     "text": [
      "INFO:tensorflow:Assets written to: model2/assets\n"
     ]
    },
    {
     "name": "stderr",
     "output_type": "stream",
     "text": [
      "INFO:tensorflow:Assets written to: model2/assets\n"
     ]
    },
    {
     "name": "stdout",
     "output_type": "stream",
     "text": [
      "4/4 [==============================] - 7s 2s/step - loss: 0.1451 - root_mean_squared_error: 0.3809 - val_loss: 0.3415 - val_root_mean_squared_error: 0.5843\n",
      "Epoch 6/25\n",
      "4/4 [==============================] - ETA: 0s - loss: 0.1451 - root_mean_squared_error: 0.3809"
     ]
    },
    {
     "name": "stderr",
     "output_type": "stream",
     "text": [
      "WARNING:absl:Found untraced functions such as lstm_cell_7_layer_call_fn, lstm_cell_7_layer_call_and_return_conditional_losses while saving (showing 2 of 2). These functions will not be directly callable after loading.\n"
     ]
    },
    {
     "name": "stdout",
     "output_type": "stream",
     "text": [
      "INFO:tensorflow:Assets written to: model2/assets\n"
     ]
    },
    {
     "name": "stderr",
     "output_type": "stream",
     "text": [
      "INFO:tensorflow:Assets written to: model2/assets\n"
     ]
    },
    {
     "name": "stdout",
     "output_type": "stream",
     "text": [
      "4/4 [==============================] - 8s 3s/step - loss: 0.1451 - root_mean_squared_error: 0.3809 - val_loss: 0.3458 - val_root_mean_squared_error: 0.5880\n",
      "Epoch 7/25\n",
      "4/4 [==============================] - ETA: 0s - loss: 0.1245 - root_mean_squared_error: 0.3529"
     ]
    },
    {
     "name": "stderr",
     "output_type": "stream",
     "text": [
      "WARNING:absl:Found untraced functions such as lstm_cell_7_layer_call_fn, lstm_cell_7_layer_call_and_return_conditional_losses while saving (showing 2 of 2). These functions will not be directly callable after loading.\n"
     ]
    },
    {
     "name": "stdout",
     "output_type": "stream",
     "text": [
      "INFO:tensorflow:Assets written to: model2/assets\n"
     ]
    },
    {
     "name": "stderr",
     "output_type": "stream",
     "text": [
      "INFO:tensorflow:Assets written to: model2/assets\n"
     ]
    },
    {
     "name": "stdout",
     "output_type": "stream",
     "text": [
      "4/4 [==============================] - 7s 2s/step - loss: 0.1245 - root_mean_squared_error: 0.3529 - val_loss: 0.3509 - val_root_mean_squared_error: 0.5924\n",
      "Epoch 8/25\n",
      "1/4 [======>.......................] - ETA: 0s - loss: 0.1031 - root_mean_squared_error: 0.3210"
     ]
    },
    {
     "name": "stderr",
     "output_type": "stream",
     "text": [
      "WARNING:absl:Found untraced functions such as lstm_cell_7_layer_call_fn, lstm_cell_7_layer_call_and_return_conditional_losses while saving (showing 2 of 2). These functions will not be directly callable after loading.\n"
     ]
    },
    {
     "name": "stdout",
     "output_type": "stream",
     "text": [
      "INFO:tensorflow:Assets written to: model2/assets\n"
     ]
    },
    {
     "name": "stderr",
     "output_type": "stream",
     "text": [
      "INFO:tensorflow:Assets written to: model2/assets\n"
     ]
    },
    {
     "name": "stdout",
     "output_type": "stream",
     "text": [
      "4/4 [==============================] - 7s 2s/step - loss: 0.1213 - root_mean_squared_error: 0.3484 - val_loss: 0.3022 - val_root_mean_squared_error: 0.5497\n",
      "Epoch 9/25\n",
      "4/4 [==============================] - 0s 26ms/step - loss: 0.1426 - root_mean_squared_error: 0.3777 - val_loss: 0.2951 - val_root_mean_squared_error: 0.5433\n",
      "Epoch 10/25\n",
      "4/4 [==============================] - 0s 23ms/step - loss: 0.1510 - root_mean_squared_error: 0.3886 - val_loss: 0.3344 - val_root_mean_squared_error: 0.5783\n",
      "Epoch 11/25\n",
      "4/4 [==============================] - 0s 34ms/step - loss: 0.1361 - root_mean_squared_error: 0.3689 - val_loss: 0.3297 - val_root_mean_squared_error: 0.5742\n",
      "Epoch 12/25\n",
      "4/4 [==============================] - 0s 27ms/step - loss: 0.1303 - root_mean_squared_error: 0.3610 - val_loss: 0.4594 - val_root_mean_squared_error: 0.6778\n",
      "Epoch 13/25\n",
      "4/4 [==============================] - 0s 20ms/step - loss: 0.1742 - root_mean_squared_error: 0.4174 - val_loss: 0.5799 - val_root_mean_squared_error: 0.7615\n",
      "Epoch 14/25\n",
      "4/4 [==============================] - 0s 18ms/step - loss: 0.1554 - root_mean_squared_error: 0.3942 - val_loss: 0.7050 - val_root_mean_squared_error: 0.8396\n",
      "Epoch 15/25\n",
      "4/4 [==============================] - 0s 18ms/step - loss: 0.1236 - root_mean_squared_error: 0.3515 - val_loss: 0.7073 - val_root_mean_squared_error: 0.8410\n",
      "Epoch 16/25\n",
      "4/4 [==============================] - 0s 18ms/step - loss: 0.1300 - root_mean_squared_error: 0.3605 - val_loss: 0.5141 - val_root_mean_squared_error: 0.7170\n",
      "Epoch 17/25\n",
      "1/4 [======>.......................] - ETA: 0s - loss: 0.1127 - root_mean_squared_error: 0.3358"
     ]
    },
    {
     "name": "stderr",
     "output_type": "stream",
     "text": [
      "WARNING:absl:Found untraced functions such as lstm_cell_7_layer_call_fn, lstm_cell_7_layer_call_and_return_conditional_losses while saving (showing 2 of 2). These functions will not be directly callable after loading.\n"
     ]
    },
    {
     "name": "stdout",
     "output_type": "stream",
     "text": [
      "INFO:tensorflow:Assets written to: model2/assets\n"
     ]
    },
    {
     "name": "stderr",
     "output_type": "stream",
     "text": [
      "INFO:tensorflow:Assets written to: model2/assets\n"
     ]
    },
    {
     "name": "stdout",
     "output_type": "stream",
     "text": [
      "4/4 [==============================] - 7s 2s/step - loss: 0.1166 - root_mean_squared_error: 0.3414 - val_loss: 0.4633 - val_root_mean_squared_error: 0.6807\n",
      "Epoch 18/25\n",
      "4/4 [==============================] - 0s 23ms/step - loss: 0.1305 - root_mean_squared_error: 0.3612 - val_loss: 0.4798 - val_root_mean_squared_error: 0.6927\n",
      "Epoch 19/25\n",
      "1/4 [======>.......................] - ETA: 0s - loss: 0.1165 - root_mean_squared_error: 0.3413"
     ]
    },
    {
     "name": "stderr",
     "output_type": "stream",
     "text": [
      "WARNING:absl:Found untraced functions such as lstm_cell_7_layer_call_fn, lstm_cell_7_layer_call_and_return_conditional_losses while saving (showing 2 of 2). These functions will not be directly callable after loading.\n"
     ]
    },
    {
     "name": "stdout",
     "output_type": "stream",
     "text": [
      "INFO:tensorflow:Assets written to: model2/assets\n"
     ]
    },
    {
     "name": "stderr",
     "output_type": "stream",
     "text": [
      "INFO:tensorflow:Assets written to: model2/assets\n"
     ]
    },
    {
     "name": "stdout",
     "output_type": "stream",
     "text": [
      "4/4 [==============================] - 7s 2s/step - loss: 0.1050 - root_mean_squared_error: 0.3241 - val_loss: 0.4932 - val_root_mean_squared_error: 0.7023\n",
      "Epoch 20/25\n",
      "1/4 [======>.......................] - ETA: 0s - loss: 0.0869 - root_mean_squared_error: 0.2948"
     ]
    },
    {
     "name": "stderr",
     "output_type": "stream",
     "text": [
      "WARNING:absl:Found untraced functions such as lstm_cell_7_layer_call_fn, lstm_cell_7_layer_call_and_return_conditional_losses while saving (showing 2 of 2). These functions will not be directly callable after loading.\n"
     ]
    },
    {
     "name": "stdout",
     "output_type": "stream",
     "text": [
      "INFO:tensorflow:Assets written to: model2/assets\n"
     ]
    },
    {
     "name": "stderr",
     "output_type": "stream",
     "text": [
      "INFO:tensorflow:Assets written to: model2/assets\n"
     ]
    },
    {
     "name": "stdout",
     "output_type": "stream",
     "text": [
      "4/4 [==============================] - 8s 3s/step - loss: 0.0802 - root_mean_squared_error: 0.2831 - val_loss: 0.4939 - val_root_mean_squared_error: 0.7028\n",
      "Epoch 21/25\n",
      "4/4 [==============================] - 0s 26ms/step - loss: 0.1045 - root_mean_squared_error: 0.3232 - val_loss: 0.4481 - val_root_mean_squared_error: 0.6694\n",
      "Epoch 22/25\n",
      "4/4 [==============================] - 0s 22ms/step - loss: 0.1085 - root_mean_squared_error: 0.3293 - val_loss: 0.4127 - val_root_mean_squared_error: 0.6424\n",
      "Epoch 23/25\n",
      "4/4 [==============================] - 0s 35ms/step - loss: 0.0814 - root_mean_squared_error: 0.2853 - val_loss: 0.4180 - val_root_mean_squared_error: 0.6466\n",
      "Epoch 24/25\n",
      "1/4 [======>.......................] - ETA: 0s - loss: 0.0872 - root_mean_squared_error: 0.2953"
     ]
    },
    {
     "name": "stderr",
     "output_type": "stream",
     "text": [
      "WARNING:absl:Found untraced functions such as lstm_cell_7_layer_call_fn, lstm_cell_7_layer_call_and_return_conditional_losses while saving (showing 2 of 2). These functions will not be directly callable after loading.\n"
     ]
    },
    {
     "name": "stdout",
     "output_type": "stream",
     "text": [
      "INFO:tensorflow:Assets written to: model2/assets\n"
     ]
    },
    {
     "name": "stderr",
     "output_type": "stream",
     "text": [
      "INFO:tensorflow:Assets written to: model2/assets\n"
     ]
    },
    {
     "name": "stdout",
     "output_type": "stream",
     "text": [
      "4/4 [==============================] - 7s 2s/step - loss: 0.0799 - root_mean_squared_error: 0.2826 - val_loss: 0.3205 - val_root_mean_squared_error: 0.5661\n",
      "Epoch 25/25\n",
      "1/4 [======>.......................] - ETA: 0s - loss: 0.0790 - root_mean_squared_error: 0.2811"
     ]
    },
    {
     "name": "stderr",
     "output_type": "stream",
     "text": [
      "WARNING:absl:Found untraced functions such as lstm_cell_7_layer_call_fn, lstm_cell_7_layer_call_and_return_conditional_losses while saving (showing 2 of 2). These functions will not be directly callable after loading.\n"
     ]
    },
    {
     "name": "stdout",
     "output_type": "stream",
     "text": [
      "INFO:tensorflow:Assets written to: model2/assets\n"
     ]
    },
    {
     "name": "stderr",
     "output_type": "stream",
     "text": [
      "INFO:tensorflow:Assets written to: model2/assets\n"
     ]
    },
    {
     "name": "stdout",
     "output_type": "stream",
     "text": [
      "4/4 [==============================] - 7s 2s/step - loss: 0.0780 - root_mean_squared_error: 0.2794 - val_loss: 0.4295 - val_root_mean_squared_error: 0.6554\n"
     ]
    },
    {
     "data": {
      "text/plain": [
       "<keras.callbacks.History at 0x7f9bac15ebb0>"
      ]
     },
     "execution_count": 42,
     "metadata": {},
     "output_type": "execute_result"
    }
   ],
   "source": [
    "model2.fit(xTrain,yTrain,validation_data = (xVal,yVal),epochs = 25, callbacks =[cp2])"
   ]
  },
  {
   "cell_type": "code",
   "execution_count": 43,
   "id": "081b95c4-33d6-4c95-bffa-c1312e335baa",
   "metadata": {},
   "outputs": [
    {
     "name": "stdout",
     "output_type": "stream",
     "text": [
      "4/4 [==============================] - 1s 5ms/step\n"
     ]
    },
    {
     "data": {
      "text/html": [
       "<div>\n",
       "<style scoped>\n",
       "    .dataframe tbody tr th:only-of-type {\n",
       "        vertical-align: middle;\n",
       "    }\n",
       "\n",
       "    .dataframe tbody tr th {\n",
       "        vertical-align: top;\n",
       "    }\n",
       "\n",
       "    .dataframe thead th {\n",
       "        text-align: right;\n",
       "    }\n",
       "</style>\n",
       "<table border=\"1\" class=\"dataframe\">\n",
       "  <thead>\n",
       "    <tr style=\"text-align: right;\">\n",
       "      <th></th>\n",
       "      <th>Train Predictions</th>\n",
       "      <th>Actuals</th>\n",
       "    </tr>\n",
       "  </thead>\n",
       "  <tbody>\n",
       "    <tr>\n",
       "      <th>0</th>\n",
       "      <td>-0.105679</td>\n",
       "      <td>-0.010116</td>\n",
       "    </tr>\n",
       "    <tr>\n",
       "      <th>1</th>\n",
       "      <td>0.217284</td>\n",
       "      <td>0.051925</td>\n",
       "    </tr>\n",
       "    <tr>\n",
       "      <th>2</th>\n",
       "      <td>0.046999</td>\n",
       "      <td>0.027158</td>\n",
       "    </tr>\n",
       "    <tr>\n",
       "      <th>3</th>\n",
       "      <td>0.279401</td>\n",
       "      <td>0.028121</td>\n",
       "    </tr>\n",
       "    <tr>\n",
       "      <th>4</th>\n",
       "      <td>0.350463</td>\n",
       "      <td>0.007638</td>\n",
       "    </tr>\n",
       "    <tr>\n",
       "      <th>...</th>\n",
       "      <td>...</td>\n",
       "      <td>...</td>\n",
       "    </tr>\n",
       "    <tr>\n",
       "      <th>105</th>\n",
       "      <td>-0.005241</td>\n",
       "      <td>-0.017160</td>\n",
       "    </tr>\n",
       "    <tr>\n",
       "      <th>106</th>\n",
       "      <td>-0.156556</td>\n",
       "      <td>0.019450</td>\n",
       "    </tr>\n",
       "    <tr>\n",
       "      <th>107</th>\n",
       "      <td>-0.240375</td>\n",
       "      <td>0.004807</td>\n",
       "    </tr>\n",
       "    <tr>\n",
       "      <th>108</th>\n",
       "      <td>0.073232</td>\n",
       "      <td>0.037165</td>\n",
       "    </tr>\n",
       "    <tr>\n",
       "      <th>109</th>\n",
       "      <td>0.001127</td>\n",
       "      <td>0.017362</td>\n",
       "    </tr>\n",
       "  </tbody>\n",
       "</table>\n",
       "<p>110 rows × 2 columns</p>\n",
       "</div>"
      ],
      "text/plain": [
       "     Train Predictions   Actuals\n",
       "0            -0.105679 -0.010116\n",
       "1             0.217284  0.051925\n",
       "2             0.046999  0.027158\n",
       "3             0.279401  0.028121\n",
       "4             0.350463  0.007638\n",
       "..                 ...       ...\n",
       "105          -0.005241 -0.017160\n",
       "106          -0.156556  0.019450\n",
       "107          -0.240375  0.004807\n",
       "108           0.073232  0.037165\n",
       "109           0.001127  0.017362\n",
       "\n",
       "[110 rows x 2 columns]"
      ]
     },
     "execution_count": 43,
     "metadata": {},
     "output_type": "execute_result"
    }
   ],
   "source": [
    "trainPredictions2 = model2.predict(xTrain).flatten()\n",
    "trainResults2 = pd.DataFrame(\n",
    "    data = {'Train Predictions':trainPredictions2,\n",
    "    \"Actuals\":yTrain})\n",
    "trainResults2"
   ]
  },
  {
   "cell_type": "code",
   "execution_count": 44,
   "id": "d3a73156-e0a8-4cac-ae98-da31e19e9838",
   "metadata": {},
   "outputs": [
    {
     "data": {
      "text/plain": [
       "<matplotlib.legend.Legend at 0x7f9bc3555520>"
      ]
     },
     "execution_count": 44,
     "metadata": {},
     "output_type": "execute_result"
    },
    {
     "data": {
      "image/png": "[encoded data removed]",
      "text/plain": [
       "<Figure size 432x288 with 1 Axes>"
      ]
     },
     "metadata": {
      "needs_background": "light"
     },
     "output_type": "display_data"
    }
   ],
   "source": [
    "plt.plot(trainResults2['Train Predictions'],\"-r\",label = \"Predictions\")\n",
    "plt.plot(trainResults2['Actuals'], \"-b\",label = \"Actual Values\")\n",
    "\n",
    "location = 0 # For the best location\n",
    "legend_drawn_flag = True\n",
    "plt.legend([\"Predictions\", \"Actual\"], loc=0, frameon=legend_drawn_flag)"
   ]
  },
  {
   "cell_type": "code",
   "execution_count": 45,
   "id": "fc9678fa-4edd-45b9-9e05-2a4c5ad7d782",
   "metadata": {},
   "outputs": [
    {
     "name": "stdout",
     "output_type": "stream",
     "text": [
      "1/1 [==============================] - 0s 30ms/step\n"
     ]
    },
    {
     "data": {
      "text/html": [
       "<div>\n",
       "<style scoped>\n",
       "    .dataframe tbody tr th:only-of-type {\n",
       "        vertical-align: middle;\n",
       "    }\n",
       "\n",
       "    .dataframe tbody tr th {\n",
       "        vertical-align: top;\n",
       "    }\n",
       "\n",
       "    .dataframe thead th {\n",
       "        text-align: right;\n",
       "    }\n",
       "</style>\n",
       "<table border=\"1\" class=\"dataframe\">\n",
       "  <thead>\n",
       "    <tr style=\"text-align: right;\">\n",
       "      <th></th>\n",
       "      <th>Test Predictions</th>\n",
       "      <th>Actuals</th>\n",
       "    </tr>\n",
       "  </thead>\n",
       "  <tbody>\n",
       "    <tr>\n",
       "      <th>0</th>\n",
       "      <td>0.780356</td>\n",
       "      <td>0.023842</td>\n",
       "    </tr>\n",
       "    <tr>\n",
       "      <th>1</th>\n",
       "      <td>0.480277</td>\n",
       "      <td>0.075742</td>\n",
       "    </tr>\n",
       "    <tr>\n",
       "      <th>2</th>\n",
       "      <td>0.783755</td>\n",
       "      <td>-0.022805</td>\n",
       "    </tr>\n",
       "    <tr>\n",
       "      <th>3</th>\n",
       "      <td>1.023612</td>\n",
       "      <td>-0.046077</td>\n",
       "    </tr>\n",
       "    <tr>\n",
       "      <th>4</th>\n",
       "      <td>0.603445</td>\n",
       "      <td>0.118372</td>\n",
       "    </tr>\n",
       "    <tr>\n",
       "      <th>5</th>\n",
       "      <td>0.657665</td>\n",
       "      <td>0.032655</td>\n",
       "    </tr>\n",
       "    <tr>\n",
       "      <th>6</th>\n",
       "      <td>-0.336026</td>\n",
       "      <td>-0.020383</td>\n",
       "    </tr>\n",
       "    <tr>\n",
       "      <th>7</th>\n",
       "      <td>0.154171</td>\n",
       "      <td>0.031677</td>\n",
       "    </tr>\n",
       "    <tr>\n",
       "      <th>8</th>\n",
       "      <td>0.378117</td>\n",
       "      <td>0.066247</td>\n",
       "    </tr>\n",
       "    <tr>\n",
       "      <th>9</th>\n",
       "      <td>0.558708</td>\n",
       "      <td>0.027085</td>\n",
       "    </tr>\n",
       "    <tr>\n",
       "      <th>10</th>\n",
       "      <td>0.371585</td>\n",
       "      <td>0.019324</td>\n",
       "    </tr>\n",
       "    <tr>\n",
       "      <th>11</th>\n",
       "      <td>0.093748</td>\n",
       "      <td>-0.000780</td>\n",
       "    </tr>\n",
       "    <tr>\n",
       "      <th>12</th>\n",
       "      <td>0.416070</td>\n",
       "      <td>0.012549</td>\n",
       "    </tr>\n",
       "    <tr>\n",
       "      <th>13</th>\n",
       "      <td>-0.408230</td>\n",
       "      <td>0.012173</td>\n",
       "    </tr>\n",
       "    <tr>\n",
       "      <th>14</th>\n",
       "      <td>0.183271</td>\n",
       "      <td>-0.042895</td>\n",
       "    </tr>\n",
       "    <tr>\n",
       "      <th>15</th>\n",
       "      <td>-0.154581</td>\n",
       "      <td>0.058375</td>\n",
       "    </tr>\n",
       "    <tr>\n",
       "      <th>16</th>\n",
       "      <td>-0.193634</td>\n",
       "      <td>-0.037294</td>\n",
       "    </tr>\n",
       "    <tr>\n",
       "      <th>17</th>\n",
       "      <td>-0.197265</td>\n",
       "      <td>0.053781</td>\n",
       "    </tr>\n",
       "  </tbody>\n",
       "</table>\n",
       "</div>"
      ],
      "text/plain": [
       "    Test Predictions   Actuals\n",
       "0           0.780356  0.023842\n",
       "1           0.480277  0.075742\n",
       "2           0.783755 -0.022805\n",
       "3           1.023612 -0.046077\n",
       "4           0.603445  0.118372\n",
       "5           0.657665  0.032655\n",
       "6          -0.336026 -0.020383\n",
       "7           0.154171  0.031677\n",
       "8           0.378117  0.066247\n",
       "9           0.558708  0.027085\n",
       "10          0.371585  0.019324\n",
       "11          0.093748 -0.000780\n",
       "12          0.416070  0.012549\n",
       "13         -0.408230  0.012173\n",
       "14          0.183271 -0.042895\n",
       "15         -0.154581  0.058375\n",
       "16         -0.193634 -0.037294\n",
       "17         -0.197265  0.053781"
      ]
     },
     "execution_count": 45,
     "metadata": {},
     "output_type": "execute_result"
    }
   ],
   "source": [
    "testPredictions2 = model2.predict(xTest).flatten()\n",
    "testResults2 = pd.DataFrame(\n",
    "    data = {'Test Predictions':testPredictions2,\n",
    "    \"Actuals\":yTest})\n",
    "testResults2"
   ]
  },
  {
   "cell_type": "code",
   "execution_count": 46,
   "id": "62927dca-b4d7-473b-ab91-dc9b28005d39",
   "metadata": {},
   "outputs": [
    {
     "data": {
      "text/plain": [
       "<matplotlib.legend.Legend at 0x7f9ba8dd8d00>"
      ]
     },
     "execution_count": 46,
     "metadata": {},
     "output_type": "execute_result"
    },
    {
     "data": {
      "image/png": "[encoded data removed]",
      "text/plain": [
       "<Figure size 432x288 with 1 Axes>"
      ]
     },
     "metadata": {
      "needs_background": "light"
     },
     "output_type": "display_data"
    }
   ],
   "source": [
    "plt.plot(testResults2['Test Predictions'], \"-r\")\n",
    "plt.plot(testResults2['Actuals'],\"-b\")\n",
    "\n",
    "\n",
    "location = 0 # For the best location\n",
    "legend_drawn_flag = True\n",
    "plt.legend([\"Predictions\", \"Actual\"], loc=0, frameon=legend_drawn_flag)"
   ]
  },
  {
   "cell_type": "code",
   "execution_count": 48,
   "id": "6347c731-e4b5-496a-bfda-6726fe904cfc",
   "metadata": {},
   "outputs": [
    {
     "data": {
      "text/plain": [
       "0.2685254356861897"
      ]
     },
     "execution_count": 48,
     "metadata": {},
     "output_type": "execute_result"
    }
   ],
   "source": [
    "rmse = np.sqrt(np.mean(testPredictions2 - yTest)**2)\n",
    "rmse"
   ]
  },
  {
   "cell_type": "code",
   "execution_count": 49,
   "id": "330d1172-e873-47df-8eb2-a2118f2cc7f7",
   "metadata": {},
   "outputs": [
    {
     "data": {
      "text/plain": [
       "0.41923511182999273"
      ]
     },
     "execution_count": 49,
     "metadata": {},
     "output_type": "execute_result"
    }
   ],
   "source": [
    "mae = np.mean(abs(testPredictions2 - yTest))\n",
    "mae"
   ]
  },
  {
   "cell_type": "code",
   "execution_count": 56,
   "id": "0cc2deac-ae04-456b-bd08-5fe60ffb2f63",
   "metadata": {},
   "outputs": [
    {
     "data": {
      "text/plain": [
       "0.01172653393059698"
      ]
     },
     "execution_count": 56,
     "metadata": {},
     "output_type": "execute_result"
    }
   ],
   "source": [
    "trainrmse = np.sqrt(np.mean(trainPredictions2 - yTrain)**2)\n",
    "trainrmse"
   ]
  },
  {
   "cell_type": "code",
   "execution_count": 57,
   "id": "df1bb9bc-2a4d-4cce-9a3f-d5867550b049",
   "metadata": {},
   "outputs": [
    {
     "data": {
      "text/plain": [
       "0.15934054441004858"
      ]
     },
     "execution_count": 57,
     "metadata": {},
     "output_type": "execute_result"
    }
   ],
   "source": [
    "trainmae = np.mean(abs(trainPredictions2 - yTrain))\n",
    "trainmae"
   ]
  },
  {
   "cell_type": "code",
   "execution_count": 55,
   "id": "5c43eaaa-fe35-4414-ab42-2bdf7d03349e",
   "metadata": {},
   "outputs": [],
   "source": [
    "from keras.models import load_model\n",
    "    \n",
    "model2.save('DowModel2.h5')  # creates a HDF5 file 'my_model.h5'\n",
    "model2 = load_model('DowModel2.h5')# returns a compiled model identical to the previous one"
   ]
  },
  {
   "cell_type": "code",
   "execution_count": 47,
   "id": "4b1b6c41-c6df-4495-9923-9e59c213ec32",
   "metadata": {},
   "outputs": [
    {
     "data": {
      "text/plain": [
       "137   2010-07-31\n",
       "136   2010-08-31\n",
       "135   2010-09-30\n",
       "134   2010-10-31\n",
       "133   2010-11-30\n",
       "Name: Date, dtype: datetime64[ns]"
      ]
     },
     "execution_count": 47,
     "metadata": {},
     "output_type": "execute_result"
    }
   ],
   "source": [
    "raw_data = pd.read_csv(file,parse_dates = [\"Date\"], index_col = False)\n",
    "df1 = raw_data.copy()\n",
    "\n",
    "Dates = df1.iloc[::-1]\n",
    "Dates = Dates[\"Date\"]\n",
    "Dates.head()"
   ]
  },
  {
   "cell_type": "code",
   "execution_count": 50,
   "id": "6f4a00af-57cf-4be2-9727-b6d1d9e63d58",
   "metadata": {},
   "outputs": [],
   "source": [
    "trainSize = int(len(Dates)*0.80)\n",
    "valSize = int(len(Dates)*.05)\n",
    "\n",
    "trainDates = Dates[:trainSize]\n",
    "testDates = Dates[trainSize+valSize:]"
   ]
  },
  {
   "cell_type": "code",
   "execution_count": 51,
   "id": "ad706b9f-c758-49c4-9bf8-66216c2da92b",
   "metadata": {},
   "outputs": [],
   "source": [
    "trainDates = Dates[0:109]\n",
    "testDates = Dates[120:138]\n",
    "\n",
    "trainDates = trainDates.reset_index()\n",
    "testDates = testDates.reset_index()\n",
    "\n",
    "trainDates = trainDates.pop('Date')\n",
    "testDates = testDates.pop('Date')\n",
    "\n",
    "#trainDates\n",
    "#testDates"
   ]
  },
  {
   "cell_type": "code",
   "execution_count": 52,
   "id": "17daa287-6bcf-43bc-aea0-f531eeb14213",
   "metadata": {},
   "outputs": [],
   "source": [
    "trainResults2 = pd.concat([trainResults2,trainDates],axis=1)\n",
    "testResults2 = pd.concat([testResults2,testDates],axis=1)\n",
    "\n",
    "trainResults2 = trainResults2.set_index(\"Date\")\n",
    "testResults2 = testResults2.set_index(\"Date\")\n"
   ]
  },
  {
   "cell_type": "code",
   "execution_count": 62,
   "id": "2b5e30d3-6d52-4734-a111-df1cdb11bf86",
   "metadata": {},
   "outputs": [
    {
     "data": {
      "text/plain": [
       "<matplotlib.legend.Legend at 0x7f9baf7264c0>"
      ]
     },
     "execution_count": 62,
     "metadata": {},
     "output_type": "execute_result"
    },
    {
     "data": {
      "image/png": "[encoded data removed]",
      "text/plain": [
       "<Figure size 748.8x514.8 with 1 Axes>"
      ]
     },
     "metadata": {
      "needs_background": "light"
     },
     "output_type": "display_data"
    }
   ],
   "source": [
    "plt.plot(testResults2['Test Predictions'], \"-r\")\n",
    "plt.plot(testResults2['Actuals'],\"-b\")\n",
    "plt.xticks(rotation = 40) # 40 is the rotation angle\n",
    "plt.title(\"Dow Jones Test Data Predictions vs. Actual\")\n",
    "plt.xlabel('Date') \n",
    "plt.ylabel('Volatility (Monthly Return)') \n",
    "location = 0 # For the best location\n",
    "legend_drawn_flag = True\n",
    "plt.legend([\"Predictions\", \"Actual\"], loc=0, frameon=legend_drawn_flag)"
   ]
  },
  {
   "cell_type": "code",
   "execution_count": 61,
   "id": "95ec5605-9058-4d46-afbd-800dac1b4410",
   "metadata": {},
   "outputs": [
    {
     "data": {
      "text/plain": [
       "<matplotlib.legend.Legend at 0x7f9bae942b20>"
      ]
     },
     "execution_count": 61,
     "metadata": {},
     "output_type": "execute_result"
    },
    {
     "data": {
      "image/png": "[encoded data removed]",
      "text/plain": [
       "<Figure size 748.8x514.8 with 1 Axes>"
      ]
     },
     "metadata": {
      "needs_background": "light"
     },
     "output_type": "display_data"
    }
   ],
   "source": [
    "plt.plot(trainResults2['Train Predictions'], \"-r\")\n",
    "plt.plot(trainResults2['Actuals'],\"-b\")\n",
    "plt.xticks(rotation = 40) # 40 is the rotation angle\n",
    "plt.title(\"Dow Jones Training Data Predictions vs. Actual\")\n",
    "plt.xlabel('Date') \n",
    "plt.ylabel('Volatility (Monthly Return)') \n",
    "location = 0 # For the best location\n",
    "legend_drawn_flag = True\n",
    "plt.legend([\"Predictions\", \"Actual\"], loc=0, frameon=legend_drawn_flag)"
   ]
  },
  {
   "cell_type": "code",
   "execution_count": 63,
   "id": "3ddadebb-c20e-4782-8399-1c5d2bed146e",
   "metadata": {},
   "outputs": [],
   "source": [
    "trainResults2.to_csv('DowTrainResults.csv')\n",
    "testResults2.to_csv('DowTestResults.csv')"
   ]
  },
  {
   "cell_type": "code",
   "execution_count": null,
   "id": "48b38d2f-c264-446a-9233-a12642e079ca",
   "metadata": {},
   "outputs": [],
   "source": []
  }
 ],
 "metadata": {
  "kernelspec": {
   "display_name": "Python 3",
   "language": "python",
   "name": "python3"
  },
  "language_info": {
   "codemirror_mode": {
    "name": "ipython",
    "version": 3
   },
   "file_extension": ".py",
   "mimetype": "text/x-python",
   "name": "python",
   "nbconvert_exporter": "python",
   "pygments_lexer": "ipython3",
   "version": "3.8.8"
  }
 },
 "nbformat": 4,
 "nbformat_minor": 5
}
